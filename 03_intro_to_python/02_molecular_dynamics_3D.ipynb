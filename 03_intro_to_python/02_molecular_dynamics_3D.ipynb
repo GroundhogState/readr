{
 "cells": [
  {
   "cell_type": "markdown",
   "metadata": {},
   "source": [
    "# Molecular dynamics in Python: NumPy is great"
   ]
  },
  {
   "cell_type": "markdown",
   "metadata": {},
   "source": [
    "In this workshop you'll write a molecular dynamics simulator of a 3-dimensional system using NumPy. Ideally you will have written a simulator using lists, and will be able to appreciate the differences between the types.\n",
    "\n",
    "If you feel you need a refresher or reference to keep up with all the Python being thrown around, there is a short summary in `00_basics_of_python.ipynb`.\n",
    "\n",
    "If you've skipped to here without doing `01_molecular_dynamics_1D.ipynb`, a lot of the molecular dynamics theory is laid out there and commented out here to save space. If something is unclear, try checking out the corresponding section in that notebook. Equations and such will still be provided here.\n",
    "\n",
    "If you're having trouble with an error message, Googling the message is usually the fastest way to a solution. Results from StackOverflow are particularly helpful.\n",
    "\n",
    " The colour-coding here is as follows:\n",
    "\n",
    "<div class=\"alert alert-block alert-warning\">\n",
    "\n",
    "**Tip**\n",
    "\n",
    "Python tip.</div>\n",
    "\n",
    "<div class=\"alert alert-block alert-success\">&#x1F40D;  &nbsp; Explanation of previous Python &nbsp; &#x1F40D; </div>\n",
    "\n",
    "<div class=\"alert alert-block alert-info\"><b>To do</b></div>\n",
    "\n",
    "Often I will give suggestions of Numpy methods to use. These can take two forms:\n",
    "\n",
    "1. *np.function().* This is a function of Numpy you can call with that syntax. These will often have required or useful arguments that you can specify, and lookup via Google.\n",
    "2. *ndarray.function().* This is a method of the Numpy.ndarray class. These functions should be called from your array, e.g. `my_array.function()`. "
   ]
  },
  {
   "cell_type": "markdown",
   "metadata": {},
   "source": [
    "## NumPy"
   ]
  },
  {
   "cell_type": "markdown",
   "metadata": {},
   "source": [
    "NumPy arrays are multidimensional arrays of **a single** type. They act like lists, but with much less memory overhead and more analysis functionality. Numpy arrays are great for analysing regular data of one particular type.\n",
    "\n",
    "One downside is that it is expensive to change the size of an array once created, as it requires a copy. \n",
    "\n",
    "Generally numpy is imported as np. Below is a brief refresher on NumPy -- there's a longer one in the `00_basics_of_python.ipynb`. There's also a file called the `Numpy_Python_Cheat_Sheet.pdf` that's a handy guide."
   ]
  },
  {
   "cell_type": "code",
   "execution_count": null,
   "metadata": {
    "ExecuteTime": {
     "end_time": "2019-01-28T23:05:51.169993Z",
     "start_time": "2019-01-28T23:05:51.074825Z"
    }
   },
   "outputs": [],
   "source": [
    "import numpy as np"
   ]
  },
  {
   "cell_type": "code",
   "execution_count": null,
   "metadata": {
    "ExecuteTime": {
     "end_time": "2019-01-29T00:24:17.707648Z",
     "start_time": "2019-01-29T00:24:17.702206Z"
    }
   },
   "outputs": [],
   "source": [
    "# convert lists to arrays with np.array\n",
    "arr = np.array([[1, 2, 3], [7, 8, 9], [12, 6, 10], [4, 7, 9.1]])\n",
    "arr"
   ]
  },
  {
   "cell_type": "code",
   "execution_count": null,
   "metadata": {
    "ExecuteTime": {
     "end_time": "2019-01-28T23:06:55.123362Z",
     "start_time": "2019-01-28T23:06:55.119494Z"
    }
   },
   "outputs": [],
   "source": [
    "arr.shape # shape of matrix (rows, columns)"
   ]
  },
  {
   "cell_type": "code",
   "execution_count": null,
   "metadata": {
    "ExecuteTime": {
     "end_time": "2019-01-28T23:06:55.413638Z",
     "start_time": "2019-01-28T23:06:55.409191Z"
    }
   },
   "outputs": [],
   "source": [
    "arr[0] # first row"
   ]
  },
  {
   "cell_type": "code",
   "execution_count": null,
   "metadata": {
    "ExecuteTime": {
     "end_time": "2019-01-28T23:07:58.824172Z",
     "start_time": "2019-01-28T23:07:58.820267Z"
    }
   },
   "outputs": [],
   "source": [
    "# reshape arrays\n",
    "arr_reshaped = arr.reshape(2, 3, 2) # must multiply to same number of elements as before\n",
    "print(arr_reshaped.shape)\n",
    "arr_reshaped"
   ]
  },
  {
   "cell_type": "code",
   "execution_count": null,
   "metadata": {
    "ExecuteTime": {
     "end_time": "2019-01-28T23:09:04.074076Z",
     "start_time": "2019-01-28T23:09:04.071033Z"
    }
   },
   "outputs": [],
   "source": [
    "arr[0] # first sub-array"
   ]
  },
  {
   "cell_type": "markdown",
   "metadata": {},
   "source": [
    "### Vectorisation"
   ]
  },
  {
   "cell_type": "markdown",
   "metadata": {},
   "source": [
    "Vectorisation is a fundamental feature of NumPy. Vectorised operations is the art of replacing loops such as those in your 1D simulator with array expressions. These expressions delegate expensive Python loops to optimised C or Fortran code, and are often one or two orders of magnitude faster than the equivalent Python. <a href=\"https://www.safaribooksonline.com/library/view/python-for-data/9781449323592/ch04.html?orpq\"> [Read more]</a>"
   ]
  },
  {
   "cell_type": "code",
   "execution_count": null,
   "metadata": {
    "ExecuteTime": {
     "end_time": "2019-01-29T00:48:30.299539Z",
     "start_time": "2019-01-29T00:48:30.290640Z"
    },
    "scrolled": true
   },
   "outputs": [],
   "source": [
    "rand_arr = np.random.rand(500) # returns an array of shape (500,) with random floats from 0 to 1\n",
    "rand_arr"
   ]
  },
  {
   "cell_type": "code",
   "execution_count": null,
   "metadata": {
    "ExecuteTime": {
     "end_time": "2019-01-29T00:19:58.584518Z",
     "start_time": "2019-01-29T00:19:58.581705Z"
    }
   },
   "outputs": [],
   "source": [
    "def count_under_half(x):\n",
    "    \"\"\"Count how many numbers are under 0.5\"\"\"\n",
    "    counter = 0\n",
    "    for i in x:\n",
    "        if i < 0.5:\n",
    "            counter += 1\n",
    "    return counter\n",
    "\n",
    "def vectorised_count(x):\n",
    "    return np.count_nonzero(x<0.5)"
   ]
  },
  {
   "cell_type": "markdown",
   "metadata": {},
   "source": [
    "#### &#x1F40D;  &nbsp; What's happening here? &nbsp; &#x1F40D;  <a class=\"tocSkip\">"
   ]
  },
  {
   "cell_type": "markdown",
   "metadata": {},
   "source": [
    "It's not immediately obvious how `np.count_nonzero(x<5)` works. This one-liner takes advantage of the concept of 'truthiness' in Python. `x < 0.5` returns a boolean matrix on whether this inequality is satisfied (try it below)."
   ]
  },
  {
   "cell_type": "code",
   "execution_count": null,
   "metadata": {
    "ExecuteTime": {
     "end_time": "2019-01-29T00:48:41.236662Z",
     "start_time": "2019-01-29T00:48:41.230199Z"
    },
    "scrolled": true
   },
   "outputs": [],
   "source": [
    "rand_arr < 0.5"
   ]
  },
  {
   "cell_type": "markdown",
   "metadata": {},
   "source": [
    "`np.count_nonzero` then counts all the 'truthy' values -- those that Python evaluates to True or False. For example, any non-zero numbers will evaluate to True. 0, an empty list or dictionary, and None are considered 'falsy'. You can check what is truthy or falsy by calling `bool` on an object."
   ]
  },
  {
   "cell_type": "code",
   "execution_count": null,
   "metadata": {
    "ExecuteTime": {
     "end_time": "2019-01-29T00:53:05.592384Z",
     "start_time": "2019-01-29T00:53:05.586600Z"
    }
   },
   "outputs": [],
   "source": [
    "bool(-4.2)"
   ]
  },
  {
   "cell_type": "code",
   "execution_count": null,
   "metadata": {
    "ExecuteTime": {
     "end_time": "2019-01-29T00:53:11.539392Z",
     "start_time": "2019-01-29T00:53:11.536397Z"
    }
   },
   "outputs": [],
   "source": [
    "bool(0)"
   ]
  },
  {
   "cell_type": "code",
   "execution_count": null,
   "metadata": {
    "ExecuteTime": {
     "end_time": "2019-01-29T00:53:21.593945Z",
     "start_time": "2019-01-29T00:53:21.591370Z"
    }
   },
   "outputs": [],
   "source": [
    "int(True) # True is equivalent to 1"
   ]
  },
  {
   "cell_type": "markdown",
   "metadata": {},
   "source": [
    "#### &nbsp; <a class=\"tocSkip\">"
   ]
  },
  {
   "cell_type": "code",
   "execution_count": null,
   "metadata": {
    "ExecuteTime": {
     "end_time": "2019-01-29T00:21:00.713242Z",
     "start_time": "2019-01-29T00:21:00.710200Z"
    }
   },
   "outputs": [],
   "source": [
    "count_under_half(rand_arr) == vectorised_count(rand_arr)"
   ]
  },
  {
   "cell_type": "code",
   "execution_count": null,
   "metadata": {
    "ExecuteTime": {
     "end_time": "2019-01-29T00:20:05.072312Z",
     "start_time": "2019-01-29T00:20:00.893697Z"
    }
   },
   "outputs": [],
   "source": [
    "%timeit count_under_half(rand_arr)"
   ]
  },
  {
   "cell_type": "code",
   "execution_count": null,
   "metadata": {
    "ExecuteTime": {
     "end_time": "2019-01-29T00:20:12.961437Z",
     "start_time": "2019-01-29T00:20:05.073877Z"
    },
    "scrolled": true
   },
   "outputs": [],
   "source": [
    "%timeit vectorised_count(rand_arr)"
   ]
  },
  {
   "cell_type": "markdown",
   "metadata": {},
   "source": [
    "### Broadcasting"
   ]
  },
  {
   "cell_type": "markdown",
   "metadata": {},
   "source": [
    "Broadcasting is another important part of NumPy, and they have a <a href=\"https://docs.scipy.org/doc/numpy-1.15.0/user/basics.broadcasting.html\"> very informative page on it here.</a> Essentially, NumPy will try to align arrays when operations are performed between them, like the picture below. \n",
    "<img src=\"files/broadcasting.jpg\" width=\"500px\">\n",
    "<a href=\"https://realpython.com/numpy-array-programming/#intermezzo-understanding-axes-notation\"> (Figure from Brad Solomon) </a>\n",
    "\n",
    "Scalars are just treated as having 1 dimension. "
   ]
  },
  {
   "cell_type": "code",
   "execution_count": null,
   "metadata": {
    "ExecuteTime": {
     "end_time": "2019-01-29T06:53:35.472868Z",
     "start_time": "2019-01-29T06:53:35.468227Z"
    }
   },
   "outputs": [],
   "source": [
    "arr + 2"
   ]
  },
  {
   "cell_type": "code",
   "execution_count": null,
   "metadata": {
    "ExecuteTime": {
     "end_time": "2019-01-29T00:24:38.863440Z",
     "start_time": "2019-01-29T00:24:38.857140Z"
    }
   },
   "outputs": [],
   "source": [
    "arr ** 3  # Cube every element"
   ]
  },
  {
   "cell_type": "code",
   "execution_count": null,
   "metadata": {
    "ExecuteTime": {
     "end_time": "2019-01-29T00:25:07.349603Z",
     "start_time": "2019-01-29T00:25:07.343153Z"
    }
   },
   "outputs": [],
   "source": [
    "arr *= -1 # Operations like +=, -=, etc work on arrays too\n",
    "arr"
   ]
  },
  {
   "cell_type": "code",
   "execution_count": null,
   "metadata": {
    "ExecuteTime": {
     "end_time": "2019-01-29T00:26:13.031810Z",
     "start_time": "2019-01-29T00:26:13.028093Z"
    }
   },
   "outputs": [],
   "source": [
    "arr + [1, 0, 1]  # Will convert to an array"
   ]
  },
  {
   "cell_type": "code",
   "execution_count": null,
   "metadata": {
    "ExecuteTime": {
     "end_time": "2019-01-29T00:26:14.081166Z",
     "start_time": "2019-01-29T00:26:14.073485Z"
    }
   },
   "outputs": [],
   "source": [
    "arr + [0, 1]  # Will give an error!"
   ]
  },
  {
   "cell_type": "code",
   "execution_count": null,
   "metadata": {
    "ExecuteTime": {
     "end_time": "2019-01-29T00:27:00.633124Z",
     "start_time": "2019-01-29T00:27:00.625468Z"
    }
   },
   "outputs": [],
   "source": [
    "arr + arr  # Elementwise addition (equivalent to arr * 2)"
   ]
  },
  {
   "cell_type": "code",
   "execution_count": null,
   "metadata": {
    "ExecuteTime": {
     "end_time": "2019-01-29T00:27:15.344428Z",
     "start_time": "2019-01-29T00:27:15.314516Z"
    }
   },
   "outputs": [],
   "source": [
    "# .T returns the transpose of the matrix\n",
    "arr @ arr.T # @ returns the dot product"
   ]
  },
  {
   "cell_type": "markdown",
   "metadata": {},
   "source": [
    "### Axes"
   ]
  },
  {
   "cell_type": "markdown",
   "metadata": {},
   "source": [
    "In NumPy, an axis is a dimension of a multidimensional array. They are indexed from 0, along the sequence returned by `arr.shape`. It's important to keep these straight for operations that 'collapse' axes, such as `sum`."
   ]
  },
  {
   "cell_type": "code",
   "execution_count": null,
   "metadata": {
    "ExecuteTime": {
     "end_time": "2019-01-29T01:41:49.643634Z",
     "start_time": "2019-01-29T01:41:49.639297Z"
    }
   },
   "outputs": [],
   "source": [
    "arr.shape # first axis has 4 elements"
   ]
  },
  {
   "cell_type": "code",
   "execution_count": null,
   "metadata": {
    "ExecuteTime": {
     "end_time": "2019-01-29T01:40:42.348080Z",
     "start_time": "2019-01-29T01:40:42.345038Z"
    }
   },
   "outputs": [],
   "source": [
    "arr.sum() #  default: sum along all the axes. Equivalent to arr.sum(axis=(0, 1))"
   ]
  },
  {
   "cell_type": "code",
   "execution_count": null,
   "metadata": {
    "ExecuteTime": {
     "end_time": "2019-01-29T01:41:14.896487Z",
     "start_time": "2019-01-29T01:41:14.890996Z"
    }
   },
   "outputs": [],
   "source": [
    "arr.sum(axis=0)"
   ]
  },
  {
   "cell_type": "markdown",
   "metadata": {},
   "source": [
    "Calling `sum` with the argument `axis=0` applies `sum` along the axis that is collapsed, returning an array of three elements. `axis` can take a tuple argument, in which case it will collapse along all the axes specified."
   ]
  },
  {
   "cell_type": "code",
   "execution_count": null,
   "metadata": {
    "ExecuteTime": {
     "end_time": "2019-01-29T01:43:01.325247Z",
     "start_time": "2019-01-29T01:43:01.322039Z"
    }
   },
   "outputs": [],
   "source": [
    "arr.sum(axis=1)"
   ]
  },
  {
   "cell_type": "markdown",
   "metadata": {},
   "source": [
    "### Indexing"
   ]
  },
  {
   "cell_type": "markdown",
   "metadata": {},
   "source": [
    "NumPy arrays can be indexed and sliced pretty much like lists. `:` is the slice operator. The full slice notation is `i:j:k` where `i` is the starting index (inclusive), `j` is the ending index (exclusive), and `k` is the step. The following are valid slices. <a href=\"https://docs.scipy.org/doc/numpy-1.13.0/reference/arrays.indexing.html\"> [Read more] </a>"
   ]
  },
  {
   "cell_type": "code",
   "execution_count": null,
   "metadata": {
    "ExecuteTime": {
     "end_time": "2019-01-29T00:32:16.457729Z",
     "start_time": "2019-01-29T00:32:16.453786Z"
    }
   },
   "outputs": [],
   "source": [
    "arr[:]  # Select all"
   ]
  },
  {
   "cell_type": "code",
   "execution_count": null,
   "metadata": {
    "ExecuteTime": {
     "end_time": "2019-01-29T00:33:21.757183Z",
     "start_time": "2019-01-29T00:33:21.751361Z"
    }
   },
   "outputs": [],
   "source": [
    "arr[1:] # i=1, from second element onwards"
   ]
  },
  {
   "cell_type": "code",
   "execution_count": null,
   "metadata": {
    "ExecuteTime": {
     "end_time": "2019-01-29T00:33:27.153561Z",
     "start_time": "2019-01-29T00:33:27.147970Z"
    }
   },
   "outputs": [],
   "source": [
    "arr[1:3] # i=1, j=3, second to third elements"
   ]
  },
  {
   "cell_type": "code",
   "execution_count": null,
   "metadata": {
    "ExecuteTime": {
     "end_time": "2019-01-29T00:33:53.963481Z",
     "start_time": "2019-01-29T00:33:53.956716Z"
    }
   },
   "outputs": [],
   "source": [
    "arr[1::3] # from second element on, every third element"
   ]
  },
  {
   "cell_type": "markdown",
   "metadata": {},
   "source": [
    "Commas separate dimensions."
   ]
  },
  {
   "cell_type": "code",
   "execution_count": null,
   "metadata": {
    "ExecuteTime": {
     "end_time": "2019-01-29T00:29:10.093567Z",
     "start_time": "2019-01-29T00:29:10.090358Z"
    }
   },
   "outputs": [],
   "source": [
    "arr[:, 0] # first column"
   ]
  },
  {
   "cell_type": "code",
   "execution_count": null,
   "metadata": {
    "ExecuteTime": {
     "end_time": "2019-01-29T00:29:48.863523Z",
     "start_time": "2019-01-29T00:29:48.860559Z"
    }
   },
   "outputs": [],
   "source": [
    "arr[1, 0] # element in second row, first column"
   ]
  },
  {
   "cell_type": "markdown",
   "metadata": {},
   "source": [
    "Unlike lists, NumPy offers advanced indexing (or fancy indexing) with sequences such as lists or other arrays. You can use two types to index: integers (as before), or booleans."
   ]
  },
  {
   "cell_type": "code",
   "execution_count": null,
   "metadata": {
    "ExecuteTime": {
     "end_time": "2019-01-29T00:39:36.440905Z",
     "start_time": "2019-01-29T00:39:36.437918Z"
    }
   },
   "outputs": [],
   "source": [
    "arr[[1,3]]"
   ]
  },
  {
   "cell_type": "code",
   "execution_count": null,
   "metadata": {
    "ExecuteTime": {
     "end_time": "2019-01-29T00:40:06.941126Z",
     "start_time": "2019-01-29T00:40:06.934510Z"
    }
   },
   "outputs": [],
   "source": [
    "arr[[True, False, False, True]]"
   ]
  },
  {
   "cell_type": "markdown",
   "metadata": {},
   "source": [
    "This can be super useful and it's one of my favourite things about NumPy! It can be used to access, or modify, values that satisfy a condition.\n",
    "\n",
    "In the vectorisation section, I counted up the numbers under 0.5 in `rand_arr` with this one-liner:\n",
    "```\n",
    "def vectorised_count(x):\n",
    "    return np.count_nonzero(x<0.5)\n",
    "```\n",
    "\n",
    "`x<0.5` returns a boolean matrix. If I indexed `rand_arr` with this instead, I would get all the values:"
   ]
  },
  {
   "cell_type": "code",
   "execution_count": null,
   "metadata": {
    "ExecuteTime": {
     "end_time": "2019-01-29T00:55:16.888657Z",
     "start_time": "2019-01-29T00:55:16.882477Z"
    },
    "scrolled": true
   },
   "outputs": [],
   "source": [
    "rand_arr[rand_arr<0.5]"
   ]
  },
  {
   "cell_type": "markdown",
   "metadata": {},
   "source": [
    "And because indexing can also assign values, I can modify them:"
   ]
  },
  {
   "cell_type": "code",
   "execution_count": null,
   "metadata": {
    "ExecuteTime": {
     "end_time": "2019-01-29T00:56:18.220403Z",
     "start_time": "2019-01-29T00:56:18.214339Z"
    },
    "scrolled": true
   },
   "outputs": [],
   "source": [
    "rand_arr[rand_arr<0.5] += 10\n",
    "rand_arr"
   ]
  },
  {
   "cell_type": "markdown",
   "metadata": {},
   "source": [
    "This will be very useful when you are deciding which inter-particle interactions to consider for calculating forces and energies below."
   ]
  },
  {
   "cell_type": "markdown",
   "metadata": {},
   "source": [
    "## Python"
   ]
  },
  {
   "cell_type": "markdown",
   "metadata": {
    "ExecuteTime": {
     "end_time": "2018-12-10T22:26:58.777856Z",
     "start_time": "2018-12-10T22:26:58.335965Z"
    }
   },
   "source": [
    "### Class definition"
   ]
  },
  {
   "cell_type": "markdown",
   "metadata": {},
   "source": [
    "<div class=\"alert alert-block alert-info\">\n",
    "\n",
    "<b>Define the class `MD3D` below. </b>\n",
    "</div>\n",
    "\n",
    "<!--Several properties are defined in `__init__`, such as the length of the system. This is required as MD is still a slow process and only a finite system can be simulated in a finite cell. An infinite system is approximated by tiling identical cells, as in the image below. The computer only keeps track of the central one in bold, and particle interactions are only computed between the closest image. -->\n",
    "\n",
    "You'll need to set up containers to keep track of the coordinates, velocities, forces, temperatures, and energies of the system. *With NumPy arrays you must decide the size at creation, as you can't append to the same object as you can with lists.* Coordinates, velocities, and forces should each have 3 dimensions for their components in the x, y, and z directions. They should also track every particle, and every time-step. Your arrays will likely look like the below:\n",
    "\n",
    "<img src=\"files/matrix.png\" width=\"500px\">\n",
    "\n",
    "\n",
    "Of course, your coordinate array should have 1 extra time-step to account for the positions at negative time that we will define here, just like `01_molecular_dynamics_1D.ipynb`.\n",
    "\n",
    "The temperature and energy arrays are much simpler, as there is only one temperature and one energy for each time-step. \n",
    "\n",
    "Again, we will initialise the system with forces of 0.0 and random velocities.\n",
    "\n"
   ]
  },
  {
   "cell_type": "markdown",
   "metadata": {},
   "source": [
    "<div class=\"alert alert-block alert-warning\">\n",
    "\n",
    "**Tip**\n",
    "\n",
    "Useful `numpy` functions might include:\n",
    "- np.zeros()\n",
    "- np.random.rand()\n",
    "</div>"
   ]
  },
  {
   "cell_type": "code",
   "execution_count": null,
   "metadata": {
    "ExecuteTime": {
     "end_time": "2019-01-29T07:37:36.814319Z",
     "start_time": "2019-01-29T07:37:36.804557Z"
    },
    "code_folding": []
   },
   "outputs": [],
   "source": [
    "import numpy as np\n",
    "\n",
    "class MD3D:\n",
    "    n_dims = 3 # dimension of box\n",
    "    \n",
    "    def __init__(self, n_steps, box_length = 36.0, n_particles=36):\n",
    "        \n",
    "        self.n_particles = n_particles # number of particles\n",
    "        self.cell = np.array([box_length, box_length, box_length]) # cell for periodic boundary conditions\n",
    "        \n",
    "        self.time_step = 0.01  # integration time step\n",
    "        self.n_steps = n_steps  # number of steps to take\n",
    "        \n",
    "        self.cutoff_dist = 18.0  # distance cutoff for computing interactions\n",
    "        self.cutoff_sq = self.cutoff_dist ** 2\n",
    "        self.cutoff_energy =  4 * (self.cutoff_dist ** -12 - self.cutoff_dist ** -6)\n",
    "        \n",
    "        self.temperature = 0.728\n",
    "        \n",
    "        # Define numpy arrays for coordinates,\n",
    "        # velocities, forces, temperatures, \n",
    "        # and energies\n",
    "        self.xyz = ...\n",
    "        self.velocities = ...\n",
    "        self.forces = ...\n",
    "        self.temperatures = ...\n",
    "        self.energies_potential = ...\n",
    "        self.energies_total = ...\n",
    "    "
   ]
  },
  {
   "cell_type": "markdown",
   "metadata": {},
   "source": [
    "####  &#x1F40D;  &nbsp; What's happening here? &nbsp; &#x1F40D;   <a class=\"tocSkip\">"
   ]
  },
  {
   "cell_type": "markdown",
   "metadata": {},
   "source": [
    "<div class=\"alert alert-block alert-success\">\n",
    "    \n",
    "    \n",
    "It is common to import packages with abbreviated names. The standard alias for numpy as np. Importing numpy as np means that the classes and methods of Numpy can be accessed through `np`, but not through `numpy`. `np.zeros()` would call the the `zeros` function of numpy, whereas `numpy.zeros()` would result in an error.\n",
    "</div>"
   ]
  },
  {
   "cell_type": "markdown",
   "metadata": {},
   "source": [
    "#### &nbsp;  <a class=\"tocSkip\">\n",
    "\n",
    "<div class=\"alert alert-block alert-info\"><b>\n",
    "\n",
    "Create an instance of `MD3D` below and assign it to a variable. Check that the arrays you created look how you expected them to. (You can look at the shape of an array with `ndarray.shape`).</b></div>"
   ]
  },
  {
   "cell_type": "code",
   "execution_count": null,
   "metadata": {},
   "outputs": [],
   "source": []
  },
  {
   "cell_type": "markdown",
   "metadata": {},
   "source": [
    "### Set up initial state"
   ]
  },
  {
   "cell_type": "markdown",
   "metadata": {},
   "source": [
    "In the function `setup_system` you should set up your simulation system at time=0. \n",
    "\n",
    "Previously, this involved the following steps for each particle:\n",
    "\n",
    "1. Generating initial coordinates\n",
    "2. Generating an initial force (0.0 to start off)\n",
    "3. Generating an initial velocity (random to start with)\n",
    "4. Scaling your random velocities to match your desired temperature `self.temperature`\n",
    "5. Generating 'previous' coordinates for each particle for time=-`self.time_step` based on those scaled velocities\n",
    "\n",
    "However, if you used `np.zeros()` and `np.random.rand()` before, you have already defined your initial forces and velocities. Therefore all that is required steps 1, 4, and 5.\n",
    "\n",
    "As before, the scale factor $s$ can be calculated from the sum of squared velocities over the number of particles $V_\\sigma$, and the temperature $T$:\n",
    "\n",
    "$$s = n_{dim}*\\sqrt{\\frac{T_0}{V_\\sigma}}$$\n",
    "\n",
    "As before, the previous x-coordinates can be calculated:\n",
    "$$x_{prev} = x_{now} - v_{now}*\\Delta t$$"
   ]
  },
  {
   "cell_type": "markdown",
   "metadata": {},
   "source": [
    "#### <div class=\"alert alert-block alert-info\"><b>Write a function that returns the scale factor as defined above.</b></div>  <a class=\"tocSkip\">"
   ]
  },
  {
   "cell_type": "code",
   "execution_count": null,
   "metadata": {
    "ExecuteTime": {
     "end_time": "2019-01-29T07:38:15.307635Z",
     "start_time": "2019-01-29T07:38:15.305575Z"
    }
   },
   "outputs": [],
   "source": [
    "def get_scale_factor(avg_vsum_sq, temperature):\n",
    "    ..."
   ]
  },
  {
   "cell_type": "markdown",
   "metadata": {},
   "source": [
    "<div class=\"alert alert-block alert-info\">\n",
    "<b>\n",
    "    1. Write a function get_xyz to generate atom positions. <br>\n",
    "    2. Use indexing to replace the the elements in your coordinate array with the appropriate positions.<br>\n",
    "    3. Calculate the previous xyz coordinates.<br>\n",
    "</b></div>"
   ]
  },
  {
   "cell_type": "code",
   "execution_count": null,
   "metadata": {
    "ExecuteTime": {
     "end_time": "2019-01-29T07:41:39.783746Z",
     "start_time": "2019-01-29T07:41:39.778897Z"
    }
   },
   "outputs": [],
   "source": [
    "def get_xyz(md):\n",
    "    ..."
   ]
  },
  {
   "cell_type": "markdown",
   "metadata": {},
   "source": [
    "<div class=\"alert alert-block alert-warning\">\n",
    "    \n",
    "**Tip**\n",
    "\n",
    "Useful `numpy` functions might include:\n",
    "- ndarray.sum()\n",
    "</div>"
   ]
  },
  {
   "cell_type": "code",
   "execution_count": null,
   "metadata": {
    "ExecuteTime": {
     "end_time": "2019-01-29T07:45:28.809519Z",
     "start_time": "2019-01-29T07:45:28.805746Z"
    }
   },
   "outputs": [],
   "source": [
    "def setup_system(md):\n",
    "        \"\"\"\n",
    "        Initialise system properties at time=0.\n",
    "        \"\"\"\n",
    "        # generate current coordinates\n",
    "        md.xyz[0] = ...\n",
    "        \n",
    "        avg_sum = md.velocities[0].sum() / md.n_particles # sum of velocities at time 0 / n_particles\n",
    "        avg_sum_sq = ...  # calculate the sum of squared velocities at time 0 over n_particles\n",
    "        \n",
    "        scale_factor = get_scale_factor(avg_sum_sq, md.temperature)\n",
    "        \n",
    "        # Rescale velocities and generate previous x coordinates \n",
    "        md.velocities[0] = ...\n",
    "        md.xyz[-1] = ..."
   ]
  },
  {
   "cell_type": "markdown",
   "metadata": {},
   "source": [
    "####  &#x1F40D;  &nbsp; What's happening here? &nbsp; &#x1F40D;  <a class=\"tocSkip\">"
   ]
  },
  {
   "cell_type": "markdown",
   "metadata": {},
   "source": [
    "<div class=\"alert alert-block alert-success\">\n",
    "\n",
    "\n",
    "In the cell above, coordinates for time=0 are generated and assigned to `md.xyz[0]`, ie the first position. Coordinates for the negative time before that are also calculated and are assigned to `md.xyz[-1]`. Indexing in arrays is a modular, and `x[-1]` will return the last element of `x`. \n",
    "<p>\n",
    "\n",
    "Of course it doesn't make physical sense to have the earliest coordinates as the last element of the array. Instead, for every time-step `i` we could remember that the coordinates array should be `i+1` to account for the extra step. Alternatively, we could just add an extra but ignored time-step to the velocities, forces, energies and temperatures array. Out of these three approaches I personally find that this is the most convenient. As long as we remember to truncate the array to the second-last element before we output our results, this is a harmless shortcut. \n",
    "</div>"
   ]
  },
  {
   "cell_type": "markdown",
   "metadata": {},
   "source": [
    "#### &nbsp;  <a class=\"tocSkip\">\n",
    "<div class=\"alert alert-block alert-info\">\n",
    "\n",
    "<b>Call setup_system on your instance of `MD1D` and check that: <ul>\n",
    "        <li> your velocities at time=0 are now different\n",
    "        <li> your coordinates in the first element and the last element are now not zero \n",
    " </b>\n",
    "        </div>"
   ]
  },
  {
   "cell_type": "code",
   "execution_count": null,
   "metadata": {
    "ExecuteTime": {
     "end_time": "2019-01-29T07:45:33.636101Z",
     "start_time": "2019-01-29T07:45:33.633638Z"
    }
   },
   "outputs": [],
   "source": [
    "setup_system(MD3D(100))"
   ]
  },
  {
   "cell_type": "markdown",
   "metadata": {},
   "source": [
    "### Calculating energies and forces"
   ]
  },
  {
   "cell_type": "markdown",
   "metadata": {},
   "source": [
    "As before, the function `get_forces` is responsible for calculating the force between each particle pair within your `self.cutoff_dist` cutoff, and the total energy of the system at the time. The end result is.\n",
    "\n",
    "For a Lennard-Jones system in reduced units, the energy $E_{LJ}$ can be defined as:\n",
    "\n",
    "$$\n",
    "\\begin{equation}\n",
    "E^{LJ}(r_{ij}) = 4\\big[r^{12} - r^6\\big]\n",
    "\\end{equation}$$\n",
    "\n",
    "and the force $f_x$ is defined as:\n",
    "\n",
    "$$\n",
    "f_x(r) = \\frac{48x}{r^2}\\big(\\frac{1}{r^{12}}-0.5\\frac{1}{r^6}\\big)\n",
    "$$\n"
   ]
  },
  {
   "cell_type": "markdown",
   "metadata": {},
   "source": [
    "#### <div class=\"alert alert-block alert-info\"><b>Using the equation above, write functions to calculate the energy and force between two atoms as a function of distance.</b></div>  <a class=\"tocSkip\">"
   ]
  },
  {
   "cell_type": "code",
   "execution_count": null,
   "metadata": {},
   "outputs": [],
   "source": [
    "def calculate_energy(distance):\n",
    "    ..."
   ]
  },
  {
   "cell_type": "code",
   "execution_count": null,
   "metadata": {},
   "outputs": [],
   "source": [
    "def calculate_force(distance):\n",
    "    ..."
   ]
  },
  {
   "cell_type": "markdown",
   "metadata": {},
   "source": [
    "#### <div class=\"alert alert-block alert-info\"><b>Write a function to calculate energies and forces for time-step $i$.</b></div>  <a class=\"tocSkip\">"
   ]
  },
  {
   "cell_type": "markdown",
   "metadata": {},
   "source": [
    "There are a few approaches you could take. This function has to check the distance between every particle and every particle, and compare that to the `cutoff_dist` before possibly computing the energy and forces -- with as few loops as possible.\n",
    "\n",
    "The approach detailed below unfortunately only gets rid of one loop, but it is much less abstract than the fully vectorised version. An explanation of the vectorised approach in Part 1.5."
   ]
  },
  {
   "cell_type": "markdown",
   "metadata": {},
   "source": [
    "#### Naive Numpy approach: Looping over particles once  <a class=\"tocSkip\">"
   ]
  },
  {
   "cell_type": "markdown",
   "metadata": {},
   "source": [
    "```\n",
    "for i in range(md.n_particles-1): # for every particle except the last\n",
    "    for j in range(i+1, md.n_particles): # for every particle from i onwards\n",
    "```\n",
    "The 1D version had nested for loops, as in the code above. This approach keeps the outside loop but uses vectorised operations instead of the inside one, speeding it up significantly. For each particle `i`, you can calculate the vector displacements to other particles as an Nx3 array like below.\n",
    "\n",
    "<img src=\"files/n_particles.png\" width=\"400px\">\n",
    "\n",
    "Then calculate the squared distance, remembering that \n",
    "$$ d(\\vec{i},\\vec{j}) = \\sqrt{(i_x-j_x)^2 + (i_y-j_y)^2 + (i_z-j_z)^2}$$\n",
    "\n",
    "You should end up with an Nx1 array.\n",
    "<img src=\"files/sq_dist.png\" width=\"400px\">\n",
    "\n",
    "Remember that Python can evaluate relationships such as `arr < 1` and return a boolean matrix that you can use to access or modify the array.\n",
    "<img src=\"files/indexing.png\" width=\"400px\">"
   ]
  },
  {
   "cell_type": "markdown",
   "metadata": {},
   "source": [
    "#### &nbsp;  <a class=\"tocSkip\">"
   ]
  },
  {
   "cell_type": "code",
   "execution_count": null,
   "metadata": {},
   "outputs": [],
   "source": [
    "def get_forces(md, step):\n",
    "    \"\"\"Calculating energy and force\"\"\"\n",
    "    for i in range(md.n_particles-1):\n",
    "        distance = ...\n",
    "        n_cells = md.cell * np.round_(distance/md.cell)\n",
    "        ..."
   ]
  },
  {
   "cell_type": "markdown",
   "metadata": {},
   "source": [
    "#### <div class=\"alert alert-block alert-info\"><b>Run get_forces on your `MD3D` instance and check that there are no errors.</b></div>  <a class=\"tocSkip\">"
   ]
  },
  {
   "cell_type": "code",
   "execution_count": null,
   "metadata": {},
   "outputs": [],
   "source": []
  },
  {
   "cell_type": "markdown",
   "metadata": {},
   "source": [
    "### Integrating equations of motion"
   ]
  },
  {
   "cell_type": "markdown",
   "metadata": {},
   "source": [
    "Now that the forces have been computed, we can integrate the equations of motion. \n",
    "\n",
    "The estimate of the position at the next time-step is calculated from the current properties below, where $f(t)$ represents the force at time $t$. $t + \\Delta t$ and $t - \\Delta t$ represent the next and previous time-steps respectively. \n",
    "$$\n",
    "x(t + \\Delta t) \\approx 2x(t) - x(t - \\Delta t) + f(t) \\Delta t^2\n",
    "$$\n",
    "\n",
    "The velocity of the current time-step can therefore be calculated:\n",
    "$$\n",
    "v(t) = \\frac{x(t + \\Delta t) - x(t - \\Delta t)}{2 \\Delta t}\n",
    "$$\n",
    "\n",
    "We use this to calculate the instantaneous temperature by the equation above:\n",
    "\n",
    "$$T(t) = \\sum\\limits_{i=1}^{N} \\frac{v^2_{i}(t)}{N \\times n_{dims}}$$\n",
    "\n",
    "\n",
    "We would also like to calculate the total energy per particle. This energy is a sum of the potential energy and kinetic energy. The potential energy was calculated in the `get_forces` function using the Lennard-Jones potential. The kinetic energy is calculated with $\\frac{1}{2}mv^2$. In reduced units, this simplifies to $\\frac{1}{2}v^2$."
   ]
  },
  {
   "cell_type": "markdown",
   "metadata": {},
   "source": [
    "#### &#x1F4DC;  &nbsp; Background behind equations &nbsp; &#x1F4DC;  <a class=\"tocSkip\">"
   ]
  },
  {
   "cell_type": "markdown",
   "metadata": {},
   "source": [
    "The Taylor expansion of the particle coordinate at time $t$ gives:\n",
    "    \n",
    "$$\n",
    "\\begin{eqnarray}\n",
    "    x(t + \\Delta t) &=& x(t) + \\dot x(t) \\Delta t + \\ddot x(t)\\frac{\\Delta t^2}{2!} + \\dddot x(t)\\frac{\\Delta t^3}{3!} + \\mathcal{O}(\\Delta t^4) \\\\\n",
    "    x(t - \\Delta t) &=& x(t) - \\dot x(t) \\Delta t + \\ddot x(t)\\frac{\\Delta t^2}{2!} - \\dddot x(t)\\frac{\\Delta t^3}{3!} + \\mathcal{O}(\\Delta t^4)\n",
    "\\end{eqnarray}\n",
    "$$\n",
    "    \n",
    "   Adding those equations together and substituting acceleration $a(t) = \\ddot x(t)$ results in this:\n",
    "   \n",
    "   \n",
    "   $$\n",
    "   x(t + \\Delta t) + x(t - \\Delta t) = 2x(t) + a(t)\\Delta t^2 + \\mathcal{O}(\\Delta t^4)\n",
    "   $$\n",
    "   \n",
    "   Given that mass $m$ vanishes in reduced units, the force $F=ma$ reduces to $F=a$. The remainder term $\\mathcal{O}(\\Delta t^4)$ is dropped as the error. Therefore:\n",
    "   \n",
    "$$\n",
    "\\begin{eqnarray}\n",
    "x(t + \\Delta t) + x(t - \\Delta t) &=& 2x(t) + f(t)\\Delta t^2 \\\\\n",
    "x(t + \\Delta t) &\\approx& 2x(t) - x(t - \\Delta t) + f(t) \\Delta t^2\n",
    "\\end{eqnarray}\n",
    "$$\n",
    "\n",
    "\n",
    "\n",
    "This method uses forces to compute the new positions. The velocity at time $t$ is approximated when positions at time-steps before and after $t$ are known, using the equation in the main block above. Known as the Verlet algorithm, this approach is more accurate than the Euler method of using the velocity at time $t$ to determine the position at time $t + \\Delta t$.\n",
    "\n",
    "</div>"
   ]
  },
  {
   "cell_type": "markdown",
   "metadata": {},
   "source": [
    "#### <div class=\"alert alert-block alert-info\"><b>Using the equations above, write a function to integrate the equations of motion.</b></div>  <a class=\"tocSkip\">"
   ]
  },
  {
   "cell_type": "code",
   "execution_count": null,
   "metadata": {},
   "outputs": [],
   "source": [
    "def next_position(current_xyz, previous_xyz, time_step, current_force):\n",
    "    raise NotImplementedError\n",
    "\n",
    "def current_velocity(next_xyz, previous_xyz, time_step):\n",
    "    raise NotImplementedError\n",
    "\n",
    "def instant_temperature(vsum_sq, n_particles):\n",
    "    raise NotImplementedError\n",
    "\n",
    "def total_energy_per_particle(energy, vsum_sq, n_particles):\n",
    "    raise NotImplementedError"
   ]
  },
  {
   "cell_type": "code",
   "execution_count": null,
   "metadata": {
    "ExecuteTime": {
     "end_time": "2019-01-29T05:11:37.561938Z",
     "start_time": "2019-01-29T05:11:37.558654Z"
    }
   },
   "outputs": [],
   "source": [
    "def integrate(md):\n",
    "    \"\"\"Integrate equations of motion\"\"\"\n",
    "    \n",
    "    # As a vectorised array operation, \n",
    "    # calculate the next positions with next_position()\n",
    "    # and current velocity and current_velocity()\n",
    "    \n",
    "    # Square the velocities and sum them to\n",
    "    # get vsum_sq\n",
    "    \n",
    "    \n",
    "    # calculate the instantaneous temperature and append \n",
    "    # it to md.temperatures\n",
    "    \n",
    "    ..."
   ]
  },
  {
   "cell_type": "markdown",
   "metadata": {},
   "source": [
    "### Viewing"
   ]
  },
  {
   "cell_type": "markdown",
   "metadata": {},
   "source": [
    "<div class=\"alert alert-block alert-info\"><b>\n",
    "    Now you need to write out your coordinates to a file that's readable by other software. Use string formatting to write a file that looks like the example 'example.xyz' in the folder.</b>\n",
    "<div class=\"alert alert-block alert-warning\">\n",
    "    \n",
    "   **Tip**\n",
    "   \n",
    "   `range(x)` returns an iterable of numbers `(0, 1, 2, ... x-1)`. \n",
    "   \n",
    "   File I/O is usually handled within context managers that automatically close the file when you're done. To read:\n",
    "   \n",
    "   ```\n",
    "       with open(filename, 'r') as f:\n",
    "           contents = f.read()\n",
    "   ```\n",
    "   \n",
    "   To write:\n",
    "   ```\n",
    "       with open(filename, 'w') as f:\n",
    "           f.write(contents)\n",
    "   ```\n",
    "   \n",
    "   `'\\n'` prints a newline, i.e. moves to the next line in the file. I would expect `f.write(\"e\\nb  c\\n  d\")` to write:\n",
    "   \n",
    "   ```\n",
    "   e\n",
    "   b  c\n",
    "     d\n",
    "   ```\n",
    "</div>\n",
    "</div>"
   ]
  },
  {
   "cell_type": "code",
   "execution_count": null,
   "metadata": {
    "ExecuteTime": {
     "end_time": "2019-01-25T02:52:21.261597Z",
     "start_time": "2019-01-25T02:52:21.256422Z"
    }
   },
   "outputs": [],
   "source": [
    "def write_coordinates(md):\n",
    "    # x[y:] take all elements in x from index y onwards\n",
    "    x_coords = md.xyz[:-1] # remove last column with negative time\n",
    "    with open('coords.xyz', 'w') as f: # f is the open file object\n",
    "        # for every step from 0 to md.n_steps inclusive\n",
    "        # Write the number of particles and a newline\n",
    "        # And the time\n",
    "        ...\n",
    "    print(\"Wrote coordinates to coords.xyz\")"
   ]
  },
  {
   "cell_type": "markdown",
   "metadata": {},
   "source": [
    "The `watch()` function below just lets you view your coordinate file as an animation."
   ]
  },
  {
   "cell_type": "code",
   "execution_count": null,
   "metadata": {
    "ExecuteTime": {
     "end_time": "2019-01-29T08:16:10.411053Z",
     "start_time": "2019-01-29T08:16:10.388542Z"
    }
   },
   "outputs": [],
   "source": [
    "from ase.visualize import view\n",
    "from ase.io import read as ase_read\n",
    "\n",
    "def watch(md):\n",
    "    atoms = ase_read('coords.xyz', index=':')\n",
    "    view(atoms)"
   ]
  },
  {
   "cell_type": "markdown",
   "metadata": {},
   "source": [
    "### Putting it all together"
   ]
  },
  {
   "cell_type": "markdown",
   "metadata": {},
   "source": [
    "<div class=\"alert alert-block alert-info\">\n",
    "    <b>Write a main function that strings it all together.</b></div>"
   ]
  },
  {
   "cell_type": "code",
   "execution_count": null,
   "metadata": {
    "ExecuteTime": {
     "end_time": "2019-01-22T07:46:25.672420Z",
     "start_time": "2019-01-22T07:46:25.670167Z"
    }
   },
   "outputs": [],
   "source": [
    "def main():\n",
    "    # setup the system\n",
    "    # for every time_step in md.n_steps, \n",
    "    # print out which step it is (so you \n",
    "    # can track your progress). Then \n",
    "    # calculate forces and integrate the \n",
    "    # equations of motion.\n",
    "    # Finally, write the coordinates to a file.\n",
    "    print(\"Done!\")"
   ]
  },
  {
   "cell_type": "markdown",
   "metadata": {},
   "source": [
    "## Run the code"
   ]
  },
  {
   "cell_type": "code",
   "execution_count": null,
   "metadata": {
    "ExecuteTime": {
     "end_time": "2019-01-11T08:36:26.612919Z",
     "start_time": "2019-01-11T08:36:26.538431Z"
    }
   },
   "outputs": [],
   "source": [
    "sim3d = main()"
   ]
  },
  {
   "cell_type": "code",
   "execution_count": null,
   "metadata": {
    "ExecuteTime": {
     "end_time": "2019-01-11T08:36:27.820073Z",
     "start_time": "2019-01-11T08:36:27.779576Z"
    }
   },
   "outputs": [],
   "source": [
    "watch(sim3d)"
   ]
  },
  {
   "cell_type": "markdown",
   "metadata": {},
   "source": [
    "### Timing the code"
   ]
  },
  {
   "cell_type": "markdown",
   "metadata": {
    "ExecuteTime": {
     "end_time": "2019-01-10T22:28:00.737711Z",
     "start_time": "2019-01-10T22:27:58.350824Z"
    }
   },
   "source": [
    "<div class=\"alert alert-block alert-info\"><b>How long does the simulation take? Profile it with the magic command `%prun`. Which step is the least efficient? Does changing the cutoff distance help?</div>"
   ]
  },
  {
   "cell_type": "code",
   "execution_count": null,
   "metadata": {},
   "outputs": [],
   "source": [
    "%prun main()"
   ]
  },
  {
   "cell_type": "markdown",
   "metadata": {},
   "source": [
    "<div class=\"alert alert-block alert-info\"><b>How much memory is Jupyter using during the simulation? Load the `memory_profiler` extension and use `%memit` to view the peak memory consumption."
   ]
  },
  {
   "cell_type": "code",
   "execution_count": null,
   "metadata": {
    "ExecuteTime": {
     "end_time": "2019-01-11T08:36:35.713114Z",
     "start_time": "2019-01-11T08:36:35.707566Z"
    }
   },
   "outputs": [],
   "source": [
    "%load_ext memory_profiler"
   ]
  },
  {
   "cell_type": "markdown",
   "metadata": {
    "ExecuteTime": {
     "end_time": "2019-01-10T19:15:45.795565Z",
     "start_time": "2019-01-10T19:15:45.792387Z"
    }
   },
   "source": [
    "## MD analysis"
   ]
  },
  {
   "cell_type": "markdown",
   "metadata": {},
   "source": [
    "### Plotting"
   ]
  },
  {
   "cell_type": "code",
   "execution_count": null,
   "metadata": {
    "ExecuteTime": {
     "end_time": "2019-01-25T03:19:15.155961Z",
     "start_time": "2019-01-25T03:19:14.670471Z"
    }
   },
   "outputs": [],
   "source": [
    "import matplotlib.pyplot as plt\n",
    "%matplotlib inline #magic function that displays graphs in Jupyter"
   ]
  },
  {
   "cell_type": "markdown",
   "metadata": {},
   "source": [
    "Plotting is very simple if all you want is simple plots. Try plotting your total energies and temperatures over time."
   ]
  },
  {
   "cell_type": "code",
   "execution_count": null,
   "metadata": {},
   "outputs": [],
   "source": [
    "plt.plot(sim3d.energies_total) # avoid first entry of 0"
   ]
  },
  {
   "cell_type": "markdown",
   "metadata": {},
   "source": [
    "Almost every Python plotting package is built on matplotlib, including seaborn (below). matplotlib is very powerful and flexible; unfortunately, that also makes it very finicky. Try changing the formatting below. [You can find documentation here.](https://matplotlib.org/api/_as_gen/matplotlib.pyplot.plot.html)"
   ]
  },
  {
   "cell_type": "code",
   "execution_count": null,
   "metadata": {},
   "outputs": [],
   "source": [
    "plt.plot(sim3d.energies_total, color='green', marker='o',\n",
    "        linestyle='dashed', linewidth=2, markersize=12,\n",
    "        markeredgecolor='blue', markerfacecolor='red')"
   ]
  },
  {
   "cell_type": "markdown",
   "metadata": {},
   "source": [
    "Seaborn is a library with a smoother interface and documentation. [Here is an example gallery of potential plots you can make.](https://seaborn.pydata.org/examples/index.html) For now we'll make the same line plot as in matplotlib, although Seaborn requires x-values. (This may throw an error if your `energies_total` array is a different length than the number of steps)."
   ]
  },
  {
   "cell_type": "code",
   "execution_count": null,
   "metadata": {},
   "outputs": [],
   "source": [
    "import seaborn as sns\n",
    "x = list(range(sim3d.n_steps))\n",
    "sns.lineplot(x, sim3d.energies_total)"
   ]
  },
  {
   "cell_type": "markdown",
   "metadata": {},
   "source": [
    "One of the best parts about Seaborn is how easy it is to do statistical visualisations. Try plotting a univariate kernel density estimate:"
   ]
  },
  {
   "cell_type": "code",
   "execution_count": null,
   "metadata": {},
   "outputs": [],
   "source": [
    "sns.kdeplot(sim1d.energies_total[1:])"
   ]
  },
  {
   "cell_type": "markdown",
   "metadata": {},
   "source": [
    "Or bivariate:"
   ]
  },
  {
   "cell_type": "code",
   "execution_count": null,
   "metadata": {},
   "outputs": [],
   "source": [
    "sns.kdeplot(sim1d.energies_total[1:], sim1d.temperatures[1:])"
   ]
  },
  {
   "cell_type": "markdown",
   "metadata": {},
   "source": [
    "### Averages, standard deviations, etc"
   ]
  },
  {
   "cell_type": "markdown",
   "metadata": {},
   "source": [
    "Using NumPy makes analysis much easier."
   ]
  },
  {
   "cell_type": "code",
   "execution_count": null,
   "metadata": {},
   "outputs": [],
   "source": [
    "sim3d.temperatures.mean()"
   ]
  },
  {
   "cell_type": "code",
   "execution_count": null,
   "metadata": {},
   "outputs": [],
   "source": [
    "sim3d.temperatures.median()"
   ]
  },
  {
   "cell_type": "code",
   "execution_count": null,
   "metadata": {},
   "outputs": [],
   "source": [
    "sim3d.temperatures.min()"
   ]
  },
  {
   "cell_type": "code",
   "execution_count": null,
   "metadata": {},
   "outputs": [],
   "source": [
    "np.std(sim3d.temperatures)"
   ]
  },
  {
   "cell_type": "code",
   "execution_count": null,
   "metadata": {},
   "outputs": [],
   "source": [
    "sim3d.temperature.sort()"
   ]
  },
  {
   "cell_type": "markdown",
   "metadata": {},
   "source": [
    "## Vectorised NumPy approach"
   ]
  },
  {
   "cell_type": "markdown",
   "metadata": {},
   "source": [
    "This approach is much more abstract, but gets rid of all the loops. The first step is to reshape the xyz coordinates using `ndarray.reshape()` to add an extra dimension so `row.shape` is `(1, md.n_particles, 3)`:\n",
    "<img src=\"files/a2_row.png\" width=\"300px\">\n",
    "\n",
    "A corresponding `col` array is created by transposing `row` such that the shape is `(md.n_particles, 1, 3)`. This is so we can broadcast the arrays with our next operation.\n",
    "<img src=\"files/a2_col.png\" width=\"150px\">\n",
    "\n",
    "Now, when we subtract the `col` array from the `row` array, the resulting array of displacements has the shape `(md.n_particles, md.n_particles, 3)`.\n",
    "\n",
    "<img src=\"files/a2_matrix.png\" width=\"300px\">\n",
    "\n",
    "From this displacement array the squared distance array can be calculated. Below, the subscript is the property calculated between atoms i and j in the `i:j` syntax.\n",
    "\n",
    "<img src=\"files/a2_dist.png\" width=\"300px\">\n",
    "\n",
    "Of course, the distance between atoms and themselves is 0. As the matrix is symmetric, we also need to zero the upper or lower half to avoid double-counting with `np.triu`. \n",
    "\n",
    "<img src=\"files/a2_dist_upper.png\" width=\"300px\">\n",
    "\n",
    "The squared distance array should then be reshaped to add an extra dimension for broadcasting purposes. \n",
    "\n",
    "<img src=\"files/a2_dist_reshaped.png\" width=\"300px\">\n",
    "\n",
    "From here energies and forces can be calculated the usual way. The function has been written below so you can compare the 1-loop implementation above to this vectorised approach. (Hopefully it works!)"
   ]
  },
  {
   "cell_type": "code",
   "execution_count": null,
   "metadata": {},
   "outputs": [],
   "source": [
    "def get_forces(md, step):\n",
    "    row = md.xyz[ntime].reshape(1, -1, 3)\n",
    "    col = row.transpose(1, 0, 2)\n",
    "    \n",
    "    distance = row-col #  Shape: (md.n_particles, md.n_particles, 3)\n",
    "    n_cells = md.cell * np.round_(distance/md.cell)\n",
    "    min_distance = distance - n_cells\n",
    "    sq_dist = (min_distance ** 2).sum(axis=2)\n",
    "    \n",
    "    sq_dist_upper = np.triu(sq_dist)  # Setting lower triangle to 0\n",
    "    # Setting any distances higher than the cutoff to 0 for convenience\n",
    "    sq_dist_upper[sq_dist_upper >= md.cutoff_sq] = 0\n",
    "    reshaped = sq_dist_upper.reshape(md.n_particles, md.n_particles, 1)\n",
    "    \n",
    "    mask = reshaped != 0\n",
    "    inv_r2 = 1/reshaped[mask]\n",
    "    inv_r6 = inv_r2 ** 3\n",
    "    \n",
    "    particle_en = 4 * inv_r6 * (inv_r6 - 1) - md.cutoff_energy\n",
    "    md.energies_potential[step] = particle_en.sum()\n",
    "    \n",
    "    computed_force = 48 * inv_r2 * inv_r6 * (inv_r - 0.5)\n",
    "    reshaped[mask] = computed_force\n",
    "    scaled = reshaped * min_distance\n",
    "    \n",
    "    md.forces[ntime] = scaled.sum(axis=0) - scaled.sum(axis=1)\n",
    "    "
   ]
  }
 ],
 "metadata": {
  "kernelspec": {
   "display_name": "ccpy36",
   "language": "python",
   "name": "ccpy36"
  },
  "language_info": {
   "codemirror_mode": {
    "name": "ipython",
    "version": 3
   },
   "file_extension": ".py",
   "mimetype": "text/x-python",
   "name": "python",
   "nbconvert_exporter": "python",
   "pygments_lexer": "ipython3",
   "version": "3.6.8"
  },
  "toc": {
   "base_numbering": 1,
   "nav_menu": {},
   "number_sections": true,
   "sideBar": true,
   "skip_h1_title": false,
   "title_cell": "Table of Contents",
   "title_sidebar": "Contents",
   "toc_cell": false,
   "toc_position": {
    "height": "602.5px",
    "left": "54.15px",
    "top": "110.633px",
    "width": "165px"
   },
   "toc_section_display": true,
   "toc_window_display": true
  }
 },
 "nbformat": 4,
 "nbformat_minor": 2
}
