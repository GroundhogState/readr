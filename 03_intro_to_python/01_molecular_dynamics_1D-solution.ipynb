{
 "cells": [
  {
   "cell_type": "markdown",
   "metadata": {},
   "source": [
    "# Molecular dynamics in Python: Lists upon lists"
   ]
  },
  {
   "cell_type": "markdown",
   "metadata": {},
   "source": [
    "In this workshop you'll write a molecular dynamics simulator of a 1-dimensional system. We'll profile the code performance and do some very basic analysis of the results.\n",
    "\n",
    "If you feel you need a refresher or reference to keep up with all the Python being thrown around, there is a short summary in `00_basics_of_python.ipynb`.\n",
    "\n",
    "If you're having trouble with an error message, Googling the message is usually the fastest way to a solution. Results from StackOverflow are particularly helpful.\n",
    "\n",
    "\n",
    "There's a lot of words here about molecular dynamics, but that is mostly window-dressing for the Python. Those of you with Jupyter Nbextensions installed and Collapsible Headings turned on will be able to hide or show explanations as desired. The colour-coding here is as follows:\n",
    "\n",
    "<div class=\"alert alert-block alert-warning\">&#x1F4DC;  &nbsp; Molecular dynamics explanation &nbsp; &#x1F4DC;</div>\n",
    "\n",
    "<div class=\"alert alert-block alert-success\">&#x1F40D;  &nbsp; Explanation of previous Python &nbsp; &#x1F40D; </div>\n",
    "\n",
    "<div class=\"alert alert-block alert-info\"><b>To do</b></div>\n",
    "\n",
    "<div class=\"alert alert-block alert-info\"><b><div class=\"alert alert-block alert-warning\"> Python Tip </div></b></div>"
   ]
  },
  {
   "cell_type": "markdown",
   "metadata": {},
   "source": [
    "## Background"
   ]
  },
  {
   "cell_type": "markdown",
   "metadata": {},
   "source": [
    "Molecular dynamics (MD) is a branch of computational chemistry that simulates the movements of atoms to study chemical interactions over time at the atomic level. These simulations are calculated by solving Newton's equations of motion for discrete steps in time. Forces and potential energies are calculated using interatomic potentials (as in this workshop) or force fields. "
   ]
  },
  {
   "cell_type": "markdown",
   "metadata": {},
   "source": [
    "## Lennard-Jones Potential"
   ]
  },
  {
   "cell_type": "markdown",
   "metadata": {},
   "source": [
    "The code here uses the Lennard-Jones potential below to model inter-particle interactions, where $r_{ij}$ represents the distance between atom $i$ and atom $j$.\n",
    "\n",
    "$$\n",
    "\\begin{equation}\n",
    "E^{LJ}(r_{ij}) = 4\\epsilon\\big[\\big(\\frac{\\sigma}{r_{ij}}\\big)^{12}-\\big(\\frac{\\sigma}{r_{ij}}\\big)^{6}\\big]\n",
    "\\end{equation}$$\n",
    "\n",
    "<img src=\"files/lj_graph.png\" width=\"400px\">\n",
    "\n",
    "We use dimensionless units throughout the code to  simplify the equation. Redefining the energy $E^{LJ}$ in terms of length $\\sigma$, energy $\\epsilon$, and mass $m$ gives us:\n",
    "$$\n",
    "\\begin{equation}\n",
    "E^{LJ}(r_{ij}) = 4\\big[r^{12} - r^6\\big]\n",
    "\\end{equation}$$\n",
    "</div>\n",
    "\n",
    "with these physical properties:\n",
    "\n",
    "| Property | Symbol | Reduced form |\n",
    "| --- | --- | --- |\n",
    "| Distance | $r$ | $r/\\sigma$ |\n",
    "|   Time   | $t$ | $t(\\epsilon/m \\sigma^2)^{\\frac{1}{2}}$ |\n",
    "| Temperature | $T$ | $k_BT/\\epsilon$ |\n",
    "| Force | $f$ | $f\\sigma/\\epsilon$ |\n",
    "| Energy | $E$ | $E/\\epsilon$ |\n",
    "| Pressure | $P$ | $P\\sigma^3/\\epsilon$ |\n",
    "| Density | $\\rho$ | $\\sigma^3\\rho/m$ |\n",
    "\n",
    "$k_B$ represents the Boltzmann constant, $1.38 x 10^{-23} m^2 kg s^{-2} K^{-1}$."
   ]
  },
  {
   "cell_type": "markdown",
   "metadata": {},
   "source": [
    "## Python"
   ]
  },
  {
   "cell_type": "markdown",
   "metadata": {
    "ExecuteTime": {
     "end_time": "2018-12-10T22:26:58.777856Z",
     "start_time": "2018-12-10T22:26:58.335965Z"
    }
   },
   "source": [
    "### Class definition"
   ]
  },
  {
   "cell_type": "markdown",
   "metadata": {},
   "source": [
    "The class `MD1D` is defined for you below. Several properties are defined in `__init__`, such as the length of the system. This is required as MD is still a slow process and only a finite system can be simulated in a finite cell. An infinite system is approximated by tiling identical cells, as in the image below. The computer only keeps track of the central one in bold, and particle interactions are only computed between the closest image. \n",
    "\n",
    "\n",
    "\n",
    "<img src=\"files/pbc_labelled.png\" width=\"500px\">"
   ]
  },
  {
   "cell_type": "markdown",
   "metadata": {},
   "source": [
    "#### &#x1F4DC;  &nbsp; Cutoffs &nbsp; &#x1F4DC;"
   ]
  },
  {
   "cell_type": "markdown",
   "metadata": {},
   "source": [
    "<div>\n",
    "Calculation of interactions between nonbonded particles is by far the most time-consuming part of molecular dynamics, as it scales at $\\mathcal{O}(N^2)$ for $N$ particles. One method to reduce calculations is approximate  all interactions beyond a certain distance cutoff. Here the approximation is that interactions beyond the cutoff contribute nothing to the forces and energies of each particle. <i>Currently the cutoff distance is set to 18, half the cell-length, so all interactions are computed.</i>\n",
    "\n",
    "The squared cutoff-distance is also defined below. This is because when 3D distances are computed they involve square-rooting, an expensive process. It is common to simply compare the squares of distances.\n",
    "$$ d(\\vec{i},\\vec{j}) = \\sqrt{(i_x-j_x)^2 + (i_y-j_y)^2 + (i_z-j_z)^2}$$\n",
    "\n",
    "Finally, a cutoff energy is given. `cutoff_energy` is the potential energy at the cutoff distance. To avoid discontinuities, the Lennard-Jones potential is shifted up by subtracting the `cutoff_energy`. This truncates the potential to 0 at the cutoff distance."
   ]
  },
  {
   "cell_type": "markdown",
   "metadata": {},
   "source": [
    "#### <div class=\"alert alert-block alert-info\"><b>Create lists to hold the temperatures, potential energies, and total energies. Make `cutoff_dist` a keyword argument that you can change when you create an instance of `MD1D`.</b></div><a class='tocSkip'>"
   ]
  },
  {
   "cell_type": "code",
   "execution_count": 11,
   "metadata": {
    "ExecuteTime": {
     "end_time": "2019-01-29T07:14:24.991713Z",
     "start_time": "2019-01-29T07:14:24.979714Z"
    },
    "code_folding": []
   },
   "outputs": [],
   "source": [
    "class MD1D:  # Defines a class\n",
    "    n_dims = 1\n",
    "    def __init__(self, n_steps, x_length = 36.0, n_particles=36):  # Defines instance method __init__\n",
    "        self.n_particles = n_particles  # Number of particles\n",
    "        self.x_length = x_length  # Length of 1D box\n",
    "        self.lattice = self.x_length/self.n_particles  # Spacing\n",
    "        \n",
    "        self.time_step = 0.01  # Integration time step\n",
    "        self.n_steps = n_steps  # Number of steps to take\n",
    "        \n",
    "        self.cutoff_dist = 18.0  # Distance cutoff for computing interactions\n",
    "        self.cutoff_sq = self.cutoff_dist ** 2  # Squared cutoff\n",
    "        self.cutoff_energy =  4 * (self.cutoff_dist ** -12 - self.cutoff_dist ** -6)  # Cutoff energy at r=cutoff_dist\n",
    "        \n",
    "        self.temperature = 0.728\n",
    "        \n",
    "        # Set up lists as empty property containers\n",
    "        self.x_coords = []  # Empty list of length 0\n",
    "        self.velocities = []\n",
    "        self.forces = []\n",
    "        # set up lists for properties below\n",
    "        self.temperatures = []\n",
    "        self.energies_potential = []\n",
    "        self.energies_total = []\n",
    "    \n",
    "    "
   ]
  },
  {
   "cell_type": "markdown",
   "metadata": {},
   "source": [
    "####  &#x1F40D;  &nbsp; What's happening here? &nbsp; &#x1F40D; "
   ]
  },
  {
   "cell_type": "markdown",
   "metadata": {},
   "source": [
    "<div class=\"alert alert-block alert-success\">\n",
    "\n",
    "The cell above defines the class `MD1D`. Almost everything in Python is an object, and a class is like a template for objects, or instances, of that class. \n",
    "\n",
    "- `__init__` is the first method called when a new object is created, and it is generally defined to assign all the required attributes of an object needed for operation. Here we are assigning properties of our system that will remain unchanged, and setting up empty lists to track the evolution of the system throughout simulation.\n",
    "\n",
    "\n",
    "- `self` is the first argument of all instance methods defined in the class. When calling instance methods from an object, it is left out since the object is assumed to be `self`. If I wanted to call `__init__` again, for example, it would look like this:\n",
    "```\n",
    "    my_md = MD1D()\n",
    "    my_md.__init__(20, n_particles=100)\n",
    "```\n",
    "\n",
    "\n",
    "- `n_steps` is an argument passed to the function when it's called. It *must* be passed each time, in the correct position (ie first), or you will get an error. `n_particles`, however, is a 'keyword argument'. Its default is 36 and it doesn't matter which order you write your keyword arguments in, so long as you use the `kwarg=value` syntax instead of just `value`.\n",
    "\n",
    "\n",
    "- `**` means to the power of. `x ** y` will calculate $x^y$.\n",
    "</div>"
   ]
  },
  {
   "cell_type": "markdown",
   "metadata": {},
   "source": [
    "#### <div class=\"alert alert-block alert-info\"><b>Create an instance of `MD1D` below and assign it to a variable.</b></div>"
   ]
  },
  {
   "cell_type": "code",
   "execution_count": 3,
   "metadata": {
    "ExecuteTime": {
     "end_time": "2019-01-29T07:02:52.666713Z",
     "start_time": "2019-01-29T07:02:52.662341Z"
    }
   },
   "outputs": [],
   "source": [
    "sim1d = MD1D(100, n_particles=36)"
   ]
  },
  {
   "cell_type": "markdown",
   "metadata": {},
   "source": [
    "### Set up initial state"
   ]
  },
  {
   "cell_type": "markdown",
   "metadata": {},
   "source": [
    "Next, you should define the function `setup_system` below where you will set up your simulation system at time=0. This involves the following steps for each particle:\n",
    "\n",
    "1. Generating initial coordinates\n",
    "2. Generating an initial force (0.0 to start off)\n",
    "3. Generating an initial velocity (random to start with)\n",
    "4. Scaling your random velocities to match your desired temperature `self.temperature`\n",
    "5. Generating 'previous' coordinates for each particle for time=`-self.time_step` based on those scaled velocities\n",
    "\n",
    "Steps 1-3 have been done for you, but you will have to collect the properties in lists using methods such as my_`list.append(item)`. You will have to calculate a scale factor for Step 4 in the function `get_scale_factor()` before you can do Steps 4 and 5. Finally, you'll need to append the generated properties to the `md` object.\n"
   ]
  },
  {
   "cell_type": "markdown",
   "metadata": {
    "heading_collapsed": true
   },
   "source": [
    "#### &#x1F4DC;  &nbsp; `get_scale_factor()`  &nbsp; &#x1F4DC;"
   ]
  },
  {
   "cell_type": "markdown",
   "metadata": {
    "hidden": true
   },
   "source": [
    "\n",
    "As the initial velocity distribution over your particles is random, we need to scale it to achieve thermal equilibrium using the `scale_factor` variable you will define in the code. In thermal equilibrium, the instantaneous temperature $T(t)$ at time $t$ is related to the velocity $v$ as below. \n",
    "    \n",
    "$$ k_BT(t) = \\sum\\limits_{i=1}^{N} \\frac{mv^2_{\\alpha, i}(t)}{N} $$\n",
    "\n",
    "As we have redefined the system in simplified units and the system is 1-dimensional, this can be reduced to:\n",
    "\n",
    "$$T(t) = \\sum\\limits_{i=1}^{N} \\frac{v^2_{i}(t)}{N}$$\n",
    "\n",
    "If we break down the velocity $v$ into the random velocity $u$ and `scale_factor` $s$ for time $t=0$:\n",
    "\n",
    "$$\\begin{eqnarray}\n",
    "v &=& u_is \\\\\n",
    "T_0 &=& s^2\\sum\\limits_{i=1}^{N} \\frac{u_i^2}{N}\n",
    "\\end{eqnarray}$$\n",
    "\n",
    "In the code, `avg_vsum_sq` represents the sum of squared velocities over the number of particles (which we will shorten to $V_\\sigma$):\n",
    "\n",
    "$$\\begin{eqnarray}\n",
    "\\sum\\limits_{i=1}^{N} \\frac{u_i^2}{N} &=& V_\\sigma\\\\\n",
    "T_0 &=& s^2 V_\\sigma\\\\\n",
    "s &=& \\sqrt{\\frac{T_0}{V_\\sigma}}\n",
    "\\end{eqnarray}$$\n",
    "\n",
    "Therefore your `get_scale_factor` function should use two terms: average sum of squared velocities `avg_vsum_sq`, and the desired temperature at time 0 `self.temperature`.\n",
    "\n",
    "</div>"
   ]
  },
  {
   "cell_type": "markdown",
   "metadata": {
    "heading_collapsed": true
   },
   "source": [
    "#### &#x1F4DC;  &nbsp; Previous positions  &nbsp; &#x1F4DC;"
   ]
  },
  {
   "cell_type": "markdown",
   "metadata": {
    "hidden": true
   },
   "source": [
    "In this simulation we are solving Newton's equations numerically with discrete time-steps. The Verlet method uses forces $F=ma$ to calculate positions at the next time-step. Velocities are calculated as midpoints between positions, i.e.\n",
    "$$v_i = \\frac{x_{i+1} - x_{i-1}}{2}$$. \n",
    "\n",
    "Therefore to calculate a velocity at time=0, we need to walk one step back into negative time and calculate the previous positions of those atoms at those velocities. This is done using the less accurate Euler method. \n",
    "\n",
    "The equation is below, where $x$ is the coordinate and $v$ represents the velocity. $\\Delta t$ is the time difference between the two steps, i.e. the time_step.\n",
    "    $$x_{prev} = x_{now} - v_{now}*\\Delta t$$\n",
    "\n",
    "\n",
    "Below is an image of what the `md.x_coords` list will look like when the positions for all the time steps have been added.\n",
    "<img src=\"files/velocities.png\" width=\"500px\">\n",
    "\n"
   ]
  },
  {
   "cell_type": "markdown",
   "metadata": {},
   "source": [
    "#### <div class=\"alert alert-block alert-info\"><b>Write a function that returns the scale factor as defined above.</b></div>"
   ]
  },
  {
   "cell_type": "code",
   "execution_count": 4,
   "metadata": {
    "ExecuteTime": {
     "end_time": "2019-01-29T07:05:28.357774Z",
     "start_time": "2019-01-29T07:05:28.355553Z"
    }
   },
   "outputs": [],
   "source": [
    "def get_scale_factor(avg_vsum_sq, temperature):\n",
    "    return (temperature / avg_vsum_sq) ** 0.5"
   ]
  },
  {
   "cell_type": "markdown",
   "metadata": {},
   "source": [
    "<div class=\"alert alert-block alert-info\">\n",
    "<b>\n",
    "    1. Use get_x_position to generate atom positions.<br>\n",
    "    2. Add each atom position, force and velocity to their respective lists.<br>\n",
    "    3. Calculate the previous position.<br>\n",
    "    4. Add the lists for this time, ie time=0, to the md object.<br>\n",
    "</b></div>"
   ]
  },
  {
   "cell_type": "code",
   "execution_count": 21,
   "metadata": {
    "ExecuteTime": {
     "end_time": "2019-01-29T07:25:54.387851Z",
     "start_time": "2019-01-29T07:25:54.385539Z"
    }
   },
   "outputs": [],
   "source": [
    "def get_x_position(md, index):\n",
    "    \"\"\" Places each atom at points on the lattice according to the index \"\"\"\n",
    "    position = (index+0.5) * md.lattice\n",
    "    return position"
   ]
  },
  {
   "cell_type": "code",
   "execution_count": 7,
   "metadata": {
    "ExecuteTime": {
     "end_time": "2019-01-29T07:07:14.019524Z",
     "start_time": "2019-01-29T07:07:14.011695Z"
    }
   },
   "outputs": [],
   "source": [
    "import random\n",
    "\n",
    "def setup_system(md):\n",
    "        \"\"\"Initialise system properties at time=0.\"\"\"\n",
    "        \n",
    "        # Initialise empty properties and containers\n",
    "        vsum = 0.0  # sum of velocities\n",
    "        vsum_sq = 0.0  # sum of squared velocities\n",
    "        \n",
    "        x_coords = []  # new list\n",
    "        prev_x_coords = []\n",
    "        forces = []\n",
    "        velocities = []\n",
    "        \n",
    "        # Add particles, forces, and velocities\n",
    "        for i in range(md.n_particles): # for each particle\n",
    "            print(\"Generating position, force and velocity for particle {index}\".format(index=i))\n",
    "            i_x_pos = get_x_position(md, i)\n",
    "            i_force = 0.0 # starting off without force\n",
    "            i_vel = random.random()-0.5 # random number in range [-0.5, 0.5]\n",
    "            # append each of the above properties to their respective containers\n",
    "            # e.g.\n",
    "            # x_coords.append(i_x_pos)\n",
    "            x_coords.append(i_x_pos)\n",
    "            forces.append(i_force)\n",
    "            velocities.append(i_vel)\n",
    "            \n",
    "            vsum += i_vel # x+=y is equivalent to x = x+y\n",
    "            vsum_sq += i_vel ** 2 # x**y is equivalent to x to the power of y\n",
    "        \n",
    "        avg_vsum = vsum/md.n_particles\n",
    "        avg_vsum_sq = vsum_sq/md.n_particles\n",
    "        \n",
    "        # Determine scale factor required for velocities to reach specified temperature\n",
    "        scale_factor = get_scale_factor(avg_vsum_sq, md.temperature)\n",
    "        \n",
    "        # Rescale velocities and generate previous x coordinates \n",
    "        for i in range(md.n_particles):\n",
    "            velocities[i] = (velocities[i]-avg_vsum) * scale_factor\n",
    "            previous_x = x_coords[i] - velocities[i] * md.time_step  # Generate this!\n",
    "            prev_x_coords.append(previous_x)\n",
    "        \n",
    "        # add temporary lists to main lists\n",
    "        md.x_coords.append(prev_x_coords)\n",
    "        md.x_coords.append(x_coords)\n",
    "        # add forces and velocities to main md object!"
   ]
  },
  {
   "cell_type": "markdown",
   "metadata": {},
   "source": [
    "####  &#x1F40D;  &nbsp; What's happening here? &nbsp; &#x1F40D;"
   ]
  },
  {
   "cell_type": "markdown",
   "metadata": {},
   "source": [
    "<div class=\"alert alert-block alert-success\">\n",
    "\n",
    "The cell above defines a function to operate on your `MD1D` object. Normally this would be defined within the `class MD1D` code block, with `self` replacing `md` as the first argument, but this workshop has pulled it out for convenience.\n",
    "\n",
    "In the first line we import the module `random`. `import xx` will import a module called `xx` whose methods and classes you can access with `xx.method` or `xx.class`. Here we are using a function, `random()`, that has been defined in the library `random`. It's called in the code with `random.random()`.\n",
    "\n",
    "</div>"
   ]
  },
  {
   "cell_type": "markdown",
   "metadata": {},
   "source": [
    "#### &nbsp;\n",
    "<div class=\"alert alert-block alert-info\">\n",
    "    <b>Call setup_system on your instance of `MD1D` and check that: <ul>\n",
    "        <li> the velocities and forces lists are 1 element long\n",
    "        <li> the x_coords list is 2 elements long\n",
    "        <li> the last element of the x_coords list is a list of positions that are evenly spaced along your cell\n",
    " \n",
    " </b>\n",
    " <div class=\"alert alert-block alert-warning\">\n",
    "    \n",
    "   **Tip**\n",
    "   \n",
    "   `len(object)` will return the length of objects that conceivably have lengths, e.g. strings, lists, arrays. `x[y]` will return the y+1th element of x. In Python, indexing starts at 0 so `x[0]` returns the first item.\n",
    "    </div>\n",
    "        </div>"
   ]
  },
  {
   "cell_type": "code",
   "execution_count": null,
   "metadata": {},
   "outputs": [],
   "source": []
  },
  {
   "cell_type": "markdown",
   "metadata": {},
   "source": [
    "### Calculating energies and forces"
   ]
  },
  {
   "cell_type": "markdown",
   "metadata": {},
   "source": [
    "The function `get_forces` is responsible for calculating the force between each particle pair within your `self.cutoff_dist` cutoff, and the total energy of the system at the time. The end result is:\n",
    "\n",
    "1. a list of forces for each particle that accounts for the effect of every other paired particle \n",
    "2. a total energy that is the sum of the energy for every interacting pair of particles.\n",
    "\n",
    "\n",
    "For a Lennard-Jones system in reduced units, the potential energy $E_{LJ}$ can be defined as:\n",
    "\n",
    "$$\n",
    "\\begin{equation}\n",
    "E^{LJ}(r_{ij}) = 4\\big[r^{12} - r^6\\big]\n",
    "\\end{equation}$$\n",
    "\n",
    "and the force $f_x$ is defined as:\n",
    "\n",
    "$$\n",
    "f_x(r) = \\frac{48x}{r^2}\\big(\\frac{1}{r^{12}}-0.5\\frac{1}{r^6}\\big)\n",
    "$$\n"
   ]
  },
  {
   "cell_type": "markdown",
   "metadata": {},
   "source": [
    "#### <div class=\"alert alert-block alert-info\"><b>Using the equation above, write functions to calculate the energy and force between two atoms as a function of distance.</b></div>"
   ]
  },
  {
   "cell_type": "code",
   "execution_count": 8,
   "metadata": {
    "ExecuteTime": {
     "end_time": "2019-01-29T07:08:40.586945Z",
     "start_time": "2019-01-29T07:08:40.584346Z"
    }
   },
   "outputs": [],
   "source": [
    "def calculate_energy(distance):\n",
    "    d6_inv = 1/(distance ** 6)\n",
    "    return 4 * d6_inv * (d6_inv - 1)"
   ]
  },
  {
   "cell_type": "code",
   "execution_count": 9,
   "metadata": {
    "ExecuteTime": {
     "end_time": "2019-01-29T07:09:14.983022Z",
     "start_time": "2019-01-29T07:09:14.978487Z"
    }
   },
   "outputs": [],
   "source": [
    "def calculate_force(distance):\n",
    "    d2_inv = 1/(distance ** 2)\n",
    "    d6_inv = d2_inv ** 3\n",
    "    return 48 * d2_inv * d6_inv * (d6_inv - 0.5)"
   ]
  },
  {
   "cell_type": "code",
   "execution_count": 10,
   "metadata": {
    "ExecuteTime": {
     "end_time": "2019-01-29T07:09:27.445843Z",
     "start_time": "2019-01-29T07:09:27.438588Z"
    }
   },
   "outputs": [],
   "source": [
    "def get_forces(md):\n",
    "    \"\"\"Calculating energy and force\"\"\"\n",
    "    # Initialise empty variables\n",
    "    energy_sum = 0.0\n",
    "    forces = []\n",
    "    for i in range(md.n_particles):\n",
    "        forces.append(0.0)\n",
    "\n",
    "    # current properties\n",
    "    x_coords = md.x_coords[-1] # x[-1] gets the last element in x\n",
    "\n",
    "    for i in range(md.n_particles-1): # for every particle except the last\n",
    "        for j in range(i+1, md.n_particles): # for every particle from i onwards\n",
    "            # distance between atoms i and j\n",
    "            distance = x_coords[i] - x_coords[j]\n",
    "            n_cells = md.x_length * round(distance/md.x_length)\n",
    "            distance -= n_cells #periodic boundary conditions\n",
    "\n",
    "            if distance < md.cutoff_dist:\n",
    "                energy = calculate_energy(distance)\n",
    "                energy_sum += energy - md.cutoff_energy\n",
    "                \n",
    "                force = calculate_force(distance)\n",
    "                scaled = force * distance\n",
    "                forces[i] += scaled\n",
    "                forces[j] -= scaled\n",
    "                \n",
    "    md.energies_potential.append(energy_sum)\n",
    "    md.forces.append(forces)"
   ]
  },
  {
   "cell_type": "markdown",
   "metadata": {},
   "source": [
    "#### <div class=\"alert alert-block alert-info\"><b>Run get_forces on your `MD1D` instance and check that there are no errors.</b></div>"
   ]
  },
  {
   "cell_type": "code",
   "execution_count": null,
   "metadata": {},
   "outputs": [],
   "source": []
  },
  {
   "cell_type": "markdown",
   "metadata": {},
   "source": [
    "#### &nbsp;\n",
    "<div class=\"alert alert-block alert-info\">\n",
    "\n",
    "\n",
    "<b>Why do you think we add 0.0 to the `forces` list to start off with instead of just appending? Try commenting that `for` block out and running it again.\n",
    "    </b>\n",
    "<div class=\"alert alert-block alert-warning\">\n",
    "    \n",
    "   **Tip**\n",
    "   \n",
    "   `#` is the comment character in Python. Jupyter has a keyboard shortcut, too. `ctrl+/` will toggle comments for the line your cursor is in. If you have highlighted a block of code, it will toggle comments for that entire block.  \n",
    "    </div></div>"
   ]
  },
  {
   "cell_type": "code",
   "execution_count": null,
   "metadata": {},
   "outputs": [],
   "source": []
  },
  {
   "cell_type": "markdown",
   "metadata": {},
   "source": [
    "### Integrating equations of motion"
   ]
  },
  {
   "cell_type": "markdown",
   "metadata": {},
   "source": [
    "Now that the forces have been computed, we can integrate the equations of motion. \n",
    "\n",
    "The estimate of the position at the next time-step is calculated from the current properties below, where $f(t)$ represents the force at time $t$. $t + \\Delta t$ and $t - \\Delta t$ represent the next and previous time-steps respectively. \n",
    "$$\n",
    "x(t + \\Delta t) \\approx 2x(t) - x(t - \\Delta t) + f(t) \\Delta t^2\n",
    "$$\n",
    "\n",
    "The velocity of the current time-step can therefore be calculated:\n",
    "$$\n",
    "v(t) = \\frac{x(t + \\Delta t) - x(t - \\Delta t)}{2 \\Delta t}\n",
    "$$\n",
    "\n",
    "We use this to calculate the instantaneous temperature by the equation above:\n",
    "\n",
    "$$T(t) = \\sum\\limits_{i=1}^{N} \\frac{v^2_{i}(t)}{N}$$\n",
    "\n",
    "\n",
    "We would also like to calculate the total energy per particle. This energy is a sum of the potential energy and kinetic energy. The potential energy was calculated in the `get_forces` function using the Lennard-Jones potential. The kinetic energy is calculated with $\\frac{1}{2}mv^2$. In reduced units, this simplifies to $\\frac{1}{2}v^2$.\n",
    "\n",
    "\n",
    "Below is a picture of what your `md.x_coords` list should look like after all the time-steps have been completed. `md.x_coords` should be `md.n_steps + 1` elements long, and each element should also be a list of `md.n_particles` length. Each element in these sub-lists should be a float.\n",
    "\n",
    "<img src=\"files/velocities.png\" width=\"500px\">"
   ]
  },
  {
   "cell_type": "markdown",
   "metadata": {},
   "source": [
    "#### &#x1F4DC;  &nbsp; Background behind equations &nbsp; &#x1F4DC;"
   ]
  },
  {
   "cell_type": "markdown",
   "metadata": {},
   "source": [
    "The Taylor expansion of the particle coordinate at time $t$ gives:\n",
    "    \n",
    "$$\n",
    "\\begin{eqnarray}\n",
    "    x(t + \\Delta t) &=& x(t) + \\dot x(t) \\Delta t + \\ddot x(t)\\frac{\\Delta t^2}{2!} + \\dddot x(t)\\frac{\\Delta t^3}{3!} + \\mathcal{O}(\\Delta t^4) \\\\\n",
    "    x(t - \\Delta t) &=& x(t) - \\dot x(t) \\Delta t + \\ddot x(t)\\frac{\\Delta t^2}{2!} - \\dddot x(t)\\frac{\\Delta t^3}{3!} + \\mathcal{O}(\\Delta t^4)\n",
    "\\end{eqnarray}\n",
    "$$\n",
    "    \n",
    "   Adding those equations together and substituting acceleration $a(t) = \\ddot x(t)$ results in this:\n",
    "   \n",
    "   \n",
    "   $$\n",
    "   x(t + \\Delta t) + x(t - \\Delta t) = 2x(t) + a(t)\\Delta t^2 + \\mathcal{O}(\\Delta t^4)\n",
    "   $$\n",
    "   \n",
    "   Given that mass $m$ vanishes in reduced units, the force $F=ma$ reduces to $F=a$. The remainder term $\\mathcal{O}(\\Delta t^4)$ is dropped as the error. Therefore:\n",
    "   \n",
    "$$\n",
    "\\begin{eqnarray}\n",
    "x(t + \\Delta t) + x(t - \\Delta t) &=& 2x(t) + f(t)\\Delta t^2 \\\\\n",
    "x(t + \\Delta t) &\\approx& 2x(t) - x(t - \\Delta t) + f(t) \\Delta t^2\n",
    "\\end{eqnarray}\n",
    "$$\n",
    "\n",
    "\n",
    "\n",
    "This method uses forces to compute the new positions. The velocity at time $t$ is approximated when positions at time-steps before and after $t$ are known, using the equation in the main block above. Known as the Verlet algorithm, this approach is more accurate than the Euler method of using the velocity at time $t$ to determine the position at time $t + \\Delta t$.\n"
   ]
  },
  {
   "cell_type": "markdown",
   "metadata": {},
   "source": [
    "#### <div class=\"alert alert-block alert-info\"><b>Using the equations above, write a function to integrate the equations of motion.</b></div>"
   ]
  },
  {
   "cell_type": "code",
   "execution_count": 12,
   "metadata": {
    "ExecuteTime": {
     "end_time": "2019-01-29T07:16:25.536517Z",
     "start_time": "2019-01-29T07:16:25.530494Z"
    }
   },
   "outputs": [],
   "source": [
    "def next_position(current_x, previous_x, time_step, current_force):\n",
    "    x = 2 * current_x - previous_x + time_step * time_step * current_force\n",
    "    return x\n",
    "\n",
    "def current_velocity(next_x, previous_x, time_step):\n",
    "    v = (next_x - previous_x) / (2 * time_step)\n",
    "    return v\n",
    "\n",
    "def instant_temperature(vsum_sq, n_particles):\n",
    "    return vsum_sq / n_particles\n",
    "\n",
    "def total_energy_per_particle(energy, vsum_sq, n_particles):\n",
    "    total_energy = energy + (0.5 * vsum_sq)\n",
    "    return total_energy / n_particles"
   ]
  },
  {
   "cell_type": "code",
   "execution_count": 13,
   "metadata": {
    "ExecuteTime": {
     "end_time": "2019-01-29T07:21:41.698034Z",
     "start_time": "2019-01-29T07:21:41.690196Z"
    }
   },
   "outputs": [],
   "source": [
    "def integrate(md):\n",
    "    \"\"\"Integrate equations of motion\"\"\"\n",
    "    \n",
    "    # Initialise empty variables\n",
    "    vsum_sq = 0.0 # sum of squared velocities\n",
    "    # create an empty list of x coordinates for next time step\n",
    "    x_next = []\n",
    "    \n",
    "    # current properties\n",
    "    # x[-1] returns the last element in x\n",
    "    forces = md.forces[-1]  # most recent element in md.forces\n",
    "    x_now = md.x_coords[-1]  # last element in md.x_coords\n",
    "    x_prev = md.x_coords[-2]  # second last element in md.x_coords\n",
    "    energy_now = md.energies_potential[-1]  # last element in md.energies_potential\n",
    "    \n",
    "    # for every particle, calculate \n",
    "    # the next position with next_position() and \n",
    "    # the current velocity with current_velocity().\n",
    "    # Add this velocity to vsum_sq.\n",
    "    # Keep the next_x position in the list you created\n",
    "    for i in range(md.n_particles):\n",
    "        x = next_position(x_now[i], x_prev[i], md.time_step, forces[i])\n",
    "        x_next.append(x)\n",
    "        v = current_velocity(x, x_prev[i], md.time_step)\n",
    "        vsum_sq += (v ** 2)\n",
    "    \n",
    "    # when you've finished the loop, append the list \n",
    "    # of next positions to md.x_coords\n",
    "    md.x_coords.append(x_next)\n",
    "    \n",
    "    # calculate the instantaneous temperature and append \n",
    "    # it to md.temperatures\n",
    "    temp = instant_temperature(vsum_sq, md.n_particles)\n",
    "    md.temperatures.append(temp)\n",
    "    \n",
    "    # get the total energy per particle and append \n",
    "    # it to md.energies_total\n",
    "    en = total_energy_per_particle(energy_now, vsum_sq, md.n_particles)\n",
    "    print(\"  --- Energy: {en} ---\".format(en=en))\n",
    "    md.energies_total.append(en)\n",
    "    "
   ]
  },
  {
   "cell_type": "markdown",
   "metadata": {},
   "source": [
    "### Viewing"
   ]
  },
  {
   "cell_type": "markdown",
   "metadata": {},
   "source": [
    "<div class=\"alert alert-block alert-info\"><b>\n",
    "    Now you need to write out your coordinates to a file that's readable by other software. Use string formatting to write a file that looks like the example 'example.xyz' in the folder.</b>\n",
    "<div class=\"alert alert-block alert-warning\">\n",
    "    \n",
    "   **Tip**\n",
    "   \n",
    "   `range(x)` returns an iterable of numbers `(0, 1, 2, ... x-1)`. \n",
    "   \n",
    "   File I/O is usually handled within context managers that automatically close the file when you're done. To read:\n",
    "   \n",
    "   ```\n",
    "       with open(filename, 'r') as f:\n",
    "           contents = f.read()\n",
    "   ```\n",
    "   \n",
    "   To write:\n",
    "   ```\n",
    "       with open(filename, 'w') as f:\n",
    "           f.write(contents)\n",
    "   ```\n",
    "   \n",
    "   `'\\n'` prints a newline, i.e. moves to the next line in the file. I would expect `f.write(\"e\\nb  c\\n  d\")` to write:\n",
    "   \n",
    "   ```\n",
    "   e\n",
    "   b  c\n",
    "     d\n",
    "   ```\n",
    "</div>\n",
    "</div>"
   ]
  },
  {
   "cell_type": "code",
   "execution_count": 25,
   "metadata": {
    "ExecuteTime": {
     "end_time": "2019-01-29T07:26:18.018581Z",
     "start_time": "2019-01-29T07:26:18.012702Z"
    }
   },
   "outputs": [],
   "source": [
    "def write_coordinates(md):\n",
    "    # x[y:] take all elements in x from index y onwards\n",
    "    x_coords = md.x_coords[1:] # remove first list of positions at negative time\n",
    "    with open('example1d.xyz', 'w') as f: # f is the open file object\n",
    "        # for every step from 0 to md.n_steps inclusive\n",
    "        # Write the number of particles and a newline\n",
    "        # And the time\n",
    "        for t in range(md.n_steps+1): \n",
    "            time = t * md.time_step\n",
    "            f.write(\"{N}\\n\".format(N=md.n_particles))\n",
    "            f.write(\"time {time}\\n\".format(time=time))\n",
    "            for i in range(md.n_particles):\n",
    "                f.write(\"C {x} 0.0 0.0\\n\".format(x=md.x_coords[t][i]))\n",
    "    print(\"Wrote coordinates to example1d.xyz\")"
   ]
  },
  {
   "cell_type": "markdown",
   "metadata": {},
   "source": [
    "The `view()` function below just lets you view your coordinate file as an animation."
   ]
  },
  {
   "cell_type": "code",
   "execution_count": 57,
   "metadata": {
    "ExecuteTime": {
     "end_time": "2019-01-29T08:16:23.103893Z",
     "start_time": "2019-01-29T08:16:23.100975Z"
    }
   },
   "outputs": [],
   "source": [
    "from ase.visualize import view\n",
    "from ase.io import read as ase_read\n",
    "\n",
    "def watch(md):\n",
    "    atoms = ase_read('example1d.xyz', index=':')\n",
    "    return view(atoms)"
   ]
  },
  {
   "cell_type": "markdown",
   "metadata": {},
   "source": [
    "### Putting it all together"
   ]
  },
  {
   "cell_type": "markdown",
   "metadata": {},
   "source": [
    "<div class=\"alert alert-block alert-info\">\n",
    "    <b>Write a main function that strings it all together.</b></div>"
   ]
  },
  {
   "cell_type": "code",
   "execution_count": 44,
   "metadata": {
    "ExecuteTime": {
     "end_time": "2019-01-29T07:33:38.987232Z",
     "start_time": "2019-01-29T07:33:38.981348Z"
    }
   },
   "outputs": [],
   "source": [
    "def main():\n",
    "    # setup the system\n",
    "    # for every time_step in md.n_steps, \n",
    "    # print out which step it is (so you \n",
    "    # can track your progress). Then \n",
    "    # calculate forces and integrate the \n",
    "    # equations of motion.\n",
    "    # Finally, write the coordinates to a file.\n",
    "    md = MD1D(100)\n",
    "    setup_system(md)\n",
    "    for t in range(md.n_steps):\n",
    "        print(\"Calculating time step \", t)\n",
    "        get_forces(md)\n",
    "        integrate(md)\n",
    "    write_coordinates(md)\n",
    "    print(\"Done!\")\n",
    "    return md"
   ]
  },
  {
   "cell_type": "markdown",
   "metadata": {},
   "source": [
    "## Run the code"
   ]
  },
  {
   "cell_type": "code",
   "execution_count": 45,
   "metadata": {
    "ExecuteTime": {
     "end_time": "2019-01-29T07:33:53.584326Z",
     "start_time": "2019-01-29T07:33:53.497157Z"
    }
   },
   "outputs": [
    {
     "name": "stdout",
     "output_type": "stream",
     "text": [
      "Generating position, force and velocity for particle 0\n",
      "Generating position, force and velocity for particle 1\n",
      "Generating position, force and velocity for particle 2\n",
      "Generating position, force and velocity for particle 3\n",
      "Generating position, force and velocity for particle 4\n",
      "Generating position, force and velocity for particle 5\n",
      "Generating position, force and velocity for particle 6\n",
      "Generating position, force and velocity for particle 7\n",
      "Generating position, force and velocity for particle 8\n",
      "Generating position, force and velocity for particle 9\n",
      "Generating position, force and velocity for particle 10\n",
      "Generating position, force and velocity for particle 11\n",
      "Generating position, force and velocity for particle 12\n",
      "Generating position, force and velocity for particle 13\n",
      "Generating position, force and velocity for particle 14\n",
      "Generating position, force and velocity for particle 15\n",
      "Generating position, force and velocity for particle 16\n",
      "Generating position, force and velocity for particle 17\n",
      "Generating position, force and velocity for particle 18\n",
      "Generating position, force and velocity for particle 19\n",
      "Generating position, force and velocity for particle 20\n",
      "Generating position, force and velocity for particle 21\n",
      "Generating position, force and velocity for particle 22\n",
      "Generating position, force and velocity for particle 23\n",
      "Generating position, force and velocity for particle 24\n",
      "Generating position, force and velocity for particle 25\n",
      "Generating position, force and velocity for particle 26\n",
      "Generating position, force and velocity for particle 27\n",
      "Generating position, force and velocity for particle 28\n",
      "Generating position, force and velocity for particle 29\n",
      "Generating position, force and velocity for particle 30\n",
      "Generating position, force and velocity for particle 31\n",
      "Generating position, force and velocity for particle 32\n",
      "Generating position, force and velocity for particle 33\n",
      "Generating position, force and velocity for particle 34\n",
      "Generating position, force and velocity for particle 35\n",
      "Calculating time step  0\n",
      "  --- Energy: 0.29342177432646643 ---\n",
      "Calculating time step  1\n",
      "  --- Energy: 0.29399785820428775 ---\n",
      "Calculating time step  2\n",
      "  --- Energy: 0.29676860739438227 ---\n",
      "Calculating time step  3\n",
      "  --- Energy: 0.30055312339683515 ---\n",
      "Calculating time step  4\n",
      "  --- Energy: 0.3011203692232518 ---\n",
      "Calculating time step  5\n",
      "  --- Energy: 0.29784033055407066 ---\n",
      "Calculating time step  6\n",
      "  --- Energy: 0.29482709765944926 ---\n",
      "Calculating time step  7\n",
      "  --- Energy: 0.2941496968318086 ---\n",
      "Calculating time step  8\n",
      "  --- Energy: 0.29571115362787576 ---\n",
      "Calculating time step  9\n",
      "  --- Energy: 0.2981759677164788 ---\n",
      "Calculating time step  10\n",
      "  --- Energy: 0.29917398786088395 ---\n",
      "Calculating time step  11\n",
      "  --- Energy: 0.29815070272256583 ---\n",
      "Calculating time step  12\n",
      "  --- Energy: 0.2968966262191346 ---\n",
      "Calculating time step  13\n",
      "  --- Energy: 0.29655467545683106 ---\n",
      "Calculating time step  14\n",
      "  --- Energy: 0.29699572078652303 ---\n",
      "Calculating time step  15\n",
      "  --- Energy: 0.2977561797120542 ---\n",
      "Calculating time step  16\n",
      "  --- Energy: 0.2982325644384965 ---\n",
      "Calculating time step  17\n",
      "  --- Energy: 0.2979443011748095 ---\n",
      "Calculating time step  18\n",
      "  --- Energy: 0.2972475830332582 ---\n",
      "Calculating time step  19\n",
      "  --- Energy: 0.29688693560504786 ---\n",
      "Calculating time step  20\n",
      "  --- Energy: 0.29686362510777714 ---\n",
      "Calculating time step  21\n",
      "  --- Energy: 0.2967631709814349 ---\n",
      "Calculating time step  22\n",
      "  --- Energy: 0.29669048141330934 ---\n",
      "Calculating time step  23\n",
      "  --- Energy: 0.29711090634099535 ---\n",
      "Calculating time step  24\n",
      "  --- Energy: 0.29798240491615213 ---\n",
      "Calculating time step  25\n",
      "  --- Energy: 0.29862227951114684 ---\n",
      "Calculating time step  26\n",
      "  --- Energy: 0.2985503469939531 ---\n",
      "Calculating time step  27\n",
      "  --- Energy: 0.2979706941566022 ---\n",
      "Calculating time step  28\n",
      "  --- Energy: 0.2972376381304713 ---\n",
      "Calculating time step  29\n",
      "  --- Energy: 0.29650657753470644 ---\n",
      "Calculating time step  30\n",
      "  --- Energy: 0.29607281777576566 ---\n",
      "Calculating time step  31\n",
      "  --- Energy: 0.29645930381383945 ---\n",
      "Calculating time step  32\n",
      "  --- Energy: 0.29775902748864963 ---\n",
      "Calculating time step  33\n",
      "  --- Energy: 0.2989944253732701 ---\n",
      "Calculating time step  34\n",
      "  --- Energy: 0.29887625473248824 ---\n",
      "Calculating time step  35\n",
      "  --- Energy: 0.2975220328203557 ---\n",
      "Calculating time step  36\n",
      "  --- Energy: 0.2962636499479444 ---\n",
      "Calculating time step  37\n",
      "  --- Energy: 0.2960150486573209 ---\n",
      "Calculating time step  38\n",
      "  --- Energy: 0.296808644243338 ---\n",
      "Calculating time step  39\n",
      "  --- Energy: 0.2979964503128418 ---\n",
      "Calculating time step  40\n",
      "  --- Energy: 0.2984540934810616 ---\n",
      "Calculating time step  41\n",
      "  --- Energy: 0.29776026113336873 ---\n",
      "Calculating time step  42\n",
      "  --- Energy: 0.296734447354387 ---\n",
      "Calculating time step  43\n",
      "  --- Energy: 0.29626249751813455 ---\n",
      "Calculating time step  44\n",
      "  --- Energy: 0.2966889560662499 ---\n",
      "Calculating time step  45\n",
      "  --- Energy: 0.2975135803114329 ---\n",
      "Calculating time step  46\n",
      "  --- Energy: 0.2976814427701726 ---\n",
      "Calculating time step  47\n",
      "  --- Energy: 0.29721403860826506 ---\n",
      "Calculating time step  48\n",
      "  --- Energy: 0.2972091131760448 ---\n",
      "Calculating time step  49\n",
      "  --- Energy: 0.29764355573025303 ---\n",
      "Calculating time step  50\n",
      "  --- Energy: 0.2975288214527034 ---\n",
      "Calculating time step  51\n",
      "  --- Energy: 0.2969477841752959 ---\n",
      "Calculating time step  52\n",
      "  --- Energy: 0.29678954581094835 ---\n",
      "Calculating time step  53\n",
      "  --- Energy: 0.2971382837399862 ---\n",
      "Calculating time step  54\n",
      "  --- Energy: 0.2973133617828314 ---\n",
      "Calculating time step  55\n",
      "  --- Energy: 0.29703918566442883 ---\n",
      "Calculating time step  56\n",
      "  --- Energy: 0.2967422144188172 ---\n",
      "Calculating time step  57\n",
      "  --- Energy: 0.29697694967793703 ---\n",
      "Calculating time step  58\n",
      "  --- Energy: 0.2977035868151742 ---\n",
      "Calculating time step  59\n",
      "  --- Energy: 0.29814072854594975 ---\n",
      "Calculating time step  60\n",
      "  --- Energy: 0.2975712825112825 ---\n",
      "Calculating time step  61\n",
      "  --- Energy: 0.2963852684599285 ---\n",
      "Calculating time step  62\n",
      "  --- Energy: 0.2957026810662563 ---\n",
      "Calculating time step  63\n",
      "  --- Energy: 0.29619760261982664 ---\n",
      "Calculating time step  64\n",
      "  --- Energy: 0.2975599010920286 ---\n",
      "Calculating time step  65\n",
      "  --- Energy: 0.29851871635909194 ---\n",
      "Calculating time step  66\n",
      "  --- Energy: 0.29810534834508773 ---\n",
      "Calculating time step  67\n",
      "  --- Energy: 0.2968119111130862 ---\n",
      "Calculating time step  68\n",
      "  --- Energy: 0.29596030733241896 ---\n",
      "Calculating time step  69\n",
      "  --- Energy: 0.29627503821306056 ---\n",
      "Calculating time step  70\n",
      "  --- Energy: 0.2970810348892067 ---\n",
      "Calculating time step  71\n",
      "  --- Energy: 0.29736129780052073 ---\n",
      "Calculating time step  72\n",
      "  --- Energy: 0.297237547335581 ---\n",
      "Calculating time step  73\n",
      "  --- Energy: 0.2970791891231396 ---\n",
      "Calculating time step  74\n",
      "  --- Energy: 0.297147331092759 ---\n",
      "Calculating time step  75\n",
      "  --- Energy: 0.2974534836205723 ---\n",
      "Calculating time step  76\n",
      "  --- Energy: 0.2975554131952809 ---\n",
      "Calculating time step  77\n",
      "  --- Energy: 0.29724415281859984 ---\n",
      "Calculating time step  78\n",
      "  --- Energy: 0.29700715600859756 ---\n",
      "Calculating time step  79\n",
      "  --- Energy: 0.2973099447576389 ---\n",
      "Calculating time step  80\n",
      "  --- Energy: 0.2978242972001214 ---\n",
      "Calculating time step  81\n",
      "  --- Energy: 0.29810873060480564 ---\n",
      "Calculating time step  82\n",
      "  --- Energy: 0.2979782645413038 ---\n",
      "Calculating time step  83\n",
      "  --- Energy: 0.29731938981509615 ---\n",
      "Calculating time step  84\n",
      "  --- Energy: 0.2964386167691811 ---\n",
      "Calculating time step  85\n",
      "  --- Energy: 0.2960027482125121 ---\n",
      "Calculating time step  86\n",
      "  --- Energy: 0.29642684111800705 ---\n",
      "Calculating time step  87\n",
      "  --- Energy: 0.29745952208909776 ---\n",
      "Calculating time step  88\n",
      "  --- Energy: 0.298237221349704 ---\n",
      "Calculating time step  89\n",
      "  --- Energy: 0.2981144052053987 ---\n",
      "Calculating time step  90\n",
      "  --- Energy: 0.297430901999984 ---\n",
      "Calculating time step  91\n",
      "  --- Energy: 0.2969971756443827 ---\n",
      "Calculating time step  92\n",
      "  --- Energy: 0.29720964519169585 ---\n",
      "Calculating time step  93\n",
      "  --- Energy: 0.2977335878141487 ---\n",
      "Calculating time step  94\n",
      "  --- Energy: 0.29790514459040274 ---\n",
      "Calculating time step  95\n",
      "  --- Energy: 0.29759802877524266 ---\n",
      "Calculating time step  96\n",
      "  --- Energy: 0.2971948889183247 ---\n",
      "Calculating time step  97\n",
      "  --- Energy: 0.2968252092300536 ---\n",
      "Calculating time step  98\n",
      "  --- Energy: 0.29642517060315915 ---\n",
      "Calculating time step  99\n",
      "  --- Energy: 0.29626919747639247 ---\n",
      "Wrote coordinates to example1d.xyz\n",
      "Done!\n"
     ]
    }
   ],
   "source": [
    "sim1d = main()"
   ]
  },
  {
   "cell_type": "code",
   "execution_count": 33,
   "metadata": {
    "ExecuteTime": {
     "end_time": "2019-01-29T07:29:37.745631Z",
     "start_time": "2019-01-29T07:29:37.662089Z"
    }
   },
   "outputs": [],
   "source": [
    "watch(sim1d)"
   ]
  },
  {
   "cell_type": "markdown",
   "metadata": {},
   "source": [
    "### Timing the code"
   ]
  },
  {
   "cell_type": "markdown",
   "metadata": {
    "ExecuteTime": {
     "end_time": "2019-01-10T22:28:00.737711Z",
     "start_time": "2019-01-10T22:27:58.350824Z"
    }
   },
   "source": [
    "<div class=\"alert alert-block alert-info\"><b>How long does the simulation take? Profile it with the magic command `%prun`. Which step is the least efficient? Does changing the cutoff distance help?</div>"
   ]
  },
  {
   "cell_type": "code",
   "execution_count": 58,
   "metadata": {
    "ExecuteTime": {
     "end_time": "2019-01-29T09:09:52.953792Z",
     "start_time": "2019-01-29T09:09:52.836063Z"
    }
   },
   "outputs": [
    {
     "name": "stdout",
     "output_type": "stream",
     "text": [
      "Generating position, force and velocity for particle 0\n",
      "Generating position, force and velocity for particle 1\n",
      "Generating position, force and velocity for particle 2\n",
      "Generating position, force and velocity for particle 3\n",
      "Generating position, force and velocity for particle 4\n",
      "Generating position, force and velocity for particle 5\n",
      "Generating position, force and velocity for particle 6\n",
      "Generating position, force and velocity for particle 7\n",
      "Generating position, force and velocity for particle 8\n",
      "Generating position, force and velocity for particle 9\n",
      "Generating position, force and velocity for particle 10\n",
      "Generating position, force and velocity for particle 11\n",
      "Generating position, force and velocity for particle 12\n",
      "Generating position, force and velocity for particle 13\n",
      "Generating position, force and velocity for particle 14\n",
      "Generating position, force and velocity for particle 15\n",
      "Generating position, force and velocity for particle 16\n",
      "Generating position, force and velocity for particle 17\n",
      "Generating position, force and velocity for particle 18\n",
      "Generating position, force and velocity for particle 19\n",
      "Generating position, force and velocity for particle 20\n",
      "Generating position, force and velocity for particle 21\n",
      "Generating position, force and velocity for particle 22\n",
      "Generating position, force and velocity for particle 23\n",
      "Generating position, force and velocity for particle 24\n",
      "Generating position, force and velocity for particle 25\n",
      "Generating position, force and velocity for particle 26\n",
      "Generating position, force and velocity for particle 27\n",
      "Generating position, force and velocity for particle 28\n",
      "Generating position, force and velocity for particle 29\n",
      "Generating position, force and velocity for particle 30\n",
      "Generating position, force and velocity for particle 31\n",
      "Generating position, force and velocity for particle 32\n",
      "Generating position, force and velocity for particle 33\n",
      "Generating position, force and velocity for particle 34\n",
      "Generating position, force and velocity for particle 35\n",
      "Calculating time step  0\n",
      "  --- Energy: 0.28765006853333563 ---\n",
      "Calculating time step  1\n",
      "  --- Energy: 0.2888972011207618 ---\n",
      "Calculating time step  2\n",
      "  --- Energy: 0.29245048168874044 ---\n",
      "Calculating time step  3\n",
      "  --- Energy: 0.29678907997483417 ---\n",
      "Calculating time step  4\n",
      "  --- Energy: 0.29813037452973223 ---\n",
      "Calculating time step  5\n",
      "  --- Energy: 0.2953339411240366 ---\n",
      "Calculating time step  6\n",
      "  --- Energy: 0.29176085229329085 ---\n",
      "Calculating time step  7\n",
      "  --- Energy: 0.28995407647960025 ---\n",
      "Calculating time step  8\n",
      "  --- Energy: 0.29010852452185326 ---\n",
      "Calculating time step  9\n",
      "  --- Energy: 0.2916164410188199 ---\n",
      "Calculating time step  10\n",
      "  --- Energy: 0.2935930047430715 ---\n",
      "Calculating time step  11\n",
      "  --- Energy: 0.29488093236855323 ---\n",
      "Calculating time step  12\n",
      "  --- Energy: 0.294661782435903 ---\n",
      "Calculating time step  13\n",
      "  --- Energy: 0.2935064431740915 ---\n",
      "Calculating time step  14\n",
      "  --- Energy: 0.29241879392331666 ---\n",
      "Calculating time step  15\n",
      "  --- Energy: 0.2915980452821988 ---\n",
      "Calculating time step  16\n",
      "  --- Energy: 0.2912148240546036 ---\n",
      "Calculating time step  17\n",
      "  --- Energy: 0.29168112160926907 ---\n",
      "Calculating time step  18\n",
      "  --- Energy: 0.2930705949031064 ---\n",
      "Calculating time step  19\n",
      "  --- Energy: 0.2945362366398926 ---\n",
      "Calculating time step  20\n",
      "  --- Energy: 0.294932945268754 ---\n",
      "Calculating time step  21\n",
      "  --- Energy: 0.2943357524988009 ---\n",
      "Calculating time step  22\n",
      "  --- Energy: 0.29330785789324765 ---\n",
      "Calculating time step  23\n",
      "  --- Energy: 0.29177306112485424 ---\n",
      "Calculating time step  24\n",
      "  --- Energy: 0.2901160573458182 ---\n",
      "Calculating time step  25\n",
      "  --- Energy: 0.2899505518588803 ---\n",
      "Calculating time step  26\n",
      "  --- Energy: 0.2923369164148604 ---\n",
      "Calculating time step  27\n",
      "  --- Energy: 0.2957117259604771 ---\n",
      "Calculating time step  28\n",
      "  --- Energy: 0.29688543383995164 ---\n",
      "Calculating time step  29\n",
      "  --- Energy: 0.29498006511136304 ---\n",
      "Calculating time step  30\n",
      "  --- Energy: 0.2920050802177622 ---\n",
      "Calculating time step  31\n",
      "  --- Energy: 0.2899760293542314 ---\n",
      "Calculating time step  32\n",
      "  --- Energy: 0.2896594798466334 ---\n",
      "Calculating time step  33\n",
      "  --- Energy: 0.2912451769634788 ---\n",
      "Calculating time step  34\n",
      "  --- Energy: 0.29408477286187157 ---\n",
      "Calculating time step  35\n",
      "  --- Energy: 0.2957362026111538 ---\n",
      "Calculating time step  36\n",
      "  --- Energy: 0.29484594501264827 ---\n",
      "Calculating time step  37\n",
      "  --- Energy: 0.29307695691718444 ---\n",
      "Calculating time step  38\n",
      "  --- Energy: 0.29181860571263063 ---\n",
      "Calculating time step  39\n",
      "  --- Energy: 0.29149291086499646 ---\n",
      "Calculating time step  40\n",
      "  --- Energy: 0.29203622550193065 ---\n",
      "Calculating time step  41\n",
      "  --- Energy: 0.29293347726718255 ---\n",
      "Calculating time step  42\n",
      "  --- Energy: 0.29394021866602793 ---\n",
      "Calculating time step  43\n",
      "  --- Energy: 0.29463431192044354 ---\n",
      "Calculating time step  44\n",
      "  --- Energy: 0.2939694625198461 ---\n",
      "Calculating time step  45\n",
      "  --- Energy: 0.29228051539374483 ---\n",
      "Calculating time step  46\n",
      "  --- Energy: 0.2911014550874288 ---\n",
      "Calculating time step  47\n",
      "  --- Energy: 0.29110909020710485 ---\n",
      "Calculating time step  48\n",
      "  --- Energy: 0.292187384721817 ---\n",
      "Calculating time step  49\n",
      "  --- Energy: 0.29391697756931123 ---\n",
      "Calculating time step  50\n",
      "  --- Energy: 0.2953235551706887 ---\n",
      "Calculating time step  51\n",
      "  --- Energy: 0.2954389852442801 ---\n",
      "Calculating time step  52\n",
      "  --- Energy: 0.29425599342801756 ---\n",
      "Calculating time step  53\n",
      "  --- Energy: 0.29252358578830573 ---\n",
      "Calculating time step  54\n",
      "  --- Energy: 0.29109512245227254 ---\n",
      "Calculating time step  55\n",
      "  --- Energy: 0.29073378344477135 ---\n",
      "Calculating time step  56\n",
      "  --- Energy: 0.2919311824906109 ---\n",
      "Calculating time step  57\n",
      "  --- Energy: 0.293897651705796 ---\n",
      "Calculating time step  58\n",
      "  --- Energy: 0.29490930673972354 ---\n",
      "Calculating time step  59\n",
      "  --- Energy: 0.2943835261155271 ---\n",
      "Calculating time step  60\n",
      "  --- Energy: 0.2931952405327969 ---\n",
      "Calculating time step  61\n",
      "  --- Energy: 0.2923884766798797 ---\n",
      "Calculating time step  62\n",
      "  --- Energy: 0.29210154639466357 ---\n",
      "Calculating time step  63\n",
      "  --- Energy: 0.2919613476700546 ---\n",
      "Calculating time step  64\n",
      "  --- Energy: 0.29204476064842694 ---\n",
      "Calculating time step  65\n",
      "  --- Energy: 0.29266446782156613 ---\n",
      "Calculating time step  66\n",
      "  --- Energy: 0.293577239590688 ---\n",
      "Calculating time step  67\n",
      "  --- Energy: 0.2941603921947554 ---\n",
      "Calculating time step  68\n",
      "  --- Energy: 0.2939825031860937 ---\n",
      "Calculating time step  69\n",
      "  --- Energy: 0.29333829084916485 ---\n",
      "Calculating time step  70\n",
      "  --- Energy: 0.292640501537831 ---\n",
      "Calculating time step  71\n",
      "  --- Energy: 0.2919358370095009 ---\n",
      "Calculating time step  72\n",
      "  --- Energy: 0.2916509198786097 ---\n",
      "Calculating time step  73\n",
      "  --- Energy: 0.2925188371961537 ---\n",
      "Calculating time step  74\n",
      "  --- Energy: 0.2938623856714201 ---\n",
      "Calculating time step  75\n",
      "  --- Energy: 0.2938347752784366 ---\n",
      "Calculating time step  76\n",
      "  --- Energy: 0.29292071702413336 ---\n",
      "Calculating time step  77\n",
      "  --- Energy: 0.2926608340614702 ---\n",
      "Calculating time step  78\n",
      "  --- Energy: 0.29300152619561426 ---\n",
      "Calculating time step  79\n",
      "  --- Energy: 0.2932767884466214 ---\n",
      "Calculating time step  80\n",
      "  --- Energy: 0.29318625916063 ---\n",
      "Calculating time step  81\n",
      "  --- Energy: 0.29289102690733404 ---\n",
      "Calculating time step  82\n",
      "  --- Energy: 0.292952697472796 ---\n",
      "Calculating time step  83\n",
      "  --- Energy: 0.2932787948449121 ---\n",
      "Calculating time step  84\n",
      "  --- Energy: 0.2929696959200043 ---\n",
      "Calculating time step  85\n",
      "  --- Energy: 0.29239344972311776 ---\n",
      "Calculating time step  86\n",
      "  --- Energy: 0.29262408644370264 ---\n",
      "Calculating time step  87\n",
      "  --- Energy: 0.2932302140898347 ---\n",
      "Calculating time step  88\n",
      "  --- Energy: 0.29332091425830936 ---\n",
      "Calculating time step  89\n",
      "  --- Energy: 0.2930541554766604 ---\n",
      "Calculating time step  90\n",
      "  --- Energy: 0.29295685644181574 ---\n",
      "Calculating time step  91\n",
      "  --- Energy: 0.2929051515091141 ---\n",
      "Calculating time step  92\n",
      "  --- Energy: 0.29255350227116245 ---\n",
      "Calculating time step  93\n",
      "  --- Energy: 0.2924719467379821 ---\n",
      "Calculating time step  94\n",
      "  --- Energy: 0.2930863806438349 ---\n",
      "Calculating time step  95\n",
      "  --- Energy: 0.29364825540346057 ---\n",
      "Calculating time step  96\n",
      "  --- Energy: 0.2938085529065139 ---\n",
      "Calculating time step  97\n",
      "  --- Energy: 0.2935077704056661 ---\n",
      "Calculating time step  98\n",
      "  --- Energy: 0.2928050360279923 ---\n",
      "Calculating time step  99\n",
      "  --- Energy: 0.292504827130329 ---\n",
      "Wrote coordinates to example1d.xyz\n",
      "Done!\n",
      " "
     ]
    }
   ],
   "source": [
    "%prun main()"
   ]
  },
  {
   "cell_type": "markdown",
   "metadata": {},
   "source": [
    "<div class=\"alert alert-block alert-info\"><b>How much memory is Jupyter using during the simulation? Load the `memory_profiler` extension and use `%memit` to view the peak memory consumption."
   ]
  },
  {
   "cell_type": "code",
   "execution_count": 59,
   "metadata": {
    "ExecuteTime": {
     "end_time": "2019-01-29T09:10:43.919304Z",
     "start_time": "2019-01-29T09:10:43.916768Z"
    }
   },
   "outputs": [
    {
     "name": "stdout",
     "output_type": "stream",
     "text": [
      "The memory_profiler extension is already loaded. To reload it, use:\n",
      "  %reload_ext memory_profiler\n"
     ]
    }
   ],
   "source": [
    "%load_ext memory_profiler"
   ]
  },
  {
   "cell_type": "code",
   "execution_count": 60,
   "metadata": {
    "ExecuteTime": {
     "end_time": "2019-01-29T09:10:45.398789Z",
     "start_time": "2019-01-29T09:10:45.054197Z"
    }
   },
   "outputs": [
    {
     "name": "stdout",
     "output_type": "stream",
     "text": [
      "Generating position, force and velocity for particle 0\n",
      "Generating position, force and velocity for particle 1\n",
      "Generating position, force and velocity for particle 2\n",
      "Generating position, force and velocity for particle 3\n",
      "Generating position, force and velocity for particle 4\n",
      "Generating position, force and velocity for particle 5\n",
      "Generating position, force and velocity for particle 6\n",
      "Generating position, force and velocity for particle 7\n",
      "Generating position, force and velocity for particle 8\n",
      "Generating position, force and velocity for particle 9\n",
      "Generating position, force and velocity for particle 10\n",
      "Generating position, force and velocity for particle 11\n",
      "Generating position, force and velocity for particle 12\n",
      "Generating position, force and velocity for particle 13\n",
      "Generating position, force and velocity for particle 14\n",
      "Generating position, force and velocity for particle 15\n",
      "Generating position, force and velocity for particle 16\n",
      "Generating position, force and velocity for particle 17\n",
      "Generating position, force and velocity for particle 18\n",
      "Generating position, force and velocity for particle 19\n",
      "Generating position, force and velocity for particle 20\n",
      "Generating position, force and velocity for particle 21\n",
      "Generating position, force and velocity for particle 22\n",
      "Generating position, force and velocity for particle 23\n",
      "Generating position, force and velocity for particle 24\n",
      "Generating position, force and velocity for particle 25\n",
      "Generating position, force and velocity for particle 26\n",
      "Generating position, force and velocity for particle 27\n",
      "Generating position, force and velocity for particle 28\n",
      "Generating position, force and velocity for particle 29\n",
      "Generating position, force and velocity for particle 30\n",
      "Generating position, force and velocity for particle 31\n",
      "Generating position, force and velocity for particle 32\n",
      "Generating position, force and velocity for particle 33\n",
      "Generating position, force and velocity for particle 34\n",
      "Generating position, force and velocity for particle 35\n",
      "Calculating time step  0\n",
      "  --- Energy: 0.295587133083364 ---\n",
      "Calculating time step  1\n",
      "  --- Energy: 0.29673728982175146 ---\n",
      "Calculating time step  2\n",
      "  --- Energy: 0.2995608804473999 ---\n",
      "Calculating time step  3\n",
      "  --- Energy: 0.3033041893909243 ---\n",
      "Calculating time step  4\n",
      "  --- Energy: 0.30506447095798633 ---\n",
      "Calculating time step  5\n",
      "  --- Energy: 0.3033375314391922 ---\n",
      "Calculating time step  6\n",
      "  --- Energy: 0.30070352887420215 ---\n",
      "Calculating time step  7\n",
      "  --- Energy: 0.29925083190686086 ---\n",
      "Calculating time step  8\n",
      "  --- Energy: 0.29881918642820726 ---\n",
      "Calculating time step  9\n",
      "  --- Energy: 0.2987509651017007 ---\n",
      "Calculating time step  10\n",
      "  --- Energy: 0.2991118519532203 ---\n",
      "Calculating time step  11\n",
      "  --- Energy: 0.30053010618252757 ---\n",
      "Calculating time step  12\n",
      "  --- Energy: 0.3023007390521848 ---\n",
      "Calculating time step  13\n",
      "  --- Energy: 0.30181151922311955 ---\n",
      "Calculating time step  14\n",
      "  --- Energy: 0.29908082564170857 ---\n",
      "Calculating time step  15\n",
      "  --- Energy: 0.29754381971541766 ---\n",
      "Calculating time step  16\n",
      "  --- Energy: 0.2984661805009676 ---\n",
      "Calculating time step  17\n",
      "  --- Energy: 0.30027962803930675 ---\n",
      "Calculating time step  18\n",
      "  --- Energy: 0.3018222177322095 ---\n",
      "Calculating time step  19\n",
      "  --- Energy: 0.3021932036071174 ---\n",
      "Calculating time step  20\n",
      "  --- Energy: 0.30107428276501225 ---\n",
      "Calculating time step  21\n",
      "  --- Energy: 0.2997552617531206 ---\n",
      "Calculating time step  22\n",
      "  --- Energy: 0.2991735012503853 ---\n",
      "Calculating time step  23\n",
      "  --- Energy: 0.29922943292765614 ---\n",
      "Calculating time step  24\n",
      "  --- Energy: 0.29962452962132574 ---\n",
      "Calculating time step  25\n",
      "  --- Energy: 0.3001821565711885 ---\n",
      "Calculating time step  26\n",
      "  --- Energy: 0.3008689635484762 ---\n",
      "Calculating time step  27\n",
      "  --- Energy: 0.30155992089131467 ---\n",
      "Calculating time step  28\n",
      "  --- Energy: 0.30155891246360333 ---\n",
      "Calculating time step  29\n",
      "  --- Energy: 0.30032787698355407 ---\n",
      "Calculating time step  30\n",
      "  --- Energy: 0.2989103613353097 ---\n",
      "Calculating time step  31\n",
      "  --- Energy: 0.29914452123087665 ---\n",
      "Calculating time step  32\n",
      "  --- Energy: 0.3005434690007781 ---\n",
      "Calculating time step  33\n",
      "  --- Energy: 0.3006598795233624 ---\n",
      "Calculating time step  34\n",
      "  --- Energy: 0.2997000197805412 ---\n",
      "Calculating time step  35\n",
      "  --- Energy: 0.2993911157427715 ---\n",
      "Calculating time step  36\n",
      "  --- Energy: 0.2997891380164181 ---\n",
      "Calculating time step  37\n",
      "  --- Energy: 0.3005199710117448 ---\n",
      "Calculating time step  38\n",
      "  --- Energy: 0.3013715059809111 ---\n",
      "Calculating time step  39\n",
      "  --- Energy: 0.3017197360098408 ---\n",
      "Calculating time step  40\n",
      "  --- Energy: 0.30119577563762184 ---\n",
      "Calculating time step  41\n",
      "  --- Energy: 0.30020858840751846 ---\n",
      "Calculating time step  42\n",
      "  --- Energy: 0.299481339758867 ---\n",
      "Calculating time step  43\n",
      "  --- Energy: 0.2993816406691869 ---\n",
      "Calculating time step  44\n",
      "  --- Energy: 0.3001185109462815 ---\n",
      "Calculating time step  45\n",
      "  --- Energy: 0.30143834232630307 ---\n",
      "Calculating time step  46\n",
      "  --- Energy: 0.30196823068043727 ---\n",
      "Calculating time step  47\n",
      "  --- Energy: 0.30095140773795914 ---\n",
      "Calculating time step  48\n",
      "  --- Energy: 0.2996699189693297 ---\n",
      "Calculating time step  49\n",
      "  --- Energy: 0.29942431205049974 ---\n",
      "Calculating time step  50\n",
      "  --- Energy: 0.2999570962642873 ---\n",
      "Calculating time step  51\n",
      "  --- Energy: 0.3004404818749948 ---\n",
      "Calculating time step  52\n",
      "  --- Energy: 0.3006661063939225 ---\n",
      "Calculating time step  53\n",
      "  --- Energy: 0.3010098800187257 ---\n",
      "Calculating time step  54\n",
      "  --- Energy: 0.3016835998877535 ---\n",
      "Calculating time step  55\n",
      "  --- Energy: 0.3021748365149927 ---\n",
      "Calculating time step  56\n",
      "  --- Energy: 0.30171101310221854 ---\n",
      "Calculating time step  57\n",
      "  --- Energy: 0.3004076000868367 ---\n",
      "Calculating time step  58\n",
      "  --- Energy: 0.29917971716851793 ---\n",
      "Calculating time step  59\n",
      "  --- Energy: 0.29868501475087034 ---\n",
      "Calculating time step  60\n",
      "  --- Energy: 0.29917076602010717 ---\n",
      "Calculating time step  61\n",
      "  --- Energy: 0.3007257949545461 ---\n",
      "Calculating time step  62\n",
      "  --- Energy: 0.30238455651857 ---\n",
      "Calculating time step  63\n",
      "  --- Energy: 0.30222906029527247 ---\n",
      "Calculating time step  64\n",
      "  --- Energy: 0.30043795101074067 ---\n",
      "Calculating time step  65\n",
      "  --- Energy: 0.29887688794647915 ---\n",
      "Calculating time step  66\n",
      "  --- Energy: 0.29839695700097585 ---\n",
      "Calculating time step  67\n",
      "  --- Energy: 0.2992014875807664 ---\n",
      "Calculating time step  68\n",
      "  --- Energy: 0.30082850796373234 ---\n",
      "Calculating time step  69\n",
      "  --- Energy: 0.3020335894803871 ---\n",
      "Calculating time step  70\n",
      "  --- Energy: 0.30193386075665596 ---\n",
      "Calculating time step  71\n",
      "  --- Energy: 0.3008210934999901 ---\n",
      "Calculating time step  72\n",
      "  --- Energy: 0.2998873462145955 ---\n",
      "Calculating time step  73\n",
      "  --- Energy: 0.29962202689729667 ---\n",
      "Calculating time step  74\n",
      "  --- Energy: 0.2994844243774163 ---\n",
      "Calculating time step  75\n",
      "  --- Energy: 0.2991258240083149 ---\n",
      "Calculating time step  76\n",
      "  --- Energy: 0.2993552532253881 ---\n",
      "Calculating time step  77\n",
      "  --- Energy: 0.3011266429943118 ---\n",
      "Calculating time step  78\n",
      "  --- Energy: 0.30252561578603515 ---\n",
      "Calculating time step  79\n",
      "  --- Energy: 0.301658635651822 ---\n",
      "Calculating time step  80\n",
      "  --- Energy: 0.30038387858951066 ---\n",
      "Calculating time step  81\n",
      "  --- Energy: 0.29973409821175684 ---\n",
      "Calculating time step  82\n",
      "  --- Energy: 0.29940236764869677 ---\n",
      "Calculating time step  83\n",
      "  --- Energy: 0.2995255301352224 ---\n",
      "Calculating time step  84\n",
      "  --- Energy: 0.3000870218938261 ---\n",
      "Calculating time step  85\n",
      "  --- Energy: 0.3003956724041339 ---\n",
      "Calculating time step  86\n",
      "  --- Energy: 0.30025432623009063 ---\n",
      "Calculating time step  87\n",
      "  --- Energy: 0.2999571413586732 ---\n",
      "Calculating time step  88\n",
      "  --- Energy: 0.2998732785068801 ---\n",
      "Calculating time step  89\n",
      "  --- Energy: 0.3003499974440944 ---\n",
      "Calculating time step  90\n",
      "  --- Energy: 0.3011363614574629 ---\n",
      "Calculating time step  91\n",
      "  --- Energy: 0.3015540062193604 ---\n",
      "Calculating time step  92\n",
      "  --- Energy: 0.3011989994310581 ---\n",
      "Calculating time step  93\n",
      "  --- Energy: 0.30047703588745633 ---\n",
      "Calculating time step  94\n",
      "  --- Energy: 0.3001442549870622 ---\n",
      "Calculating time step  95\n",
      "  --- Energy: 0.30044850521001804 ---\n",
      "Calculating time step  96\n",
      "  --- Energy: 0.3009025147932949 ---\n",
      "Calculating time step  97\n",
      "  --- Energy: 0.3011089144371225 ---\n",
      "Calculating time step  98\n",
      "  --- Energy: 0.301306351861204 ---\n",
      "Calculating time step  99\n",
      "  --- Energy: 0.3015253707173982 ---\n",
      "Wrote coordinates to example1d.xyz\n",
      "Done!\n"
     ]
    },
    {
     "name": "stdout",
     "output_type": "stream",
     "text": [
      "Generating position, force and velocity for particle 0\n",
      "Generating position, force and velocity for particle 1\n",
      "Generating position, force and velocity for particle 2\n",
      "Generating position, force and velocity for particle 3\n",
      "Generating position, force and velocity for particle 4\n",
      "Generating position, force and velocity for particle 5\n",
      "Generating position, force and velocity for particle 6\n",
      "Generating position, force and velocity for particle 7\n",
      "Generating position, force and velocity for particle 8\n",
      "Generating position, force and velocity for particle 9\n",
      "Generating position, force and velocity for particle 10\n",
      "Generating position, force and velocity for particle 11\n",
      "Generating position, force and velocity for particle 12\n",
      "Generating position, force and velocity for particle 13\n",
      "Generating position, force and velocity for particle 14\n",
      "Generating position, force and velocity for particle 15\n",
      "Generating position, force and velocity for particle 16\n",
      "Generating position, force and velocity for particle 17\n",
      "Generating position, force and velocity for particle 18\n",
      "Generating position, force and velocity for particle 19\n",
      "Generating position, force and velocity for particle 20\n",
      "Generating position, force and velocity for particle 21\n",
      "Generating position, force and velocity for particle 22\n",
      "Generating position, force and velocity for particle 23\n",
      "Generating position, force and velocity for particle 24\n",
      "Generating position, force and velocity for particle 25\n",
      "Generating position, force and velocity for particle 26\n",
      "Generating position, force and velocity for particle 27\n",
      "Generating position, force and velocity for particle 28\n",
      "Generating position, force and velocity for particle 29\n",
      "Generating position, force and velocity for particle 30\n",
      "Generating position, force and velocity for particle 31\n",
      "Generating position, force and velocity for particle 32\n",
      "Generating position, force and velocity for particle 33\n",
      "Generating position, force and velocity for particle 34\n",
      "Generating position, force and velocity for particle 35\n",
      "Calculating time step  0\n",
      "  --- Energy: 0.29194086226616706 ---\n",
      "Calculating time step  1\n",
      "  --- Energy: 0.2924770659346659 ---\n",
      "Calculating time step  2\n",
      "  --- Energy: 0.2943457812089247 ---\n",
      "Calculating time step  3\n",
      "  --- Energy: 0.2968454948973908 ---\n",
      "Calculating time step  4\n",
      "  --- Energy: 0.2980021214567472 ---\n",
      "Calculating time step  5\n",
      "  --- Energy: 0.2966688208330251 ---\n",
      "Calculating time step  6\n",
      "  --- Energy: 0.2945694174030055 ---\n",
      "Calculating time step  7\n",
      "  --- Energy: 0.2938763112630611 ---\n",
      "Calculating time step  8\n",
      "  --- Energy: 0.29467014516085777 ---\n",
      "Calculating time step  9\n",
      "  --- Energy: 0.2955485240787556 ---\n",
      "Calculating time step  10\n",
      "  --- Energy: 0.29553054984515315 ---\n",
      "Calculating time step  11\n",
      "  --- Energy: 0.295201601985591 ---\n",
      "Calculating time step  12\n",
      "  --- Energy: 0.29534046757245913 ---\n",
      "Calculating time step  13\n",
      "  --- Energy: 0.2956298512020012 ---\n",
      "Calculating time step  14\n",
      "  --- Energy: 0.29536164355366523 ---\n",
      "Calculating time step  15\n",
      "  --- Energy: 0.2943730781079236 ---\n",
      "Calculating time step  16\n",
      "  --- Energy: 0.29349903823090373 ---\n",
      "Calculating time step  17\n",
      "  --- Energy: 0.2940212836538361 ---\n",
      "Calculating time step  18\n",
      "  --- Energy: 0.295814421582161 ---\n",
      "Calculating time step  19\n",
      "  --- Energy: 0.2965113940822641 ---\n",
      "Calculating time step  20\n",
      "  --- Energy: 0.29524912739353215 ---\n",
      "Calculating time step  21\n",
      "  --- Energy: 0.2939985290249901 ---\n",
      "Calculating time step  22\n",
      "  --- Energy: 0.293966342178406 ---\n",
      "Calculating time step  23\n",
      "  --- Energy: 0.29488634056590224 ---\n",
      "Calculating time step  24\n",
      "  --- Energy: 0.29571969823457467 ---\n",
      "Calculating time step  25\n",
      "  --- Energy: 0.29552925132541386 ---\n",
      "Calculating time step  26\n",
      "  --- Energy: 0.2947468631340844 ---\n",
      "Calculating time step  27\n",
      "  --- Energy: 0.2943966324091738 ---\n",
      "Calculating time step  28\n",
      "  --- Energy: 0.29461449272062673 ---\n",
      "Calculating time step  29\n",
      "  --- Energy: 0.295074016196047 ---\n",
      "Calculating time step  30\n",
      "  --- Energy: 0.29562267952875015 ---\n",
      "Calculating time step  31\n",
      "  --- Energy: 0.29564244027488734 ---\n",
      "Calculating time step  32\n",
      "  --- Energy: 0.29501787948456776 ---\n",
      "Calculating time step  33\n",
      "  --- Energy: 0.29474104889943437 ---\n",
      "Calculating time step  34\n",
      "  --- Energy: 0.2951220097967716 ---\n",
      "Calculating time step  35\n",
      "  --- Energy: 0.2955681355926412 ---\n",
      "Calculating time step  36\n",
      "  --- Energy: 0.29560630236002566 ---\n",
      "Calculating time step  37\n",
      "  --- Energy: 0.2952805313086126 ---\n",
      "Calculating time step  38\n",
      "  --- Energy: 0.29473485312569814 ---\n",
      "Calculating time step  39\n",
      "  --- Energy: 0.29417031988546444 ---\n",
      "Calculating time step  40\n",
      "  --- Energy: 0.2941621104326823 ---\n",
      "Calculating time step  41\n",
      "  --- Energy: 0.2952668132320792 ---\n",
      "Calculating time step  42\n",
      "  --- Energy: 0.2966453487907656 ---\n",
      "Calculating time step  43\n",
      "  --- Energy: 0.2964821704661177 ---\n",
      "Calculating time step  44\n",
      "  --- Energy: 0.294899939983994 ---\n",
      "Calculating time step  45\n",
      "  --- Energy: 0.2934298351221803 ---\n",
      "Calculating time step  46\n",
      "  --- Energy: 0.2930617631423045 ---\n",
      "Calculating time step  47\n",
      "  --- Energy: 0.2941662766730343 ---\n",
      "Calculating time step  48\n",
      "  --- Energy: 0.2960472855018322 ---\n",
      "Calculating time step  49\n",
      "  --- Energy: 0.29669739580247895 ---\n",
      "Calculating time step  50\n",
      "  --- Energy: 0.2954360172867164 ---\n",
      "Calculating time step  51\n",
      "  --- Energy: 0.29410714375714897 ---\n",
      "Calculating time step  52\n",
      "  --- Energy: 0.2940487866693035 ---\n",
      "Calculating time step  53\n",
      "  --- Energy: 0.2949231738258449 ---\n",
      "Calculating time step  54\n",
      "  --- Energy: 0.2955264413884424 ---\n",
      "Calculating time step  55\n",
      "  --- Energy: 0.2950760181449448 ---\n",
      "Calculating time step  56\n",
      "  --- Energy: 0.29422947786723014 ---\n",
      "Calculating time step  57\n",
      "  --- Energy: 0.2941825805161943 ---\n",
      "Calculating time step  58\n",
      "  --- Energy: 0.29518943465975184 ---\n",
      "Calculating time step  59\n",
      "  --- Energy: 0.2962635909395732 ---\n",
      "Calculating time step  60\n",
      "  --- Energy: 0.29628181883488713 ---\n",
      "Calculating time step  61\n",
      "  --- Energy: 0.29524597227368654 ---\n",
      "Calculating time step  62\n",
      "  --- Energy: 0.29424789636709314 ---\n",
      "Calculating time step  63\n",
      "  --- Energy: 0.29421015724959293 ---\n",
      "Calculating time step  64\n",
      "  --- Energy: 0.29486896064453894 ---\n",
      "Calculating time step  65\n",
      "  --- Energy: 0.2951335323039371 ---\n",
      "Calculating time step  66\n",
      "  --- Energy: 0.29447545332155683 ---\n",
      "Calculating time step  67\n",
      "  --- Energy: 0.2938788296229428 ---\n",
      "Calculating time step  68\n",
      "  --- Energy: 0.2947652869332053 ---\n",
      "Calculating time step  69\n",
      "  --- Energy: 0.2959346572592294 ---\n",
      "Calculating time step  70\n",
      "  --- Energy: 0.2951926661515282 ---\n",
      "Calculating time step  71\n",
      "  --- Energy: 0.2942750298821849 ---\n",
      "Calculating time step  72\n",
      "  --- Energy: 0.2946552206394334 ---\n",
      "Calculating time step  73\n",
      "  --- Energy: 0.29554342262893574 ---\n",
      "Calculating time step  74\n",
      "  --- Energy: 0.2959755826783053 ---\n",
      "Calculating time step  75\n",
      "  --- Energy: 0.2955940914806701 ---\n",
      "Calculating time step  76\n",
      "  --- Energy: 0.29458411038243165 ---\n",
      "Calculating time step  77\n",
      "  --- Energy: 0.29373152655917 ---\n",
      "Calculating time step  78\n",
      "  --- Energy: 0.2939030877496851 ---\n",
      "Calculating time step  79\n",
      "  --- Energy: 0.29490983266457366 ---\n",
      "Calculating time step  80\n",
      "  --- Energy: 0.29548236335444766 ---\n",
      "Calculating time step  81\n",
      "  --- Energy: 0.29517559606341165 ---\n",
      "Calculating time step  82\n",
      "  --- Energy: 0.29470962449459037 ---\n",
      "Calculating time step  83\n",
      "  --- Energy: 0.29438789924937514 ---\n",
      "Calculating time step  84\n",
      "  --- Energy: 0.2942902083906353 ---\n",
      "Calculating time step  85\n",
      "  --- Energy: 0.2946048286641794 ---\n",
      "Calculating time step  86\n",
      "  --- Energy: 0.2950744692420553 ---\n",
      "Calculating time step  87\n",
      "  --- Energy: 0.29510946250816894 ---\n",
      "Calculating time step  88\n",
      "  --- Energy: 0.2946934306936668 ---\n",
      "Calculating time step  89\n",
      "  --- Energy: 0.2944739417603923 ---\n",
      "Calculating time step  90\n",
      "  --- Energy: 0.2946840547891616 ---\n",
      "Calculating time step  91\n",
      "  --- Energy: 0.2949329747063907 ---\n",
      "Calculating time step  92\n",
      "  --- Energy: 0.29510623278120257 ---\n",
      "Calculating time step  93\n",
      "  --- Energy: 0.29542408453022573 ---\n",
      "Calculating time step  94\n",
      "  --- Energy: 0.295726071202429 ---\n",
      "Calculating time step  95\n",
      "  --- Energy: 0.29571843698259964 ---\n",
      "Calculating time step  96\n",
      "  --- Energy: 0.2953981777975726 ---\n",
      "Calculating time step  97\n",
      "  --- Energy: 0.29464543734620346 ---\n",
      "Calculating time step  98\n",
      "  --- Energy: 0.2933747553351334 ---\n",
      "Calculating time step  99\n",
      "  --- Energy: 0.2922453261489227 ---\n",
      "Wrote coordinates to example1d.xyz\n",
      "Done!\n",
      "peak memory: 761.68 MiB, increment: 0.02 MiB\n"
     ]
    }
   ],
   "source": [
    "%memit main()"
   ]
  },
  {
   "cell_type": "markdown",
   "metadata": {
    "ExecuteTime": {
     "end_time": "2019-01-10T19:15:45.795565Z",
     "start_time": "2019-01-10T19:15:45.792387Z"
    }
   },
   "source": [
    "## MD analysis"
   ]
  },
  {
   "cell_type": "markdown",
   "metadata": {},
   "source": [
    "### Plotting"
   ]
  },
  {
   "cell_type": "code",
   "execution_count": 48,
   "metadata": {
    "ExecuteTime": {
     "end_time": "2019-01-29T07:34:28.992981Z",
     "start_time": "2019-01-29T07:34:28.989760Z"
    }
   },
   "outputs": [
    {
     "name": "stderr",
     "output_type": "stream",
     "text": [
      "UsageError: unrecognized arguments: #magic function that displays graphs in Jupyter\n"
     ]
    }
   ],
   "source": [
    "import matplotlib.pyplot as plt\n",
    "%matplotlib inline #magic function that displays graphs in Jupyter"
   ]
  },
  {
   "cell_type": "markdown",
   "metadata": {},
   "source": [
    "Plotting is very simple if all you want is simple plots. Try plotting your total energies and temperatures over time."
   ]
  },
  {
   "cell_type": "code",
   "execution_count": 49,
   "metadata": {
    "ExecuteTime": {
     "end_time": "2019-01-29T07:34:29.870727Z",
     "start_time": "2019-01-29T07:34:29.755332Z"
    }
   },
   "outputs": [
    {
     "data": {
      "text/plain": [
       "[<matplotlib.lines.Line2D at 0x7fae3e456ef0>]"
      ]
     },
     "execution_count": 49,
     "metadata": {},
     "output_type": "execute_result"
    },
    {
     "data": {
      "image/png": "[encoded data removed]",
      "text/plain": [
       "<Figure size 432x288 with 1 Axes>"
      ]
     },
     "metadata": {
      "needs_background": "light"
     },
     "output_type": "display_data"
    }
   ],
   "source": [
    "plt.plot(sim1d.energies_total)"
   ]
  },
  {
   "cell_type": "markdown",
   "metadata": {},
   "source": [
    "Almost every Python plotting package is built on matplotlib, including seaborn (below). matplotlib is very powerful and flexible; unfortunately, that also makes it very finicky. Try changing the formatting below. [You can find documentation here.](https://matplotlib.org/api/_as_gen/matplotlib.pyplot.plot.html)"
   ]
  },
  {
   "cell_type": "code",
   "execution_count": 50,
   "metadata": {
    "ExecuteTime": {
     "end_time": "2019-01-29T07:34:31.507443Z",
     "start_time": "2019-01-29T07:34:31.402343Z"
    }
   },
   "outputs": [
    {
     "data": {
      "text/plain": [
       "[<matplotlib.lines.Line2D at 0x7fae3392fc88>]"
      ]
     },
     "execution_count": 50,
     "metadata": {},
     "output_type": "execute_result"
    },
    {
     "data": {
      "image/png": "[encoded data removed]",
      "text/plain": [
       "<Figure size 432x288 with 1 Axes>"
      ]
     },
     "metadata": {
      "needs_background": "light"
     },
     "output_type": "display_data"
    }
   ],
   "source": [
    "plt.plot(sim1d.energies_total[1:], color='green', marker='o',\n",
    "        linestyle='dashed', linewidth=2, markersize=12,\n",
    "        markeredgecolor='blue', markerfacecolor='red')"
   ]
  },
  {
   "cell_type": "markdown",
   "metadata": {},
   "source": [
    "Seaborn is a library with a smoother interface and documentation. [Here is an example gallery of potential plots you can make.](https://seaborn.pydata.org/examples/index.html) For now we'll make the same line plot as in matplotlib, although Seaborn requires x-values. (This may throw an error if your `energies_total` list is a different length than the number of steps)."
   ]
  },
  {
   "cell_type": "code",
   "execution_count": 51,
   "metadata": {
    "ExecuteTime": {
     "end_time": "2019-01-29T07:34:33.781331Z",
     "start_time": "2019-01-29T07:34:33.656487Z"
    },
    "scrolled": true
   },
   "outputs": [
    {
     "data": {
      "text/plain": [
       "<matplotlib.axes._subplots.AxesSubplot at 0x7fae54149390>"
      ]
     },
     "execution_count": 51,
     "metadata": {},
     "output_type": "execute_result"
    },
    {
     "data": {
      "image/png": "[encoded data removed]",
      "text/plain": [
       "<Figure size 432x288 with 1 Axes>"
      ]
     },
     "metadata": {
      "needs_background": "light"
     },
     "output_type": "display_data"
    }
   ],
   "source": [
    "import seaborn as sns\n",
    "x = list(range(sim1d.n_steps))\n",
    "sns.lineplot(x, sim1d.energies_total)"
   ]
  },
  {
   "cell_type": "markdown",
   "metadata": {},
   "source": [
    "One of the best parts about Seaborn is how easy it is to do statistical visualisations. Try plotting a univariate kernel density estimate:"
   ]
  },
  {
   "cell_type": "code",
   "execution_count": 52,
   "metadata": {
    "ExecuteTime": {
     "end_time": "2019-01-29T07:34:45.028717Z",
     "start_time": "2019-01-29T07:34:44.926263Z"
    }
   },
   "outputs": [
    {
     "name": "stderr",
     "output_type": "stream",
     "text": [
      "/home/lily/anaconda3/envs/ccpy36/lib/python3.6/site-packages/scipy/stats/stats.py:1713: FutureWarning: Using a non-tuple sequence for multidimensional indexing is deprecated; use `arr[tuple(seq)]` instead of `arr[seq]`. In the future this will be interpreted as an array index, `arr[np.array(seq)]`, which will result either in an error or a different result.\n",
      "  return np.add.reduce(sorted[indexer] * weights, axis=axis) / sumval\n"
     ]
    },
    {
     "data": {
      "text/plain": [
       "<matplotlib.axes._subplots.AxesSubplot at 0x7fae3e475710>"
      ]
     },
     "execution_count": 52,
     "metadata": {},
     "output_type": "execute_result"
    },
    {
     "data": {
      "image/png": "[encoded data removed]",
      "text/plain": [
       "<Figure size 432x288 with 1 Axes>"
      ]
     },
     "metadata": {
      "needs_background": "light"
     },
     "output_type": "display_data"
    }
   ],
   "source": [
    "sns.kdeplot(sim1d.energies_total)"
   ]
  },
  {
   "cell_type": "markdown",
   "metadata": {},
   "source": [
    "Or bivariate:"
   ]
  },
  {
   "cell_type": "code",
   "execution_count": 53,
   "metadata": {
    "ExecuteTime": {
     "end_time": "2019-01-29T07:35:01.778930Z",
     "start_time": "2019-01-29T07:35:01.256749Z"
    }
   },
   "outputs": [
    {
     "data": {
      "text/plain": [
       "<matplotlib.axes._subplots.AxesSubplot at 0x7fae474f1f28>"
      ]
     },
     "execution_count": 53,
     "metadata": {},
     "output_type": "execute_result"
    },
    {
     "data": {
      "image/png": "[encoded data removed]",
      "text/plain": [
       "<Figure size 432x288 with 1 Axes>"
      ]
     },
     "metadata": {
      "needs_background": "light"
     },
     "output_type": "display_data"
    }
   ],
   "source": [
    "sns.kdeplot(sim1d.energies_total, sim1d.temperatures)"
   ]
  },
  {
   "cell_type": "markdown",
   "metadata": {},
   "source": [
    "### Averages, standard deviations, etc"
   ]
  },
  {
   "cell_type": "markdown",
   "metadata": {},
   "source": [
    "There are a few methods to make life easier when analysing data in lists:"
   ]
  },
  {
   "cell_type": "code",
   "execution_count": 54,
   "metadata": {
    "ExecuteTime": {
     "end_time": "2019-01-29T07:35:06.758641Z",
     "start_time": "2019-01-29T07:35:06.754314Z"
    }
   },
   "outputs": [],
   "source": [
    "avg = sum(sim1d.energies_total)/sim1d.n_steps"
   ]
  },
  {
   "cell_type": "markdown",
   "metadata": {},
   "source": [
    "Or you could convert it to an array and take advantage of NumPy's many functionalities:"
   ]
  },
  {
   "cell_type": "code",
   "execution_count": 56,
   "metadata": {
    "ExecuteTime": {
     "end_time": "2019-01-29T07:35:15.986239Z",
     "start_time": "2019-01-29T07:35:15.979182Z"
    }
   },
   "outputs": [],
   "source": [
    "import numpy as np\n",
    "avg = np.array(sim1d.energies_total).mean()"
   ]
  },
  {
   "cell_type": "code",
   "execution_count": null,
   "metadata": {},
   "outputs": [],
   "source": []
  }
 ],
 "metadata": {
  "kernelspec": {
   "display_name": "ccpy36",
   "language": "python",
   "name": "ccpy36"
  },
  "language_info": {
   "codemirror_mode": {
    "name": "ipython",
    "version": 3
   },
   "file_extension": ".py",
   "mimetype": "text/x-python",
   "name": "python",
   "nbconvert_exporter": "python",
   "pygments_lexer": "ipython3",
   "version": "3.6.8"
  },
  "toc": {
   "base_numbering": 1,
   "nav_menu": {},
   "number_sections": true,
   "sideBar": true,
   "skip_h1_title": false,
   "title_cell": "Table of Contents",
   "title_sidebar": "Contents",
   "toc_cell": false,
   "toc_position": {
    "height": "602.5px",
    "left": "54.15px",
    "top": "110.633px",
    "width": "165px"
   },
   "toc_section_display": true,
   "toc_window_display": true
  }
 },
 "nbformat": 4,
 "nbformat_minor": 2
}
