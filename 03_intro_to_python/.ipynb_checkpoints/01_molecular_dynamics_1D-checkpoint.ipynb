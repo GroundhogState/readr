{
 "cells": [
  {
   "cell_type": "markdown",
   "metadata": {},
   "source": [
    "# Molecular dynamics in Python: Lists upon lists"
   ]
  },
  {
   "cell_type": "markdown",
   "metadata": {},
   "source": [
    "In this workshop you'll write a molecular dynamics simulator of a 1-dimensional system. We'll profile the code performance and do some very basic analysis of the results.\n",
    "\n",
    "If you feel you need a refresher or reference to keep up with all the Python being thrown around, there is a short summary in `00_basics_of_python.ipynb`.\n",
    "\n",
    "If you're having trouble with an error message, Googling the message is usually the fastest way to a solution. Results from StackOverflow are particularly helpful.\n",
    "\n",
    "\n",
    "There's a lot of words here about molecular dynamics, but that is mostly window-dressing for the Python. Those of you with Jupyter Nbextensions installed and Collapsible Headings turned on will be able to hide or show explanations as desired. The colour-coding here is as follows:\n",
    "\n",
    "<div class=\"alert alert-block alert-warning\">&#x1F4DC;  &nbsp; Molecular dynamics explanation &nbsp; &#x1F4DC;</div>\n",
    "\n",
    "<div class=\"alert alert-block alert-success\">&#x1F40D;  &nbsp; Explanation of previous Python &nbsp; &#x1F40D; </div>\n",
    "\n",
    "<div class=\"alert alert-block alert-info\"><b>To do</b></div>\n",
    "\n",
    "<div class=\"alert alert-block alert-info\"><b><div class=\"alert alert-block alert-warning\"> Python Tip </div></b></div>"
   ]
  },
  {
   "cell_type": "markdown",
   "metadata": {},
   "source": [
    "## Background"
   ]
  },
  {
   "cell_type": "markdown",
   "metadata": {},
   "source": [
    "Molecular dynamics (MD) is a branch of computational chemistry that simulates the movements of atoms to study chemical interactions over time at the atomic level. These simulations are calculated by solving Newton's equations of motion for discrete steps in time. Forces and potential energies are calculated using interatomic potentials (as in this workshop) or force fields. "
   ]
  },
  {
   "cell_type": "markdown",
   "metadata": {},
   "source": [
    "## Lennard-Jones Potential"
   ]
  },
  {
   "cell_type": "markdown",
   "metadata": {},
   "source": [
    "The code here uses the Lennard-Jones potential below to model inter-particle interactions, where $r_{ij}$ represents the distance between atom $i$ and atom $j$.\n",
    "\n",
    "$$\n",
    "\\begin{equation}\n",
    "E^{LJ}(r_{ij}) = 4\\epsilon\\big[\\big(\\frac{\\sigma}{r_{ij}}\\big)^{12}-\\big(\\frac{\\sigma}{r_{ij}}\\big)^{6}\\big]\n",
    "\\end{equation}$$\n",
    "\n",
    "<img src=\"files/lj_graph.png\" width=\"400px\">\n",
    "<a href=\"https://en.wikibooks.org/wiki/Molecular_Simulation/The_Lennard-Jones_Potential#/media/File:Schematic_of_the_Lennard-Jones_6-12_Potential.png\">(Figure created by Christophe Rowley)</a>\n",
    "\n",
    "\n",
    "We use dimensionless units throughout the code to  simplify the equation. Redefining the energy $E^{LJ}$ in terms of length $\\sigma$, energy $\\epsilon$, and mass $m$ gives us:\n",
    "$$\n",
    "\\begin{equation}\n",
    "E^{LJ}(r_{ij}) = 4\\big[r^{12} - r^6\\big]^{-1}\n",
    "\\end{equation}$$\n",
    "</div>\n",
    "\n",
    "with these physical properties:\n",
    "\n",
    "| Property | Symbol | Reduced form |\n",
    "| --- | --- | --- |\n",
    "| Distance | $r$ | $r/\\sigma$ |\n",
    "|   Time   | $t$ | $t(\\epsilon/m \\sigma^2)^{\\frac{1}{2}}$ |\n",
    "| Temperature | $T$ | $k_BT/\\epsilon$ |\n",
    "| Force | $f$ | $f\\sigma/\\epsilon$ |\n",
    "| Energy | $E$ | $E/\\epsilon$ |\n",
    "| Pressure | $P$ | $P\\sigma^3/\\epsilon$ |\n",
    "| Density | $\\rho$ | $\\sigma^3\\rho/m$ |\n",
    "\n",
    "$k_B$ represents the Boltzmann constant, $1.38 x 10^{-23} m^2 kg s^{-2} K^{-1}$."
   ]
  },
  {
   "cell_type": "markdown",
   "metadata": {},
   "source": [
    "## Python"
   ]
  },
  {
   "cell_type": "markdown",
   "metadata": {
    "ExecuteTime": {
     "end_time": "2018-12-10T22:26:58.777856Z",
     "start_time": "2018-12-10T22:26:58.335965Z"
    }
   },
   "source": [
    "### Class definition"
   ]
  },
  {
   "cell_type": "markdown",
   "metadata": {},
   "source": [
    "The class `MD1D` is defined for you below. Several properties are defined in `__init__`, such as the length of the system. This is required as MD is still a slow process and only a finite system can be simulated in a finite cell. An infinite system is approximated by tiling identical cells, as in the image below. The computer only keeps track of the central one in bold, and particle interactions are only computed between the closest image. \n",
    "\n",
    "\n",
    "\n",
    "<img src=\"files/pbc_labelled.png\" width=\"500px\">\n",
    "<a href=\"https://en.wikipedia.org/wiki/Periodic_boundary_conditions#/media/File:Limiteperiodicite.svg\"> (Figure modified from Grimlock's)</a>"
   ]
  },
  {
   "cell_type": "markdown",
   "metadata": {},
   "source": [
    "#### &#x1F4DC;  &nbsp; Cutoffs &nbsp; &#x1F4DC; <a class=\"tocSkip\">"
   ]
  },
  {
   "cell_type": "markdown",
   "metadata": {},
   "source": [
    "<div>\n",
    "Calculation of interactions between nonbonded particles is by far the most time-consuming part of molecular dynamics, as it scales at $\\mathcal{O}(N^2)$ for $N$ particles. One method to reduce calculations is approximate  all interactions beyond a certain distance cutoff. Here the approximation is that interactions beyond the cutoff contribute nothing to the forces and energies of each particle. <i>Currently the cutoff distance is set to 18, half the cell-length, so all interactions are computed.</i>\n",
    "\n",
    "The squared cutoff-distance is also defined below. This is because when 3D distances are computed they involve square-rooting, an expensive process. It is common to simply compare the squares of distances.\n",
    "$$ d(\\vec{i},\\vec{j}) = \\sqrt{(i_x-j_x)^2 + (i_y-j_y)^2 + (i_z-j_z)^2}$$\n",
    "\n",
    "Finally, a cutoff energy is given. `cutoff_energy` is the potential energy at the cutoff distance. To avoid discontinuities, the Lennard-Jones potential is shifted up by subtracting the `cutoff_energy`. This truncates the potential to 0 at the cutoff distance."
   ]
  },
  {
   "cell_type": "markdown",
   "metadata": {},
   "source": [
    "#### <div class=\"alert alert-block alert-info\"><b>Create lists to hold the temperatures, potential energies, and total energies. Make `cutoff_dist` a keyword argument that you can change when you create an instance of `MD1D`.</b></div><a class='tocSkip'>"
   ]
  },
  {
   "cell_type": "code",
   "execution_count": null,
   "metadata": {
    "ExecuteTime": {
     "end_time": "2019-01-28T21:21:14.185093Z",
     "start_time": "2019-01-28T21:21:14.176763Z"
    },
    "code_folding": []
   },
   "outputs": [],
   "source": [
    "class MD1D:  # Defines a class\n",
    "    def __init__(self, n_steps, x_length = 36.0, n_particles=36):  # Defines instance method __init__\n",
    "        self.n_particles = n_particles  # Number of particles\n",
    "        self.x_length = x_length  # Length of 1D box\n",
    "        self.lattice = self.x_length/self.n_particles  # Spacing\n",
    "        \n",
    "        self.time_step = 0.01  # Integration time step\n",
    "        self.n_steps = n_steps  # Number of steps to take\n",
    "        \n",
    "        self.cutoff_dist = 18.0  # Distance cutoff for computing interactions\n",
    "        self.cutoff_sq = self.cutoff_dist ** 2  # Squared cutoff\n",
    "        self.cutoff_energy =  4 * (self.cutoff_dist ** -12 - self.cutoff_dist ** -6)  # Cutoff energy at r=cutoff_dist\n",
    "        \n",
    "        self.temperature = 0.728\n",
    "        \n",
    "        # Set up lists as empty property containers\n",
    "        self.x_coords = []  # Empty list of length 0\n",
    "        self.velocities = []\n",
    "        self.forces = []\n",
    "        # set up lists for properties below\n",
    "        self.temperatures = ...\n",
    "        self.energies_potential = ...\n",
    "        self.energies_total = ...\n",
    "    \n",
    "    "
   ]
  },
  {
   "cell_type": "markdown",
   "metadata": {},
   "source": [
    "####  &#x1F40D;  &nbsp; What's happening here? &nbsp; &#x1F40D;  <a class=\"tocSkip\">"
   ]
  },
  {
   "cell_type": "markdown",
   "metadata": {},
   "source": [
    "<div class=\"alert alert-block alert-success\">\n",
    "\n",
    "The cell above defines the class `MD1D`. Almost everything in Python is an object, and a class is like a template for objects, or instances, of that class. \n",
    "\n",
    "- `__init__` is the first method called when a new object is created, and it is generally defined to assign all the required attributes of an object needed for operation. Here we are assigning properties of our system that will remain unchanged, and setting up empty lists to track the evolution of the system throughout simulation.\n",
    "\n",
    "\n",
    "- `self` is the first argument of all instance methods defined in the class. When calling instance methods from an object, it is left out since the object is assumed to be `self`. If I wanted to call `__init__` again, for example, it would look like this:\n",
    "```\n",
    "    my_md = MD1D()\n",
    "    my_md.__init__(20, n_particles=100)\n",
    "```\n",
    "\n",
    "\n",
    "- `n_steps` is an argument passed to the function when it's called. It *must* be passed each time, in the correct position (ie first), or you will get an error. `n_particles`, however, is a 'keyword argument'. Its default is 36 and it doesn't matter which order you write your keyword arguments in, so long as you use the `kwarg=value` syntax instead of just `value`.\n",
    "\n",
    "\n",
    "- `**` means to the power of. `x ** y` will calculate $x^y$.\n",
    "</div>"
   ]
  },
  {
   "cell_type": "markdown",
   "metadata": {},
   "source": [
    "#### <div class=\"alert alert-block alert-info\"><b>Create an instance of `MD1D` below and assign it to a variable.</b></div>  <a class=\"tocSkip\">"
   ]
  },
  {
   "cell_type": "code",
   "execution_count": null,
   "metadata": {
    "ExecuteTime": {
     "end_time": "2019-01-26T07:19:42.770355Z",
     "start_time": "2019-01-26T07:19:42.763996Z"
    }
   },
   "outputs": [],
   "source": [
    "my_md1d = MD1D(30, n_particles=3)"
   ]
  },
  {
   "cell_type": "markdown",
   "metadata": {},
   "source": [
    "### Set up initial state"
   ]
  },
  {
   "cell_type": "markdown",
   "metadata": {},
   "source": [
    "Next, you should define the function `setup_system` below where you will set up your simulation system at time=0. This involves the following steps for each particle:\n",
    "\n",
    "1. Generating initial coordinates\n",
    "2. Generating an initial force (0.0 to start off)\n",
    "3. Generating an initial velocity (random to start with)\n",
    "4. Scaling your random velocities to match your desired temperature `self.temperature`\n",
    "5. Generating 'previous' coordinates for each particle for time=`-self.time_step` based on those scaled velocities\n",
    "\n",
    "Steps 1-3 have been done for you, but you will have to collect the properties in lists using methods such as my_`list.append(item)`. You will have to calculate a scale factor for Step 4 in the function `get_scale_factor()` before you can do Steps 4 and 5. Finally, you'll need to append the generated properties to the `md` object.\n"
   ]
  },
  {
   "cell_type": "markdown",
   "metadata": {},
   "source": [
    "#### &#x1F4DC;  &nbsp; `get_scale_factor()`  &nbsp; &#x1F4DC;  <a class=\"tocSkip\">"
   ]
  },
  {
   "cell_type": "markdown",
   "metadata": {},
   "source": [
    "\n",
    "As the initial velocity distribution over your particles is random, we need to scale it to achieve thermal equilibrium using the `scale_factor` variable you will define in the code. In thermal equilibrium, the instantaneous temperature $T(t)$ at time $t$ is related to the velocity $v$ as below. \n",
    "    \n",
    "$$ k_BT(t) = \\sum\\limits_{i=1}^{N} \\frac{mv^2_{\\alpha, i}(t)}{N} $$\n",
    "\n",
    "As we have redefined the system in simplified units and the system is 1-dimensional, this can be reduced to:\n",
    "\n",
    "$$T(t) = \\sum\\limits_{i=1}^{N} \\frac{v^2_{i}(t)}{N}$$\n",
    "\n",
    "If we break down the velocity $v$ into the random velocity $u$ and `scale_factor` $s$ for time $t=0$:\n",
    "\n",
    "$$\\begin{eqnarray}\n",
    "v &=& u_is \\\\\n",
    "T_0 &=& s^2\\sum\\limits_{i=1}^{N} \\frac{u_i^2}{N}\n",
    "\\end{eqnarray}$$\n",
    "\n",
    "In the code, `avg_vsum_sq` represents the sum of squared velocities over the number of particles (which we will shorten to $V_\\sigma$):\n",
    "\n",
    "$$\\begin{eqnarray}\n",
    "\\sum\\limits_{i=1}^{N} \\frac{u_i^2}{N} &=& V_\\sigma\\\\\n",
    "T_0 &=& s^2 V_\\sigma\\\\\n",
    "s &=& \\sqrt{\\frac{T_0}{V_\\sigma}}\n",
    "\\end{eqnarray}$$\n",
    "\n",
    "Therefore your `get_scale_factor` function should use two terms: average sum of squared velocities `avg_vsum_sq`, and the desired temperature at time 0 `self.temperature`.\n",
    "\n",
    "</div>"
   ]
  },
  {
   "cell_type": "markdown",
   "metadata": {},
   "source": [
    "#### &#x1F4DC;  &nbsp; Previous positions  &nbsp; &#x1F4DC;  <a class=\"tocSkip\">"
   ]
  },
  {
   "cell_type": "markdown",
   "metadata": {},
   "source": [
    "In this simulation we are solving Newton's equations numerically with discrete time-steps. The Verlet method uses forces $F=ma$ to calculate positions at the next time-step. Velocities are calculated as midpoints between positions, i.e.\n",
    "$$v_i = \\frac{x_{i+1} - x_{i-1}}{2}$$. \n",
    "\n",
    "Therefore to calculate a velocity at time=0, we need to walk one step back into negative time and calculate the previous positions of those atoms at those velocities. This is done using the less accurate Euler method. \n",
    "\n",
    "The equation is below, where $x$ is the coordinate and $v$ represents the velocity. $\\Delta t$ is the time difference between the two steps, i.e. the time_step.\n",
    "    $$x_{prev} = x_{now} - v_{now}*\\Delta t$$\n",
    "\n",
    "\n",
    "Below is an image of what the `md.x_coords` list will look like when the positions for all the time steps have been added.\n",
    "<img src=\"files/velocities.png\" width=\"500px\">\n",
    "\n"
   ]
  },
  {
   "cell_type": "markdown",
   "metadata": {},
   "source": [
    "#### <div class=\"alert alert-block alert-info\"><b>Write a function that returns the scale factor as defined above.</b></div>  <a class=\"tocSkip\">"
   ]
  },
  {
   "cell_type": "code",
   "execution_count": null,
   "metadata": {
    "ExecuteTime": {
     "end_time": "2019-01-26T08:16:15.870380Z",
     "start_time": "2019-01-26T08:16:15.863645Z"
    }
   },
   "outputs": [],
   "source": [
    "def get_scale_factor(avg_vsum_sq, temperature):\n",
    "    ..."
   ]
  },
  {
   "cell_type": "markdown",
   "metadata": {},
   "source": [
    "<div class=\"alert alert-block alert-info\">\n",
    "<b>\n",
    "    1. Use get_x_position to generate atom positions.<br>\n",
    "    2. Add each atom position, force and velocity to their respective lists.<br>\n",
    "    3. Calculate the previous position.<br>\n",
    "    4. Add the lists for this time, ie time=0, to the md object.<br>\n",
    "</b></div>"
   ]
  },
  {
   "cell_type": "code",
   "execution_count": null,
   "metadata": {
    "ExecuteTime": {
     "end_time": "2019-01-25T00:49:07.631459Z",
     "start_time": "2019-01-25T00:49:07.628938Z"
    }
   },
   "outputs": [],
   "source": [
    "def get_x_position(md, index):\n",
    "    \"\"\" Places each atom at points on the lattice according to the index \"\"\"\n",
    "    position = (index+0.5) * md.lattice_spacing\n",
    "    return position"
   ]
  },
  {
   "cell_type": "code",
   "execution_count": null,
   "metadata": {
    "ExecuteTime": {
     "end_time": "2019-01-26T07:31:40.016766Z",
     "start_time": "2019-01-26T07:31:40.008746Z"
    }
   },
   "outputs": [],
   "source": [
    "import random\n",
    "\n",
    "def setup_system(md):\n",
    "        \"\"\"Initialise system properties at time=0.\"\"\"\n",
    "        \n",
    "        # Initialise empty properties and containers\n",
    "        vsum = 0.0  # sum of velocities\n",
    "        vsum_sq = 0.0  # sum of squared velocities\n",
    "        \n",
    "        x_coords = []  # new list\n",
    "        prev_x_coords = []\n",
    "        forces = []\n",
    "        velocities = []\n",
    "        \n",
    "        # Add particles, forces, and velocities\n",
    "        for i in range(md.n_particles): # for each particle\n",
    "            print(\"Generating position, force and velocity for particle {index}\".format(index=i))\n",
    "            i_x_pos = ...  # use get_x_position to get x position\n",
    "            i_force = 0.0 # starting off without force\n",
    "            i_vel = random.random()-0.5 # random number in range [-0.5, 0.5]\n",
    "            # append each of the above properties to their respective containers\n",
    "            # e.g.\n",
    "            # x_coords.append(i_x_pos)\n",
    "            \n",
    "            vsum += i_vel # x+=y is equivalent to x = x+y\n",
    "            vsum_sq += i_vel ** 2 # x**y is equivalent to x to the power of y\n",
    "        \n",
    "        avg_vsum = vsum/md.n_particles\n",
    "        avg_vsum_sq = vsum_sq/md.n_particles\n",
    "        \n",
    "        # Determine scale factor required for velocities to reach specified temperature\n",
    "        scale_factor = get_scale_factor(avg_vsum_sq, md.temperature)\n",
    "        \n",
    "        # Rescale velocities and generate previous x coordinates \n",
    "        for i in range(md.n_particles):\n",
    "            velocities[i] = (velocities[i]-avg_vsum) * scale_factor\n",
    "            previous_x = ...  # Generate this!\n",
    "            prev_x_coords.append(previous_x)\n",
    "        \n",
    "        # add temporary lists to main lists\n",
    "        md.x_coords.append(prev_x_coords)\n",
    "        md.x_coords.append(x_coords)\n",
    "        # add forces and velocities to main md object!"
   ]
  },
  {
   "cell_type": "markdown",
   "metadata": {},
   "source": [
    "####  &#x1F40D;  &nbsp; What's happening here? &nbsp; &#x1F40D;  <a class=\"tocSkip\">"
   ]
  },
  {
   "cell_type": "markdown",
   "metadata": {},
   "source": [
    "<div class=\"alert alert-block alert-success\">\n",
    "\n",
    "The cell above defines a function to operate on your `MD1D` object. Normally this would be defined within the `class MD1D` code block, with `self` replacing `md` as the first argument, but this workshop has pulled it out for convenience.\n",
    "\n",
    "In the first line we import the module `random`. `import xx` will import a module called `xx` whose methods and classes you can access with `xx.method` or `xx.class`. Here we are using a function, `random()`, that has been defined in the library `random`. It's called in the code with `random.random()`.\n",
    "\n",
    "</div>"
   ]
  },
  {
   "cell_type": "markdown",
   "metadata": {},
   "source": [
    "#### &nbsp;  <a class=\"tocSkip\">\n",
    "<div class=\"alert alert-block alert-info\">\n",
    "    <b>Call setup_system on your instance of `MD1D` and check that: <ul>\n",
    "        <li> the velocities and forces lists are 1 element long\n",
    "        <li> the x_coords list is 2 elements long\n",
    "        <li> the last element of the x_coords list is a list of positions that are evenly spaced along your cell\n",
    " \n",
    " </b>\n",
    " <div class=\"alert alert-block alert-warning\">\n",
    "    \n",
    "   **Tip**\n",
    "   \n",
    "   `len(object)` will return the length of objects that conceivably have lengths, e.g. strings, lists, arrays. `x[y]` will return the y+1th element of x. In Python, indexing starts at 0 so `x[0]` returns the first item.\n",
    "    </div>\n",
    "        </div>"
   ]
  },
  {
   "cell_type": "code",
   "execution_count": null,
   "metadata": {},
   "outputs": [],
   "source": []
  },
  {
   "cell_type": "markdown",
   "metadata": {},
   "source": [
    "### Calculating energies and forces"
   ]
  },
  {
   "cell_type": "markdown",
   "metadata": {},
   "source": [
    "The function `get_forces` is responsible for calculating the force between each particle pair within your `self.cutoff_dist` cutoff, and the total energy of the system at the time. The end result is:\n",
    "\n",
    "1. a list of forces for each particle that accounts for the effect of every other paired particle \n",
    "2. a total energy that is the sum of the energy for every interacting pair of particles.\n",
    "\n",
    "\n",
    "For a Lennard-Jones system in reduced units, the potential energy $E_{LJ}$ can be defined as:\n",
    "\n",
    "$$\n",
    "\\begin{equation}\n",
    "E^{LJ}(r_{ij}) = 4\\big[r^{12} - r^6\\big]\n",
    "\\end{equation}$$\n",
    "\n",
    "and the force $f_x$ is defined as:\n",
    "\n",
    "$$\n",
    "f_x(r) = \\frac{48x}{r^2}\\big(\\frac{1}{r^{12}}-0.5\\frac{1}{r^6}\\big)\n",
    "$$\n"
   ]
  },
  {
   "cell_type": "markdown",
   "metadata": {},
   "source": [
    "#### <div class=\"alert alert-block alert-info\"><b>Using the equation above, write functions to calculate the energy and force between two atoms as a function of distance.</b></div>  <a class=\"tocSkip\">"
   ]
  },
  {
   "cell_type": "code",
   "execution_count": null,
   "metadata": {
    "ExecuteTime": {
     "end_time": "2019-01-26T08:16:23.142296Z",
     "start_time": "2019-01-26T08:16:23.137168Z"
    }
   },
   "outputs": [],
   "source": [
    "def calculate_energy(distance):\n",
    "    ..."
   ]
  },
  {
   "cell_type": "code",
   "execution_count": null,
   "metadata": {
    "ExecuteTime": {
     "end_time": "2019-01-26T08:16:27.275358Z",
     "start_time": "2019-01-26T08:16:27.270018Z"
    }
   },
   "outputs": [],
   "source": [
    "def calculate_force(distance):\n",
    "    ..."
   ]
  },
  {
   "cell_type": "code",
   "execution_count": null,
   "metadata": {},
   "outputs": [],
   "source": [
    "def get_forces(md):\n",
    "    \"\"\"Calculating energy and force\"\"\"\n",
    "    # Initialise empty variables\n",
    "    energy_sum = 0.0\n",
    "    forces = []\n",
    "    for i in range(md.n_particles):\n",
    "        forces.append(0.0)\n",
    "\n",
    "    # current properties\n",
    "    x_coords = md.x_coords[-1] # x[-1] gets the last element in x\n",
    "\n",
    "    for i in range(md.n_particles-1): # for every particle except the last\n",
    "        for j in range(i+1, md.n_particles): # for every particle from i onwards\n",
    "            # distance between atoms i and j\n",
    "            distance = x_coords[i] - x_coords[j]\n",
    "            n_cells = md.x_length * round(distance/md.x_length)\n",
    "            distance -= n_cells #periodic boundary conditions\n",
    "\n",
    "            if distance < md.cutoff_dist:\n",
    "                energy = calculate_energy(distance)\n",
    "                energy_sum += energy - md.cutoff_energy\n",
    "                \n",
    "                force = calculate_force(distance)\n",
    "                scaled = force * distance\n",
    "                forces[i] += scaled\n",
    "                forces[j] -= scaled\n",
    "                \n",
    "    md.energies_potential.append(energy_sum)\n",
    "    md.forces.append(forces)"
   ]
  },
  {
   "cell_type": "markdown",
   "metadata": {},
   "source": [
    "#### <div class=\"alert alert-block alert-info\"><b>Run get_forces on your `MD1D` instance and check that there are no errors.</b></div>  <a class=\"tocSkip\">"
   ]
  },
  {
   "cell_type": "code",
   "execution_count": null,
   "metadata": {},
   "outputs": [],
   "source": []
  },
  {
   "cell_type": "markdown",
   "metadata": {},
   "source": [
    "#### &nbsp;\n",
    "<div class=\"alert alert-block alert-info\">\n",
    "\n",
    "\n",
    "<b>Why do you think we add 0.0 to the `forces` list to start off with instead of just appending? Try commenting that `for` block out and running it again.\n",
    "    </b>\n",
    "<div class=\"alert alert-block alert-warning\">\n",
    "    \n",
    "   **Tip**\n",
    "   \n",
    "   `#` is the comment character in Python. Jupyter has a keyboard shortcut, too. `ctrl+/` will toggle comments for the line your cursor is in. If you have highlighted a block of code, it will toggle comments for that entire block.  \n",
    "    </div></div>"
   ]
  },
  {
   "cell_type": "code",
   "execution_count": null,
   "metadata": {},
   "outputs": [],
   "source": []
  },
  {
   "cell_type": "markdown",
   "metadata": {},
   "source": [
    "### Integrating equations of motion"
   ]
  },
  {
   "cell_type": "markdown",
   "metadata": {},
   "source": [
    "Now that the forces have been computed, we can integrate the equations of motion. \n",
    "\n",
    "The estimate of the position at the next time-step is calculated from the current properties below, where $f(t)$ represents the force at time $t$. $t + \\Delta t$ and $t - \\Delta t$ represent the next and previous time-steps respectively. \n",
    "$$\n",
    "x(t + \\Delta t) \\approx 2x(t) - x(t - \\Delta t) + f(t) \\Delta t^2\n",
    "$$\n",
    "\n",
    "The velocity of the current time-step can therefore be calculated:\n",
    "$$\n",
    "v(t) = \\frac{x(t + \\Delta t) - x(t - \\Delta t)}{2 \\Delta t}\n",
    "$$\n",
    "\n",
    "We use this to calculate the instantaneous temperature by the equation above:\n",
    "\n",
    "$$T(t) = \\sum\\limits_{i=1}^{N} \\frac{v^2_{i}(t)}{N}$$\n",
    "\n",
    "\n",
    "We would also like to calculate the total energy per particle. This energy is a sum of the potential energy and kinetic energy. The potential energy was calculated in the `get_forces` function using the Lennard-Jones potential. The kinetic energy is calculated with $\\frac{1}{2}mv^2$. In reduced units, this simplifies to $\\frac{1}{2}v^2$.\n",
    "\n",
    "\n",
    "Below is a picture of what your `md.x_coords` list should look like after all the time-steps have been completed. `md.x_coords` should be `md.n_steps + 1` elements long, and each element should also be a list of `md.n_particles` length. Each element in these sub-lists should be a float.\n",
    "\n",
    "<img src=\"files/velocities.png\" width=\"500px\">"
   ]
  },
  {
   "cell_type": "markdown",
   "metadata": {},
   "source": [
    "#### &#x1F4DC;  &nbsp; Background behind equations &nbsp; &#x1F4DC;  <a class=\"tocSkip\">"
   ]
  },
  {
   "cell_type": "markdown",
   "metadata": {},
   "source": [
    "The Taylor expansion of the particle coordinate at time $t$ gives:\n",
    "    \n",
    "$$\n",
    "\\begin{eqnarray}\n",
    "    x(t + \\Delta t) &=& x(t) + \\dot x(t) \\Delta t + \\ddot x(t)\\frac{\\Delta t^2}{2!} + \\dddot x(t)\\frac{\\Delta t^3}{3!} + \\mathcal{O}(\\Delta t^4) \\\\\n",
    "    x(t - \\Delta t) &=& x(t) - \\dot x(t) \\Delta t + \\ddot x(t)\\frac{\\Delta t^2}{2!} - \\dddot x(t)\\frac{\\Delta t^3}{3!} + \\mathcal{O}(\\Delta t^4)\n",
    "\\end{eqnarray}\n",
    "$$\n",
    "    \n",
    "   Adding those equations together and substituting acceleration $a(t) = \\ddot x(t)$ results in this:\n",
    "   \n",
    "   \n",
    "   $$\n",
    "   x(t + \\Delta t) + x(t - \\Delta t) = 2x(t) + a(t)\\Delta t^2 + \\mathcal{O}(\\Delta t^4)\n",
    "   $$\n",
    "   \n",
    "   Given that mass $m$ vanishes in reduced units, the force $F=ma$ reduces to $F=a$. The remainder term $\\mathcal{O}(\\Delta t^4)$ is dropped as the error. Therefore:\n",
    "   \n",
    "$$\n",
    "\\begin{eqnarray}\n",
    "x(t + \\Delta t) + x(t - \\Delta t) &=& 2x(t) + f(t)\\Delta t^2 \\\\\n",
    "x(t + \\Delta t) &\\approx& 2x(t) - x(t - \\Delta t) + f(t) \\Delta t^2\n",
    "\\end{eqnarray}\n",
    "$$\n",
    "\n",
    "\n",
    "\n",
    "This method uses forces to compute the new positions. The velocity at time $t$ is approximated when positions at time-steps before and after $t$ are known, using the equation in the main block above. Known as the Verlet algorithm, this approach is more accurate than the Euler method of using the velocity at time $t$ to determine the position at time $t + \\Delta t$.\n"
   ]
  },
  {
   "cell_type": "markdown",
   "metadata": {},
   "source": [
    "#### <div class=\"alert alert-block alert-info\"><b>Using the equations above, write a function to integrate the equations of motion.</b></div>  <a class=\"tocSkip\">"
   ]
  },
  {
   "cell_type": "code",
   "execution_count": null,
   "metadata": {
    "ExecuteTime": {
     "end_time": "2019-01-26T08:17:08.171018Z",
     "start_time": "2019-01-26T08:17:08.161670Z"
    }
   },
   "outputs": [],
   "source": [
    "def next_position(current_x, previous_x, time_step, current_force):\n",
    "    raise NotImplementedError\n",
    "\n",
    "def current_velocity(next_x, previous_x, time_step):\n",
    "    raise NotImplementedError\n",
    "\n",
    "def instant_temperature(vsum_sq, n_particles):\n",
    "    raise NotImplementedError\n",
    "\n",
    "def total_energy_per_particle(energy, vsum_sq, n_particles):\n",
    "    raise NotImplementedError"
   ]
  },
  {
   "cell_type": "code",
   "execution_count": null,
   "metadata": {
    "ExecuteTime": {
     "end_time": "2019-01-22T07:36:05.580510Z",
     "start_time": "2019-01-22T07:36:05.570761Z"
    }
   },
   "outputs": [],
   "source": [
    "def integrate(md):\n",
    "    \"\"\"Integrate equations of motion\"\"\"\n",
    "    \n",
    "    # Initialise empty variables\n",
    "    vsum_sq = 0.0 # sum of squared velocities\n",
    "    # create an empty list of x coordinates for next time step\n",
    "    x_next = ...\n",
    "    \n",
    "    # current properties\n",
    "    # x[-1] returns the last element in x\n",
    "    forces = ...  # most recent element in md.forces\n",
    "    x_now = ...  # last element in md.x_coords\n",
    "    x_prev = ...  # second last element in md.x_coords\n",
    "    energy_now = ...  # last element in md.energies_potential\n",
    "    \n",
    "    # for every particle, calculate \n",
    "    # the next position with next_position() and \n",
    "    # the current velocity with current_velocity().\n",
    "    # Add this velocity to vsum_sq.\n",
    "    # Keep the next_x position in the list you created\n",
    "    \n",
    "    \n",
    "    # when you've finished the loop, append the list \n",
    "    # of next positions to md.x_coords\n",
    "    \n",
    "    \n",
    "    \n",
    "    # calculate the instantaneous temperature and append \n",
    "    # it to md.temperatures\n",
    "    \n",
    "    \n",
    "    # get the total energy per particle and append \n",
    "    # it to md.energies_total\n",
    "    "
   ]
  },
  {
   "cell_type": "markdown",
   "metadata": {},
   "source": [
    "### Viewing"
   ]
  },
  {
   "cell_type": "markdown",
   "metadata": {},
   "source": [
    "<div class=\"alert alert-block alert-info\"><b>\n",
    "    Now you need to write out your coordinates to a file that's readable by other software. Use string formatting to write a file that looks like the example 'example.xyz' in the folder.</b>\n",
    "<div class=\"alert alert-block alert-warning\">\n",
    "    \n",
    "   **Tip**\n",
    "   \n",
    "   `range(x)` returns an iterable of numbers `(0, 1, 2, ... x-1)`. \n",
    "   \n",
    "   File I/O is usually handled within context managers that automatically close the file when you're done. To read:\n",
    "   \n",
    "   ```\n",
    "       with open(filename, 'r') as f:\n",
    "           contents = f.read()\n",
    "   ```\n",
    "   \n",
    "   To write:\n",
    "   ```\n",
    "       with open(filename, 'w') as f:\n",
    "           f.write(contents)\n",
    "   ```\n",
    "   \n",
    "   `'\\n'` prints a newline, i.e. moves to the next line in the file. I would expect `f.write(\"e\\nb  c\\n  d\")` to write:\n",
    "   \n",
    "   ```\n",
    "   e\n",
    "   b  c\n",
    "     d\n",
    "   ```\n",
    "</div>\n",
    "</div>"
   ]
  },
  {
   "cell_type": "code",
   "execution_count": null,
   "metadata": {
    "ExecuteTime": {
     "end_time": "2019-01-25T02:52:21.261597Z",
     "start_time": "2019-01-25T02:52:21.256422Z"
    }
   },
   "outputs": [],
   "source": [
    "def write_coordinates(md):\n",
    "    # x[y:] take all elements in x from index y onwards\n",
    "    x_coords = md.x_coords[1:] # remove first list of positions at negative time\n",
    "    with open('coords.xyz', 'w') as f: # f is the open file object\n",
    "        # for every step from 0 to md.n_steps inclusive\n",
    "        # Write the number of particles and a newline\n",
    "        # And the time\n",
    "        ...\n",
    "    print(\"Wrote coordinates to coords.xyz\")"
   ]
  },
  {
   "cell_type": "markdown",
   "metadata": {},
   "source": [
    "The `watch()` function below just lets you view your coordinate file as an animation."
   ]
  },
  {
   "cell_type": "code",
   "execution_count": null,
   "metadata": {
    "ExecuteTime": {
     "end_time": "2019-01-29T07:30:03.489992Z",
     "start_time": "2019-01-29T07:30:03.434237Z"
    }
   },
   "outputs": [],
   "source": [
    "from ase.visualize import view\n",
    "from ase.io import read as ase_read\n",
    "\n",
    "def watch(md):\n",
    "    atoms = ase_read('coords.xyz', index=':')\n",
    "    view(atoms)"
   ]
  },
  {
   "cell_type": "markdown",
   "metadata": {},
   "source": [
    "### Putting it all together"
   ]
  },
  {
   "cell_type": "markdown",
   "metadata": {},
   "source": [
    "<div class=\"alert alert-block alert-info\">\n",
    "    <b>Write a main function that strings it all together.</b></div>"
   ]
  },
  {
   "cell_type": "code",
   "execution_count": null,
   "metadata": {
    "ExecuteTime": {
     "end_time": "2019-01-22T07:46:25.672420Z",
     "start_time": "2019-01-22T07:46:25.670167Z"
    }
   },
   "outputs": [],
   "source": [
    "def main():\n",
    "    # Initialise MD1D\n",
    "    # setup the system\n",
    "    # for every time_step in md.n_steps, \n",
    "    # print out which step it is (so you \n",
    "    # can track your progress). Then \n",
    "    # calculate forces and integrate the \n",
    "    # equations of motion.\n",
    "    # Finally, write the coordinates to a file.\n",
    "    print(\"Done!\")\n",
    "    # Return your md object"
   ]
  },
  {
   "cell_type": "markdown",
   "metadata": {},
   "source": [
    "## Run the code"
   ]
  },
  {
   "cell_type": "code",
   "execution_count": null,
   "metadata": {
    "ExecuteTime": {
     "end_time": "2019-01-11T08:36:26.612919Z",
     "start_time": "2019-01-11T08:36:26.538431Z"
    }
   },
   "outputs": [],
   "source": [
    "sim1d = main()"
   ]
  },
  {
   "cell_type": "code",
   "execution_count": null,
   "metadata": {
    "ExecuteTime": {
     "end_time": "2019-01-11T08:36:27.820073Z",
     "start_time": "2019-01-11T08:36:27.779576Z"
    }
   },
   "outputs": [],
   "source": [
    "watch(sim1d)"
   ]
  },
  {
   "cell_type": "markdown",
   "metadata": {},
   "source": [
    "### Timing the code"
   ]
  },
  {
   "cell_type": "markdown",
   "metadata": {
    "ExecuteTime": {
     "end_time": "2019-01-10T22:28:00.737711Z",
     "start_time": "2019-01-10T22:27:58.350824Z"
    }
   },
   "source": [
    "<div class=\"alert alert-block alert-info\"><b>How long does the simulation take? Profile it with the magic command `%prun`. Which step is the least efficient? Does changing the cutoff distance help?</div>"
   ]
  },
  {
   "cell_type": "code",
   "execution_count": null,
   "metadata": {},
   "outputs": [],
   "source": [
    "%prun main()"
   ]
  },
  {
   "cell_type": "markdown",
   "metadata": {},
   "source": [
    "<div class=\"alert alert-block alert-info\"><b>How much memory is Jupyter using during the simulation? Load the `memory_profiler` extension and use `%memit` to view the peak memory consumption."
   ]
  },
  {
   "cell_type": "code",
   "execution_count": null,
   "metadata": {
    "ExecuteTime": {
     "end_time": "2019-01-11T08:36:35.713114Z",
     "start_time": "2019-01-11T08:36:35.707566Z"
    }
   },
   "outputs": [],
   "source": [
    "%load_ext memory_profiler"
   ]
  },
  {
   "cell_type": "markdown",
   "metadata": {
    "ExecuteTime": {
     "end_time": "2019-01-10T19:15:45.795565Z",
     "start_time": "2019-01-10T19:15:45.792387Z"
    }
   },
   "source": [
    "## MD analysis"
   ]
  },
  {
   "cell_type": "markdown",
   "metadata": {},
   "source": [
    "### Plotting"
   ]
  },
  {
   "cell_type": "code",
   "execution_count": null,
   "metadata": {
    "ExecuteTime": {
     "end_time": "2019-01-25T03:19:15.155961Z",
     "start_time": "2019-01-25T03:19:14.670471Z"
    }
   },
   "outputs": [],
   "source": [
    "import matplotlib.pyplot as plt\n",
    "%matplotlib inline #magic function that displays graphs in Jupyter"
   ]
  },
  {
   "cell_type": "markdown",
   "metadata": {},
   "source": [
    "Plotting is very simple if all you want is simple plots. Try plotting your total energies and temperatures over time."
   ]
  },
  {
   "cell_type": "code",
   "execution_count": null,
   "metadata": {},
   "outputs": [],
   "source": [
    "plt.plot(sim1d.energies_total)"
   ]
  },
  {
   "cell_type": "markdown",
   "metadata": {},
   "source": [
    "Almost every Python plotting package is built on matplotlib, including seaborn (below). matplotlib is very powerful and flexible; unfortunately, that also makes it very finicky. Try changing the formatting below. [You can find documentation here.](https://matplotlib.org/api/_as_gen/matplotlib.pyplot.plot.html)"
   ]
  },
  {
   "cell_type": "code",
   "execution_count": null,
   "metadata": {},
   "outputs": [],
   "source": [
    "plt.plot(sim1d.energies_total[1:], color='green', marker='o',\n",
    "        linestyle='dashed', linewidth=2, markersize=12,\n",
    "        markeredgecolor='blue', markerfacecolor='red')"
   ]
  },
  {
   "cell_type": "markdown",
   "metadata": {},
   "source": [
    "Seaborn is a library with a smoother interface and documentation. [Here is an example gallery of potential plots you can make.](https://seaborn.pydata.org/examples/index.html) For now we'll make the same line plot as in matplotlib, although Seaborn requires x-values. (This may throw an error if your `energies_total` list is a different length than the number of steps)."
   ]
  },
  {
   "cell_type": "code",
   "execution_count": null,
   "metadata": {},
   "outputs": [],
   "source": [
    "import seaborn as sns\n",
    "x = list(range(sim1d.n_steps))\n",
    "sns.lineplot(x, sim1.energies_total)"
   ]
  },
  {
   "cell_type": "markdown",
   "metadata": {},
   "source": [
    "One of the best parts about Seaborn is how easy it is to do statistical visualisations. Try plotting a univariate kernel density estimate:"
   ]
  },
  {
   "cell_type": "code",
   "execution_count": null,
   "metadata": {},
   "outputs": [],
   "source": [
    "sns.kdeplot(sim1d.energies_total)"
   ]
  },
  {
   "cell_type": "markdown",
   "metadata": {},
   "source": [
    "Or bivariate:"
   ]
  },
  {
   "cell_type": "code",
   "execution_count": null,
   "metadata": {},
   "outputs": [],
   "source": [
    "sns.kdeplot(sim1d.energies_total, sim1d.temperatures)"
   ]
  },
  {
   "cell_type": "markdown",
   "metadata": {},
   "source": [
    "### Averages, standard deviations, etc"
   ]
  },
  {
   "cell_type": "markdown",
   "metadata": {},
   "source": [
    "There are a few methods to make life easier when analysing data in lists:"
   ]
  },
  {
   "cell_type": "code",
   "execution_count": null,
   "metadata": {},
   "outputs": [],
   "source": [
    "avg = sum(sim1d.energies_total)/sim1d.n_steps"
   ]
  },
  {
   "cell_type": "markdown",
   "metadata": {},
   "source": [
    "Or you could convert it to an array and take advantage of NumPy's many functionalities:"
   ]
  },
  {
   "cell_type": "code",
   "execution_count": null,
   "metadata": {},
   "outputs": [],
   "source": [
    "avg = np.array(sim1d.energies_total).mean()"
   ]
  }
 ],
 "metadata": {
  "kernelspec": {
   "display_name": "Python 3",
   "language": "python",
   "name": "python3"
  },
  "language_info": {
   "codemirror_mode": {
    "name": "ipython",
    "version": 3
   },
   "file_extension": ".py",
   "mimetype": "text/x-python",
   "name": "python",
   "nbconvert_exporter": "python",
   "pygments_lexer": "ipython3",
   "version": "3.7.1"
  },
  "toc": {
   "base_numbering": 1,
   "nav_menu": {},
   "number_sections": true,
   "sideBar": true,
   "skip_h1_title": false,
   "title_cell": "Table of Contents",
   "title_sidebar": "Contents",
   "toc_cell": false,
   "toc_position": {
    "height": "602.5px",
    "left": "54.15px",
    "top": "110.633px",
    "width": "165px"
   },
   "toc_section_display": true,
   "toc_window_display": true
  }
 },
 "nbformat": 4,
 "nbformat_minor": 2
}
