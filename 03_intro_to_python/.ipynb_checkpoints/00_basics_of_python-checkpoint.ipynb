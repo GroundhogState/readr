{
 "cells": [
  {
   "cell_type": "markdown",
   "metadata": {},
   "source": [
    "# Molecular dynamics in Python"
   ]
  },
  {
   "cell_type": "markdown",
   "metadata": {},
   "source": [
    "In this workshop you will write a discrete particle simulator, with the option to extend to a particle mesh simulator. \n",
    "\n",
    "Most of learning to program is just getting into a problem and making good use of resources available. Some tutorials on Python are listed below:\n",
    "\n",
    " - [The Python Tutorial](https://docs.python.org/3.7/tutorial/)\n",
    " - [Python Scientific Lecture Notes](http://scipy-lectures.github.io/index.html) \n",
    " - [A Crash Course in Python for Scientists](http://nbviewer.ipython.org/gist/rpmuller/5920182)\n",
    " \n",
    " \n",
    " \n",
    "\n",
    "<b>Concepts covered:</b>\n",
    " - Basic Python \n",
    "     - Variables\n",
    "     - Types\n",
    "     - Loops\n",
    "     - Functions\n",
    " - Breaking a mathematical problem into Python\n",
    " - Numpy arrays and analysis\n",
    " - Visualisation"
   ]
  },
  {
   "cell_type": "markdown",
   "metadata": {},
   "source": [
    "## Setup"
   ]
  },
  {
   "cell_type": "markdown",
   "metadata": {},
   "source": [
    "## Overview"
   ]
  },
  {
   "cell_type": "markdown",
   "metadata": {},
   "source": [
    "None of these parts are mandatory. Feel free to do any these at any time.\n",
    "\n",
    "<div class=\"alert alert-block\">\n",
    "<b>Part 1.</b>\n",
    "Most of a molecular dynamics framework is given to you. Your goals are to:\n",
    "    \n",
    " - write a force equation\n",
    " - write an energy equation\n",
    " - implement the Verlet integrator\n",
    " - put it all together in the main loop\n",
    "</div>\n",
    "\n",
    "<div class=\"alert alert-block\">\n",
    "<b>Part 2.</b>\n",
    "    <i>Part 1</i> stores the molecular dynamics properties in lists. This can result in very slow and memory-hungry simulation. \n",
    "    <br>\n",
    "    Can you implement the program using NumPy arrays? What kind of improvement can you see?\n",
    "</div>\n",
    "\n",
    "<div class=\"alert alert-block\">\n",
    "<b>Part 3.</b>\n",
    "    <i>Parts 1 and 2</i> both implement molecular dynamics in 1 dimension. Can you rewrite it in 3 dimensions?\n",
    "</div>\n",
    "<div class=\"alert alert-block\">\n",
    "<b>Part 4.</b>\n",
    "    Carry out and visualise some basic analysis of your simulation.\n",
    "</div>\n",
    "<div class=\"alert alert-block alert-success\">\n",
    "<b>Extension.</b>\n",
    "    Create a fluid simulator by implementing the Navier-Stokes equations in the provided framework.\n",
    "</div>\n"
   ]
  },
  {
   "cell_type": "markdown",
   "metadata": {},
   "source": [
    "**[Python](http://www.python.org)**\n",
    "  - Python 3.7 is the current version\n",
    "  - Python 2.7 will be maintained until 2020, not recommended\n",
    "\n",
    "**Required packages**\n",
    "  - Jupyter\n",
    "  - numpy\n",
    "\n",
    "**Recommended packages:**\n",
    "- ase (for visualisation)\n",
    "- Jupyter extensions\n",
    "\n",
    "<!--\n",
    "- xarray\n",
    "\n",
    "**Extension packages:**\n",
    "- holoviews\n",
    "- datashader\n",
    "-->"
   ]
  },
  {
   "cell_type": "markdown",
   "metadata": {},
   "source": [
    "<div class=\"alert alert-block alert-info\">\n",
    "\n",
    "**Package managers: conda and pip**\n",
    "<br>\n",
    "In general there are three ways to install python packages:\n",
    "\n",
    "\n",
    "1. **conda**\n",
    "\n",
    " `conda` is a packaging tool that manages both Python packages and outside dependencies. `conda` is generally recommended for its ability to manage dependencies under the hood and easily install pre-compiled binaries. <a href=\"https://www.anaconda.com/blog/developer-blog/understanding-conda-pip/\">A more detailed comparison can be found here.</a>\n",
    "\n",
    "\n",
    "\n",
    "2. **pip**\n",
    "\n",
    " `pip` is similar to `conda`, but can only handle Python pacakges. One advantage of `pip` is that many packages are only available via `pip` installation than `conda`. You can use `pip` and `conda` at the same time.\n",
    "\n",
    "\n",
    "3. **Compiling from source**\n",
    "\n",
    " This is good for installing libraries or versions that are not available on conda or pip.\n",
    "</div>"
   ]
  },
  {
   "cell_type": "markdown",
   "metadata": {},
   "source": [
    "### memory_profiler"
   ]
  },
  {
   "cell_type": "markdown",
   "metadata": {},
   "source": [
    "The memory profiler monitors the memory consumption of your Python code. Install memory_profiler with:\n",
    "\n",
    "`conda install memory_profiler`\n",
    "\n",
    "or\n",
    "\n",
    "`pip install memory_profiler`"
   ]
  },
  {
   "cell_type": "markdown",
   "metadata": {},
   "source": [
    "### ASE (visualisation)"
   ]
  },
  {
   "cell_type": "markdown",
   "metadata": {},
   "source": [
    "The [Atomic Simulation Environment](https://wiki.fysik.dtu.dk/ase/) is a Python module that helps you set up, analyse, and visualise atomistic simulations. It can be installed using:\n",
    "\n",
    "1. conda\n",
    "\n",
    "`conda install -c conda-forge ase`\n",
    "\n",
    "2. pip\n",
    "\n",
    "`pip install --upgrade --user ase`\n",
    "\n",
    "You may need to update some environmental variables [as detailed here.](https://wiki.fysik.dtu.dk/ase/install.html) Test your installation by running this command in your shell:\n",
    "\n",
    "`ase test`"
   ]
  },
  {
   "cell_type": "markdown",
   "metadata": {},
   "source": [
    "#### Alternative visualisation packages"
   ]
  },
  {
   "cell_type": "markdown",
   "metadata": {},
   "source": [
    "Alternative visualisation software includes:\n",
    "- <a href=\"https://www.ks.uiuc.edu/Research/vmd/\">VMD</a>\n",
    "- <a href=\"http://jmol.sourceforge.net/\">jmol</a>\n",
    "\n",
    "All that's required for this workshop is the ability to animate `.xyz` files. "
   ]
  },
  {
   "cell_type": "markdown",
   "metadata": {},
   "source": [
    "### Jupyter extensions"
   ]
  },
  {
   "cell_type": "markdown",
   "metadata": {},
   "source": [
    "A number of <a href=\"https://jupyter-contrib-nbextensions.readthedocs.io/en/latest/\">unofficial Jupyter Notebook extensions</a> have been created by the community to enhance the Jupyter experience. You can install this using:\n",
    "\n",
    "1. conda\n",
    "\n",
    "Install the package from conda-forge:\n",
    "`conda install -c conda-forge jupyter_contrib_nbextensions`\n",
    "\n",
    "2. pip\n",
    "\n",
    "First install the extensions:\n",
    "\n",
    "`pip install jupyter_contrib_nbextensions`\n",
    "\n",
    "Then install the Javascript and CSS files:\n",
    "\n",
    "`jupyter contrib nbextension install --user\n",
    "`\n",
    "\n",
    "`conda` does this automatically for you so the second step is not needed when using `conda` to install the package."
   ]
  },
  {
   "cell_type": "markdown",
   "metadata": {},
   "source": [
    "#### Using Jupyter extensions"
   ]
  },
  {
   "cell_type": "markdown",
   "metadata": {},
   "source": [
    "You can enable, disable, and configure extensions using the Jupyter dashboard tab that opens up when you start a Jupyter server.\n",
    "\n",
    "These packages will make this workshop more enjoyable:\n",
    "\n",
    "- Collapsible Headings\n",
    "- Table of Contents (2) (Adds a table of contents to your document for easier navigation)\n",
    "\n",
    "I also like these packages in general:\n",
    "- AutoSaveTime (to autosave your document every few minutes)\n",
    "- ExecuteTime (to track when you execute your cells)"
   ]
  },
  {
   "cell_type": "markdown",
   "metadata": {},
   "source": [
    "## Jupyter"
   ]
  },
  {
   "cell_type": "markdown",
   "metadata": {},
   "source": [
    "Python is usually written in text files with a `.py` extension, but for this workshop we will stick to notebooks with a `.ipynb` extension.\n",
    "\n",
    "Notebooks are run on a **kernel**. When you execute a cell, the Python code is actually executed in the kernel, and variables are stored there. Quitting or restarting the kernel requires executing your cells again. If your notebook freezes on a command or getting into infinite recursion, you can interrupt it with `Kernel > Interrupt` without losing your previously executed code."
   ]
  },
  {
   "cell_type": "markdown",
   "metadata": {},
   "source": [
    "### Command and editing mode"
   ]
  },
  {
   "cell_type": "markdown",
   "metadata": {},
   "source": [
    "Jupyter notebooks have two modes: command and and editing. If your selected cell has a green outline, you are in editing mode; blue outline means you are in command. You can modify the notebook in command mode, but only modify the text of a cell in editing.\n",
    "\n",
    "Press `esc` to enter command mode and `enter` for editing mode. Press `shift+enter` to execute the selected cell. Double click on any markdown cell to see it in editing mode.\n",
    "\n",
    "**Command mode shortcuts**\n",
    "\n",
    "|Key| Command |\n",
    "| --- | --- |\n",
    "|a| Create a new cell above the selected cell.|\n",
    "|b| Create a new cell below the selected cell.|\n",
    "|m| Convert current cell to markdown.|\n",
    "|y| Convert current cell to code.|\n",
    "|shift+enter| Execute current cell.|\n",
    "\n",
    "\n",
    "**Editing mode shortcuts**\n",
    "\n",
    "|Key| Command |\n",
    "| --- | --- |\n",
    "|`tab`| autocomplete your command or variable name.|\n",
    "\n",
    "\n",
    "<div class=\"alert alert-block alert-info\">\n",
    "\n",
    "**Note:**\n",
    "<br>\n",
    "Some of these shortcuts may not work if you have keyboard shortcuts on your browser already.\n",
    "</div>"
   ]
  },
  {
   "cell_type": "markdown",
   "metadata": {},
   "source": [
    "### Cells"
   ]
  },
  {
   "cell_type": "markdown",
   "metadata": {},
   "source": [
    "#### Markdown"
   ]
  },
  {
   "cell_type": "markdown",
   "metadata": {},
   "source": [
    "Markdown cells allow you to add text to your document that does not get executed as code. Markdown supports HTML, embedded code formatting, LaTeX equations, and GitHub Markdown. [More details can be found here.](https://jupyter-notebook.readthedocs.io/en/stable/examples/Notebook/Working%20With%20Markdown%20Cells.html)"
   ]
  },
  {
   "cell_type": "markdown",
   "metadata": {},
   "source": [
    "**Formatting:**\n",
    "\n",
    " - **bold** with double asterisks `**` on either side\n",
    " - *italicise* with single asterisks `*` on either side\n",
    " - `Format code` with backticks on either side `\n",
    " - $inline$ LaTeX with `$` on either side\n",
    " - LaTeX on its own line with `$$` on either side\n",
    " - > Blockquote with `>` before the paragraph"
   ]
  },
  {
   "cell_type": "markdown",
   "metadata": {},
   "source": [
    "<div class=\"alert alert-block alert-success\">\n",
    "    \n",
    "**Exercise:**\n",
    "<br>\n",
    "Edit the markdown cell below this to make it more interesting.\n",
    "</div>"
   ]
  },
  {
   "cell_type": "markdown",
   "metadata": {},
   "source": [
    "beep boop"
   ]
  },
  {
   "cell_type": "markdown",
   "metadata": {},
   "source": [
    "#### Code"
   ]
  },
  {
   "cell_type": "markdown",
   "metadata": {},
   "source": [
    "Anything in a code cell is executable. The default language for this is Python. However, Jupyter [(or IPython -- see here for history)](https://www.datacamp.com/community/blog/ipython-jupyter) supports a number of languages. It also supports \"magic commands\" to help data analysis.\n",
    "\n",
    "Magic commands start with the `%` character. Line magic, starting with a single `%`, only apply to the single line that it is on. Cell magic, starting with a `%%` prefix, apply to the whole cell of code. Many line magics are also available as cell magics. [Read more about the available magic commands here.](https://ipython.readthedocs.io/en/stable/interactive/magics.html#line-magics)\n",
    "\n",
    "<div class=\"alert alert-block alert-info\">\n",
    "\n",
    "**Note:**\n",
    "<br>\n",
    "We will be using `%%timeit` and `%%prun` throughout this workshop.\n",
    "</div>\n",
    "\n",
    "The question mark `?` shortcut is an easy way to look at variables."
   ]
  },
  {
   "cell_type": "markdown",
   "metadata": {},
   "source": [
    "\n",
    "<b>Useful magics:</b>\n",
    "\n",
    "|Function| Command | Line | Cell |\n",
    "| --- | --- | --- | --- |\n",
    "|`%time`| Times the execution of your Python once. | Yes | Yes |\n",
    "|`%timeit`| Times multiple executions of your Python code, returning the average. | Yes | Yes|\n",
    "| `%prun` | Profile your code | Yes | Yes |\n",
    "| `%%bash` | Execute your code using `bash` in a subprocess | No | Yes |\n",
    "| `%%javascript` or `%%js` | Execute your code as Javascript | No | Yes |\n",
    "| `%%latex` | Render cell as LaTeX | No | Yes |"
   ]
  },
  {
   "cell_type": "markdown",
   "metadata": {},
   "source": [
    "<div class=\"alert alert-block alert-success\">\n",
    "\n",
    "<b>Exercise:</b>\n",
    "<br>\n",
    "Execute the block below. Create a new cell below that with only `x` and execute that. Compare the output with the output from the next cell, which prints `x`.\n",
    "</div>"
   ]
  },
  {
   "cell_type": "code",
   "execution_count": 1,
   "metadata": {
    "ExecuteTime": {
     "end_time": "2019-01-11T08:35:06.108418Z",
     "start_time": "2019-01-11T08:35:06.106317Z"
    }
   },
   "outputs": [],
   "source": [
    "x = 'Hello world!'"
   ]
  },
  {
   "cell_type": "code",
   "execution_count": 2,
   "metadata": {
    "ExecuteTime": {
     "end_time": "2019-01-11T08:35:06.123424Z",
     "start_time": "2019-01-11T08:35:06.116857Z"
    }
   },
   "outputs": [
    {
     "data": {
      "text/plain": [
       "'Hello world!'"
      ]
     },
     "execution_count": 2,
     "metadata": {},
     "output_type": "execute_result"
    }
   ],
   "source": [
    "x"
   ]
  },
  {
   "cell_type": "code",
   "execution_count": 3,
   "metadata": {
    "ExecuteTime": {
     "end_time": "2019-01-11T08:35:06.134619Z",
     "start_time": "2019-01-11T08:35:06.131033Z"
    }
   },
   "outputs": [],
   "source": [
    "x?"
   ]
  },
  {
   "cell_type": "code",
   "execution_count": 4,
   "metadata": {
    "ExecuteTime": {
     "end_time": "2019-01-11T08:35:06.141295Z",
     "start_time": "2019-01-11T08:35:06.139130Z"
    }
   },
   "outputs": [
    {
     "name": "stdout",
     "output_type": "stream",
     "text": [
      "Hello world!\n"
     ]
    }
   ],
   "source": [
    "print(x)"
   ]
  },
  {
   "cell_type": "markdown",
   "metadata": {},
   "source": [
    "As you can see, the output between the two cells is different. Executing `x` returns the value associated with `x` to us, which is a string. `print` will print `x` but not return it; in fact `print` actually returns `None`, which you will see if you execute the two cells below."
   ]
  },
  {
   "cell_type": "code",
   "execution_count": 5,
   "metadata": {
    "ExecuteTime": {
     "end_time": "2019-01-11T08:35:06.312359Z",
     "start_time": "2019-01-11T08:35:06.310169Z"
    }
   },
   "outputs": [
    {
     "name": "stdout",
     "output_type": "stream",
     "text": [
      "Hello world!\n"
     ]
    }
   ],
   "source": [
    "from_return = x\n",
    "from_print = print(x)"
   ]
  },
  {
   "cell_type": "code",
   "execution_count": 6,
   "metadata": {
    "ExecuteTime": {
     "end_time": "2019-01-11T08:35:06.321953Z",
     "start_time": "2019-01-11T08:35:06.319699Z"
    }
   },
   "outputs": [
    {
     "name": "stdout",
     "output_type": "stream",
     "text": [
      "Hello world!\n",
      "None\n"
     ]
    }
   ],
   "source": [
    "print(from_return)\n",
    "print(from_print)"
   ]
  },
  {
   "cell_type": "markdown",
   "metadata": {},
   "source": [
    "## Python"
   ]
  },
  {
   "cell_type": "markdown",
   "metadata": {},
   "source": [
    "<div class=\"alert alert-block alert-warning\">\n",
    "    \n",
    "Python is case-sensitive. If a variable is called `variable`, variations such as `Variable` will be treated as different objects. \n",
    "\n",
    "**White space in Python is part of the code.** Indentation is how Python parses blocks of code, so the indents must be consistent within a block. Typically indents are 4 spaces at the start of the line.\n",
    "\n",
    "Other than indents and newlines, white space is not too important; `x-1` is the same as `x - 1`. [However, there are conventions for Python formatting as described in the PEP 8 style guide.](https://www.python.org/dev/peps/pep-0008/)\n",
    "</div>"
   ]
  },
  {
   "cell_type": "markdown",
   "metadata": {
    "ExecuteTime": {
     "end_time": "2019-01-11T03:01:10.329091Z",
     "start_time": "2019-01-11T03:00:57.139326Z"
    }
   },
   "source": [
    "### Variables, Objects, and Types"
   ]
  },
  {
   "cell_type": "markdown",
   "metadata": {
    "ExecuteTime": {
     "end_time": "2019-01-11T02:57:02.045708Z",
     "start_time": "2019-01-11T02:56:55.389753Z"
    }
   },
   "source": [
    "Almost everything in Python is an object with a type. You can convert between types (if possible) by using the type name in the table below. You can also query a type with the function `type()`, as shown below.\n",
    "\n",
    "| Type | Description |\n",
    "| --- | --- |\n",
    "| int | integers |\n",
    "| float | floating point numbers |\n",
    "| str | strings |\n",
    "| bool | boolean type: True or False |\n",
    "| list | lists |\n",
    "| dict | dictionaries |\n",
    "| set | sets |\n",
    "| numpy.ndarray | NumPy array|"
   ]
  },
  {
   "cell_type": "code",
   "execution_count": 7,
   "metadata": {
    "ExecuteTime": {
     "end_time": "2019-01-11T08:35:06.745014Z",
     "start_time": "2019-01-11T08:35:06.742438Z"
    }
   },
   "outputs": [
    {
     "data": {
      "text/plain": [
       "int"
      ]
     },
     "execution_count": 7,
     "metadata": {},
     "output_type": "execute_result"
    }
   ],
   "source": [
    "type(3)"
   ]
  },
  {
   "cell_type": "code",
   "execution_count": 8,
   "metadata": {
    "ExecuteTime": {
     "end_time": "2019-01-11T08:35:06.754585Z",
     "start_time": "2019-01-11T08:35:06.751785Z"
    }
   },
   "outputs": [
    {
     "data": {
      "text/plain": [
       "str"
      ]
     },
     "execution_count": 8,
     "metadata": {},
     "output_type": "execute_result"
    }
   ],
   "source": [
    "x = 'Hello'\n",
    "type(x)"
   ]
  },
  {
   "cell_type": "code",
   "execution_count": 9,
   "metadata": {
    "ExecuteTime": {
     "end_time": "2019-01-11T08:35:06.762814Z",
     "start_time": "2019-01-11T08:35:06.760009Z"
    }
   },
   "outputs": [
    {
     "data": {
      "text/plain": [
       "['H', 'e', 'l', 'l', 'o']"
      ]
     },
     "execution_count": 9,
     "metadata": {},
     "output_type": "execute_result"
    }
   ],
   "source": [
    "list(x)"
   ]
  },
  {
   "cell_type": "markdown",
   "metadata": {
    "ExecuteTime": {
     "end_time": "2019-01-11T03:09:36.700621Z",
     "start_time": "2019-01-11T03:09:36.697483Z"
    }
   },
   "source": [
    "<div class=\"alert alert-block alert-success\">\n",
    "\n",
    "<b>Exercise:</b>\n",
    "<br>\n",
    "What is the type of None?\n",
    "</div>"
   ]
  },
  {
   "cell_type": "markdown",
   "metadata": {
    "ExecuteTime": {
     "end_time": "2019-01-11T02:52:52.859086Z",
     "start_time": "2019-01-11T02:52:47.482928Z"
    }
   },
   "source": [
    "In Python, as with most languages, `=` is used to assign variables while `==` is used to compare equality between values. `is` is used to check whether two objects are the same in memory."
   ]
  },
  {
   "cell_type": "code",
   "execution_count": 10,
   "metadata": {
    "ExecuteTime": {
     "end_time": "2019-01-11T08:35:06.967921Z",
     "start_time": "2019-01-11T08:35:06.965836Z"
    }
   },
   "outputs": [],
   "source": [
    "a = 3.0\n",
    "b = 3.0\n",
    "c = 3"
   ]
  },
  {
   "cell_type": "markdown",
   "metadata": {},
   "source": [
    "<div class=\"alert alert-block alert-success\">\n",
    "\n",
    "<b>Exercise:</b>\n",
    "<br>\n",
    "Run the cells below. Is `a` equal to `b`? Are they the same object in memory? What is the type of `b` and `c`? What is the type of `b+c` and `c/c`?\n",
    "</div>"
   ]
  },
  {
   "cell_type": "code",
   "execution_count": 11,
   "metadata": {
    "ExecuteTime": {
     "end_time": "2019-01-11T08:35:07.064549Z",
     "start_time": "2019-01-11T08:35:07.062094Z"
    }
   },
   "outputs": [
    {
     "data": {
      "text/plain": [
       "True"
      ]
     },
     "execution_count": 11,
     "metadata": {},
     "output_type": "execute_result"
    }
   ],
   "source": [
    "a == b"
   ]
  },
  {
   "cell_type": "code",
   "execution_count": 12,
   "metadata": {
    "ExecuteTime": {
     "end_time": "2019-01-11T08:35:07.074200Z",
     "start_time": "2019-01-11T08:35:07.071425Z"
    }
   },
   "outputs": [
    {
     "data": {
      "text/plain": [
       "False"
      ]
     },
     "execution_count": 12,
     "metadata": {},
     "output_type": "execute_result"
    }
   ],
   "source": [
    "a is b"
   ]
  },
  {
   "cell_type": "code",
   "execution_count": 13,
   "metadata": {
    "ExecuteTime": {
     "end_time": "2019-01-11T08:35:07.083701Z",
     "start_time": "2019-01-11T08:35:07.081116Z"
    }
   },
   "outputs": [
    {
     "data": {
      "text/plain": [
       "float"
      ]
     },
     "execution_count": 13,
     "metadata": {},
     "output_type": "execute_result"
    }
   ],
   "source": [
    "type(b)"
   ]
  },
  {
   "cell_type": "code",
   "execution_count": 14,
   "metadata": {
    "ExecuteTime": {
     "end_time": "2019-01-11T08:35:07.088023Z",
     "start_time": "2019-01-11T08:35:07.084908Z"
    }
   },
   "outputs": [
    {
     "data": {
      "text/plain": [
       "int"
      ]
     },
     "execution_count": 14,
     "metadata": {},
     "output_type": "execute_result"
    }
   ],
   "source": [
    "type(c)"
   ]
  },
  {
   "cell_type": "code",
   "execution_count": 15,
   "metadata": {
    "ExecuteTime": {
     "end_time": "2019-01-11T08:35:07.098592Z",
     "start_time": "2019-01-11T08:35:07.096297Z"
    }
   },
   "outputs": [
    {
     "data": {
      "text/plain": [
       "float"
      ]
     },
     "execution_count": 15,
     "metadata": {},
     "output_type": "execute_result"
    }
   ],
   "source": [
    "type(b+c)"
   ]
  },
  {
   "cell_type": "code",
   "execution_count": 16,
   "metadata": {
    "ExecuteTime": {
     "end_time": "2019-01-11T08:35:07.103288Z",
     "start_time": "2019-01-11T08:35:07.099786Z"
    }
   },
   "outputs": [
    {
     "data": {
      "text/plain": [
       "int"
      ]
     },
     "execution_count": 16,
     "metadata": {},
     "output_type": "execute_result"
    }
   ],
   "source": [
    "type(c+c)"
   ]
  },
  {
   "cell_type": "code",
   "execution_count": 17,
   "metadata": {
    "ExecuteTime": {
     "end_time": "2019-01-11T08:35:07.111473Z",
     "start_time": "2019-01-11T08:35:07.108914Z"
    }
   },
   "outputs": [
    {
     "data": {
      "text/plain": [
       "float"
      ]
     },
     "execution_count": 17,
     "metadata": {},
     "output_type": "execute_result"
    }
   ],
   "source": [
    "type(b/c)"
   ]
  },
  {
   "cell_type": "code",
   "execution_count": 18,
   "metadata": {
    "ExecuteTime": {
     "end_time": "2019-01-11T08:35:07.123263Z",
     "start_time": "2019-01-11T08:35:07.120467Z"
    }
   },
   "outputs": [
    {
     "data": {
      "text/plain": [
       "float"
      ]
     },
     "execution_count": 18,
     "metadata": {},
     "output_type": "execute_result"
    }
   ],
   "source": [
    "type(c/c)"
   ]
  },
  {
   "cell_type": "code",
   "execution_count": 19,
   "metadata": {
    "ExecuteTime": {
     "end_time": "2019-01-11T08:35:07.127891Z",
     "start_time": "2019-01-11T08:35:07.124619Z"
    }
   },
   "outputs": [
    {
     "data": {
      "text/plain": [
       "int"
      ]
     },
     "execution_count": 19,
     "metadata": {},
     "output_type": "execute_result"
    }
   ],
   "source": [
    "type(c//c)"
   ]
  },
  {
   "cell_type": "code",
   "execution_count": 20,
   "metadata": {
    "ExecuteTime": {
     "end_time": "2019-01-11T08:35:07.134880Z",
     "start_time": "2019-01-11T08:35:07.132105Z"
    }
   },
   "outputs": [
    {
     "data": {
      "text/plain": [
       "int"
      ]
     },
     "execution_count": 20,
     "metadata": {},
     "output_type": "execute_result"
    }
   ],
   "source": [
    "type(c**c)"
   ]
  },
  {
   "cell_type": "code",
   "execution_count": 21,
   "metadata": {
    "ExecuteTime": {
     "end_time": "2019-01-11T08:35:07.139117Z",
     "start_time": "2019-01-11T08:35:07.136250Z"
    }
   },
   "outputs": [
    {
     "data": {
      "text/plain": [
       "float"
      ]
     },
     "execution_count": 21,
     "metadata": {},
     "output_type": "execute_result"
    }
   ],
   "source": [
    "type(c**b)"
   ]
  },
  {
   "cell_type": "markdown",
   "metadata": {},
   "source": [
    "In Python, mathematical operations between a `float` and an `int` will generally cast to a `float`. Division always returns a `float` unless a special kind is specified by `//`.\n",
    "\n",
    "<div class=\"alert alert-block alert-info\">\n",
    "\n",
    "<b>Note:</b>\n",
    "<br>\n",
    "`**` is the power symbol in Python. `x**y` returns `x` to the power of `y`. An alternative is `pow(x, y)`.\n",
    "</div>"
   ]
  },
  {
   "cell_type": "code",
   "execution_count": null,
   "metadata": {},
   "outputs": [],
   "source": []
  },
  {
   "cell_type": "markdown",
   "metadata": {},
   "source": [
    "### Types"
   ]
  },
  {
   "cell_type": "markdown",
   "metadata": {},
   "source": [
    "#### Strings"
   ]
  },
  {
   "cell_type": "markdown",
   "metadata": {},
   "source": [
    "Strings are sequences of characters of any length. They can be written with single, double, or triple quotes. Triple quoted strings can have multiple lines.\n",
    "\n",
    "Certain special characters produce string formatting. For example, `\\n` turns into a new line when the string is printed."
   ]
  },
  {
   "cell_type": "code",
   "execution_count": 22,
   "metadata": {
    "ExecuteTime": {
     "end_time": "2019-01-11T08:35:07.503030Z",
     "start_time": "2019-01-11T08:35:07.499957Z"
    }
   },
   "outputs": [
    {
     "data": {
      "text/plain": [
       "True"
      ]
     },
     "execution_count": 22,
     "metadata": {},
     "output_type": "execute_result"
    }
   ],
   "source": [
    "'Hello' == \"Hello\" == \"\"\"Hello\"\"\""
   ]
  },
  {
   "cell_type": "code",
   "execution_count": 23,
   "metadata": {
    "ExecuteTime": {
     "end_time": "2019-01-11T08:35:07.509935Z",
     "start_time": "2019-01-11T08:35:07.507314Z"
    }
   },
   "outputs": [
    {
     "name": "stdout",
     "output_type": "stream",
     "text": [
      "x\n",
      " y\n",
      "zz\n"
     ]
    }
   ],
   "source": [
    "print(\"x\\n y\\nzz\")"
   ]
  },
  {
   "cell_type": "markdown",
   "metadata": {},
   "source": [
    "It is very helpful to be able to print variables inside strings. Generally the type has to be specified:\n",
    "\n",
    "| string symbol | type |\n",
    "| --- | --- |\n",
    "| f | float |\n",
    "| d | int |\n",
    "| s | string |\n",
    "\n",
    "\n",
    "In Python 3.6+, there are three ways to format strings:\n",
    "\n",
    "1. Old style\n",
    "\n",
    " This uses the `%` to substitute variables in strings\n",
    " \n",
    " \n",
    "2. New style\n",
    "\n",
    " This uses the `str.format()` function\n",
    " \n",
    " \n",
    "3. F-strings\n",
    "\n",
    " F-strings were introduced in Python 3.6 and allow direct access to variables without requiring other functions"
   ]
  },
  {
   "cell_type": "code",
   "execution_count": 24,
   "metadata": {
    "ExecuteTime": {
     "end_time": "2019-01-11T08:35:07.613418Z",
     "start_time": "2019-01-11T08:35:07.611508Z"
    }
   },
   "outputs": [],
   "source": [
    "long_number = 245.24352164"
   ]
  },
  {
   "cell_type": "code",
   "execution_count": 25,
   "metadata": {
    "ExecuteTime": {
     "end_time": "2019-01-11T08:35:07.619511Z",
     "start_time": "2019-01-11T08:35:07.617227Z"
    }
   },
   "outputs": [
    {
     "data": {
      "text/plain": [
       "'The number 245.243522 is long'"
      ]
     },
     "execution_count": 25,
     "metadata": {},
     "output_type": "execute_result"
    }
   ],
   "source": [
    "# Old style string formatting:\n",
    "\"The number %f is long\" % (long_number)"
   ]
  },
  {
   "cell_type": "code",
   "execution_count": 26,
   "metadata": {
    "ExecuteTime": {
     "end_time": "2019-01-11T08:35:07.626004Z",
     "start_time": "2019-01-11T08:35:07.623226Z"
    }
   },
   "outputs": [
    {
     "data": {
      "text/plain": [
       "'The number     245.24 is long'"
      ]
     },
     "execution_count": 26,
     "metadata": {},
     "output_type": "execute_result"
    }
   ],
   "source": [
    "\"The number %10.2f is %s\" % (long_number, \"long\")"
   ]
  },
  {
   "cell_type": "code",
   "execution_count": 27,
   "metadata": {
    "ExecuteTime": {
     "end_time": "2019-01-11T08:35:07.632142Z",
     "start_time": "2019-01-11T08:35:07.629662Z"
    }
   },
   "outputs": [
    {
     "data": {
      "text/plain": [
       "'The number 245.24352164 is long'"
      ]
     },
     "execution_count": 27,
     "metadata": {},
     "output_type": "execute_result"
    }
   ],
   "source": [
    "# New style string formatting:\n",
    "\"The number {} is long\".format(long_number)"
   ]
  },
  {
   "cell_type": "code",
   "execution_count": 28,
   "metadata": {
    "ExecuteTime": {
     "end_time": "2019-01-11T08:35:07.638489Z",
     "start_time": "2019-01-11T08:35:07.635921Z"
    }
   },
   "outputs": [
    {
     "data": {
      "text/plain": [
       "'The number     245.24 is long'"
      ]
     },
     "execution_count": 28,
     "metadata": {},
     "output_type": "execute_result"
    }
   ],
   "source": [
    "\"The number {:10.2f} is {}\".format(long_number, \"long\")"
   ]
  },
  {
   "cell_type": "code",
   "execution_count": 29,
   "metadata": {
    "ExecuteTime": {
     "end_time": "2019-01-11T08:35:07.644642Z",
     "start_time": "2019-01-11T08:35:07.642293Z"
    }
   },
   "outputs": [
    {
     "data": {
      "text/plain": [
       "'The number 245.24352164 is long'"
      ]
     },
     "execution_count": 29,
     "metadata": {},
     "output_type": "execute_result"
    }
   ],
   "source": [
    "# Using f-strings (Python 3.6+ only)\n",
    "# f-strings can access variables in \n",
    "# the namespace directly\n",
    "f\"The number {long_number} is long\""
   ]
  },
  {
   "cell_type": "markdown",
   "metadata": {},
   "source": [
    "The `+` operator concatenates strings. Other operators, such as `-`, will raise an error."
   ]
  },
  {
   "cell_type": "code",
   "execution_count": 30,
   "metadata": {
    "ExecuteTime": {
     "end_time": "2019-01-11T08:35:07.742696Z",
     "start_time": "2019-01-11T08:35:07.740100Z"
    }
   },
   "outputs": [
    {
     "data": {
      "text/plain": [
       "'aa bb'"
      ]
     },
     "execution_count": 30,
     "metadata": {},
     "output_type": "execute_result"
    }
   ],
   "source": [
    "\"aa\" + \" \" + \"bb\""
   ]
  },
  {
   "cell_type": "code",
   "execution_count": 31,
   "metadata": {
    "ExecuteTime": {
     "end_time": "2019-01-11T08:35:07.780690Z",
     "start_time": "2019-01-11T08:35:07.746369Z"
    }
   },
   "outputs": [
    {
     "ename": "TypeError",
     "evalue": "unsupported operand type(s) for -: 'str' and 'str'",
     "output_type": "error",
     "traceback": [
      "\u001b[0;31m---------------------------------\u001b[0m",
      "\u001b[0;31mTypeError\u001b[0mTraceback (most recent call last)",
      "\u001b[0;32m<ipython-input-31-c066d5a28b73>\u001b[0m in \u001b[0;36m<module>\u001b[0;34m\u001b[0m\n\u001b[0;32m----> 1\u001b[0;31m \u001b[0;34m\"aabb\"\u001b[0m \u001b[0;34m-\u001b[0m \u001b[0;34m\"bb\"\u001b[0m\u001b[0;34m\u001b[0m\u001b[0;34m\u001b[0m\u001b[0m\n\u001b[0m",
      "\u001b[0;31mTypeError\u001b[0m: unsupported operand type(s) for -: 'str' and 'str'"
     ]
    }
   ],
   "source": [
    "\"aabb\" - \"bb\""
   ]
  },
  {
   "cell_type": "markdown",
   "metadata": {},
   "source": [
    "#### Lists"
   ]
  },
  {
   "cell_type": "markdown",
   "metadata": {},
   "source": [
    "Lists are ordered collections of arbitrary objects. They are mutable, meaning that they can be modified after they are created.\n",
    "\n",
    "Lists are created and represented by square brackets `[]`. They are **indexed** from 0, so `x[y]` will return the `y-1`th element of x. Lists can also be **sliced** into smaller lists.\n",
    "\n",
    "Slicing notation is shown here:\n",
    "\n",
    "`[start (inclusive) : end (exclusive) : step]`\n",
    "\n",
    "Each field of that can be unspecified. For example:\n",
    "\n",
    "`x[1::3]` will take every 3rd element of `x`, starting from the second.\n",
    "\n",
    "Indexes can be negative."
   ]
  },
  {
   "cell_type": "code",
   "execution_count": 32,
   "metadata": {
    "ExecuteTime": {
     "end_time": "2019-01-11T08:35:07.945992Z",
     "start_time": "2019-01-11T08:35:07.943164Z"
    }
   },
   "outputs": [],
   "source": [
    "months = [\"January\", \"February\", \"March\", \"April\", \"May\", \"June\", \"July\", \"August\", \"September\", \"October\", \"November\", \"December\"]"
   ]
  },
  {
   "cell_type": "code",
   "execution_count": 33,
   "metadata": {
    "ExecuteTime": {
     "end_time": "2019-01-11T08:35:07.951909Z",
     "start_time": "2019-01-11T08:35:07.949303Z"
    }
   },
   "outputs": [
    {
     "data": {
      "text/plain": [
       "'November'"
      ]
     },
     "execution_count": 33,
     "metadata": {},
     "output_type": "execute_result"
    }
   ],
   "source": [
    "months[-2] #returns second last element"
   ]
  },
  {
   "cell_type": "markdown",
   "metadata": {},
   "source": [
    "<div class=\"alert alert-block alert-success\">\n",
    "\n",
    "<b>Exercise:</b>\n",
    "<br>\n",
    "Can you slice the `months` list from April (the 4th element) to November (the 11th), taking every 2nd month? \n",
    "</div>"
   ]
  },
  {
   "cell_type": "markdown",
   "metadata": {},
   "source": [
    "You can also change elements of the list by using an index, or append to it, or insert an element at a specific position."
   ]
  },
  {
   "cell_type": "code",
   "execution_count": 34,
   "metadata": {
    "ExecuteTime": {
     "end_time": "2019-01-11T08:35:08.156388Z",
     "start_time": "2019-01-11T08:35:08.154256Z"
    }
   },
   "outputs": [],
   "source": [
    "months[4] = \"New month\""
   ]
  },
  {
   "cell_type": "code",
   "execution_count": 35,
   "metadata": {
    "ExecuteTime": {
     "end_time": "2019-01-11T08:35:08.162602Z",
     "start_time": "2019-01-11T08:35:08.160242Z"
    }
   },
   "outputs": [],
   "source": [
    "months.append(\"Elevenember\")"
   ]
  },
  {
   "cell_type": "code",
   "execution_count": 36,
   "metadata": {
    "ExecuteTime": {
     "end_time": "2019-01-11T08:35:08.168067Z",
     "start_time": "2019-01-11T08:35:08.166008Z"
    }
   },
   "outputs": [],
   "source": [
    "months.insert(6, \"Sol\") # Inserts 'Sol' at index 6, ie 7th position"
   ]
  },
  {
   "cell_type": "code",
   "execution_count": 37,
   "metadata": {
    "ExecuteTime": {
     "end_time": "2019-01-11T08:35:08.174060Z",
     "start_time": "2019-01-11T08:35:08.171434Z"
    }
   },
   "outputs": [
    {
     "data": {
      "text/plain": [
       "['January',\n",
       " 'February',\n",
       " 'March',\n",
       " 'April',\n",
       " 'New month',\n",
       " 'June',\n",
       " 'Sol',\n",
       " 'July',\n",
       " 'August',\n",
       " 'September',\n",
       " 'October',\n",
       " 'November',\n",
       " 'December',\n",
       " 'Elevenember']"
      ]
     },
     "execution_count": 37,
     "metadata": {},
     "output_type": "execute_result"
    }
   ],
   "source": [
    "months"
   ]
  },
  {
   "cell_type": "code",
   "execution_count": 38,
   "metadata": {
    "ExecuteTime": {
     "end_time": "2019-01-11T08:35:08.180581Z",
     "start_time": "2019-01-11T08:35:08.177958Z"
    }
   },
   "outputs": [
    {
     "data": {
      "text/plain": [
       "14"
      ]
     },
     "execution_count": 38,
     "metadata": {},
     "output_type": "execute_result"
    }
   ],
   "source": [
    "len(months) #length of the list"
   ]
  },
  {
   "cell_type": "markdown",
   "metadata": {},
   "source": [
    "Lists can hold any number of objects of different types. You can have a list of lists, for example."
   ]
  },
  {
   "cell_type": "code",
   "execution_count": 39,
   "metadata": {
    "ExecuteTime": {
     "end_time": "2019-01-11T08:35:08.294391Z",
     "start_time": "2019-01-11T08:35:08.292410Z"
    }
   },
   "outputs": [],
   "source": [
    "list_of_lists = [[1,2,3], [4,5,6], True, None]"
   ]
  },
  {
   "cell_type": "code",
   "execution_count": 40,
   "metadata": {
    "ExecuteTime": {
     "end_time": "2019-01-11T08:35:08.301093Z",
     "start_time": "2019-01-11T08:35:08.298286Z"
    }
   },
   "outputs": [
    {
     "data": {
      "text/plain": [
       "[4, 5, 6]"
      ]
     },
     "execution_count": 40,
     "metadata": {},
     "output_type": "execute_result"
    }
   ],
   "source": [
    "list_of_lists[1]"
   ]
  },
  {
   "cell_type": "code",
   "execution_count": 41,
   "metadata": {
    "ExecuteTime": {
     "end_time": "2019-01-11T08:35:08.307605Z",
     "start_time": "2019-01-11T08:35:08.304933Z"
    }
   },
   "outputs": [
    {
     "data": {
      "text/plain": [
       "6"
      ]
     },
     "execution_count": 41,
     "metadata": {},
     "output_type": "execute_result"
    }
   ],
   "source": [
    "list_of_lists[1][2]"
   ]
  },
  {
   "cell_type": "markdown",
   "metadata": {},
   "source": [
    "#### Tuples"
   ]
  },
  {
   "cell_type": "markdown",
   "metadata": {},
   "source": [
    "Tuples are ordered collections of objects, represented with `()`. They are quite similar to lists but cannot be modified after creation, so methods such as `append` and `insert` won't work on them.\n",
    "\n",
    "Tuples and Lists can be converted between each other."
   ]
  },
  {
   "cell_type": "code",
   "execution_count": 42,
   "metadata": {
    "ExecuteTime": {
     "end_time": "2019-01-11T08:35:08.527856Z",
     "start_time": "2019-01-11T08:35:08.524936Z"
    }
   },
   "outputs": [
    {
     "data": {
      "text/plain": [
       "('January',\n",
       " 'February',\n",
       " 'March',\n",
       " 'April',\n",
       " 'New month',\n",
       " 'June',\n",
       " 'Sol',\n",
       " 'July',\n",
       " 'August',\n",
       " 'September',\n",
       " 'October',\n",
       " 'November',\n",
       " 'December',\n",
       " 'Elevenember')"
      ]
     },
     "execution_count": 42,
     "metadata": {},
     "output_type": "execute_result"
    }
   ],
   "source": [
    "month_tuple = tuple(months)\n",
    "month_tuple"
   ]
  },
  {
   "cell_type": "code",
   "execution_count": 43,
   "metadata": {
    "ExecuteTime": {
     "end_time": "2019-01-11T08:35:08.536502Z",
     "start_time": "2019-01-11T08:35:08.532337Z"
    }
   },
   "outputs": [
    {
     "ename": "TypeError",
     "evalue": "'tuple' object does not support item assignment",
     "output_type": "error",
     "traceback": [
      "\u001b[0;31m---------------------------------\u001b[0m",
      "\u001b[0;31mTypeError\u001b[0mTraceback (most recent call last)",
      "\u001b[0;32m<ipython-input-43-4c24b4afc98b>\u001b[0m in \u001b[0;36m<module>\u001b[0;34m\u001b[0m\n\u001b[1;32m      1\u001b[0m \u001b[0;31m# You should get an error here\u001b[0m\u001b[0;34m\u001b[0m\u001b[0;34m\u001b[0m\u001b[0;34m\u001b[0m\u001b[0m\n\u001b[0;32m----> 2\u001b[0;31m \u001b[0mmonth_tuple\u001b[0m\u001b[0;34m[\u001b[0m\u001b[0;36m1\u001b[0m\u001b[0;34m]\u001b[0m \u001b[0;34m=\u001b[0m \u001b[0;34m'changed'\u001b[0m\u001b[0;34m\u001b[0m\u001b[0;34m\u001b[0m\u001b[0m\n\u001b[0m",
      "\u001b[0;31mTypeError\u001b[0m: 'tuple' object does not support item assignment"
     ]
    }
   ],
   "source": [
    "# You should get an error here\n",
    "month_tuple[1] = 'changed'"
   ]
  },
  {
   "cell_type": "markdown",
   "metadata": {},
   "source": [
    "#### Sets"
   ]
  },
  {
   "cell_type": "markdown",
   "metadata": {},
   "source": [
    "Sets are unordered collections of unique elements,, represented with braces `{}`. They can be converted to and from tuples and lists, but order will not be kept. [Set operations are found here.](https://www.programiz.com/python-programming/set#operations)\n",
    "\n",
    "As dictionaries are also represented with `{}`, an empty set must be declared with the function `set()`."
   ]
  },
  {
   "cell_type": "code",
   "execution_count": 44,
   "metadata": {
    "ExecuteTime": {
     "end_time": "2019-01-11T08:35:08.798780Z",
     "start_time": "2019-01-11T08:35:08.796324Z"
    }
   },
   "outputs": [
    {
     "name": "stdout",
     "output_type": "stream",
     "text": [
      "{'Sol', 'February', 'November', 'Elevenember', 'October', 'January', 'New month', 'March', 'December', 'June', 'April', 'August', 'September', 'July'}\n"
     ]
    }
   ],
   "source": [
    "month_set = set(months)\n",
    "print(month_set)"
   ]
  },
  {
   "cell_type": "code",
   "execution_count": 45,
   "metadata": {
    "ExecuteTime": {
     "end_time": "2019-01-11T08:35:08.805857Z",
     "start_time": "2019-01-11T08:35:08.803180Z"
    }
   },
   "outputs": [
    {
     "data": {
      "text/plain": [
       "dict"
      ]
     },
     "execution_count": 45,
     "metadata": {},
     "output_type": "execute_result"
    }
   ],
   "source": [
    "empty = {}\n",
    "type(empty)"
   ]
  },
  {
   "cell_type": "code",
   "execution_count": 46,
   "metadata": {
    "ExecuteTime": {
     "end_time": "2019-01-11T08:35:08.812783Z",
     "start_time": "2019-01-11T08:35:08.810287Z"
    }
   },
   "outputs": [
    {
     "data": {
      "text/plain": [
       "set"
      ]
     },
     "execution_count": 46,
     "metadata": {},
     "output_type": "execute_result"
    }
   ],
   "source": [
    "empty_set = set()\n",
    "type(empty_set)"
   ]
  },
  {
   "cell_type": "code",
   "execution_count": 47,
   "metadata": {
    "ExecuteTime": {
     "end_time": "2019-01-11T08:35:08.818764Z",
     "start_time": "2019-01-11T08:35:08.816849Z"
    }
   },
   "outputs": [],
   "source": [
    "subset = set(months[3:4])"
   ]
  },
  {
   "cell_type": "code",
   "execution_count": 48,
   "metadata": {
    "ExecuteTime": {
     "end_time": "2019-01-11T08:35:08.825191Z",
     "start_time": "2019-01-11T08:35:08.822351Z"
    }
   },
   "outputs": [
    {
     "data": {
      "text/plain": [
       "{'April',\n",
       " 'August',\n",
       " 'December',\n",
       " 'Elevenember',\n",
       " 'February',\n",
       " 'January',\n",
       " 'July',\n",
       " 'June',\n",
       " 'March',\n",
       " 'New month',\n",
       " 'November',\n",
       " 'October',\n",
       " 'September',\n",
       " 'Sol'}"
      ]
     },
     "execution_count": 48,
     "metadata": {},
     "output_type": "execute_result"
    }
   ],
   "source": [
    "subset.union(month_set)"
   ]
  },
  {
   "cell_type": "code",
   "execution_count": 49,
   "metadata": {
    "ExecuteTime": {
     "end_time": "2019-01-11T08:35:08.831023Z",
     "start_time": "2019-01-11T08:35:08.828541Z"
    }
   },
   "outputs": [
    {
     "data": {
      "text/plain": [
       "{'April'}"
      ]
     },
     "execution_count": 49,
     "metadata": {},
     "output_type": "execute_result"
    }
   ],
   "source": [
    "subset.intersection(month_set)"
   ]
  },
  {
   "cell_type": "markdown",
   "metadata": {},
   "source": [
    "The `-` operator will take the difference between two sets. `|` is the union operator, while `&` returns the intersection."
   ]
  },
  {
   "cell_type": "code",
   "execution_count": 50,
   "metadata": {
    "ExecuteTime": {
     "end_time": "2019-01-11T08:35:08.969176Z",
     "start_time": "2019-01-11T08:35:08.966450Z"
    }
   },
   "outputs": [
    {
     "data": {
      "text/plain": [
       "{'August',\n",
       " 'December',\n",
       " 'Elevenember',\n",
       " 'February',\n",
       " 'January',\n",
       " 'July',\n",
       " 'June',\n",
       " 'March',\n",
       " 'New month',\n",
       " 'November',\n",
       " 'October',\n",
       " 'September',\n",
       " 'Sol'}"
      ]
     },
     "execution_count": 50,
     "metadata": {},
     "output_type": "execute_result"
    }
   ],
   "source": [
    "month_set - subset"
   ]
  },
  {
   "cell_type": "code",
   "execution_count": 51,
   "metadata": {
    "ExecuteTime": {
     "end_time": "2019-01-11T08:35:08.975861Z",
     "start_time": "2019-01-11T08:35:08.973208Z"
    }
   },
   "outputs": [
    {
     "data": {
      "text/plain": [
       "{'April'}"
      ]
     },
     "execution_count": 51,
     "metadata": {},
     "output_type": "execute_result"
    }
   ],
   "source": [
    "subset & month_set"
   ]
  },
  {
   "cell_type": "markdown",
   "metadata": {},
   "source": [
    "#### Dictionaries"
   ]
  },
  {
   "cell_type": "markdown",
   "metadata": {},
   "source": [
    "Dictionaries are an unordered mapping from immutable keys to values. They are represented with the braces `{}`. Adding or looking up a key-value pair uses the indexing `[]` square brackets.\n",
    "\n",
    "As with lists and tuples, dictionaries can be nested to form dictionaries of dictionaries."
   ]
  },
  {
   "cell_type": "code",
   "execution_count": 52,
   "metadata": {
    "ExecuteTime": {
     "end_time": "2019-01-11T08:35:09.250585Z",
     "start_time": "2019-01-11T08:35:09.248438Z"
    }
   },
   "outputs": [],
   "source": [
    "student_1 = {'Name': 'Alex',\n",
    "            'Age': 11,\n",
    "            'Height': 165,\n",
    "            'Favourite animal': 'octopus',\n",
    "            'Has pen license': False}"
   ]
  },
  {
   "cell_type": "code",
   "execution_count": 53,
   "metadata": {
    "ExecuteTime": {
     "end_time": "2019-01-11T08:35:09.257240Z",
     "start_time": "2019-01-11T08:35:09.254637Z"
    }
   },
   "outputs": [
    {
     "data": {
      "text/plain": [
       "'Alex'"
      ]
     },
     "execution_count": 53,
     "metadata": {},
     "output_type": "execute_result"
    }
   ],
   "source": [
    "student_1['Name']"
   ]
  },
  {
   "cell_type": "code",
   "execution_count": 54,
   "metadata": {
    "ExecuteTime": {
     "end_time": "2019-01-11T08:35:09.264375Z",
     "start_time": "2019-01-11T08:35:09.261696Z"
    }
   },
   "outputs": [
    {
     "data": {
      "text/plain": [
       "False"
      ]
     },
     "execution_count": 54,
     "metadata": {},
     "output_type": "execute_result"
    }
   ],
   "source": [
    "student_1['Has pen license']"
   ]
  },
  {
   "cell_type": "code",
   "execution_count": 55,
   "metadata": {
    "ExecuteTime": {
     "end_time": "2019-01-11T08:35:09.270591Z",
     "start_time": "2019-01-11T08:35:09.268663Z"
    }
   },
   "outputs": [],
   "source": [
    "student_1['Favourite colour'] = 'blue'"
   ]
  },
  {
   "cell_type": "code",
   "execution_count": 56,
   "metadata": {
    "ExecuteTime": {
     "end_time": "2019-01-11T08:35:09.277213Z",
     "start_time": "2019-01-11T08:35:09.274340Z"
    }
   },
   "outputs": [
    {
     "data": {
      "text/plain": [
       "{'Name': 'Alex',\n",
       " 'Age': 11,\n",
       " 'Height': 165,\n",
       " 'Favourite animal': 'octopus',\n",
       " 'Has pen license': False,\n",
       " 'Favourite colour': 'blue'}"
      ]
     },
     "execution_count": 56,
     "metadata": {},
     "output_type": "execute_result"
    }
   ],
   "source": [
    "student_1"
   ]
  },
  {
   "cell_type": "code",
   "execution_count": 57,
   "metadata": {
    "ExecuteTime": {
     "end_time": "2019-01-11T08:35:09.284091Z",
     "start_time": "2019-01-11T08:35:09.281398Z"
    }
   },
   "outputs": [
    {
     "data": {
      "text/plain": [
       "dict_keys(['Name', 'Age', 'Height', 'Favourite animal', 'Has pen license', 'Favourite colour'])"
      ]
     },
     "execution_count": 57,
     "metadata": {},
     "output_type": "execute_result"
    }
   ],
   "source": [
    "student_1.keys()"
   ]
  },
  {
   "cell_type": "code",
   "execution_count": 58,
   "metadata": {
    "ExecuteTime": {
     "end_time": "2019-01-11T08:35:09.290623Z",
     "start_time": "2019-01-11T08:35:09.287832Z"
    }
   },
   "outputs": [
    {
     "data": {
      "text/plain": [
       "dict_values(['Alex', 11, 165, 'octopus', False, 'blue'])"
      ]
     },
     "execution_count": 58,
     "metadata": {},
     "output_type": "execute_result"
    }
   ],
   "source": [
    "student_1.values()"
   ]
  },
  {
   "cell_type": "code",
   "execution_count": 59,
   "metadata": {
    "ExecuteTime": {
     "end_time": "2019-01-11T08:35:09.296577Z",
     "start_time": "2019-01-11T08:35:09.294790Z"
    }
   },
   "outputs": [],
   "source": [
    "school = {'Alex': student_1}"
   ]
  },
  {
   "cell_type": "code",
   "execution_count": 60,
   "metadata": {
    "ExecuteTime": {
     "end_time": "2019-01-11T08:35:09.300421Z",
     "start_time": "2019-01-11T08:35:09.297926Z"
    }
   },
   "outputs": [
    {
     "data": {
      "text/plain": [
       "{'Name': 'Alex',\n",
       " 'Age': 11,\n",
       " 'Height': 165,\n",
       " 'Favourite animal': 'octopus',\n",
       " 'Has pen license': False,\n",
       " 'Favourite colour': 'blue'}"
      ]
     },
     "execution_count": 60,
     "metadata": {},
     "output_type": "execute_result"
    }
   ],
   "source": [
    "school['Alex']"
   ]
  },
  {
   "cell_type": "code",
   "execution_count": 61,
   "metadata": {
    "ExecuteTime": {
     "end_time": "2019-01-11T08:35:09.308166Z",
     "start_time": "2019-01-11T08:35:09.303805Z"
    }
   },
   "outputs": [
    {
     "ename": "KeyError",
     "evalue": "'Blex'",
     "output_type": "error",
     "traceback": [
      "\u001b[0;31m---------------------------------\u001b[0m",
      "\u001b[0;31mKeyError\u001b[0mTraceback (most recent call last)",
      "\u001b[0;32m<ipython-input-61-79ad98bef911>\u001b[0m in \u001b[0;36m<module>\u001b[0;34m\u001b[0m\n\u001b[0;32m----> 1\u001b[0;31m \u001b[0mschool\u001b[0m\u001b[0;34m[\u001b[0m\u001b[0;34m'Blex'\u001b[0m\u001b[0;34m]\u001b[0m\u001b[0;34m\u001b[0m\u001b[0;34m\u001b[0m\u001b[0m\n\u001b[0m",
      "\u001b[0;31mKeyError\u001b[0m: 'Blex'"
     ]
    }
   ],
   "source": [
    "school['Blex']"
   ]
  },
  {
   "cell_type": "markdown",
   "metadata": {},
   "source": [
    "### Loops"
   ]
  },
  {
   "cell_type": "markdown",
   "metadata": {},
   "source": [
    "#### if, elif, else"
   ]
  },
  {
   "cell_type": "markdown",
   "metadata": {},
   "source": [
    "Use these loops to control your code when it's dependent on some condition. `elif` and `else` are optional. You can insert as many `elif` clauses as you like, and they will be checked in order."
   ]
  },
  {
   "cell_type": "code",
   "execution_count": 62,
   "metadata": {
    "ExecuteTime": {
     "end_time": "2019-01-11T08:35:09.765505Z",
     "start_time": "2019-01-11T08:35:09.762186Z"
    }
   },
   "outputs": [
    {
     "name": "stdout",
     "output_type": "stream",
     "text": [
      "1 < 2\n"
     ]
    }
   ],
   "source": [
    "if 1 > 3:\n",
    "    print(\"2 > 3\")\n",
    "elif 1 < 3 and 1 > 2:\n",
    "    print(\"1 is between 2 and 3\")\n",
    "elif 1 < 2:\n",
    "    print(\"1 < 2\")\n",
    "else:\n",
    "    print(\"None of the above\")"
   ]
  },
  {
   "cell_type": "markdown",
   "metadata": {},
   "source": [
    "#### For"
   ]
  },
  {
   "cell_type": "markdown",
   "metadata": {},
   "source": [
    "For loops iterate through collections, such as tuples, lists, dictionaries, or strings (which can be thought of as lists of characters)."
   ]
  },
  {
   "cell_type": "code",
   "execution_count": 63,
   "metadata": {
    "ExecuteTime": {
     "end_time": "2019-01-11T08:35:10.024276Z",
     "start_time": "2019-01-11T08:35:10.021813Z"
    }
   },
   "outputs": [
    {
     "name": "stdout",
     "output_type": "stream",
     "text": [
      "1\n",
      "4\n",
      "7\n"
     ]
    }
   ],
   "source": [
    "for i in range(1, 10, 3): # every 3rd number from 1 (inclusive) to 10 (exclusive)\n",
    "    print(i)"
   ]
  },
  {
   "cell_type": "code",
   "execution_count": 64,
   "metadata": {
    "ExecuteTime": {
     "end_time": "2019-01-11T08:35:10.031618Z",
     "start_time": "2019-01-11T08:35:10.029042Z"
    }
   },
   "outputs": [
    {
     "name": "stdout",
     "output_type": "stream",
     "text": [
      "2\n",
      "3\n",
      "4\n",
      "5\n",
      "6\n"
     ]
    }
   ],
   "source": [
    "for i in range(5): # Only the exclusive of the range is essential to the function \n",
    "    print(i+2)"
   ]
  },
  {
   "cell_type": "code",
   "execution_count": 65,
   "metadata": {
    "ExecuteTime": {
     "end_time": "2019-01-11T08:35:10.038738Z",
     "start_time": "2019-01-11T08:35:10.036073Z"
    }
   },
   "outputs": [
    {
     "name": "stdout",
     "output_type": "stream",
     "text": [
      "M\n",
      "o\n",
      "n\n",
      "d\n",
      "a\n",
      "y\n"
     ]
    }
   ],
   "source": [
    "for x in \"Monday\":\n",
    "    print(x)"
   ]
  },
  {
   "cell_type": "code",
   "execution_count": 66,
   "metadata": {
    "ExecuteTime": {
     "end_time": "2019-01-11T08:35:10.046540Z",
     "start_time": "2019-01-11T08:35:10.043291Z"
    }
   },
   "outputs": [
    {
     "name": "stdout",
     "output_type": "stream",
     "text": [
      "list\n",
      "l\n",
      "i\n",
      "s\n",
      "t\n",
      "of\n",
      "o\n",
      "f\n",
      "words\n",
      "w\n",
      "o\n",
      "r\n",
      "d\n",
      "s\n"
     ]
    }
   ],
   "source": [
    "words = ['list', 'of', 'words']\n",
    "for d in words:\n",
    "    print(d)\n",
    "    for x in d:\n",
    "        print(x)"
   ]
  },
  {
   "cell_type": "markdown",
   "metadata": {},
   "source": [
    "`enumerate` is a handy function here. It returns the index and value of each element in order."
   ]
  },
  {
   "cell_type": "code",
   "execution_count": 67,
   "metadata": {
    "ExecuteTime": {
     "end_time": "2019-01-11T08:35:10.178719Z",
     "start_time": "2019-01-11T08:35:10.176086Z"
    }
   },
   "outputs": [
    {
     "name": "stdout",
     "output_type": "stream",
     "text": [
      "The index is 0\n",
      "list\n",
      "The index is 1\n",
      "of\n",
      "The index is 2\n",
      "words\n"
     ]
    }
   ],
   "source": [
    "for index, word in enumerate(words):\n",
    "    print('The index is', index)\n",
    "    print(word)"
   ]
  },
  {
   "cell_type": "markdown",
   "metadata": {},
   "source": [
    "#### While"
   ]
  },
  {
   "cell_type": "markdown",
   "metadata": {},
   "source": [
    "While loops continue executing the code in the block while a condition remains true."
   ]
  },
  {
   "cell_type": "code",
   "execution_count": 68,
   "metadata": {
    "ExecuteTime": {
     "end_time": "2019-01-11T08:35:10.436620Z",
     "start_time": "2019-01-11T08:35:10.433885Z"
    }
   },
   "outputs": [
    {
     "name": "stdout",
     "output_type": "stream",
     "text": [
      "Iteration 1\n",
      "Iteration 2\n",
      "Iteration 3\n",
      "Iteration 4\n",
      "Iteration 5\n"
     ]
    }
   ],
   "source": [
    "counter = 1\n",
    "\n",
    "while counter <= 5:\n",
    "    print(\"Iteration %d\" % counter)\n",
    "    counter += 1 # same as counter = counter +1"
   ]
  },
  {
   "cell_type": "markdown",
   "metadata": {},
   "source": [
    "### Functions"
   ]
  },
  {
   "cell_type": "markdown",
   "metadata": {
    "ExecuteTime": {
     "end_time": "2019-01-11T05:35:08.659076Z",
     "start_time": "2019-01-11T05:35:08.654014Z"
    }
   },
   "source": [
    "Functions allow you to make your code modular and reusable. The syntax goes:\n",
    "\n",
    "```\n",
    "def function_name(all, my, variables):\n",
    "    value = all * my + variables\n",
    "    return value\n",
    "```\n",
    "\n",
    "A function that does not return anything effectively returns `None`."
   ]
  },
  {
   "cell_type": "code",
   "execution_count": 69,
   "metadata": {
    "ExecuteTime": {
     "end_time": "2019-01-11T08:35:10.703843Z",
     "start_time": "2019-01-11T08:35:10.701464Z"
    }
   },
   "outputs": [],
   "source": [
    "def product(x, y):\n",
    "    return x * y"
   ]
  },
  {
   "cell_type": "code",
   "execution_count": 70,
   "metadata": {
    "ExecuteTime": {
     "end_time": "2019-01-11T08:35:10.710339Z",
     "start_time": "2019-01-11T08:35:10.707419Z"
    }
   },
   "outputs": [
    {
     "data": {
      "text/plain": [
       "12"
      ]
     },
     "execution_count": 70,
     "metadata": {},
     "output_type": "execute_result"
    }
   ],
   "source": [
    "product(3, 4)"
   ]
  },
  {
   "cell_type": "markdown",
   "metadata": {},
   "source": [
    "It is common to call functions from other functions, as well as to pass in keyword arguments. Key word arguments don't rely on argument order for parsing, and they also have default values."
   ]
  },
  {
   "cell_type": "code",
   "execution_count": 71,
   "metadata": {
    "ExecuteTime": {
     "end_time": "2019-01-11T08:35:10.846446Z",
     "start_time": "2019-01-11T08:35:10.843609Z"
    }
   },
   "outputs": [],
   "source": [
    "def print_phrase():\n",
    "    print(\"phrase\")\n",
    "    \n",
    "def print_other():\n",
    "    print(\"other\")\n",
    "\n",
    "def print_many(func, n=3, m=4):\n",
    "    for i in range(n):\n",
    "        func()\n",
    "    print(\"You specified n={}\".format(n))\n",
    "    print(\"You specified m={}\".format(m))\n",
    "    return m*n"
   ]
  },
  {
   "cell_type": "code",
   "execution_count": 72,
   "metadata": {
    "ExecuteTime": {
     "end_time": "2019-01-11T08:35:10.852674Z",
     "start_time": "2019-01-11T08:35:10.850131Z"
    }
   },
   "outputs": [
    {
     "name": "stdout",
     "output_type": "stream",
     "text": [
      "other\n",
      "other\n",
      "You specified n=2\n",
      "You specified m=9\n"
     ]
    },
    {
     "data": {
      "text/plain": [
       "18"
      ]
     },
     "execution_count": 72,
     "metadata": {},
     "output_type": "execute_result"
    }
   ],
   "source": [
    "print_many(print_other, 2, 9)"
   ]
  },
  {
   "cell_type": "code",
   "execution_count": 73,
   "metadata": {
    "ExecuteTime": {
     "end_time": "2019-01-11T08:35:10.858803Z",
     "start_time": "2019-01-11T08:35:10.856161Z"
    }
   },
   "outputs": [
    {
     "name": "stdout",
     "output_type": "stream",
     "text": [
      "phrase\n",
      "phrase\n",
      "phrase\n",
      "You specified n=3\n",
      "You specified m=4\n"
     ]
    },
    {
     "data": {
      "text/plain": [
       "12"
      ]
     },
     "execution_count": 73,
     "metadata": {},
     "output_type": "execute_result"
    }
   ],
   "source": [
    "print_many(print_phrase)"
   ]
  },
  {
   "cell_type": "code",
   "execution_count": 74,
   "metadata": {
    "ExecuteTime": {
     "end_time": "2019-01-11T08:35:10.863536Z",
     "start_time": "2019-01-11T08:35:10.859990Z"
    }
   },
   "outputs": [
    {
     "name": "stdout",
     "output_type": "stream",
     "text": [
      "other\n",
      "other\n",
      "other\n",
      "other\n",
      "other\n",
      "You specified n=5\n",
      "You specified m=99\n"
     ]
    }
   ],
   "source": [
    "value = print_many(print_other, m=99, n=5)"
   ]
  },
  {
   "cell_type": "code",
   "execution_count": 75,
   "metadata": {
    "ExecuteTime": {
     "end_time": "2019-01-11T08:35:10.869439Z",
     "start_time": "2019-01-11T08:35:10.867161Z"
    }
   },
   "outputs": [
    {
     "data": {
      "text/plain": [
       "495"
      ]
     },
     "execution_count": 75,
     "metadata": {},
     "output_type": "execute_result"
    }
   ],
   "source": [
    "value"
   ]
  },
  {
   "cell_type": "markdown",
   "metadata": {},
   "source": [
    "## Numpy"
   ]
  },
  {
   "cell_type": "markdown",
   "metadata": {},
   "source": [
    "Numpy arrays are multidimensional arrays of **a single** type. They act like lists, but with much less memory overhead and more analysis functionality. Numpy arrays are great for analysing regular data of one particular type.\n",
    "\n",
    "One downside is that it is expensive to change the size of an array once created, as it requires a copy. \n",
    "\n",
    "Generally numpy is imported as np."
   ]
  },
  {
   "cell_type": "code",
   "execution_count": 101,
   "metadata": {
    "ExecuteTime": {
     "end_time": "2019-01-11T08:42:05.403891Z",
     "start_time": "2019-01-11T08:42:05.400342Z"
    }
   },
   "outputs": [],
   "source": [
    "import numpy as np"
   ]
  },
  {
   "cell_type": "code",
   "execution_count": 125,
   "metadata": {
    "ExecuteTime": {
     "end_time": "2019-01-11T08:48:27.451435Z",
     "start_time": "2019-01-11T08:48:27.444898Z"
    }
   },
   "outputs": [
    {
     "data": {
      "text/plain": [
       "array([[1, 2, 3],\n",
       "       [7, 8, 9]])"
      ]
     },
     "execution_count": 125,
     "metadata": {},
     "output_type": "execute_result"
    }
   ],
   "source": [
    "# convert lists to arrays with np.array\n",
    "arr = np.array([[1, 2, 3], [7, 8, 9], [12, 6, 10], [4, 7, 9.1]])\n",
    "arr"
   ]
  },
  {
   "cell_type": "code",
   "execution_count": 121,
   "metadata": {
    "ExecuteTime": {
     "end_time": "2019-01-11T08:47:14.182256Z",
     "start_time": "2019-01-11T08:47:14.179158Z"
    }
   },
   "outputs": [
    {
     "data": {
      "text/plain": [
       "dtype('int64')"
      ]
     },
     "execution_count": 121,
     "metadata": {},
     "output_type": "execute_result"
    }
   ],
   "source": [
    "arr.dtype # type of elements in array"
   ]
  },
  {
   "cell_type": "code",
   "execution_count": 106,
   "metadata": {
    "ExecuteTime": {
     "end_time": "2019-01-11T08:43:09.959675Z",
     "start_time": "2019-01-11T08:43:09.955023Z"
    }
   },
   "outputs": [
    {
     "data": {
      "text/plain": [
       "6"
      ]
     },
     "execution_count": 106,
     "metadata": {},
     "output_type": "execute_result"
    }
   ],
   "source": [
    "arr.size # number of elements in array"
   ]
  },
  {
   "cell_type": "code",
   "execution_count": 107,
   "metadata": {
    "ExecuteTime": {
     "end_time": "2019-01-11T08:43:15.737217Z",
     "start_time": "2019-01-11T08:43:15.732872Z"
    }
   },
   "outputs": [
    {
     "data": {
      "text/plain": [
       "(2, 3)"
      ]
     },
     "execution_count": 107,
     "metadata": {},
     "output_type": "execute_result"
    }
   ],
   "source": [
    "arr.shape # shape of matrix (rows, columns)"
   ]
  },
  {
   "cell_type": "code",
   "execution_count": 112,
   "metadata": {
    "ExecuteTime": {
     "end_time": "2019-01-11T08:44:10.135692Z",
     "start_time": "2019-01-11T08:44:10.130337Z"
    }
   },
   "outputs": [
    {
     "data": {
      "text/plain": [
       "array([1, 2, 3])"
      ]
     },
     "execution_count": 112,
     "metadata": {},
     "output_type": "execute_result"
    }
   ],
   "source": [
    "arr[0] # first row"
   ]
  },
  {
   "cell_type": "code",
   "execution_count": 113,
   "metadata": {
    "ExecuteTime": {
     "end_time": "2019-01-11T08:44:16.588715Z",
     "start_time": "2019-01-11T08:44:16.585692Z"
    }
   },
   "outputs": [
    {
     "data": {
      "text/plain": [
       "array([1, 7])"
      ]
     },
     "execution_count": 113,
     "metadata": {},
     "output_type": "execute_result"
    }
   ],
   "source": [
    "arr[:, 0] # first column"
   ]
  },
  {
   "cell_type": "code",
   "execution_count": 116,
   "metadata": {
    "ExecuteTime": {
     "end_time": "2019-01-11T08:44:55.359888Z",
     "start_time": "2019-01-11T08:44:55.357153Z"
    }
   },
   "outputs": [
    {
     "data": {
      "text/plain": [
       "7"
      ]
     },
     "execution_count": 116,
     "metadata": {},
     "output_type": "execute_result"
    }
   ],
   "source": [
    "arr[1, 0] # element in second row, first column"
   ]
  },
  {
   "cell_type": "markdown",
   "metadata": {},
   "source": [
    "### Broadcasting"
   ]
  },
  {
   "cell_type": "markdown",
   "metadata": {},
   "source": [
    "Broadcasting is another important part of NumPy, and they have a <a href=\"https://docs.scipy.org/doc/numpy-1.15.0/user/basics.broadcasting.html\"> very informative page on it here.</a> Essentially, NumPy will try to align arrays when operations are performed between them, like the picture below. \n",
    "<img src=\"files/broadcasting.jpg\" width=\"500px\">\n",
    "\n",
    "Scalars are just treated as having 1 dimension. "
   ]
  },
  {
   "cell_type": "code",
   "execution_count": 119,
   "metadata": {
    "ExecuteTime": {
     "end_time": "2019-01-11T08:45:39.043926Z",
     "start_time": "2019-01-11T08:45:39.041222Z"
    }
   },
   "outputs": [
    {
     "data": {
      "text/plain": [
       "array([[ 2,  3,  4],\n",
       "       [ 8,  9, 10]])"
      ]
     },
     "execution_count": 119,
     "metadata": {},
     "output_type": "execute_result"
    }
   ],
   "source": [
    "arr + 1"
   ]
  },
  {
   "cell_type": "code",
   "execution_count": 127,
   "metadata": {
    "ExecuteTime": {
     "end_time": "2019-01-11T08:49:08.513866Z",
     "start_time": "2019-01-11T08:49:08.508750Z"
    }
   },
   "outputs": [
    {
     "data": {
      "text/plain": [
       "array([[ 1,  0,  0],\n",
       "       [49, 64, 81]])"
      ]
     },
     "execution_count": 127,
     "metadata": {},
     "output_type": "execute_result"
    }
   ],
   "source": [
    "arr * arr"
   ]
  },
  {
   "cell_type": "code",
   "execution_count": 129,
   "metadata": {
    "ExecuteTime": {
     "end_time": "2019-01-11T08:49:42.683348Z",
     "start_time": "2019-01-11T08:49:42.680012Z"
    }
   },
   "outputs": [
    {
     "data": {
      "text/plain": [
       "array([[  1,   7],\n",
       "       [  7, 194]])"
      ]
     },
     "execution_count": 129,
     "metadata": {},
     "output_type": "execute_result"
    }
   ],
   "source": [
    "# .T returns the transpose of the matrix\n",
    "arr @ arr.T # @ returns the dot product"
   ]
  },
  {
   "cell_type": "markdown",
   "metadata": {},
   "source": [
    "### Indexing"
   ]
  },
  {
   "cell_type": "markdown",
   "metadata": {},
   "source": [
    "NumPy arrays can be indexed and sliced pretty much like lists. `:` is the slice operator. The full slice notation is `i:j:k` where `i` is the starting index (inclusive), `j` is the ending index (exclusive), and `k` is the step. The following are valid slices. <a href=\"https://docs.scipy.org/doc/numpy-1.13.0/reference/arrays.indexing.html\"> [Read more] </a>"
   ]
  },
  {
   "cell_type": "code",
   "execution_count": null,
   "metadata": {},
   "outputs": [],
   "source": [
    "arr[:]  # Select all"
   ]
  },
  {
   "cell_type": "code",
   "execution_count": null,
   "metadata": {},
   "outputs": [],
   "source": [
    "arr[1:] # i=1, from second element onwards"
   ]
  },
  {
   "cell_type": "code",
   "execution_count": null,
   "metadata": {},
   "outputs": [],
   "source": [
    "arr[1:3] # i=1, j=3, second to third elements"
   ]
  },
  {
   "cell_type": "code",
   "execution_count": null,
   "metadata": {},
   "outputs": [],
   "source": [
    "arr[1::3] # from second element on, every third element"
   ]
  },
  {
   "cell_type": "markdown",
   "metadata": {},
   "source": [
    "Commas separate dimensions."
   ]
  },
  {
   "cell_type": "code",
   "execution_count": null,
   "metadata": {},
   "outputs": [],
   "source": [
    "arr[:, 0] # first column"
   ]
  },
  {
   "cell_type": "code",
   "execution_count": null,
   "metadata": {},
   "outputs": [],
   "source": [
    "arr[1, 0] # element in second row, first column"
   ]
  },
  {
   "cell_type": "code",
   "execution_count": 126,
   "metadata": {
    "ExecuteTime": {
     "end_time": "2019-01-11T08:48:30.753368Z",
     "start_time": "2019-01-11T08:48:30.750374Z"
    }
   },
   "outputs": [
    {
     "data": {
      "text/plain": [
       "array([[1, 0, 0],\n",
       "       [7, 8, 9]])"
      ]
     },
     "execution_count": 126,
     "metadata": {},
     "output_type": "execute_result"
    }
   ],
   "source": [
    "arr[:1, 1:] = 0\n",
    "arr"
   ]
  },
  {
   "cell_type": "code",
   "execution_count": 130,
   "metadata": {
    "ExecuteTime": {
     "end_time": "2019-01-11T08:49:59.672285Z",
     "start_time": "2019-01-11T08:49:59.668177Z"
    }
   },
   "outputs": [
    {
     "data": {
      "text/plain": [
       "array([[ 2,  0,  0],\n",
       "       [14, 16, 18]])"
      ]
     },
     "execution_count": 130,
     "metadata": {},
     "output_type": "execute_result"
    }
   ],
   "source": [
    "arr + arr"
   ]
  },
  {
   "cell_type": "markdown",
   "metadata": {},
   "source": [
    "Unlike lists, NumPy offers advanced indexing (or fancy indexing) with sequences such as lists or other arrays. You can use two types to index: integers (as before), or booleans."
   ]
  },
  {
   "cell_type": "code",
   "execution_count": null,
   "metadata": {},
   "outputs": [],
   "source": [
    "arr[[1,3]]"
   ]
  },
  {
   "cell_type": "code",
   "execution_count": null,
   "metadata": {},
   "outputs": [],
   "source": [
    "arr[[True, False, False, True]]"
   ]
  },
  {
   "cell_type": "markdown",
   "metadata": {},
   "source": [
    "### Axes"
   ]
  },
  {
   "cell_type": "markdown",
   "metadata": {},
   "source": [
    "In NumPy, an axis is a dimension of a multidimensional array. They are indexed from 0, along the sequence returned by `arr.shape`. It's important to keep these straight for operations that 'collapse' axes, such as `sum`."
   ]
  },
  {
   "cell_type": "code",
   "execution_count": null,
   "metadata": {},
   "outputs": [],
   "source": [
    "arr.sum(axis=0)"
   ]
  },
  {
   "cell_type": "markdown",
   "metadata": {},
   "source": [
    "Calling `sum` with the argument `axis=0` applies `sum` along the axis that is collapsed, returning an array of three elements. `axis` can take a tuple argument, in which case it will collapse along all the axes specified."
   ]
  },
  {
   "cell_type": "markdown",
   "metadata": {},
   "source": [
    "### Speed comparison to lists"
   ]
  },
  {
   "cell_type": "code",
   "execution_count": 133,
   "metadata": {
    "ExecuteTime": {
     "end_time": "2019-01-11T08:52:13.818404Z",
     "start_time": "2019-01-11T08:52:00.618809Z"
    }
   },
   "outputs": [
    {
     "name": "stdout",
     "output_type": "stream",
     "text": [
      "16.1 µs ± 103 ns per loop (mean ± std. dev. of 7 runs, 100000 loops each)\n",
      "peak memory: 85.65 MiB, increment: 0.00 MiB\n"
     ]
    }
   ],
   "source": [
    "%timeit [i**2 for i in range(100)]"
   ]
  },
  {
   "cell_type": "code",
   "execution_count": 134,
   "metadata": {
    "ExecuteTime": {
     "end_time": "2019-01-11T08:52:22.644492Z",
     "start_time": "2019-01-11T08:52:13.820014Z"
    }
   },
   "outputs": [
    {
     "name": "stdout",
     "output_type": "stream",
     "text": [
      "1.05 µs ± 17.2 ns per loop (mean ± std. dev. of 7 runs, 1000000 loops each)\n",
      "peak memory: 85.65 MiB, increment: 0.00 MiB\n"
     ]
    }
   ],
   "source": [
    "%timeit np.arange(100) **2"
   ]
  },
  {
   "cell_type": "markdown",
   "metadata": {},
   "source": [
    "### Common functions"
   ]
  },
  {
   "cell_type": "code",
   "execution_count": 135,
   "metadata": {
    "ExecuteTime": {
     "end_time": "2019-01-11T08:53:23.570334Z",
     "start_time": "2019-01-11T08:53:23.566472Z"
    }
   },
   "outputs": [
    {
     "data": {
      "text/plain": [
       "array([ 4,  7, 10, 13, 16, 19, 22, 25, 28])"
      ]
     },
     "execution_count": 135,
     "metadata": {},
     "output_type": "execute_result"
    }
   ],
   "source": [
    "np.arange(4, 29, 3) # analogous to range"
   ]
  },
  {
   "cell_type": "code",
   "execution_count": 139,
   "metadata": {
    "ExecuteTime": {
     "end_time": "2019-01-11T08:54:28.110817Z",
     "start_time": "2019-01-11T08:54:28.105603Z"
    }
   },
   "outputs": [
    {
     "data": {
      "text/plain": [
       "array([ 2., 14., 26., 38., 50.])"
      ]
     },
     "execution_count": 139,
     "metadata": {},
     "output_type": "execute_result"
    }
   ],
   "source": [
    "# np.linspace(start, end, number_of_values)\n",
    "# This returns a linear array with 5 values from 2 to 50\n",
    "np.linspace(2, 50, 5)"
   ]
  },
  {
   "cell_type": "code",
   "execution_count": 142,
   "metadata": {
    "ExecuteTime": {
     "end_time": "2019-01-11T08:55:35.539758Z",
     "start_time": "2019-01-11T08:55:35.534775Z"
    }
   },
   "outputs": [
    {
     "name": "stdout",
     "output_type": "stream",
     "text": [
      "(2, 4, 3)\n",
      "[[[0. 0. 0.]\n",
      "  [0. 0. 0.]\n",
      "  [0. 0. 0.]\n",
      "  [0. 0. 0.]]\n",
      "\n",
      " [[0. 0. 0.]\n",
      "  [0. 0. 0.]\n",
      "  [0. 0. 0.]\n",
      "  [0. 0. 0.]]]\n"
     ]
    }
   ],
   "source": [
    "# creates an array of zeroes with the shape satisfied\n",
    "zero_arr = np.zeros((2,4,3))\n",
    "print(zero_arr.shape)\n",
    "print(zero_arr)"
   ]
  },
  {
   "cell_type": "code",
   "execution_count": 144,
   "metadata": {
    "ExecuteTime": {
     "end_time": "2019-01-11T08:56:36.805351Z",
     "start_time": "2019-01-11T08:56:36.802266Z"
    }
   },
   "outputs": [
    {
     "name": "stdout",
     "output_type": "stream",
     "text": [
      "(2, 4, 3)\n",
      "[[[ True  True  True]\n",
      "  [ True  True  True]\n",
      "  [ True  True  True]\n",
      "  [ True  True  True]]\n",
      "\n",
      " [[ True  True  True]\n",
      "  [ True  True  True]\n",
      "  [ True  True  True]\n",
      "  [ True  True  True]]]\n"
     ]
    }
   ],
   "source": [
    "# np.full(shape, fill_value) returns \n",
    "# an array of fill_value with that shape\n",
    "arr = np.full((2,4,3), True)\n",
    "print(arr.shape)\n",
    "print(arr)"
   ]
  },
  {
   "cell_type": "code",
   "execution_count": 145,
   "metadata": {
    "ExecuteTime": {
     "end_time": "2019-01-11T08:57:36.804398Z",
     "start_time": "2019-01-11T08:57:36.799560Z"
    }
   },
   "outputs": [
    {
     "data": {
      "text/plain": [
       "array([[0.05597857],\n",
       "       [0.44675088],\n",
       "       [0.84882191]])"
      ]
     },
     "execution_count": 145,
     "metadata": {},
     "output_type": "execute_result"
    }
   ],
   "source": [
    "# np.random.rand(x, y, ...) returns a \n",
    "# random array with the shape (x, y, ...)\n",
    "np.random.rand(3, 1)"
   ]
  },
  {
   "cell_type": "markdown",
   "metadata": {},
   "source": [
    "Is creating an array of random values faster, or a list of random values?"
   ]
  },
  {
   "cell_type": "code",
   "execution_count": 148,
   "metadata": {
    "ExecuteTime": {
     "end_time": "2019-01-11T08:58:43.201867Z",
     "start_time": "2019-01-11T08:58:27.219527Z"
    }
   },
   "outputs": [
    {
     "name": "stdout",
     "output_type": "stream",
     "text": [
      "1.27 µs ± 18.1 ns per loop (mean ± std. dev. of 7 runs, 1000000 loops each)\n",
      "7.08 µs ± 181 ns per loop (mean ± std. dev. of 7 runs, 100000 loops each)\n"
     ]
    }
   ],
   "source": [
    "%timeit np.random.rand(100)\n",
    "%timeit [random.random()for i in range(100)]"
   ]
  },
  {
   "cell_type": "markdown",
   "metadata": {},
   "source": [
    "### Vectorisation"
   ]
  },
  {
   "cell_type": "markdown",
   "metadata": {},
   "source": [
    "Vectorisation is a fundamental feature of NumPy. Vectorised operations is the art of replacing loops such as those in your 1D simulator with array expressions. These expressions delegate expensive Python loops to optimised C or Fortran code, and are often one or two orders of magnitude faster than the equivalent Python. <a href=\"https://www.safaribooksonline.com/library/view/python-for-data/9781449323592/ch04.html?orpq\"> [Read more]</a>"
   ]
  },
  {
   "cell_type": "code",
   "execution_count": 2,
   "metadata": {
    "ExecuteTime": {
     "end_time": "2019-01-29T06:51:18.877815Z",
     "start_time": "2019-01-29T06:51:18.875984Z"
    }
   },
   "outputs": [],
   "source": [
    "rand_arr = np.random.rand(500) # returns an array of shape (500,) with random floats from 0 to 1\n",
    "rand_arr"
   ]
  },
  {
   "cell_type": "code",
   "execution_count": null,
   "metadata": {},
   "outputs": [],
   "source": [
    "def count_under_half(x):\n",
    "    \"\"\"Count how many numbers are under 0.5\"\"\"\n",
    "    counter = 0\n",
    "    for i in x:\n",
    "        if i < 0.5:\n",
    "            counter += 1\n",
    "    return counter\n",
    "\n",
    "def vectorised_count(x):\n",
    "    return np.count_nonzero(x<0.5)"
   ]
  },
  {
   "cell_type": "code",
   "execution_count": null,
   "metadata": {},
   "outputs": [],
   "source": [
    "count_under_half(rand_arr) == vectorised_count(rand_arr)"
   ]
  },
  {
   "cell_type": "code",
   "execution_count": null,
   "metadata": {},
   "outputs": [],
   "source": [
    "%timeit count_under_half(rand_arr)"
   ]
  },
  {
   "cell_type": "code",
   "execution_count": null,
   "metadata": {},
   "outputs": [],
   "source": [
    "%timeit vectorised_count(rand_arr)"
   ]
  }
 ],
 "metadata": {
  "kernelspec": {
   "display_name": "Python 3",
   "language": "python",
   "name": "python3"
  },
  "language_info": {
   "codemirror_mode": {
    "name": "ipython",
    "version": 3
   },
   "file_extension": ".py",
   "mimetype": "text/x-python",
   "name": "python",
   "nbconvert_exporter": "python",
   "pygments_lexer": "ipython3",
   "version": "3.6.8"
  },
  "toc": {
   "base_numbering": 1,
   "nav_menu": {},
   "number_sections": true,
   "sideBar": true,
   "skip_h1_title": false,
   "title_cell": "Table of Contents",
   "title_sidebar": "Contents",
   "toc_cell": false,
   "toc_position": {
    "height": "602.5px",
    "left": "54.15px",
    "top": "110.633px",
    "width": "165px"
   },
   "toc_section_display": true,
   "toc_window_display": true
  }
 },
 "nbformat": 4,
 "nbformat_minor": 2
}
