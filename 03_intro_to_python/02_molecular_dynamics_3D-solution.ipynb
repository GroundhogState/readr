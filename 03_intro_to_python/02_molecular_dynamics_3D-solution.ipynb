{
 "cells": [
  {
   "cell_type": "markdown",
   "metadata": {},
   "source": [
    "# Molecular dynamics in Python: NumPy is great"
   ]
  },
  {
   "cell_type": "markdown",
   "metadata": {},
   "source": [
    "In this workshop you'll write a molecular dynamics simulator of a 3-dimensional system using NumPy. Ideally you will have written a simulator using lists, and will be able to appreciate the differences between the types.\n",
    "\n",
    "If you feel you need a refresher or reference to keep up with all the Python being thrown around, there is a short summary in `00_basics_of_python.ipynb`.\n",
    "\n",
    "If you've skipped to here without doing `01_molecular_dynamics_1D.ipynb`, a lot of the molecular dynamics theory is laid out there and commented out here to save space. If something is unclear, try checking out the corresponding section in that notebook. Equations and such will still be provided here.\n",
    "\n",
    "If you're having trouble with an error message, Googling the message is usually the fastest way to a solution. Results from StackOverflow are particularly helpful.\n",
    "\n",
    " The colour-coding here is as follows:\n",
    "\n",
    "<div class=\"alert alert-block alert-warning\">\n",
    "\n",
    "**Tip**\n",
    "\n",
    "Python tip.</div>\n",
    "\n",
    "<div class=\"alert alert-block alert-success\">&#x1F40D;  &nbsp; Explanation of previous Python &nbsp; &#x1F40D; </div>\n",
    "\n",
    "<div class=\"alert alert-block alert-info\"><b>To do</b></div>\n",
    "\n",
    "Often I will give suggestions of Numpy methods to use. These can take two forms:\n",
    "\n",
    "1. *np.function().* This is a function of Numpy you can call with that syntax. These will often have required or useful arguments that you can specify, and lookup via Google.\n",
    "2. *ndarray.function().* This is a method of the Numpy.ndarray class. These functions should be called from your array, e.g. `my_array.function()`. "
   ]
  },
  {
   "cell_type": "markdown",
   "metadata": {},
   "source": [
    "## NumPy"
   ]
  },
  {
   "cell_type": "markdown",
   "metadata": {},
   "source": [
    "NumPy arrays are multidimensional arrays of **a single** type. They act like lists, but with much less memory overhead and more analysis functionality. Numpy arrays are great for analysing regular data of one particular type.\n",
    "\n",
    "One downside is that it is expensive to change the size of an array once created, as it requires a copy. \n",
    "\n",
    "Generally numpy is imported as np. Below is a brief refresher on NumPy -- there's a longer one in the `00_basics_of_python.ipynb`. There's also a file called the `Numpy_Python_Cheat_Sheet.pdf` that's a handy guide."
   ]
  },
  {
   "cell_type": "code",
   "execution_count": 1,
   "metadata": {
    "ExecuteTime": {
     "end_time": "2019-01-28T23:05:51.169993Z",
     "start_time": "2019-01-28T23:05:51.074825Z"
    }
   },
   "outputs": [],
   "source": [
    "import numpy as np"
   ]
  },
  {
   "cell_type": "code",
   "execution_count": 32,
   "metadata": {
    "ExecuteTime": {
     "end_time": "2019-01-29T00:24:17.707648Z",
     "start_time": "2019-01-29T00:24:17.702206Z"
    }
   },
   "outputs": [
    {
     "data": {
      "text/plain": [
       "array([[ 1. ,  2. ,  3. ],\n",
       "       [ 7. ,  8. ,  9. ],\n",
       "       [12. ,  6. , 10. ],\n",
       "       [ 4. ,  7. ,  9.1]])"
      ]
     },
     "execution_count": 32,
     "metadata": {},
     "output_type": "execute_result"
    }
   ],
   "source": [
    "# convert lists to arrays with np.array\n",
    "arr = np.array([[1, 2, 3], [7, 8, 9], [12, 6, 10], [4, 7, 9.1]])\n",
    "arr"
   ]
  },
  {
   "cell_type": "code",
   "execution_count": 5,
   "metadata": {
    "ExecuteTime": {
     "end_time": "2019-01-28T23:06:55.123362Z",
     "start_time": "2019-01-28T23:06:55.119494Z"
    }
   },
   "outputs": [
    {
     "data": {
      "text/plain": [
       "(4, 3)"
      ]
     },
     "execution_count": 5,
     "metadata": {},
     "output_type": "execute_result"
    }
   ],
   "source": [
    "arr.shape # shape of matrix (rows, columns)"
   ]
  },
  {
   "cell_type": "code",
   "execution_count": 6,
   "metadata": {
    "ExecuteTime": {
     "end_time": "2019-01-28T23:06:55.413638Z",
     "start_time": "2019-01-28T23:06:55.409191Z"
    }
   },
   "outputs": [
    {
     "data": {
      "text/plain": [
       "array([1., 2., 3.])"
      ]
     },
     "execution_count": 6,
     "metadata": {},
     "output_type": "execute_result"
    }
   ],
   "source": [
    "arr[0] # first row"
   ]
  },
  {
   "cell_type": "code",
   "execution_count": 10,
   "metadata": {
    "ExecuteTime": {
     "end_time": "2019-01-28T23:07:58.824172Z",
     "start_time": "2019-01-28T23:07:58.820267Z"
    }
   },
   "outputs": [
    {
     "name": "stdout",
     "output_type": "stream",
     "text": [
      "(2, 3, 2)\n"
     ]
    },
    {
     "data": {
      "text/plain": [
       "array([[[ 1. ,  2. ],\n",
       "        [ 3. ,  7. ],\n",
       "        [ 8. ,  9. ]],\n",
       "\n",
       "       [[12. ,  6. ],\n",
       "        [10. ,  4. ],\n",
       "        [ 7. ,  9.1]]])"
      ]
     },
     "execution_count": 10,
     "metadata": {},
     "output_type": "execute_result"
    }
   ],
   "source": [
    "# reshape arrays\n",
    "arr_reshaped = arr.reshape(2, 3, 2) # must multiply to same number of elements as before\n",
    "print(arr_reshaped.shape)\n",
    "arr_reshaped"
   ]
  },
  {
   "cell_type": "code",
   "execution_count": 11,
   "metadata": {
    "ExecuteTime": {
     "end_time": "2019-01-28T23:09:04.074076Z",
     "start_time": "2019-01-28T23:09:04.071033Z"
    }
   },
   "outputs": [
    {
     "data": {
      "text/plain": [
       "array([1., 2., 3.])"
      ]
     },
     "execution_count": 11,
     "metadata": {},
     "output_type": "execute_result"
    }
   ],
   "source": [
    "arr[0] # first sub-array"
   ]
  },
  {
   "cell_type": "markdown",
   "metadata": {},
   "source": [
    "### Vectorisation"
   ]
  },
  {
   "cell_type": "markdown",
   "metadata": {},
   "source": [
    "Vectorisation is a fundamental feature of NumPy. Vectorised operations is the art of replacing loops such as those in your 1D simulator with array expressions. These expressions delegate expensive Python loops to optimised C or Fortran code, and are often one or two orders of magnitude faster than the equivalent Python. <a href=\"https://www.safaribooksonline.com/library/view/python-for-data/9781449323592/ch04.html?orpq\"> [Read more]</a>"
   ]
  },
  {
   "cell_type": "code",
   "execution_count": 60,
   "metadata": {
    "ExecuteTime": {
     "end_time": "2019-01-29T00:48:30.299539Z",
     "start_time": "2019-01-29T00:48:30.290640Z"
    },
    "scrolled": true
   },
   "outputs": [
    {
     "data": {
      "text/plain": [
       "array([0.75914817, 0.56047993, 0.17573219, 0.7601628 , 0.05014488,\n",
       "       0.13242088, 0.62746246, 0.23486989, 0.14119836, 0.4870502 ,\n",
       "       0.33792227, 0.05618971, 0.65809361, 0.81668483, 0.03057128,\n",
       "       0.01619732, 0.07022853, 0.47244585, 0.40713241, 0.95199234,\n",
       "       0.43954637, 0.52660916, 0.15505784, 0.23762716, 0.42750811,\n",
       "       0.85892172, 0.57576837, 0.44028106, 0.05651255, 0.39686091,\n",
       "       0.94882739, 0.34108872, 0.81779561, 0.35323934, 0.50353761,\n",
       "       0.28505411, 0.03031799, 0.00996828, 0.4606337 , 0.81753994,\n",
       "       0.89089814, 0.17284921, 0.37127743, 0.42432509, 0.50500481,\n",
       "       0.58730686, 0.70476958, 0.08203985, 0.76440471, 0.22090578,\n",
       "       0.50534483, 0.19347294, 0.93368919, 0.5473222 , 0.1733516 ,\n",
       "       0.18834162, 0.5571452 , 0.57596044, 0.07773079, 0.87846705,\n",
       "       0.56199715, 0.71241701, 0.10875048, 0.50034852, 0.32205723,\n",
       "       0.56326755, 0.07745548, 0.68104011, 0.20455296, 0.929815  ,\n",
       "       0.6940555 , 0.95190222, 0.03833058, 0.77618144, 0.2752828 ,\n",
       "       0.60964739, 0.24437383, 0.53325678, 0.70266827, 0.38482537,\n",
       "       0.6912149 , 0.17324056, 0.4595164 , 0.44218605, 0.50112427,\n",
       "       0.27776626, 0.49948259, 0.10925191, 0.01660572, 0.75446257,\n",
       "       0.20922387, 0.5997106 , 0.15593267, 0.4744402 , 0.53144014,\n",
       "       0.98911629, 0.44009835, 0.74269434, 0.85493626, 0.47942167,\n",
       "       0.22208255, 0.85049882, 0.11991731, 0.9409353 , 0.31096392,\n",
       "       0.2712153 , 0.64276383, 0.9614134 , 0.54741312, 0.0119902 ,\n",
       "       0.88590885, 0.02982121, 0.03425661, 0.04965785, 0.91389959,\n",
       "       0.20790462, 0.67148801, 0.96127572, 0.17191359, 0.21274909,\n",
       "       0.16207841, 0.25040975, 0.3403576 , 0.85574218, 0.83696616,\n",
       "       0.9948374 , 0.65905932, 0.38078327, 0.52839131, 0.04905407,\n",
       "       0.04527376, 0.74512994, 0.56685699, 0.95473597, 0.12820822,\n",
       "       0.21523658, 0.06530412, 0.89371226, 0.88945245, 0.3717007 ,\n",
       "       0.44468581, 0.10785138, 0.94394687, 0.8722769 , 0.8625714 ,\n",
       "       0.63766868, 0.1657653 , 0.68652675, 0.1379127 , 0.05553836,\n",
       "       0.00715105, 0.31569069, 0.35775479, 0.2375339 , 0.32474793,\n",
       "       0.57245058, 0.24072907, 0.38429239, 0.84822662, 0.23224014,\n",
       "       0.70315574, 0.76349102, 0.1384499 , 0.97057669, 0.11186376,\n",
       "       0.85379613, 0.58020135, 0.14251923, 0.17424332, 0.29612424,\n",
       "       0.21944072, 0.87547605, 0.69236144, 0.56412127, 0.93199746,\n",
       "       0.85860993, 0.43352615, 0.42940992, 0.21523709, 0.63228966,\n",
       "       0.96383337, 0.59140921, 0.386813  , 0.623271  , 0.40093275,\n",
       "       0.42909849, 0.06499125, 0.20751038, 0.30160859, 0.07804899,\n",
       "       0.88540025, 0.67225725, 0.42415342, 0.52796526, 0.48588372,\n",
       "       0.2417506 , 0.18368272, 0.72495529, 0.82175457, 0.17811639,\n",
       "       0.63616712, 0.44286887, 0.11906071, 0.99443585, 0.93825053,\n",
       "       0.58138004, 0.20957045, 0.79255473, 0.93878738, 0.48813238,\n",
       "       0.54986855, 0.54881995, 0.9802776 , 0.18114999, 0.81362661,\n",
       "       0.81581141, 0.85535246, 0.14766269, 0.28737883, 0.28912557,\n",
       "       0.86487143, 0.48644724, 0.75836718, 0.0859938 , 0.92920427,\n",
       "       0.76260641, 0.00651373, 0.34336596, 0.35891924, 0.26874083,\n",
       "       0.95794653, 0.88153524, 0.55587548, 0.40146444, 0.89834451,\n",
       "       0.82924573, 0.39023411, 0.65459061, 0.2725233 , 0.13345596,\n",
       "       0.61442057, 0.2047116 , 0.25462464, 0.33725278, 0.92342216,\n",
       "       0.27706076, 0.24112976, 0.82892677, 0.80889363, 0.90420419,\n",
       "       0.27415072, 0.33939365, 0.8762024 , 0.03482636, 0.31505231,\n",
       "       0.27328948, 0.73924603, 0.21133684, 0.44924628, 0.82680401,\n",
       "       0.77363879, 0.70627464, 0.63062965, 0.07123578, 0.33328114,\n",
       "       0.63941262, 0.26206747, 0.79258958, 0.05425868, 0.12485514,\n",
       "       0.91394082, 0.11382709, 0.56942435, 0.18917623, 0.06533687,\n",
       "       0.31127964, 0.97157516, 0.9919765 , 0.57917016, 0.47724837,\n",
       "       0.80132195, 0.11968174, 0.81927404, 0.05990157, 0.74235372,\n",
       "       0.78808653, 0.82108322, 0.97546109, 0.86560325, 0.39469234,\n",
       "       0.76891832, 0.22499641, 0.42953972, 0.85917764, 0.89800632,\n",
       "       0.98247415, 0.43791815, 0.42115286, 0.63552389, 0.6458881 ,\n",
       "       0.639845  , 0.00416541, 0.6765831 , 0.10758291, 0.50250908,\n",
       "       0.28443394, 0.56700185, 0.00997818, 0.77731852, 0.50922586,\n",
       "       0.07200014, 0.45704754, 0.96296064, 0.35580441, 0.08110804,\n",
       "       0.64027517, 0.02655911, 0.67067155, 0.30924533, 0.8641404 ,\n",
       "       0.17065692, 0.95277692, 0.12438105, 0.61365514, 0.4807863 ,\n",
       "       0.17729089, 0.20169159, 0.99722038, 0.59622419, 0.06839832,\n",
       "       0.10519715, 0.67046211, 0.40932396, 0.81039789, 0.87356783,\n",
       "       0.282807  , 0.23244044, 0.00261131, 0.00191274, 0.49227559,\n",
       "       0.47684614, 0.50161677, 0.24039719, 0.14437387, 0.02707764,\n",
       "       0.46254917, 0.62942847, 0.0909115 , 0.96212372, 0.07812471,\n",
       "       0.62339593, 0.86722944, 0.72023454, 0.88534243, 0.79285213,\n",
       "       0.32449122, 0.94605445, 0.84797804, 0.10474907, 0.26120832,\n",
       "       0.26766683, 0.50676217, 0.61311143, 0.26400135, 0.83203238,\n",
       "       0.56993848, 0.65762749, 0.94281641, 0.82074713, 0.46864965,\n",
       "       0.02323657, 0.6668472 , 0.58316413, 0.29476542, 0.51809587,\n",
       "       0.43446087, 0.439631  , 0.5218967 , 0.22436246, 0.7665448 ,\n",
       "       0.97820779, 0.51726214, 0.31539781, 0.67769603, 0.32434948,\n",
       "       0.37233573, 0.0902165 , 0.6433125 , 0.23911216, 0.30609175,\n",
       "       0.14354056, 0.20517643, 0.23206752, 0.97526779, 0.43407849,\n",
       "       0.76115105, 0.86806658, 0.20116095, 0.89353892, 0.63686847,\n",
       "       0.47943444, 0.50258576, 0.58348998, 0.71406722, 0.32730141,\n",
       "       0.68523741, 0.41404061, 0.33640202, 0.31858959, 0.20353164,\n",
       "       0.92391375, 0.19705793, 0.76339353, 0.36399398, 0.08183781,\n",
       "       0.44143482, 0.57053588, 0.79133445, 0.40375544, 0.99447683,\n",
       "       0.43343339, 0.1707018 , 0.02777122, 0.28217928, 0.08448331,\n",
       "       0.76820979, 0.42624587, 0.48641181, 0.20255664, 0.85300231,\n",
       "       0.83930574, 0.01782057, 0.76838792, 0.72840354, 0.62914268,\n",
       "       0.58138187, 0.36817901, 0.87455234, 0.47314775, 0.14416608,\n",
       "       0.7478761 , 0.06036904, 0.93477462, 0.23670372, 0.41991788,\n",
       "       0.7780267 , 0.36975237, 0.84307584, 0.34285575, 0.26114363,\n",
       "       0.09424221, 0.83352259, 0.73203594, 0.38847647, 0.47933985,\n",
       "       0.6435931 , 0.51445432, 0.23214195, 0.67571059, 0.15643212,\n",
       "       0.86530354, 0.19954339, 0.89982597, 0.5417127 , 0.87568418,\n",
       "       0.11649547, 0.63857326, 0.21442786, 0.30032271, 0.72910883,\n",
       "       0.5125634 , 0.99429631, 0.75778738, 0.41213191, 0.36614015,\n",
       "       0.76564792, 0.10877325, 0.93549268, 0.20245621, 0.0991462 ,\n",
       "       0.75721488, 0.31128408, 0.17420231, 0.02015989, 0.06366392,\n",
       "       0.39645558, 0.55639755, 0.72526074, 0.61621034, 0.74610142,\n",
       "       0.67586644, 0.88403929, 0.14592714, 0.69744018, 0.23897312,\n",
       "       0.69295   , 0.97949082, 0.48757156, 0.29584606, 0.02532132])"
      ]
     },
     "execution_count": 60,
     "metadata": {},
     "output_type": "execute_result"
    }
   ],
   "source": [
    "rand_arr = np.random.rand(500) # returns an array of shape (500,) with random floats from 0 to 1\n",
    "rand_arr"
   ]
  },
  {
   "cell_type": "code",
   "execution_count": 26,
   "metadata": {
    "ExecuteTime": {
     "end_time": "2019-01-29T00:19:58.584518Z",
     "start_time": "2019-01-29T00:19:58.581705Z"
    }
   },
   "outputs": [],
   "source": [
    "def count_under_half(x):\n",
    "    \"\"\"Count how many numbers are under 0.5\"\"\"\n",
    "    counter = 0\n",
    "    for i in x:\n",
    "        if i < 0.5:\n",
    "            counter += 1\n",
    "    return counter\n",
    "\n",
    "def vectorised_count(x):\n",
    "    return np.count_nonzero(x<0.5)"
   ]
  },
  {
   "cell_type": "markdown",
   "metadata": {
    "heading_collapsed": true
   },
   "source": [
    "#### &#x1F40D;  &nbsp; What's happening here? &nbsp; &#x1F40D; "
   ]
  },
  {
   "cell_type": "markdown",
   "metadata": {
    "hidden": true
   },
   "source": [
    "It's not immediately obvious how `np.count_nonzero(x<5)` works. This one-liner takes advantage of the concept of 'truthiness' in Python. `x < 0.5` returns a boolean matrix on whether this inequality is satisfied (try it below)."
   ]
  },
  {
   "cell_type": "code",
   "execution_count": 61,
   "metadata": {
    "ExecuteTime": {
     "end_time": "2019-01-29T00:48:41.236662Z",
     "start_time": "2019-01-29T00:48:41.230199Z"
    },
    "hidden": true,
    "scrolled": true
   },
   "outputs": [
    {
     "data": {
      "text/plain": [
       "array([False, False,  True, False,  True,  True, False,  True,  True,\n",
       "        True,  True,  True, False, False,  True,  True,  True,  True,\n",
       "        True, False,  True, False,  True,  True,  True, False, False,\n",
       "        True,  True,  True, False,  True, False,  True, False,  True,\n",
       "        True,  True,  True, False, False,  True,  True,  True, False,\n",
       "       False, False,  True, False,  True, False,  True, False, False,\n",
       "        True,  True, False, False,  True, False, False, False,  True,\n",
       "       False,  True, False,  True, False,  True, False, False, False,\n",
       "        True, False,  True, False,  True, False, False,  True, False,\n",
       "        True,  True,  True, False,  True,  True,  True,  True, False,\n",
       "        True, False,  True,  True, False, False,  True, False, False,\n",
       "        True,  True, False,  True, False,  True,  True, False, False,\n",
       "       False,  True, False,  True,  True,  True, False,  True, False,\n",
       "       False,  True,  True,  True,  True,  True, False, False, False,\n",
       "       False,  True, False,  True,  True, False, False, False,  True,\n",
       "        True,  True, False, False,  True,  True,  True, False, False,\n",
       "       False, False,  True, False,  True,  True,  True,  True,  True,\n",
       "        True,  True, False,  True,  True, False,  True, False, False,\n",
       "        True, False,  True, False, False,  True,  True,  True,  True,\n",
       "       False, False, False, False, False,  True,  True,  True, False,\n",
       "       False, False,  True, False,  True,  True,  True,  True,  True,\n",
       "        True, False, False,  True, False,  True,  True,  True, False,\n",
       "       False,  True, False,  True,  True, False, False, False,  True,\n",
       "       False, False,  True, False, False, False,  True, False, False,\n",
       "       False,  True,  True,  True, False,  True, False,  True, False,\n",
       "       False,  True,  True,  True,  True, False, False, False,  True,\n",
       "       False, False,  True, False,  True,  True, False,  True,  True,\n",
       "        True, False,  True,  True, False, False, False,  True,  True,\n",
       "       False,  True,  True,  True, False,  True,  True, False, False,\n",
       "       False, False,  True,  True, False,  True, False,  True,  True,\n",
       "       False,  True, False,  True,  True,  True, False, False, False,\n",
       "        True, False,  True, False,  True, False, False, False, False,\n",
       "       False,  True, False,  True,  True, False, False, False,  True,\n",
       "        True, False, False, False,  True, False,  True, False,  True,\n",
       "       False,  True, False, False,  True,  True, False,  True,  True,\n",
       "       False,  True, False,  True, False,  True, False,  True, False,\n",
       "        True,  True,  True, False, False,  True,  True, False,  True,\n",
       "       False, False,  True,  True,  True,  True,  True,  True, False,\n",
       "        True,  True,  True,  True, False,  True, False,  True, False,\n",
       "       False, False, False, False,  True, False, False,  True,  True,\n",
       "        True, False, False,  True, False, False, False, False, False,\n",
       "        True,  True, False, False,  True, False,  True,  True, False,\n",
       "        True, False, False, False,  True, False,  True,  True,  True,\n",
       "       False,  True,  True,  True,  True,  True, False,  True, False,\n",
       "       False,  True, False, False,  True, False, False, False,  True,\n",
       "       False,  True,  True,  True,  True, False,  True, False,  True,\n",
       "        True,  True, False, False,  True, False,  True,  True,  True,\n",
       "        True,  True, False,  True,  True,  True, False, False,  True,\n",
       "       False, False, False, False,  True, False,  True,  True, False,\n",
       "        True, False,  True,  True, False,  True, False,  True,  True,\n",
       "        True, False, False,  True,  True, False, False,  True, False,\n",
       "        True, False,  True, False, False, False,  True, False,  True,\n",
       "        True, False, False, False, False,  True,  True, False,  True,\n",
       "       False,  True,  True, False,  True,  True,  True,  True,  True,\n",
       "       False, False, False, False, False, False,  True, False,  True,\n",
       "       False, False,  True,  True,  True])"
      ]
     },
     "execution_count": 61,
     "metadata": {},
     "output_type": "execute_result"
    }
   ],
   "source": [
    "rand_arr < 0.5"
   ]
  },
  {
   "cell_type": "markdown",
   "metadata": {
    "hidden": true
   },
   "source": [
    "`np.count_nonzero` then counts all the 'truthy' values -- those that Python evaluates to True or False. For example, any non-zero numbers will evaluate to True. 0, an empty list or dictionary, and None are considered 'falsy'. You can check what is truthy or falsy by calling `bool` on an object."
   ]
  },
  {
   "cell_type": "code",
   "execution_count": 69,
   "metadata": {
    "ExecuteTime": {
     "end_time": "2019-01-29T00:53:05.592384Z",
     "start_time": "2019-01-29T00:53:05.586600Z"
    },
    "hidden": true
   },
   "outputs": [
    {
     "data": {
      "text/plain": [
       "True"
      ]
     },
     "execution_count": 69,
     "metadata": {},
     "output_type": "execute_result"
    }
   ],
   "source": [
    "bool(-4.2)"
   ]
  },
  {
   "cell_type": "code",
   "execution_count": 70,
   "metadata": {
    "ExecuteTime": {
     "end_time": "2019-01-29T00:53:11.539392Z",
     "start_time": "2019-01-29T00:53:11.536397Z"
    },
    "hidden": true
   },
   "outputs": [
    {
     "data": {
      "text/plain": [
       "False"
      ]
     },
     "execution_count": 70,
     "metadata": {},
     "output_type": "execute_result"
    }
   ],
   "source": [
    "bool(0)"
   ]
  },
  {
   "cell_type": "code",
   "execution_count": 71,
   "metadata": {
    "ExecuteTime": {
     "end_time": "2019-01-29T00:53:21.593945Z",
     "start_time": "2019-01-29T00:53:21.591370Z"
    },
    "hidden": true
   },
   "outputs": [
    {
     "data": {
      "text/plain": [
       "1"
      ]
     },
     "execution_count": 71,
     "metadata": {},
     "output_type": "execute_result"
    }
   ],
   "source": [
    "int(True) # True is equivalent to 1"
   ]
  },
  {
   "cell_type": "markdown",
   "metadata": {},
   "source": [
    "#### &nbsp; <a class=\"tocSkip\">"
   ]
  },
  {
   "cell_type": "code",
   "execution_count": 31,
   "metadata": {
    "ExecuteTime": {
     "end_time": "2019-01-29T00:21:00.713242Z",
     "start_time": "2019-01-29T00:21:00.710200Z"
    }
   },
   "outputs": [
    {
     "data": {
      "text/plain": [
       "True"
      ]
     },
     "execution_count": 31,
     "metadata": {},
     "output_type": "execute_result"
    }
   ],
   "source": [
    "count_under_half(rand_arr) == vectorised_count(rand_arr)"
   ]
  },
  {
   "cell_type": "code",
   "execution_count": 28,
   "metadata": {
    "ExecuteTime": {
     "end_time": "2019-01-29T00:20:05.072312Z",
     "start_time": "2019-01-29T00:20:00.893697Z"
    }
   },
   "outputs": [
    {
     "name": "stdout",
     "output_type": "stream",
     "text": [
      "51.7 µs ± 733 ns per loop (mean ± std. dev. of 7 runs, 10000 loops each)\n"
     ]
    }
   ],
   "source": [
    "%timeit count_under_half(rand_arr)"
   ]
  },
  {
   "cell_type": "code",
   "execution_count": 29,
   "metadata": {
    "ExecuteTime": {
     "end_time": "2019-01-29T00:20:12.961437Z",
     "start_time": "2019-01-29T00:20:05.073877Z"
    },
    "scrolled": true
   },
   "outputs": [
    {
     "name": "stdout",
     "output_type": "stream",
     "text": [
      "968 ns ± 4.17 ns per loop (mean ± std. dev. of 7 runs, 1000000 loops each)\n"
     ]
    }
   ],
   "source": [
    "%timeit vectorised_count(rand_arr)"
   ]
  },
  {
   "cell_type": "markdown",
   "metadata": {},
   "source": [
    "### Broadcasting"
   ]
  },
  {
   "cell_type": "markdown",
   "metadata": {},
   "source": [
    "Broadcasting is another important part of NumPy, and they have a <a href=\"https://docs.scipy.org/doc/numpy-1.15.0/user/basics.broadcasting.html\"> very informative page on it here.</a> Essentially, NumPy will try to align arrays when operations are performed between them, like the picture below. \n",
    "<img src=\"files/broadcasting.jpg\" width=\"500px\">\n",
    "\n",
    "Scalars are just treated as having 1 dimension. "
   ]
  },
  {
   "cell_type": "code",
   "execution_count": 86,
   "metadata": {
    "ExecuteTime": {
     "end_time": "2019-01-29T06:53:35.472868Z",
     "start_time": "2019-01-29T06:53:35.468227Z"
    }
   },
   "outputs": [
    {
     "data": {
      "text/plain": [
       "array([[  1. ,   0. ,  -1. ],\n",
       "       [ -5. ,  -6. ,  -7. ],\n",
       "       [-10. ,  -4. ,  -8. ],\n",
       "       [ -2. ,  -5. ,  -7.1]])"
      ]
     },
     "execution_count": 86,
     "metadata": {},
     "output_type": "execute_result"
    }
   ],
   "source": [
    "arr + 2"
   ]
  },
  {
   "cell_type": "code",
   "execution_count": 34,
   "metadata": {
    "ExecuteTime": {
     "end_time": "2019-01-29T00:24:38.863440Z",
     "start_time": "2019-01-29T00:24:38.857140Z"
    }
   },
   "outputs": [
    {
     "data": {
      "text/plain": [
       "array([[1.00000e+00, 8.00000e+00, 2.70000e+01],\n",
       "       [3.43000e+02, 5.12000e+02, 7.29000e+02],\n",
       "       [1.72800e+03, 2.16000e+02, 1.00000e+03],\n",
       "       [6.40000e+01, 3.43000e+02, 7.53571e+02]])"
      ]
     },
     "execution_count": 34,
     "metadata": {},
     "output_type": "execute_result"
    }
   ],
   "source": [
    "arr ** 3  # Cube every element"
   ]
  },
  {
   "cell_type": "code",
   "execution_count": 35,
   "metadata": {
    "ExecuteTime": {
     "end_time": "2019-01-29T00:25:07.349603Z",
     "start_time": "2019-01-29T00:25:07.343153Z"
    }
   },
   "outputs": [
    {
     "data": {
      "text/plain": [
       "array([[ -1. ,  -2. ,  -3. ],\n",
       "       [ -7. ,  -8. ,  -9. ],\n",
       "       [-12. ,  -6. , -10. ],\n",
       "       [ -4. ,  -7. ,  -9.1]])"
      ]
     },
     "execution_count": 35,
     "metadata": {},
     "output_type": "execute_result"
    }
   ],
   "source": [
    "arr *= -1 # Operations like +=, -=, etc work on arrays too\n",
    "arr"
   ]
  },
  {
   "cell_type": "code",
   "execution_count": 40,
   "metadata": {
    "ExecuteTime": {
     "end_time": "2019-01-29T00:26:13.031810Z",
     "start_time": "2019-01-29T00:26:13.028093Z"
    }
   },
   "outputs": [
    {
     "data": {
      "text/plain": [
       "array([[  0. ,  -2. ,  -2. ],\n",
       "       [ -6. ,  -8. ,  -8. ],\n",
       "       [-11. ,  -6. ,  -9. ],\n",
       "       [ -3. ,  -7. ,  -8.1]])"
      ]
     },
     "execution_count": 40,
     "metadata": {},
     "output_type": "execute_result"
    }
   ],
   "source": [
    "arr + [1, 0, 1]  # Will convert to an array"
   ]
  },
  {
   "cell_type": "code",
   "execution_count": 41,
   "metadata": {
    "ExecuteTime": {
     "end_time": "2019-01-29T00:26:14.081166Z",
     "start_time": "2019-01-29T00:26:14.073485Z"
    }
   },
   "outputs": [
    {
     "ename": "ValueError",
     "evalue": "operands could not be broadcast together with shapes (4,3) (2,) ",
     "output_type": "error",
     "traceback": [
      "\u001b[0;31m---------------------------------------------------------------------------\u001b[0m",
      "\u001b[0;31mValueError\u001b[0m                                Traceback (most recent call last)",
      "\u001b[0;32m<ipython-input-41-91f9d68c679b>\u001b[0m in \u001b[0;36m<module>\u001b[0;34m\u001b[0m\n\u001b[0;32m----> 1\u001b[0;31m \u001b[0marr\u001b[0m \u001b[0;34m+\u001b[0m \u001b[0;34m[\u001b[0m\u001b[0;36m0\u001b[0m\u001b[0;34m,\u001b[0m \u001b[0;36m1\u001b[0m\u001b[0;34m]\u001b[0m  \u001b[0;31m# Will give an error!\u001b[0m\u001b[0;34m\u001b[0m\u001b[0;34m\u001b[0m\u001b[0m\n\u001b[0m",
      "\u001b[0;31mValueError\u001b[0m: operands could not be broadcast together with shapes (4,3) (2,) "
     ]
    }
   ],
   "source": [
    "arr + [0, 1]  # Will give an error!"
   ]
  },
  {
   "cell_type": "code",
   "execution_count": 42,
   "metadata": {
    "ExecuteTime": {
     "end_time": "2019-01-29T00:27:00.633124Z",
     "start_time": "2019-01-29T00:27:00.625468Z"
    }
   },
   "outputs": [
    {
     "data": {
      "text/plain": [
       "array([[ -2. ,  -4. ,  -6. ],\n",
       "       [-14. , -16. , -18. ],\n",
       "       [-24. , -12. , -20. ],\n",
       "       [ -8. , -14. , -18.2]])"
      ]
     },
     "execution_count": 42,
     "metadata": {},
     "output_type": "execute_result"
    }
   ],
   "source": [
    "arr + arr  # Elementwise addition (equivalent to arr * 2)"
   ]
  },
  {
   "cell_type": "code",
   "execution_count": 43,
   "metadata": {
    "ExecuteTime": {
     "end_time": "2019-01-29T00:27:15.344428Z",
     "start_time": "2019-01-29T00:27:15.314516Z"
    }
   },
   "outputs": [
    {
     "data": {
      "text/plain": [
       "array([[ 14.  ,  50.  ,  54.  ,  45.3 ],\n",
       "       [ 50.  , 194.  , 222.  , 165.9 ],\n",
       "       [ 54.  , 222.  , 280.  , 181.  ],\n",
       "       [ 45.3 , 165.9 , 181.  , 147.81]])"
      ]
     },
     "execution_count": 43,
     "metadata": {},
     "output_type": "execute_result"
    }
   ],
   "source": [
    "# .T returns the transpose of the matrix\n",
    "arr @ arr.T # @ returns the dot product"
   ]
  },
  {
   "cell_type": "markdown",
   "metadata": {},
   "source": [
    "### Axes"
   ]
  },
  {
   "cell_type": "markdown",
   "metadata": {},
   "source": [
    "In NumPy, an axis is a dimension of a multidimensional array. They are indexed from 0, along the sequence returned by `arr.shape`. It's important to keep these straight for operations that 'collapse' axes, such as `sum`."
   ]
  },
  {
   "cell_type": "code",
   "execution_count": 83,
   "metadata": {
    "ExecuteTime": {
     "end_time": "2019-01-29T01:41:49.643634Z",
     "start_time": "2019-01-29T01:41:49.639297Z"
    }
   },
   "outputs": [
    {
     "data": {
      "text/plain": [
       "(4, 3)"
      ]
     },
     "execution_count": 83,
     "metadata": {},
     "output_type": "execute_result"
    }
   ],
   "source": [
    "arr.shape # first axis has 4 elements"
   ]
  },
  {
   "cell_type": "code",
   "execution_count": 80,
   "metadata": {
    "ExecuteTime": {
     "end_time": "2019-01-29T01:40:42.348080Z",
     "start_time": "2019-01-29T01:40:42.345038Z"
    }
   },
   "outputs": [
    {
     "data": {
      "text/plain": [
       "-78.1"
      ]
     },
     "execution_count": 80,
     "metadata": {},
     "output_type": "execute_result"
    }
   ],
   "source": [
    "arr.sum() #  default: sum along all the axes. Equivalent to arr.sum(axis=(0, 1))"
   ]
  },
  {
   "cell_type": "code",
   "execution_count": 81,
   "metadata": {
    "ExecuteTime": {
     "end_time": "2019-01-29T01:41:14.896487Z",
     "start_time": "2019-01-29T01:41:14.890996Z"
    }
   },
   "outputs": [
    {
     "data": {
      "text/plain": [
       "array([-24. , -23. , -31.1])"
      ]
     },
     "execution_count": 81,
     "metadata": {},
     "output_type": "execute_result"
    }
   ],
   "source": [
    "arr.sum(axis=0)"
   ]
  },
  {
   "cell_type": "markdown",
   "metadata": {},
   "source": [
    "Calling `sum` with the argument `axis=0` applies `sum` along the axis that is collapsed, returning an array of three elements. `axis` can take a tuple argument, in which case it will collapse along all the axes specified."
   ]
  },
  {
   "cell_type": "code",
   "execution_count": 84,
   "metadata": {
    "ExecuteTime": {
     "end_time": "2019-01-29T01:43:01.325247Z",
     "start_time": "2019-01-29T01:43:01.322039Z"
    }
   },
   "outputs": [
    {
     "data": {
      "text/plain": [
       "array([ -6. , -24. , -28. , -20.1])"
      ]
     },
     "execution_count": 84,
     "metadata": {},
     "output_type": "execute_result"
    }
   ],
   "source": [
    "arr.sum(axis=1)"
   ]
  },
  {
   "cell_type": "markdown",
   "metadata": {},
   "source": [
    "### Indexing"
   ]
  },
  {
   "cell_type": "markdown",
   "metadata": {},
   "source": [
    "NumPy arrays can be indexed and sliced pretty much like lists. `:` is the slice operator. The full slice notation is `i:j:k` where `i` is the starting index (inclusive), `j` is the ending index (exclusive), and `k` is the step. The following are valid slices. <a href=\"https://docs.scipy.org/doc/numpy-1.13.0/reference/arrays.indexing.html\"> [Read more] </a>"
   ]
  },
  {
   "cell_type": "code",
   "execution_count": 46,
   "metadata": {
    "ExecuteTime": {
     "end_time": "2019-01-29T00:32:16.457729Z",
     "start_time": "2019-01-29T00:32:16.453786Z"
    }
   },
   "outputs": [
    {
     "data": {
      "text/plain": [
       "array([[ -1. ,  -2. ,  -3. ],\n",
       "       [ -7. ,  -8. ,  -9. ],\n",
       "       [-12. ,  -6. , -10. ],\n",
       "       [ -4. ,  -7. ,  -9.1]])"
      ]
     },
     "execution_count": 46,
     "metadata": {},
     "output_type": "execute_result"
    }
   ],
   "source": [
    "arr[:]  # Select all"
   ]
  },
  {
   "cell_type": "code",
   "execution_count": 49,
   "metadata": {
    "ExecuteTime": {
     "end_time": "2019-01-29T00:33:21.757183Z",
     "start_time": "2019-01-29T00:33:21.751361Z"
    }
   },
   "outputs": [
    {
     "data": {
      "text/plain": [
       "array([[ -7. ,  -8. ,  -9. ],\n",
       "       [-12. ,  -6. , -10. ],\n",
       "       [ -4. ,  -7. ,  -9.1]])"
      ]
     },
     "execution_count": 49,
     "metadata": {},
     "output_type": "execute_result"
    }
   ],
   "source": [
    "arr[1:] # i=1, from second element onwards"
   ]
  },
  {
   "cell_type": "code",
   "execution_count": 50,
   "metadata": {
    "ExecuteTime": {
     "end_time": "2019-01-29T00:33:27.153561Z",
     "start_time": "2019-01-29T00:33:27.147970Z"
    }
   },
   "outputs": [
    {
     "data": {
      "text/plain": [
       "array([[ -7.,  -8.,  -9.],\n",
       "       [-12.,  -6., -10.]])"
      ]
     },
     "execution_count": 50,
     "metadata": {},
     "output_type": "execute_result"
    }
   ],
   "source": [
    "arr[1:3] # i=1, j=3, second to third elements"
   ]
  },
  {
   "cell_type": "code",
   "execution_count": 52,
   "metadata": {
    "ExecuteTime": {
     "end_time": "2019-01-29T00:33:53.963481Z",
     "start_time": "2019-01-29T00:33:53.956716Z"
    }
   },
   "outputs": [
    {
     "data": {
      "text/plain": [
       "array([[-7., -8., -9.]])"
      ]
     },
     "execution_count": 52,
     "metadata": {},
     "output_type": "execute_result"
    }
   ],
   "source": [
    "arr[1::3] # from second element on, every third element"
   ]
  },
  {
   "cell_type": "markdown",
   "metadata": {},
   "source": [
    "Commas separate dimensions."
   ]
  },
  {
   "cell_type": "code",
   "execution_count": 44,
   "metadata": {
    "ExecuteTime": {
     "end_time": "2019-01-29T00:29:10.093567Z",
     "start_time": "2019-01-29T00:29:10.090358Z"
    }
   },
   "outputs": [
    {
     "data": {
      "text/plain": [
       "array([ -1.,  -7., -12.,  -4.])"
      ]
     },
     "execution_count": 44,
     "metadata": {},
     "output_type": "execute_result"
    }
   ],
   "source": [
    "arr[:, 0] # first column"
   ]
  },
  {
   "cell_type": "code",
   "execution_count": 45,
   "metadata": {
    "ExecuteTime": {
     "end_time": "2019-01-29T00:29:48.863523Z",
     "start_time": "2019-01-29T00:29:48.860559Z"
    }
   },
   "outputs": [
    {
     "data": {
      "text/plain": [
       "-7.0"
      ]
     },
     "execution_count": 45,
     "metadata": {},
     "output_type": "execute_result"
    }
   ],
   "source": [
    "arr[1, 0] # element in second row, first column"
   ]
  },
  {
   "cell_type": "markdown",
   "metadata": {},
   "source": [
    "Unlike lists, NumPy offers advanced indexing (or fancy indexing) with sequences such as lists or other arrays. You can use two types to index: integers (as before), or booleans."
   ]
  },
  {
   "cell_type": "code",
   "execution_count": 56,
   "metadata": {
    "ExecuteTime": {
     "end_time": "2019-01-29T00:39:36.440905Z",
     "start_time": "2019-01-29T00:39:36.437918Z"
    }
   },
   "outputs": [
    {
     "data": {
      "text/plain": [
       "array([[-7. , -8. , -9. ],\n",
       "       [-4. , -7. , -9.1]])"
      ]
     },
     "execution_count": 56,
     "metadata": {},
     "output_type": "execute_result"
    }
   ],
   "source": [
    "arr[[1,3]]"
   ]
  },
  {
   "cell_type": "code",
   "execution_count": 58,
   "metadata": {
    "ExecuteTime": {
     "end_time": "2019-01-29T00:40:06.941126Z",
     "start_time": "2019-01-29T00:40:06.934510Z"
    }
   },
   "outputs": [
    {
     "data": {
      "text/plain": [
       "array([[-1. , -2. , -3. ],\n",
       "       [-4. , -7. , -9.1]])"
      ]
     },
     "execution_count": 58,
     "metadata": {},
     "output_type": "execute_result"
    }
   ],
   "source": [
    "arr[[True, False, False, True]]"
   ]
  },
  {
   "cell_type": "markdown",
   "metadata": {},
   "source": [
    "This can be super useful and it's one of my favourite things about NumPy! It can be used to access, or modify, values that satisfy a condition.\n",
    "\n",
    "In the vectorisation section, I counted up the numbers under 0.5 in `rand_arr` with this one-liner:\n",
    "```\n",
    "def vectorised_count(x):\n",
    "    return np.count_nonzero(x<0.5)\n",
    "```\n",
    "\n",
    "`x<0.5` returns a boolean matrix. If I indexed `rand_arr` with this instead, I would get all the values:"
   ]
  },
  {
   "cell_type": "code",
   "execution_count": 72,
   "metadata": {
    "ExecuteTime": {
     "end_time": "2019-01-29T00:55:16.888657Z",
     "start_time": "2019-01-29T00:55:16.882477Z"
    },
    "scrolled": true
   },
   "outputs": [
    {
     "data": {
      "text/plain": [
       "array([0.17573219, 0.05014488, 0.13242088, 0.23486989, 0.14119836,\n",
       "       0.4870502 , 0.33792227, 0.05618971, 0.03057128, 0.01619732,\n",
       "       0.07022853, 0.47244585, 0.40713241, 0.43954637, 0.15505784,\n",
       "       0.23762716, 0.42750811, 0.44028106, 0.05651255, 0.39686091,\n",
       "       0.34108872, 0.35323934, 0.28505411, 0.03031799, 0.00996828,\n",
       "       0.4606337 , 0.17284921, 0.37127743, 0.42432509, 0.08203985,\n",
       "       0.22090578, 0.19347294, 0.1733516 , 0.18834162, 0.07773079,\n",
       "       0.10875048, 0.32205723, 0.07745548, 0.20455296, 0.03833058,\n",
       "       0.2752828 , 0.24437383, 0.38482537, 0.17324056, 0.4595164 ,\n",
       "       0.44218605, 0.27776626, 0.49948259, 0.10925191, 0.01660572,\n",
       "       0.20922387, 0.15593267, 0.4744402 , 0.44009835, 0.47942167,\n",
       "       0.22208255, 0.11991731, 0.31096392, 0.2712153 , 0.0119902 ,\n",
       "       0.02982121, 0.03425661, 0.04965785, 0.20790462, 0.17191359,\n",
       "       0.21274909, 0.16207841, 0.25040975, 0.3403576 , 0.38078327,\n",
       "       0.04905407, 0.04527376, 0.12820822, 0.21523658, 0.06530412,\n",
       "       0.3717007 , 0.44468581, 0.10785138, 0.1657653 , 0.1379127 ,\n",
       "       0.05553836, 0.00715105, 0.31569069, 0.35775479, 0.2375339 ,\n",
       "       0.32474793, 0.24072907, 0.38429239, 0.23224014, 0.1384499 ,\n",
       "       0.11186376, 0.14251923, 0.17424332, 0.29612424, 0.21944072,\n",
       "       0.43352615, 0.42940992, 0.21523709, 0.386813  , 0.40093275,\n",
       "       0.42909849, 0.06499125, 0.20751038, 0.30160859, 0.07804899,\n",
       "       0.42415342, 0.48588372, 0.2417506 , 0.18368272, 0.17811639,\n",
       "       0.44286887, 0.11906071, 0.20957045, 0.48813238, 0.18114999,\n",
       "       0.14766269, 0.28737883, 0.28912557, 0.48644724, 0.0859938 ,\n",
       "       0.00651373, 0.34336596, 0.35891924, 0.26874083, 0.40146444,\n",
       "       0.39023411, 0.2725233 , 0.13345596, 0.2047116 , 0.25462464,\n",
       "       0.33725278, 0.27706076, 0.24112976, 0.27415072, 0.33939365,\n",
       "       0.03482636, 0.31505231, 0.27328948, 0.21133684, 0.44924628,\n",
       "       0.07123578, 0.33328114, 0.26206747, 0.05425868, 0.12485514,\n",
       "       0.11382709, 0.18917623, 0.06533687, 0.31127964, 0.47724837,\n",
       "       0.11968174, 0.05990157, 0.39469234, 0.22499641, 0.42953972,\n",
       "       0.43791815, 0.42115286, 0.00416541, 0.10758291, 0.28443394,\n",
       "       0.00997818, 0.07200014, 0.45704754, 0.35580441, 0.08110804,\n",
       "       0.02655911, 0.30924533, 0.17065692, 0.12438105, 0.4807863 ,\n",
       "       0.17729089, 0.20169159, 0.06839832, 0.10519715, 0.40932396,\n",
       "       0.282807  , 0.23244044, 0.00261131, 0.00191274, 0.49227559,\n",
       "       0.47684614, 0.24039719, 0.14437387, 0.02707764, 0.46254917,\n",
       "       0.0909115 , 0.07812471, 0.32449122, 0.10474907, 0.26120832,\n",
       "       0.26766683, 0.26400135, 0.46864965, 0.02323657, 0.29476542,\n",
       "       0.43446087, 0.439631  , 0.22436246, 0.31539781, 0.32434948,\n",
       "       0.37233573, 0.0902165 , 0.23911216, 0.30609175, 0.14354056,\n",
       "       0.20517643, 0.23206752, 0.43407849, 0.20116095, 0.47943444,\n",
       "       0.32730141, 0.41404061, 0.33640202, 0.31858959, 0.20353164,\n",
       "       0.19705793, 0.36399398, 0.08183781, 0.44143482, 0.40375544,\n",
       "       0.43343339, 0.1707018 , 0.02777122, 0.28217928, 0.08448331,\n",
       "       0.42624587, 0.48641181, 0.20255664, 0.01782057, 0.36817901,\n",
       "       0.47314775, 0.14416608, 0.06036904, 0.23670372, 0.41991788,\n",
       "       0.36975237, 0.34285575, 0.26114363, 0.09424221, 0.38847647,\n",
       "       0.47933985, 0.23214195, 0.15643212, 0.19954339, 0.11649547,\n",
       "       0.21442786, 0.30032271, 0.41213191, 0.36614015, 0.10877325,\n",
       "       0.20245621, 0.0991462 , 0.31128408, 0.17420231, 0.02015989,\n",
       "       0.06366392, 0.39645558, 0.14592714, 0.23897312, 0.48757156,\n",
       "       0.29584606, 0.02532132])"
      ]
     },
     "execution_count": 72,
     "metadata": {},
     "output_type": "execute_result"
    }
   ],
   "source": [
    "rand_arr[rand_arr<0.5]"
   ]
  },
  {
   "cell_type": "markdown",
   "metadata": {},
   "source": [
    "And because indexing can also assign values, I can modify them:"
   ]
  },
  {
   "cell_type": "code",
   "execution_count": 73,
   "metadata": {
    "ExecuteTime": {
     "end_time": "2019-01-29T00:56:18.220403Z",
     "start_time": "2019-01-29T00:56:18.214339Z"
    },
    "scrolled": true
   },
   "outputs": [
    {
     "data": {
      "text/plain": [
       "array([ 0.75914817,  0.56047993, 10.17573219,  0.7601628 , 10.05014488,\n",
       "       10.13242088,  0.62746246, 10.23486989, 10.14119836, 10.4870502 ,\n",
       "       10.33792227, 10.05618971,  0.65809361,  0.81668483, 10.03057128,\n",
       "       10.01619732, 10.07022853, 10.47244585, 10.40713241,  0.95199234,\n",
       "       10.43954637,  0.52660916, 10.15505784, 10.23762716, 10.42750811,\n",
       "        0.85892172,  0.57576837, 10.44028106, 10.05651255, 10.39686091,\n",
       "        0.94882739, 10.34108872,  0.81779561, 10.35323934,  0.50353761,\n",
       "       10.28505411, 10.03031799, 10.00996828, 10.4606337 ,  0.81753994,\n",
       "        0.89089814, 10.17284921, 10.37127743, 10.42432509,  0.50500481,\n",
       "        0.58730686,  0.70476958, 10.08203985,  0.76440471, 10.22090578,\n",
       "        0.50534483, 10.19347294,  0.93368919,  0.5473222 , 10.1733516 ,\n",
       "       10.18834162,  0.5571452 ,  0.57596044, 10.07773079,  0.87846705,\n",
       "        0.56199715,  0.71241701, 10.10875048,  0.50034852, 10.32205723,\n",
       "        0.56326755, 10.07745548,  0.68104011, 10.20455296,  0.929815  ,\n",
       "        0.6940555 ,  0.95190222, 10.03833058,  0.77618144, 10.2752828 ,\n",
       "        0.60964739, 10.24437383,  0.53325678,  0.70266827, 10.38482537,\n",
       "        0.6912149 , 10.17324056, 10.4595164 , 10.44218605,  0.50112427,\n",
       "       10.27776626, 10.49948259, 10.10925191, 10.01660572,  0.75446257,\n",
       "       10.20922387,  0.5997106 , 10.15593267, 10.4744402 ,  0.53144014,\n",
       "        0.98911629, 10.44009835,  0.74269434,  0.85493626, 10.47942167,\n",
       "       10.22208255,  0.85049882, 10.11991731,  0.9409353 , 10.31096392,\n",
       "       10.2712153 ,  0.64276383,  0.9614134 ,  0.54741312, 10.0119902 ,\n",
       "        0.88590885, 10.02982121, 10.03425661, 10.04965785,  0.91389959,\n",
       "       10.20790462,  0.67148801,  0.96127572, 10.17191359, 10.21274909,\n",
       "       10.16207841, 10.25040975, 10.3403576 ,  0.85574218,  0.83696616,\n",
       "        0.9948374 ,  0.65905932, 10.38078327,  0.52839131, 10.04905407,\n",
       "       10.04527376,  0.74512994,  0.56685699,  0.95473597, 10.12820822,\n",
       "       10.21523658, 10.06530412,  0.89371226,  0.88945245, 10.3717007 ,\n",
       "       10.44468581, 10.10785138,  0.94394687,  0.8722769 ,  0.8625714 ,\n",
       "        0.63766868, 10.1657653 ,  0.68652675, 10.1379127 , 10.05553836,\n",
       "       10.00715105, 10.31569069, 10.35775479, 10.2375339 , 10.32474793,\n",
       "        0.57245058, 10.24072907, 10.38429239,  0.84822662, 10.23224014,\n",
       "        0.70315574,  0.76349102, 10.1384499 ,  0.97057669, 10.11186376,\n",
       "        0.85379613,  0.58020135, 10.14251923, 10.17424332, 10.29612424,\n",
       "       10.21944072,  0.87547605,  0.69236144,  0.56412127,  0.93199746,\n",
       "        0.85860993, 10.43352615, 10.42940992, 10.21523709,  0.63228966,\n",
       "        0.96383337,  0.59140921, 10.386813  ,  0.623271  , 10.40093275,\n",
       "       10.42909849, 10.06499125, 10.20751038, 10.30160859, 10.07804899,\n",
       "        0.88540025,  0.67225725, 10.42415342,  0.52796526, 10.48588372,\n",
       "       10.2417506 , 10.18368272,  0.72495529,  0.82175457, 10.17811639,\n",
       "        0.63616712, 10.44286887, 10.11906071,  0.99443585,  0.93825053,\n",
       "        0.58138004, 10.20957045,  0.79255473,  0.93878738, 10.48813238,\n",
       "        0.54986855,  0.54881995,  0.9802776 , 10.18114999,  0.81362661,\n",
       "        0.81581141,  0.85535246, 10.14766269, 10.28737883, 10.28912557,\n",
       "        0.86487143, 10.48644724,  0.75836718, 10.0859938 ,  0.92920427,\n",
       "        0.76260641, 10.00651373, 10.34336596, 10.35891924, 10.26874083,\n",
       "        0.95794653,  0.88153524,  0.55587548, 10.40146444,  0.89834451,\n",
       "        0.82924573, 10.39023411,  0.65459061, 10.2725233 , 10.13345596,\n",
       "        0.61442057, 10.2047116 , 10.25462464, 10.33725278,  0.92342216,\n",
       "       10.27706076, 10.24112976,  0.82892677,  0.80889363,  0.90420419,\n",
       "       10.27415072, 10.33939365,  0.8762024 , 10.03482636, 10.31505231,\n",
       "       10.27328948,  0.73924603, 10.21133684, 10.44924628,  0.82680401,\n",
       "        0.77363879,  0.70627464,  0.63062965, 10.07123578, 10.33328114,\n",
       "        0.63941262, 10.26206747,  0.79258958, 10.05425868, 10.12485514,\n",
       "        0.91394082, 10.11382709,  0.56942435, 10.18917623, 10.06533687,\n",
       "       10.31127964,  0.97157516,  0.9919765 ,  0.57917016, 10.47724837,\n",
       "        0.80132195, 10.11968174,  0.81927404, 10.05990157,  0.74235372,\n",
       "        0.78808653,  0.82108322,  0.97546109,  0.86560325, 10.39469234,\n",
       "        0.76891832, 10.22499641, 10.42953972,  0.85917764,  0.89800632,\n",
       "        0.98247415, 10.43791815, 10.42115286,  0.63552389,  0.6458881 ,\n",
       "        0.639845  , 10.00416541,  0.6765831 , 10.10758291,  0.50250908,\n",
       "       10.28443394,  0.56700185, 10.00997818,  0.77731852,  0.50922586,\n",
       "       10.07200014, 10.45704754,  0.96296064, 10.35580441, 10.08110804,\n",
       "        0.64027517, 10.02655911,  0.67067155, 10.30924533,  0.8641404 ,\n",
       "       10.17065692,  0.95277692, 10.12438105,  0.61365514, 10.4807863 ,\n",
       "       10.17729089, 10.20169159,  0.99722038,  0.59622419, 10.06839832,\n",
       "       10.10519715,  0.67046211, 10.40932396,  0.81039789,  0.87356783,\n",
       "       10.282807  , 10.23244044, 10.00261131, 10.00191274, 10.49227559,\n",
       "       10.47684614,  0.50161677, 10.24039719, 10.14437387, 10.02707764,\n",
       "       10.46254917,  0.62942847, 10.0909115 ,  0.96212372, 10.07812471,\n",
       "        0.62339593,  0.86722944,  0.72023454,  0.88534243,  0.79285213,\n",
       "       10.32449122,  0.94605445,  0.84797804, 10.10474907, 10.26120832,\n",
       "       10.26766683,  0.50676217,  0.61311143, 10.26400135,  0.83203238,\n",
       "        0.56993848,  0.65762749,  0.94281641,  0.82074713, 10.46864965,\n",
       "       10.02323657,  0.6668472 ,  0.58316413, 10.29476542,  0.51809587,\n",
       "       10.43446087, 10.439631  ,  0.5218967 , 10.22436246,  0.7665448 ,\n",
       "        0.97820779,  0.51726214, 10.31539781,  0.67769603, 10.32434948,\n",
       "       10.37233573, 10.0902165 ,  0.6433125 , 10.23911216, 10.30609175,\n",
       "       10.14354056, 10.20517643, 10.23206752,  0.97526779, 10.43407849,\n",
       "        0.76115105,  0.86806658, 10.20116095,  0.89353892,  0.63686847,\n",
       "       10.47943444,  0.50258576,  0.58348998,  0.71406722, 10.32730141,\n",
       "        0.68523741, 10.41404061, 10.33640202, 10.31858959, 10.20353164,\n",
       "        0.92391375, 10.19705793,  0.76339353, 10.36399398, 10.08183781,\n",
       "       10.44143482,  0.57053588,  0.79133445, 10.40375544,  0.99447683,\n",
       "       10.43343339, 10.1707018 , 10.02777122, 10.28217928, 10.08448331,\n",
       "        0.76820979, 10.42624587, 10.48641181, 10.20255664,  0.85300231,\n",
       "        0.83930574, 10.01782057,  0.76838792,  0.72840354,  0.62914268,\n",
       "        0.58138187, 10.36817901,  0.87455234, 10.47314775, 10.14416608,\n",
       "        0.7478761 , 10.06036904,  0.93477462, 10.23670372, 10.41991788,\n",
       "        0.7780267 , 10.36975237,  0.84307584, 10.34285575, 10.26114363,\n",
       "       10.09424221,  0.83352259,  0.73203594, 10.38847647, 10.47933985,\n",
       "        0.6435931 ,  0.51445432, 10.23214195,  0.67571059, 10.15643212,\n",
       "        0.86530354, 10.19954339,  0.89982597,  0.5417127 ,  0.87568418,\n",
       "       10.11649547,  0.63857326, 10.21442786, 10.30032271,  0.72910883,\n",
       "        0.5125634 ,  0.99429631,  0.75778738, 10.41213191, 10.36614015,\n",
       "        0.76564792, 10.10877325,  0.93549268, 10.20245621, 10.0991462 ,\n",
       "        0.75721488, 10.31128408, 10.17420231, 10.02015989, 10.06366392,\n",
       "       10.39645558,  0.55639755,  0.72526074,  0.61621034,  0.74610142,\n",
       "        0.67586644,  0.88403929, 10.14592714,  0.69744018, 10.23897312,\n",
       "        0.69295   ,  0.97949082, 10.48757156, 10.29584606, 10.02532132])"
      ]
     },
     "execution_count": 73,
     "metadata": {},
     "output_type": "execute_result"
    }
   ],
   "source": [
    "rand_arr[rand_arr<0.5] += 10\n",
    "rand_arr"
   ]
  },
  {
   "cell_type": "markdown",
   "metadata": {},
   "source": [
    "This will be very useful when you are deciding which inter-particle interactions to consider for calculating forces and energies below."
   ]
  },
  {
   "cell_type": "markdown",
   "metadata": {},
   "source": [
    "## Python"
   ]
  },
  {
   "cell_type": "markdown",
   "metadata": {
    "ExecuteTime": {
     "end_time": "2018-12-10T22:26:58.777856Z",
     "start_time": "2018-12-10T22:26:58.335965Z"
    }
   },
   "source": [
    "### Class definition"
   ]
  },
  {
   "cell_type": "markdown",
   "metadata": {},
   "source": [
    "<div class=\"alert alert-block alert-info\">\n",
    "\n",
    "<b>Define the class `MD3D` below. </b>\n",
    "</div>\n",
    "\n",
    "<!--Several properties are defined in `__init__`, such as the length of the system. This is required as MD is still a slow process and only a finite system can be simulated in a finite cell. An infinite system is approximated by tiling identical cells, as in the image below. The computer only keeps track of the central one in bold, and particle interactions are only computed between the closest image. -->\n",
    "\n",
    "You'll need to set up containers to keep track of the coordinates, velocities, forces, temperatures, and energies of the system. *With NumPy arrays you must decide the size at creation, as you can't append to the same object as you can with lists.* Coordinates, velocities, and forces should each have 3 dimensions for their components in the x, y, and z directions. They should also track every particle, and every time-step. Your arrays will likely look like the below:\n",
    "\n",
    "<img src=\"files/matrix.png\" width=\"500px\">\n",
    "\n",
    "\n",
    "Of course, your coordinate array should have 1 extra time-step to account for the positions at negative time that we will define here, just like `01_molecular_dynamics_1D.ipynb`.\n",
    "\n",
    "The temperature and energy arrays are much simpler, as there is only one temperature and one energy for each time-step. \n",
    "\n",
    "Again, we will initialise the system with forces of 0.0 and random velocities.\n",
    "\n"
   ]
  },
  {
   "cell_type": "markdown",
   "metadata": {},
   "source": [
    "<div class=\"alert alert-block alert-warning\">\n",
    "\n",
    "**Tip**\n",
    "\n",
    "Useful `numpy` functions might include:\n",
    "- np.zeros()\n",
    "- np.random.rand()\n",
    "</div>"
   ]
  },
  {
   "cell_type": "code",
   "execution_count": 1,
   "metadata": {
    "ExecuteTime": {
     "end_time": "2019-01-29T07:48:01.055442Z",
     "start_time": "2019-01-29T07:48:01.013892Z"
    },
    "code_folding": []
   },
   "outputs": [],
   "source": [
    "import numpy as np\n",
    "\n",
    "class MD3D:\n",
    "    n_dims = 3 # dimension of box\n",
    "    \n",
    "    def __init__(self, n_steps, box_length = 36.0, n_particles=36):\n",
    "        \n",
    "        self.n_particles = n_particles # number of particles\n",
    "        self.cell = np.array([box_length, box_length, box_length]) # cell for periodic boundary conditions\n",
    "        \n",
    "        self.time_step = 0.01  # integration time step\n",
    "        self.n_steps = n_steps  # number of steps to take\n",
    "        \n",
    "        self.cutoff_dist = 18.0  # distance cutoff for computing interactions\n",
    "        self.cutoff_sq = self.cutoff_dist ** 2\n",
    "        self.cutoff_energy =  4 * (self.cutoff_dist ** -12 - self.cutoff_dist ** -6)\n",
    "        \n",
    "        self.temperature = 0.728\n",
    "        \n",
    "        # Define numpy arrays for coordinates,\n",
    "        # velocities, forces, temperatures, \n",
    "        # and energies\n",
    "        self.xyz = np.zeros((n_steps + 1, n_particles, 3))\n",
    "        self.velocities = np.random.rand(n_steps, n_particles, 3)\n",
    "        self.forces = np.zeros((n_steps, n_particles, 3))\n",
    "        self.temperatures = np.zeros(n_steps)\n",
    "        self.energies_potential = np.zeros(n_steps)\n",
    "        self.energies_total = np.zeros(n_steps)\n",
    "    "
   ]
  },
  {
   "cell_type": "markdown",
   "metadata": {},
   "source": [
    "####  &#x1F40D;  &nbsp; What's happening here? &nbsp; &#x1F40D; "
   ]
  },
  {
   "cell_type": "markdown",
   "metadata": {},
   "source": [
    "<div class=\"alert alert-block alert-success\">\n",
    "    \n",
    "    \n",
    "It is common to import packages with abbreviated names. The standard alias for numpy as np. Importing numpy as np means that the classes and methods of Numpy can be accessed through `np`, but not through `numpy`. `np.zeros()` would call the the `zeros` function of numpy, whereas `numpy.zeros()` would result in an error.\n",
    "</div>"
   ]
  },
  {
   "cell_type": "markdown",
   "metadata": {},
   "source": [
    "#### &nbsp;\n",
    "\n",
    "<div class=\"alert alert-block alert-info\"><b>\n",
    "\n",
    "Create an instance of `MD3D` below and assign it to a variable. Check that the arrays you created look how you expected them to. (You can look at the shape of an array with `ndarray.shape`).</b></div>"
   ]
  },
  {
   "cell_type": "code",
   "execution_count": null,
   "metadata": {},
   "outputs": [],
   "source": []
  },
  {
   "cell_type": "markdown",
   "metadata": {},
   "source": [
    "### Set up initial state"
   ]
  },
  {
   "cell_type": "markdown",
   "metadata": {},
   "source": [
    "In the function `setup_system` you should set up your simulation system at time=0. \n",
    "\n",
    "Previously, this involved the following steps for each particle:\n",
    "\n",
    "1. Generating initial coordinates\n",
    "2. Generating an initial force (0.0 to start off)\n",
    "3. Generating an initial velocity (random to start with)\n",
    "4. Scaling your random velocities to match your desired temperature `self.temperature`\n",
    "5. Generating 'previous' coordinates for each particle for time=-`self.time_step` based on those scaled velocities\n",
    "\n",
    "However, if you used `np.zeros()` and `np.random.rand()` before, you have already defined your initial forces and velocities. Therefore all that is required steps 1, 4, and 5.\n",
    "\n",
    "As before, the scale factor $s$ can be calculated from the sum of squared velocities over the number of particles $V_\\sigma$, and the temperature $T$:\n",
    "\n",
    "$$s = n_{dim}*\\sqrt{\\frac{T_0}{V_\\sigma}}$$\n",
    "\n",
    "As before, the previous x-coordinates can be calculated:\n",
    "$$x_{prev} = x_{now} - v_{now}*\\Delta t$$"
   ]
  },
  {
   "cell_type": "markdown",
   "metadata": {},
   "source": [
    "#### <div class=\"alert alert-block alert-info\"><b>Write a function that returns the scale factor as defined above.</b></div>"
   ]
  },
  {
   "cell_type": "code",
   "execution_count": 2,
   "metadata": {
    "ExecuteTime": {
     "end_time": "2019-01-29T07:48:06.106807Z",
     "start_time": "2019-01-29T07:48:06.100532Z"
    }
   },
   "outputs": [],
   "source": [
    "def get_scale_factor(avg_vsum_sq, temperature):\n",
    "    return (3 * temperature / avg_vsum_sq) ** 0.5"
   ]
  },
  {
   "cell_type": "markdown",
   "metadata": {},
   "source": [
    "<div class=\"alert alert-block alert-info\">\n",
    "<b>\n",
    "    1. Write a function get_xyz to generate atom positions. <br>\n",
    "    2. Use indexing to replace the the elements in your coordinate array with the appropriate positions.<br>\n",
    "    3. Calculate the previous xyz coordinates.<br>\n",
    "</b></div>"
   ]
  },
  {
   "cell_type": "code",
   "execution_count": 69,
   "metadata": {
    "ExecuteTime": {
     "end_time": "2019-01-29T08:36:53.074667Z",
     "start_time": "2019-01-29T08:36:53.071793Z"
    }
   },
   "outputs": [],
   "source": [
    "def get_xyz(md):\n",
    "    idx = np.array(range(md.n_particles)) + 0.5\n",
    "    return idx.reshape(-1, 1) * md.cell/md.n_particles"
   ]
  },
  {
   "cell_type": "markdown",
   "metadata": {},
   "source": [
    "<div class=\"alert alert-block alert-warning\">\n",
    "    \n",
    "**Tip**\n",
    "\n",
    "Useful `numpy` functions might include:\n",
    "- ndarray.sum()\n",
    "</div>"
   ]
  },
  {
   "cell_type": "code",
   "execution_count": 72,
   "metadata": {
    "ExecuteTime": {
     "end_time": "2019-01-29T08:37:26.716306Z",
     "start_time": "2019-01-29T08:37:26.712152Z"
    }
   },
   "outputs": [],
   "source": [
    "def setup_system(md):\n",
    "        \"\"\"\n",
    "        Initialise system properties at time=0.\n",
    "        \"\"\"\n",
    "        # generate current coordinates\n",
    "        md.xyz[0] = get_xyz(md)\n",
    "        \n",
    "        avg_sum = md.velocities[0].sum() / md.n_particles # sum of velocities at time 0 / n_particles\n",
    "        avg_sum_sq = (md.velocities[0] ** 2).sum()/md.n_particles  # calculate the sum of squared velocities at time 0 over n_particles\n",
    "        \n",
    "        scale_factor = get_scale_factor(avg_sum_sq, md.temperature)\n",
    "        \n",
    "        # Rescale velocities and generate previous x coordinates \n",
    "        md.velocities[0] = (md.velocities[0] - avg_sum) * scale_factor\n",
    "        md.xyz[-1] = md.xyz[0] - md.velocities[0] * md.time_step\n",
    "        "
   ]
  },
  {
   "cell_type": "markdown",
   "metadata": {},
   "source": [
    "####  &#x1F40D;  &nbsp; What's happening here? &nbsp; &#x1F40D;"
   ]
  },
  {
   "cell_type": "markdown",
   "metadata": {},
   "source": [
    "<div class=\"alert alert-block alert-success\">\n",
    "\n",
    "\n",
    "In the cell above, coordinates for time=0 are generated and assigned to `md.xyz[0]`, ie the first position. Coordinates for the negative time before that are also calculated and are assigned to `md.xyz[-1]`. Indexing in arrays is a modular, and `x[-1]` will return the last element of `x`. \n",
    "<p>\n",
    "\n",
    "Of course it doesn't make physical sense to have the earliest coordinates as the last element of the array. Instead, for every time-step `i` we could remember that the coordinates array should be `i+1` to account for the extra step. Alternatively, we could just add an extra but ignored time-step to the velocities, forces, energies and temperatures array. Out of these three approaches I personally find that this is the most convenient. As long as we remember to truncate the array to the second-last element before we output our results, this is a harmless shortcut. \n",
    "</div>"
   ]
  },
  {
   "cell_type": "markdown",
   "metadata": {},
   "source": [
    "#### &nbsp;\n",
    "<div class=\"alert alert-block alert-info\">\n",
    "\n",
    "<b>Call setup_system on your instance of `MD1D` and check that: <ul>\n",
    "        <li> your velocities at time=0 are now different\n",
    "        <li> your coordinates in the first element and the last element are now not zero \n",
    " </b>\n",
    "        </div>"
   ]
  },
  {
   "cell_type": "code",
   "execution_count": 95,
   "metadata": {
    "ExecuteTime": {
     "end_time": "2019-01-29T07:45:33.636101Z",
     "start_time": "2019-01-29T07:45:33.633638Z"
    }
   },
   "outputs": [],
   "source": [
    "setup_system(MD3D(100))"
   ]
  },
  {
   "cell_type": "markdown",
   "metadata": {},
   "source": [
    "### Calculating energies and forces"
   ]
  },
  {
   "cell_type": "markdown",
   "metadata": {},
   "source": [
    "As before, the function `get_forces` is responsible for calculating the force between each particle pair within your `self.cutoff_dist` cutoff, and the total energy of the system at the time. The end result is.\n",
    "\n",
    "For a Lennard-Jones system in reduced units, the energy $E_{LJ}$ can be defined as:\n",
    "\n",
    "$$\n",
    "\\begin{equation}\n",
    "E^{LJ}(r_{ij}) = 4\\big[r^{12} - r^6\\big]\n",
    "\\end{equation}$$\n",
    "\n",
    "and the force $f_x$ is defined as:\n",
    "\n",
    "$$\n",
    "f_x(r) = \\frac{48x}{r^2}\\big(\\frac{1}{r^{12}}-0.5\\frac{1}{r^6}\\big)\n",
    "$$\n"
   ]
  },
  {
   "cell_type": "markdown",
   "metadata": {},
   "source": [
    "#### <div class=\"alert alert-block alert-info\"><b>Using the equation above, write functions to calculate the energy and force between two atoms as a function of distance.</b></div>"
   ]
  },
  {
   "cell_type": "code",
   "execution_count": 121,
   "metadata": {
    "ExecuteTime": {
     "end_time": "2019-01-29T09:07:30.011596Z",
     "start_time": "2019-01-29T09:07:30.008899Z"
    }
   },
   "outputs": [],
   "source": [
    "def calculate_energy(sq_dist):\n",
    "    d6_inv = 1/sq_dist ** 3\n",
    "    return 4 * d6_inv * (d6_inv - 1)"
   ]
  },
  {
   "cell_type": "code",
   "execution_count": 122,
   "metadata": {
    "ExecuteTime": {
     "end_time": "2019-01-29T09:07:30.127940Z",
     "start_time": "2019-01-29T09:07:30.125637Z"
    }
   },
   "outputs": [],
   "source": [
    "def calculate_force(sq_dist):\n",
    "    d2_inv = 1/sq_dist\n",
    "    d6_inv = d2_inv ** 3\n",
    "    return 48 * d2_inv * d6_inv * (d6_inv - 0.5)"
   ]
  },
  {
   "cell_type": "markdown",
   "metadata": {},
   "source": [
    "#### <div class=\"alert alert-block alert-info\"><b>Write a function to calculate energies and forces for time-step $i$.</b></div>"
   ]
  },
  {
   "cell_type": "markdown",
   "metadata": {},
   "source": [
    "There are a few approaches you could take. This function has to check the distance between every particle and every particle, and compare that to the `cutoff_dist` before possibly computing the energy and forces -- with as few loops as possible.\n",
    "\n",
    "The approach detailed below unfortunately only gets rid of one loop, but it is much less abstract than the fully vectorised version. An explanation of the vectorised approach in Part 1.5."
   ]
  },
  {
   "cell_type": "markdown",
   "metadata": {},
   "source": [
    "#### Naive Numpy approach: Looping over particles once"
   ]
  },
  {
   "cell_type": "markdown",
   "metadata": {},
   "source": [
    "```\n",
    "for i in range(md.n_particles-1): # for every particle except the last\n",
    "    for j in range(i+1, md.n_particles): # for every particle from i onwards\n",
    "```\n",
    "The 1D version had nested for loops, as in the code above. This approach keeps the outside loop but uses vectorised operations instead of the inside one, speeding it up significantly. For each particle `i`, you can calculate the vector displacements to other particles as an Nx3 array like below.\n",
    "\n",
    "<img src=\"files/n_particles.png\" width=\"400px\">\n",
    "\n",
    "Then calculate the squared distance, remembering that \n",
    "$$ d(\\vec{i},\\vec{j}) = \\sqrt{(i_x-j_x)^2 + (i_y-j_y)^2 + (i_z-j_z)^2}$$\n",
    "\n",
    "You should end up with an Nx1 array.\n",
    "<img src=\"files/sq_dist.png\" width=\"400px\">\n",
    "\n",
    "Remember that Python can evaluate relationships such as `arr < 1` and return a boolean matrix that you can use to access or modify the array.\n",
    "<img src=\"files/indexing.png\" width=\"400px\">"
   ]
  },
  {
   "cell_type": "markdown",
   "metadata": {},
   "source": [
    "#### &nbsp;"
   ]
  },
  {
   "cell_type": "code",
   "execution_count": 129,
   "metadata": {
    "ExecuteTime": {
     "end_time": "2019-01-29T09:08:44.924331Z",
     "start_time": "2019-01-29T09:08:44.909651Z"
    }
   },
   "outputs": [],
   "source": [
    "def get_forces(md, step):\n",
    "    \"\"\"Calculating energy and force\"\"\"\n",
    "    for i in range(md.n_particles-1):\n",
    "        distance = md.xyz[step][i+1:] - md.xyz[step][i]\n",
    "        n_cells = md.cell * np.round_(distance/md.cell)\n",
    "        min_distance = distance - n_cells\n",
    "        \n",
    "        sq_dist = (min_distance ** 2).sum(axis=1, keepdims=True)\n",
    "        \n",
    "        ff = calculate_force(sq_dist)\n",
    "        en = calculate_energy(sq_dist) - md.cutoff_energy\n",
    "\n",
    "        forces = np.where(sq_dist < md.cutoff_sq, ff, 0)\n",
    "        energy = np.where(sq_dist < md.cutoff_sq, en, 0)\n",
    "        md.forces[step][i] += forces.sum(axis=0)\n",
    "        md.forces[step][i+1:] -= forces\n",
    "        \n",
    "        md.energies_potential[step] += energy.sum()\n",
    "        "
   ]
  },
  {
   "cell_type": "markdown",
   "metadata": {},
   "source": [
    "#### <div class=\"alert alert-block alert-info\"><b>Run get_forces on your `MD3D` instance and check that there are no errors.</b></div>"
   ]
  },
  {
   "cell_type": "code",
   "execution_count": null,
   "metadata": {},
   "outputs": [],
   "source": []
  },
  {
   "cell_type": "markdown",
   "metadata": {},
   "source": [
    "### Integrating equations of motion"
   ]
  },
  {
   "cell_type": "markdown",
   "metadata": {},
   "source": [
    "Now that the forces have been computed, we can integrate the equations of motion. \n",
    "\n",
    "The estimate of the position at the next time-step is calculated from the current properties below, where $f(t)$ represents the force at time $t$. $t + \\Delta t$ and $t - \\Delta t$ represent the next and previous time-steps respectively. \n",
    "$$\n",
    "x(t + \\Delta t) \\approx 2x(t) - x(t - \\Delta t) + f(t) \\Delta t^2\n",
    "$$\n",
    "\n",
    "The velocity of the current time-step can therefore be calculated:\n",
    "$$\n",
    "v(t) = \\frac{x(t + \\Delta t) - x(t - \\Delta t)}{2 \\Delta t}\n",
    "$$\n",
    "\n",
    "We use this to calculate the instantaneous temperature by the equation above:\n",
    "\n",
    "$$T(t) = \\sum\\limits_{i=1}^{N} \\frac{v^2_{i}(t)}{N \\times n_{dims}}$$\n",
    "\n",
    "\n",
    "We would also like to calculate the total energy per particle. This energy is a sum of the potential energy and kinetic energy. The potential energy was calculated in the `get_forces` function using the Lennard-Jones potential. The kinetic energy is calculated with $\\frac{1}{2}mv^2$. In reduced units, this simplifies to $\\frac{1}{2}v^2$."
   ]
  },
  {
   "cell_type": "markdown",
   "metadata": {
    "heading_collapsed": true
   },
   "source": [
    "#### &#x1F4DC;  &nbsp; Background behind equations &nbsp; &#x1F4DC;"
   ]
  },
  {
   "cell_type": "markdown",
   "metadata": {
    "hidden": true
   },
   "source": [
    "The Taylor expansion of the particle coordinate at time $t$ gives:\n",
    "    \n",
    "$$\n",
    "\\begin{eqnarray}\n",
    "    x(t + \\Delta t) &=& x(t) + \\dot x(t) \\Delta t + \\ddot x(t)\\frac{\\Delta t^2}{2!} + \\dddot x(t)\\frac{\\Delta t^3}{3!} + \\mathcal{O}(\\Delta t^4) \\\\\n",
    "    x(t - \\Delta t) &=& x(t) - \\dot x(t) \\Delta t + \\ddot x(t)\\frac{\\Delta t^2}{2!} - \\dddot x(t)\\frac{\\Delta t^3}{3!} + \\mathcal{O}(\\Delta t^4)\n",
    "\\end{eqnarray}\n",
    "$$\n",
    "    \n",
    "   Adding those equations together and substituting acceleration $a(t) = \\ddot x(t)$ results in this:\n",
    "   \n",
    "   \n",
    "   $$\n",
    "   x(t + \\Delta t) + x(t - \\Delta t) = 2x(t) + a(t)\\Delta t^2 + \\mathcal{O}(\\Delta t^4)\n",
    "   $$\n",
    "   \n",
    "   Given that mass $m$ vanishes in reduced units, the force $F=ma$ reduces to $F=a$. The remainder term $\\mathcal{O}(\\Delta t^4)$ is dropped as the error. Therefore:\n",
    "   \n",
    "$$\n",
    "\\begin{eqnarray}\n",
    "x(t + \\Delta t) + x(t - \\Delta t) &=& 2x(t) + f(t)\\Delta t^2 \\\\\n",
    "x(t + \\Delta t) &\\approx& 2x(t) - x(t - \\Delta t) + f(t) \\Delta t^2\n",
    "\\end{eqnarray}\n",
    "$$\n",
    "\n",
    "\n",
    "\n",
    "This method uses forces to compute the new positions. The velocity at time $t$ is approximated when positions at time-steps before and after $t$ are known, using the equation in the main block above. Known as the Verlet algorithm, this approach is more accurate than the Euler method of using the velocity at time $t$ to determine the position at time $t + \\Delta t$.\n",
    "\n",
    "</div>"
   ]
  },
  {
   "cell_type": "markdown",
   "metadata": {},
   "source": [
    "#### <div class=\"alert alert-block alert-info\"><b>Using the equations above, write a function to integrate the equations of motion.</b></div>"
   ]
  },
  {
   "cell_type": "code",
   "execution_count": 27,
   "metadata": {
    "ExecuteTime": {
     "end_time": "2019-01-29T08:20:29.634314Z",
     "start_time": "2019-01-29T08:20:29.630734Z"
    }
   },
   "outputs": [],
   "source": [
    "def next_position(current_xyz, previous_xyz, time_step, current_force):\n",
    "    x = 2 * current_xyz - previous_xyz + time_step * time_step * current_force\n",
    "    return x\n",
    "\n",
    "def current_velocity(next_xyz, previous_xyz, time_step):\n",
    "    v = (next_xyz - previous_xyz) / (2 * time_step)\n",
    "    return v\n",
    "\n",
    "def instant_temperature(vsum_sq, n_particles):\n",
    "    return vsum_sq / n_particles\n",
    "\n",
    "def total_energy_per_particle(energy, vsum_sq, n_particles):\n",
    "    total_energy = energy + (0.5 * vsum_sq)\n",
    "    return total_energy / n_particles"
   ]
  },
  {
   "cell_type": "code",
   "execution_count": 28,
   "metadata": {
    "ExecuteTime": {
     "end_time": "2019-01-29T08:20:29.924410Z",
     "start_time": "2019-01-29T08:20:29.919390Z"
    }
   },
   "outputs": [],
   "source": [
    "def integrate(md, step):\n",
    "    \"\"\"Integrate equations of motion\"\"\"\n",
    "    \n",
    "    # As a vectorised array operation, \n",
    "    # calculate the next positions with next_position()\n",
    "    # and current velocity and current_velocity()\n",
    "    md.xyz[step+1] = next_position(md.xyz[step], md.xyz[step-1], md.time_step, md.forces[step]) \n",
    "    md.velocities[step] = current_velocity(md.xyz[step+1], md.xyz[step-1], md.time_step)\n",
    "    \n",
    "    # Square the velocities and sum them to\n",
    "    # get vsum_sq\n",
    "    vsum_sq = (md.velocities[step] ** 2).sum()\n",
    "    \n",
    "    # calculate the instantaneous temperature and append \n",
    "    # it to md.temperatures\n",
    "    md.temperatures[step] = instant_temperature(vsum_sq, md.n_particles)\n",
    "    md.energies_total[step] = total_energy_per_particle(md.energies_potential[step], vsum_sq, md.n_particles)\n",
    "    print(\"  --- Energy: {en} ---\".format(en=md.energies_total[step]))"
   ]
  },
  {
   "cell_type": "markdown",
   "metadata": {},
   "source": [
    "### Viewing"
   ]
  },
  {
   "cell_type": "markdown",
   "metadata": {},
   "source": [
    "<div class=\"alert alert-block alert-info\"><b>\n",
    "    Now you need to write out your coordinates to a file that's readable by other software. Use string formatting to write a file that looks like the example 'example.xyz' in the folder.</b>\n",
    "<div class=\"alert alert-block alert-warning\">\n",
    "    \n",
    "   **Tip**\n",
    "   \n",
    "   `range(x)` returns an iterable of numbers `(0, 1, 2, ... x-1)`. \n",
    "   \n",
    "   File I/O is usually handled within context managers that automatically close the file when you're done. To read:\n",
    "   \n",
    "   ```\n",
    "       with open(filename, 'r') as f:\n",
    "           contents = f.read()\n",
    "   ```\n",
    "   \n",
    "   To write:\n",
    "   ```\n",
    "       with open(filename, 'w') as f:\n",
    "           f.write(contents)\n",
    "   ```\n",
    "   \n",
    "   `'\\n'` prints a newline, i.e. moves to the next line in the file. I would expect `f.write(\"e\\nb  c\\n  d\")` to write:\n",
    "   \n",
    "   ```\n",
    "   e\n",
    "   b  c\n",
    "     d\n",
    "   ```\n",
    "</div>\n",
    "</div>"
   ]
  },
  {
   "cell_type": "code",
   "execution_count": 107,
   "metadata": {
    "ExecuteTime": {
     "end_time": "2019-01-29T09:02:20.812041Z",
     "start_time": "2019-01-29T09:02:20.808291Z"
    }
   },
   "outputs": [],
   "source": [
    "def write_coordinates(md):\n",
    "    # x[y:] take all elements in x from index y onwards\n",
    "    x_coords = md.xyz[:-1] # remove last column with negative time\n",
    "    with open('example3d.xyz', 'w') as f: # f is the open file object\n",
    "        # for every step from 0 to md.n_steps inclusive\n",
    "        # Write the number of particles and a newline\n",
    "        # And the time\n",
    "        for t in range(md.n_steps+1): \n",
    "            time = t * md.time_step\n",
    "            f.write(\"{N}\\n\".format(N=md.n_particles))\n",
    "            f.write(\"time {time}\\n\".format(time=time))\n",
    "            for i in range(md.n_particles):\n",
    "                f.write(\"C {} {} {}\\n\".format(*md.xyz[t][i]))\n",
    "    print(\"Wrote coordinates to example3d.xyz\")"
   ]
  },
  {
   "cell_type": "markdown",
   "metadata": {},
   "source": [
    "The `watch()` function below just lets you view your coordinate file as an animation."
   ]
  },
  {
   "cell_type": "code",
   "execution_count": 108,
   "metadata": {
    "ExecuteTime": {
     "end_time": "2019-01-29T09:02:22.676300Z",
     "start_time": "2019-01-29T09:02:22.671262Z"
    }
   },
   "outputs": [],
   "source": [
    "from ase.visualize import view\n",
    "from ase.io import read as ase_read\n",
    "\n",
    "def watch(md):\n",
    "    atoms = ase_read('example3d.xyz', index=':')\n",
    "    view(atoms)"
   ]
  },
  {
   "cell_type": "markdown",
   "metadata": {},
   "source": [
    "### Putting it all together"
   ]
  },
  {
   "cell_type": "markdown",
   "metadata": {},
   "source": [
    "<div class=\"alert alert-block alert-info\">\n",
    "    <b>Write a main function that strings it all together.</b></div>"
   ]
  },
  {
   "cell_type": "code",
   "execution_count": 130,
   "metadata": {
    "ExecuteTime": {
     "end_time": "2019-01-29T09:08:48.360433Z",
     "start_time": "2019-01-29T09:08:48.357450Z"
    }
   },
   "outputs": [],
   "source": [
    "def main():\n",
    "    md = MD3D(100)\n",
    "    # setup the system\n",
    "    setup_system(md)\n",
    "    # for every time_step in md.n_steps, \n",
    "    # print out which step it is (so you \n",
    "    # can track your progress). Then \n",
    "    # calculate forces and integrate the \n",
    "    # equations of motion.\n",
    "    for t in range(md.n_steps):\n",
    "        print(\"Calculating time step \", t)\n",
    "        get_forces(md, t)\n",
    "        integrate(md, t)\n",
    "    write_coordinates(md)\n",
    "    # Finally, write the coordinates to a file.\n",
    "    print(\"Done!\")\n",
    "    return md"
   ]
  },
  {
   "cell_type": "markdown",
   "metadata": {},
   "source": [
    "## Run the code"
   ]
  },
  {
   "cell_type": "code",
   "execution_count": 131,
   "metadata": {
    "ExecuteTime": {
     "end_time": "2019-01-29T09:08:49.083082Z",
     "start_time": "2019-01-29T09:08:48.918717Z"
    }
   },
   "outputs": [
    {
     "name": "stdout",
     "output_type": "stream",
     "text": [
      "[[ 0.5  0.5  0.5]\n",
      " [ 1.5  1.5  1.5]\n",
      " [ 2.5  2.5  2.5]\n",
      " [ 3.5  3.5  3.5]\n",
      " [ 4.5  4.5  4.5]\n",
      " [ 5.5  5.5  5.5]\n",
      " [ 6.5  6.5  6.5]\n",
      " [ 7.5  7.5  7.5]\n",
      " [ 8.5  8.5  8.5]\n",
      " [ 9.5  9.5  9.5]\n",
      " [10.5 10.5 10.5]\n",
      " [11.5 11.5 11.5]\n",
      " [12.5 12.5 12.5]\n",
      " [13.5 13.5 13.5]\n",
      " [14.5 14.5 14.5]\n",
      " [15.5 15.5 15.5]\n",
      " [16.5 16.5 16.5]\n",
      " [17.5 17.5 17.5]\n",
      " [18.5 18.5 18.5]\n",
      " [19.5 19.5 19.5]\n",
      " [20.5 20.5 20.5]\n",
      " [21.5 21.5 21.5]\n",
      " [22.5 22.5 22.5]\n",
      " [23.5 23.5 23.5]\n",
      " [24.5 24.5 24.5]\n",
      " [25.5 25.5 25.5]\n",
      " [26.5 26.5 26.5]\n",
      " [27.5 27.5 27.5]\n",
      " [28.5 28.5 28.5]\n",
      " [29.5 29.5 29.5]\n",
      " [30.5 30.5 30.5]\n",
      " [31.5 31.5 31.5]\n",
      " [32.5 32.5 32.5]\n",
      " [33.5 33.5 33.5]\n",
      " [34.5 34.5 34.5]\n",
      " [35.5 35.5 35.5]]\n",
      "Calculating time step  0\n",
      "-5.228199588082385 255.89155345693695 36\n",
      "  --- Energy: 3.408821587232947 ---\n",
      "Calculating time step  1\n",
      "-5.229263469783052 255.89594609714945 36\n",
      "  --- Energy: 3.4088530438553244 ---\n",
      "Calculating time step  2\n",
      "-5.232455848753768 255.89421853646448 36\n",
      "  --- Energy: 3.408740372763291 ---\n",
      "Calculating time step  3\n",
      "-5.237774120320061 255.88638829621232 36\n",
      "  --- Energy: 3.4084838896607246 ---\n",
      "Calculating time step  4\n",
      "-5.245210639944345 255.87248025231187 36\n",
      "  --- Energy: 3.4080841523947663 ---\n",
      "Calculating time step  5\n",
      "-5.254752559624461 255.8525272394011 36\n",
      "  --- Energy: 3.407541973891002 ---\n",
      "Calculating time step  6\n",
      "-5.266381618682448 255.82657083500072 36\n",
      "  --- Energy: 3.4068584388560534 ---\n",
      "Calculating time step  7\n",
      "-5.280073891878931 255.7946623217711 36\n",
      "  --- Energy: 3.406034924139073 ---\n",
      "Calculating time step  8\n",
      "-5.295799498762382 255.7568638243309 36\n",
      "  --- Energy: 3.40507312259453 ---\n",
      "Calculating time step  9\n",
      "-5.313522279284651 255.71324961519693 36\n",
      "  --- Energy: 3.4039750702309393 ---\n",
      "Calculating time step  10\n",
      "-5.3331994420007325 255.66390758193845 36\n",
      "  --- Energy: 3.402743176360236 ---\n",
      "Calculating time step  11\n",
      "-5.354781192631088 255.608940844564 36\n",
      "  --- Energy: 3.4013802563791917 ---\n",
      "Calculating time step  12\n",
      "-5.378210352400419 255.54846950836853 36\n",
      "  --- Energy: 3.399889566716218 ---\n",
      "Calculating time step  13\n",
      "-5.403421977365742 255.4826325331468 36\n",
      "  --- Energy: 3.3982748413668795 ---\n",
      "Calculating time step  14\n",
      "-5.430342991882522 255.411589694557 36\n",
      "  --- Energy: 3.396540329316555 ---\n",
      "Calculating time step  15\n",
      "-5.45889185138411 255.3355236077157 36\n",
      "  --- Energy: 3.3946908320131595 ---\n",
      "Calculating time step  16\n",
      "-5.488978251696922 255.25464177703864 36\n",
      "  --- Energy: 3.392731739911733 ---\n",
      "Calculating time step  17\n",
      "-5.520502904086285 255.16917862980404 36\n",
      "  --- Energy: 3.390669066967104 ---\n",
      "Calculating time step  18\n",
      "-5.553357397000749 255.07939748463943 36\n",
      "  --- Energy: 3.3885094818144155 ---\n",
      "Calculating time step  19\n",
      "-5.587424166905288 254.9855924002266 36\n",
      "  --- Energy: 3.386260334255778 ---\n",
      "Calculating time step  20\n",
      "-5.622576601489293 254.8880898445042 36\n",
      "  --- Energy: 3.383929675576745 ---\n",
      "Calculating time step  21\n",
      "-5.658679298712534 254.78725012140285 36\n",
      "  --- Energy: 3.3815262711663583 ---\n",
      "Calculating time step  22\n",
      "-5.695588504415607 254.6834684909897 36\n",
      "  --- Energy: 3.3790596039188676 ---\n",
      "Calculating time step  23\n",
      "-5.733152749389924 254.57717592075448 36\n",
      "  --- Energy: 3.3765398669718696 ---\n",
      "Calculating time step  24\n",
      "-5.771213703731952 254.46883941129377 36\n",
      "  --- Energy: 3.373977944497637 ---\n",
      "Calculating time step  25\n",
      "-5.8096072619162396 254.35896184921404 36\n",
      "  --- Energy: 3.371385379519188 ---\n",
      "Calculating time step  26\n",
      "-5.848164866319067 254.24808135415125 36\n",
      "  --- Energy: 3.368774328076571 ---\n",
      "Calculating time step  27\n",
      "-5.886715070028754 254.13677010537145 36\n",
      "  --- Energy: 3.3661574995182493 ---\n",
      "Calculating time step  28\n",
      "-5.925085331934688 254.02563265594034 36\n",
      "  --- Energy: 3.363548083223208 ---\n",
      "Calculating time step  29\n",
      "-5.963104028664587 253.91530376824883 36\n",
      "  --- Energy: 3.360959662651662 ---\n",
      "Calculating time step  30\n",
      "-6.000602659415597 253.8064458322748 36\n",
      "  --- Energy: 3.3584061182422724 ---\n",
      "Calculating time step  31\n",
      "-6.037418211637531 253.69974595545202 36\n",
      "  --- Energy: 3.3559015212802357 ---\n",
      "Calculating time step  32\n",
      "-6.073395648411731 253.59591283827191 36\n",
      "  --- Energy: 3.3534600214090062 ---\n",
      "Calculating time step  33\n",
      "-6.108390472664182 253.49567357022198 36\n",
      "  --- Energy: 3.3510957309013003 ---\n",
      "Calculating time step  34\n",
      "-6.142271319290258 253.39977049365422 36\n",
      "  --- Energy: 3.348822609098246 ---\n",
      "Calculating time step  35\n",
      "-6.174922523750859 253.3089582858687 36\n",
      "  --- Energy: 3.3466543505328747 ---\n",
      "Calculating time step  36\n",
      "-6.206246614163181 253.22400139945944 36\n",
      "  --- Energy: 3.344604280154626 ---\n",
      "Calculating time step  37\n",
      "-6.2361666721827 253.14567197470274 36\n",
      "  --- Energy: 3.342685258754685 ---\n",
      "Calculating time step  38\n",
      "-6.264628504118514 253.07474829162143 36\n",
      "  --- Energy: 3.3409096011581165 ---\n",
      "Calculating time step  39\n",
      "-6.291602554829394 253.01201375797902 36\n",
      "  --- Energy: 3.339289009004448 ---\n",
      "Calculating time step  40\n",
      "-6.317085478836455 252.95825632441813 36\n",
      "  --- Energy: 3.3378345189825724 ---\n",
      "Calculating time step  41\n",
      "-6.3411012498583945 252.91426806500002 36\n",
      "  --- Energy: 3.336556466184489 ---\n",
      "Calculating time step  42\n",
      "-6.363701633266888 252.8808444374726 36\n",
      "  --- Energy: 3.3354644607074837 ---\n",
      "Calculating time step  43\n",
      "-6.384965753780687 252.85878240499844 36\n",
      "  --- Energy: 3.334567373575515 ---\n",
      "Calculating time step  44\n",
      "-6.404998345613732 252.8488760990129 36\n",
      "  --- Energy: 3.333873325108131 ---\n",
      "Calculating time step  45\n",
      "-6.423926048581775 252.8519079359711 36\n",
      "  --- Energy: 3.3333896644278824 ---\n",
      "Calculating time step  46\n",
      "-6.441890773421015 252.86863191939094 36\n",
      "  --- Energy: 3.3331229218409573 ---\n",
      "Calculating time step  47\n",
      "-6.459038647123051 252.89974403327804 36\n",
      "  --- Energy: 3.333078704708777 ---\n",
      "Calculating time step  48\n",
      "-6.475502284396319 252.94583181730604 36\n",
      "  --- Energy: 3.333261489562686 ---\n",
      "Calculating time step  49\n",
      "-6.491373004045204 253.00729090024046 36\n",
      "  --- Energy: 3.3336742346131953 ---\n",
      "Calculating time step  50\n",
      "-6.506657979270263 253.08418975191796 36\n",
      "  --- Energy: 3.334317691574687 ---\n",
      "Calculating time step  51\n",
      "-6.521215033903019 253.17605431891073 36\n",
      "  --- Energy: 3.3351892257097875 ---\n",
      "Calculating time step  52\n",
      "-6.534654813119976 253.28153071824548 36\n",
      "  --- Energy: 3.336280848500077 ---\n",
      "Calculating time step  53\n",
      "-6.546196648188369 253.3978668356504 36\n",
      "  --- Energy: 3.337576021378801 ---\n",
      "Calculating time step  54\n",
      "-6.554461856827417 253.52013571680905 36\n",
      "  --- Energy: 3.33904461115492 ---\n",
      "Calculating time step  55\n",
      "-6.557190153470177 253.64011702632845 36\n",
      "  --- Energy: 3.3406352322137236 ---\n",
      "Calculating time step  56\n",
      "-6.550880371050607 253.74479074365843 36\n",
      "  --- Energy: 3.3422643055771832 ---\n",
      "Calculating time step  57\n",
      "-6.530405520672271 253.81455758494255 36\n",
      "  --- Energy: 3.3438020353277498 ---\n",
      "Calculating time step  58\n",
      "-6.4887707119945714 253.82173816512326 36\n",
      "  --- Energy: 3.345058288071307 ---\n",
      "Calculating time step  59\n",
      "-6.4174194708834476 253.7308483566817 36\n",
      "  --- Energy: 3.3457779085404833 ---\n",
      "Calculating time step  60\n",
      "-6.3078568594401965 253.50370892670477 36\n",
      "  --- Energy: 3.345666600108672 ---\n",
      "Calculating time step  61\n",
      "-6.155623024273258 253.11382841045705 36\n",
      "  --- Energy: 3.3444803105820906 ---\n",
      "Calculating time step  62\n",
      "-5.967006871453142 252.57245558635012 36\n",
      "  --- Energy: 3.3422005811589424 ---\n",
      "Calculating time step  63\n",
      "-5.76596131177464 251.95749723680922 36\n",
      "  --- Energy: 3.339244091850832 ---\n",
      "Calculating time step  64\n",
      "-5.593751307172318 251.4168512862194 36\n",
      "  --- Energy: 3.3365187315538165 ---\n",
      "Calculating time step  65\n",
      "-5.493449312245355 251.1147318728157 36\n",
      "  --- Energy: 3.335108795115625 ---\n",
      "Calculating time step  66\n",
      "-5.4845210004049285 251.13760441070352 36\n",
      "  --- Energy: 3.3356744779151897 ---\n",
      "Calculating time step  67\n",
      "-5.549491695991143 251.4393008575925 36\n",
      "  --- Energy: 3.3380599648001423 ---\n",
      "Calculating time step  68\n",
      "-5.6467168981576314 251.8802713095475 36\n",
      "  --- Energy: 3.341483854350448 ---\n",
      "Calculating time step  69\n",
      "-5.735492409013093 252.31665538856703 36\n",
      "  --- Energy: 3.3450787579241785 ---\n",
      "Calculating time step  70\n",
      "-5.791678472051355 252.65970110039754 36\n",
      "  --- Energy: 3.348282557726317 ---\n",
      "Calculating time step  71\n",
      "-5.808446514384293 252.88151331804215 36\n",
      "  --- Energy: 3.3508975040176887 ---\n",
      "Calculating time step  72\n",
      "-5.789728544360305 252.99265249091246 36\n",
      "  --- Energy: 3.3529610472526645 ---\n",
      "Calculating time step  73\n",
      "-5.743683996725154 253.0188203877848 36\n",
      "  --- Energy: 3.3546035054768684 ---\n",
      "Calculating time step  74\n",
      "-5.678750362648908 252.98674896751743 36\n",
      "  --- Energy: 3.355961781141939 ---\n",
      "Calculating time step  75\n",
      "-5.601970852177973 252.91836630807543 36\n",
      "  --- Energy: 3.357144786162771 ---\n",
      "Calculating time step  76\n",
      "-5.518624691827663 252.82964054034724 36\n",
      "  --- Energy: 3.3582276549540544 ---\n",
      "Calculating time step  77\n",
      "-5.432416966775275 252.73135957308523 36\n",
      "  --- Energy: 3.3592573005490927 ---\n",
      "Calculating time step  78\n",
      "-5.345827638030187 252.6304033398979 36\n",
      "  --- Energy: 3.360260389775521 ---\n",
      "Calculating time step  79\n",
      "-5.260448574237649 252.53091953796223 36\n",
      "  --- Energy: 3.3612503109650964 ---\n",
      "Calculating time step  80\n",
      "-5.177254389233331 252.43523585337593 36\n",
      "  --- Energy: 3.362232320484851 ---\n",
      "Calculating time step  81\n",
      "-5.096802374121082 252.34451106218455 36\n",
      "  --- Energy: 3.3632070321380887 ---\n",
      "Calculating time step  82\n",
      "-5.0193734179592955 252.25917830961 36\n",
      "  --- Energy: 3.364172659356825 ---\n",
      "Calculating time step  83\n",
      "-4.94506864584503 252.17923793881502 36\n",
      "  --- Energy: 3.3651263978767356 ---\n",
      "Calculating time step  84\n",
      "-4.873874542961355 252.10444670990373 36\n",
      "  --- Energy: 3.366065244777514 ---\n",
      "Calculating time step  85\n",
      "-4.805706314365132 252.0344377143512 36\n",
      "  --- Energy: 3.366986459522513 ---\n",
      "Calculating time step  86\n",
      "-4.740436481326644 251.96879477500252 36\n",
      "  --- Energy: 3.367887802949295 ---\n",
      "Calculating time step  87\n",
      "-4.6779135756291135 251.90709733579772 36\n",
      "  --- Energy: 3.368767641451937 ---\n",
      "Calculating time step  88\n",
      "-4.617974243288798 251.84894641680575 36\n",
      "  --- Energy: 3.3696249712531685 ---\n",
      "Calculating time step  89\n",
      "-4.56045098792829 251.79397854623355 36\n",
      "  --- Energy: 3.370459396810791 ---\n",
      "Calculating time step  90\n",
      "-4.505177045591419 251.74187215396202 36\n",
      "  --- Energy: 3.3712710842052664 ---\n",
      "Calculating time step  91\n",
      "-4.4519893844758585 251.69234932030818 36\n",
      "  --- Energy: 3.372060702102173 ---\n",
      "Calculating time step  92\n",
      "-4.4007304890255705 251.64517473787458 36\n",
      "  --- Energy: 3.372829357775325 ---\n",
      "Calculating time step  93\n",
      "-4.351249364687066 251.6001530723412 36\n",
      "  --- Energy: 3.373578532541209 ---\n",
      "Calculating time step  94\n",
      "-4.303402050825007 251.55712547317236 36\n",
      "  --- Energy: 3.374310019048922 ---\n",
      "Calculating time step  95\n",
      "-4.257051830127087 251.51596570480507 36\n",
      "  --- Energy: 3.3750258617298736 ---\n",
      "Calculating time step  96\n",
      "-4.212069256784514 251.47657618836436 36\n",
      "  --- Energy: 3.375728301038824 ---\n",
      "Calculating time step  97\n",
      "-4.168332081790627 251.4388841283622 36\n",
      "  --- Energy: 3.3764197217330687 ---\n",
      "Calculating time step  98\n",
      "-4.125725124564284 251.40283782542733 36\n",
      "  --- Energy: 3.3771026052263715 ---\n",
      "Calculating time step  99\n",
      "-4.084140120684959 251.36840322981058 36\n",
      "  --- Energy: 3.3777794859505645 ---\n",
      "Wrote coordinates to example3d.xyz\n",
      "Done!\n"
     ]
    }
   ],
   "source": [
    "sim3d = main()"
   ]
  },
  {
   "cell_type": "code",
   "execution_count": 132,
   "metadata": {
    "ExecuteTime": {
     "end_time": "2019-01-29T09:09:20.564311Z",
     "start_time": "2019-01-29T09:09:20.524083Z"
    }
   },
   "outputs": [],
   "source": [
    "watch(sim3d)"
   ]
  },
  {
   "cell_type": "markdown",
   "metadata": {},
   "source": [
    "### Timing the code"
   ]
  },
  {
   "cell_type": "markdown",
   "metadata": {
    "ExecuteTime": {
     "end_time": "2019-01-10T22:28:00.737711Z",
     "start_time": "2019-01-10T22:27:58.350824Z"
    }
   },
   "source": [
    "<div class=\"alert alert-block alert-info\">\n",
    "\n",
    "<b>How long does the simulation take? Profile it with the magic command `%prun`. Which step is the least efficient? Does changing the cutoff distance help?</div>"
   ]
  },
  {
   "cell_type": "code",
   "execution_count": 137,
   "metadata": {
    "ExecuteTime": {
     "end_time": "2019-01-29T09:11:36.780189Z",
     "start_time": "2019-01-29T09:11:36.667934Z"
    }
   },
   "outputs": [
    {
     "name": "stdout",
     "output_type": "stream",
     "text": [
      "[[ 0.5  0.5  0.5]\n",
      " [ 1.5  1.5  1.5]\n",
      " [ 2.5  2.5  2.5]\n",
      " [ 3.5  3.5  3.5]\n",
      " [ 4.5  4.5  4.5]\n",
      " [ 5.5  5.5  5.5]\n",
      " [ 6.5  6.5  6.5]\n",
      " [ 7.5  7.5  7.5]\n",
      " [ 8.5  8.5  8.5]\n",
      " [ 9.5  9.5  9.5]\n",
      " [10.5 10.5 10.5]\n",
      " [11.5 11.5 11.5]\n",
      " [12.5 12.5 12.5]\n",
      " [13.5 13.5 13.5]\n",
      " [14.5 14.5 14.5]\n",
      " [15.5 15.5 15.5]\n",
      " [16.5 16.5 16.5]\n",
      " [17.5 17.5 17.5]\n",
      " [18.5 18.5 18.5]\n",
      " [19.5 19.5 19.5]\n",
      " [20.5 20.5 20.5]\n",
      " [21.5 21.5 21.5]\n",
      " [22.5 22.5 22.5]\n",
      " [23.5 23.5 23.5]\n",
      " [24.5 24.5 24.5]\n",
      " [25.5 25.5 25.5]\n",
      " [26.5 26.5 26.5]\n",
      " [27.5 27.5 27.5]\n",
      " [28.5 28.5 28.5]\n",
      " [29.5 29.5 29.5]\n",
      " [30.5 30.5 30.5]\n",
      " [31.5 31.5 31.5]\n",
      " [32.5 32.5 32.5]\n",
      " [33.5 33.5 33.5]\n",
      " [34.5 34.5 34.5]\n",
      " [35.5 35.5 35.5]]\n",
      "Calculating time step  0\n",
      "-5.228199588082383 261.54225649205716 36\n",
      "  --- Energy: 3.4873035738318388 ---\n",
      "Calculating time step  1\n",
      "-5.228735183026491 261.54333017319 36\n",
      "  --- Energy: 3.4873036084324585 ---\n",
      "Calculating time step  2\n",
      "-5.230353056511403 261.54656908299904 36\n",
      "  --- Energy: 3.487303652360781 ---\n",
      "Calculating time step  3\n",
      "-5.23307359134318 261.5520140115593 36\n",
      "  --- Energy: 3.4873037059565686 ---\n",
      "Calculating time step  4\n",
      "-5.2369223203664035 261.559716053282 36\n",
      "  --- Energy: 3.487303769618739 ---\n",
      "Calculating time step  5\n",
      "-5.241930141616235 261.56973703747366 36\n",
      "  --- Energy: 3.4873038438089052 ---\n",
      "Calculating time step  6\n",
      "-5.248133568102732 261.58215002821356 36\n",
      "  --- Energy: 3.487303929055668 ---\n",
      "Calculating time step  7\n",
      "-5.255575014679464 261.5970398984408 36\n",
      "  --- Energy: 3.4873040259594705 ---\n",
      "Calculating time step  8\n",
      "-5.264303124780619 261.6145039838015 36\n",
      "  --- Energy: 3.4873041351977814 ---\n",
      "Calculating time step  9\n",
      "-5.274373140136703 261.6346528224873 36\n",
      "  --- Energy: 3.4873042575307482 ---\n",
      "Calculating time step  10\n",
      "-5.285847316884917 261.65761098789085 36\n",
      "  --- Energy: 3.4873043938072366 ---\n",
      "Calculating time step  11\n",
      "-5.298795391757061 261.68351802142735 36\n",
      "  --- Energy: 3.4873045449710167 ---\n",
      "Calculating time step  12\n",
      "-5.313295102225535 261.71252947326263 36\n",
      "  --- Energy: 3.4873047120668272 ---\n",
      "Calculating time step  13\n",
      "-5.3294327645733635 261.7448180588316 36\n",
      "  --- Energy: 3.487304896245623 ---\n",
      "Calculating time step  14\n",
      "-5.347303913764199 261.7805749389049 36\n",
      "  --- Energy: 3.4873050987691183 ---\n",
      "Calculating time step  15\n",
      "-5.3670140086323865 261.8200111301303 36\n",
      "  --- Energy: 3.4873053210120215 ---\n",
      "Calculating time step  16\n",
      "-5.388679205161167 261.8633590515024 36\n",
      "  --- Energy: 3.4873055644608346 ---\n",
      "Calculating time step  17\n",
      "-5.412427199283567 261.9108742095257 36\n",
      "  --- Energy: 3.4873058307077573 ---\n",
      "Calculating time step  18\n",
      "-5.438398138460317 261.96283702035436 36\n",
      "  --- Energy: 3.4873061214365797 ---\n",
      "Calculating time step  19\n",
      "-5.4667455978852 262.01955476034584 36\n",
      "  --- Energy: 3.4873064383968813 ---\n",
      "Calculating time step  20\n",
      "-5.497637612003055 262.08136362602835 36\n",
      "  --- Energy: 3.48730678336142 ---\n",
      "Calculating time step  21\n",
      "-5.531257744333452 262.14863086889807 36\n",
      "  --- Energy: 3.487307158058766 ---\n",
      "Calculating time step  22\n",
      "-5.567806167282183 262.22175694762376 36\n",
      "  --- Energy: 3.487307564070269 ---\n",
      "Calculating time step  23\n",
      "-5.607500707134749 262.3011776069342 36\n",
      "  --- Energy: 3.4873080026758982 ---\n",
      "Calculating time step  24\n",
      "-5.650577785536321 262.3873657441903 36\n",
      "  --- Energy: 3.487308474626634 ---\n",
      "Calculating time step  25\n",
      "-5.697293154291451 262.48083285502344 36\n",
      "  --- Energy: 3.487308979811674 ---\n",
      "Calculating time step  26\n",
      "-5.747922270723107 262.58212974927307 36\n",
      "  --- Energy: 3.487309516775373 ---\n",
      "Calculating time step  27\n",
      "-5.802760089633711 262.69184608463564 36\n",
      "  --- Energy: 3.487310082019003 ---\n",
      "Calculating time step  28\n",
      "-5.862119945890221 262.8106080594767 36\n",
      "  --- Energy: 3.4873106689957813 ---\n",
      "Calculating time step  29\n",
      "-5.926331055758179 262.9390733116167 36\n",
      "  --- Energy: 3.48731126666806 ---\n",
      "Calculating time step  30\n",
      "-5.9957339570238695 263.0779216498802 36\n",
      "  --- Energy: 3.4873118574421174 ---\n",
      "Calculating time step  31\n",
      "-6.070672912353979 263.227839648708 36\n",
      "  --- Energy: 3.487312414222223 ---\n",
      "Calculating time step  32\n",
      "-6.151483883102639 263.3894962946258 36\n",
      "  --- Energy: 3.487312896228063 ---\n",
      "Calculating time step  33\n",
      "-6.23847609771431 263.563505698566 36\n",
      "  --- Energy: 3.4873132430991305 ---\n",
      "Calculating time step  34\n",
      "-6.331904437105658 263.7503712748814 36\n",
      "  --- Energy: 3.487313366675973 ---\n",
      "Calculating time step  35\n",
      "-6.431928785481508 263.95040363248216 36\n",
      "  --- Energy: 3.4873131397433217 ---\n",
      "Calculating time step  36\n",
      "-6.538555119307471 264.16360167418117 36\n",
      "  --- Energy: 3.487312381049531 ---\n",
      "Calculating time step  37\n",
      "-6.651551483981728 264.3894831832003 36\n",
      "  --- Energy: 3.4873108363227336 ---\n",
      "Calculating time step  38\n",
      "-6.770330409908872 264.62684807399035 36\n",
      "  --- Energy: 3.487308156307953 ---\n",
      "Calculating time step  39\n",
      "-6.893788517666245 264.8734561129409 36\n",
      "  --- Energy: 3.4873038760778945 ---\n",
      "Calculating time step  40\n",
      "-7.020095863339591 265.125605021862 36\n",
      "  --- Energy: 3.487297406877539 ---\n",
      "Calculating time step  41\n",
      "-7.146435769126933 265.3776122487711 36\n",
      "  --- Energy: 3.48728806542385 ---\n",
      "Calculating time step  42\n",
      "-7.268717631038761 265.6212488684463 36\n",
      "  --- Energy: 3.4872751889773443 ---\n",
      "Calculating time step  43\n",
      "-7.381332282106719 265.84527055126676 36\n",
      "  --- Energy: 3.487258416486852 ---\n",
      "Calculating time step  44\n",
      "-7.477106834947172 266.03536676639845 36\n",
      "  --- Energy: 3.487238237451446 ---\n",
      "Calculating time step  45\n",
      "-7.547749763662544 266.1751129520759 36\n",
      "  --- Energy: 3.487216853121539 ---\n",
      "Calculating time step  46\n",
      "-7.585217429151575 266.2487706028215 36\n",
      "  --- Energy: 3.4871991075627546 ---\n",
      "Calculating time step  47\n",
      "-7.584417636859298 266.2466989771185 36\n",
      "  --- Energy: 3.48719255143611 ---\n",
      "Calculating time step  48\n",
      "-7.547137175891498 266.17302122681326 36\n",
      "  --- Energy: 3.487204817708754 ---\n",
      "Calculating time step  49\n",
      "-7.4856524282882795 266.0523643203869 36\n",
      "  --- Energy: 3.487236936997366 ---\n",
      "Calculating time step  50\n",
      "-7.422549049876848 265.9289435595305 36\n",
      "  --- Energy: 3.4872756313857893 ---\n",
      "Calculating time step  51\n",
      "-7.383159510384763 265.8515271968948 36\n",
      "  --- Energy: 3.48729455800174 ---\n",
      "Calculating time step  52\n",
      "-7.381830335843102 265.84724778501413 36\n",
      "  --- Energy: 3.4872720432406656 ---\n",
      "Calculating time step  53\n",
      "-7.411138340823481 265.90162728637114 36\n",
      "  --- Energy: 3.487213202843391 ---\n",
      "Calculating time step  54\n",
      "-7.444786050974093 265.9644938409939 36\n",
      "  --- Energy: 3.4871516908200793 ---\n",
      "Calculating time step  55\n",
      "-7.45484809858307 265.9828393703035 36\n",
      "  --- Energy: 3.4871269885157967 ---\n",
      "Calculating time step  56\n",
      "-7.432044639885127 265.93951671198204 36\n",
      "  --- Energy: 3.4871587143362746 ---\n",
      "Calculating time step  57\n",
      "-7.395820141136969 265.8725662793235 36\n",
      "  --- Energy: 3.4872350832923553 ---\n",
      "Calculating time step  58\n",
      "-7.3879514146128535 265.8627608846823 36\n",
      "  --- Energy: 3.4873174729924528 ---\n",
      "Calculating time step  59\n",
      "-7.452118950242923 265.99410270020275 36\n",
      "  --- Energy: 3.4873592333294017 ---\n",
      "Calculating time step  60\n",
      "-7.609545623207858 266.3070554182599 36\n",
      "  --- Energy: 3.487332835720058 ---\n",
      "Calculating time step  61\n",
      "-7.844756785984113 266.7713474727807 36\n",
      "  --- Energy: 3.4872476930668395 ---\n",
      "Calculating time step  62\n",
      "-8.110403391360512 267.2950053382011 36\n",
      "  --- Energy: 3.4871416466038903 ---\n",
      "Calculating time step  63\n",
      "-8.346965219809835 267.76182268379983 36\n",
      "  --- Energy: 3.487054058946947 ---\n",
      "Calculating time step  64\n",
      "-8.503961151825298 268.07239902261335 36\n",
      "  --- Energy: 3.4870066210967052 ---\n",
      "Calculating time step  65\n",
      "-8.552594162846692 268.16945012859003 36\n",
      "  --- Energy: 3.4870036361513423 ---\n",
      "Calculating time step  66\n",
      "-8.489164570543894 268.0453017998408 36\n",
      "  --- Energy: 3.4870412869271252 ---\n",
      "Calculating time step  67\n",
      "-8.333418269599651 267.73891538023474 36\n",
      "  --- Energy: 3.4871122061254924 ---\n",
      "Calculating time step  68\n",
      "-8.124136376729393 267.32682412444245 36\n",
      "  --- Energy: 3.487202102374773 ---\n",
      "Calculating time step  69\n",
      "-7.910628656004384 266.90583476078217 36\n",
      "  --- Energy: 3.487285797899631 ---\n",
      "Calculating time step  70\n",
      "-7.73873262825836 266.56547988838844 36\n",
      "  --- Energy: 3.487333536553774 ---\n",
      "Calculating time step  71\n",
      "-7.635021455865168 266.35773606396606 36\n",
      "  --- Energy: 3.4873290715588294 ---\n",
      "Calculating time step  72\n",
      "-7.59836709529565 266.28119496592296 36\n",
      "  --- Energy: 3.487284177435162 ---\n",
      "Calculating time step  73\n",
      "-7.605871977022692 266.29248697237034 36\n",
      "  --- Energy: 3.48723254192118 ---\n",
      "Calculating time step  74\n",
      "-7.630000040362657 266.3388791922426 36\n",
      "  --- Energy: 3.487206654326629 ---\n",
      "Calculating time step  75\n",
      "-7.655293362248621 266.3902327548204 36\n",
      "  --- Energy: 3.4872173059767104 ---\n",
      "Calculating time step  76\n",
      "-7.684162502161988 266.4503053030236 36\n",
      "  --- Energy: 3.487249726370828 ---\n",
      "Calculating time step  77\n",
      "-7.7296239024016415 266.543189079869 36\n",
      "  --- Energy: 3.487276962153691 ---\n",
      "Calculating time step  78\n",
      "-7.801748277730436 266.68768428075305 36\n",
      "  --- Energy: 3.487280385073502 ---\n",
      "Calculating time step  79\n",
      "-7.89818247112701 266.8791768794981 36\n",
      "  --- Energy: 3.487261276906168 ---\n",
      "Calculating time step  80\n",
      "-8.00465104938452 267.09022503036545 36\n",
      "  --- Energy: 3.487235040716617 ---\n",
      "Calculating time step  81\n",
      "-8.102785770132853 267.28518536721975 36\n",
      "  --- Energy: 3.4872168587076953 ---\n",
      "Calculating time step  82\n",
      "-8.17820785180124 267.4357501229127 36\n",
      "  --- Energy: 3.4872129780459753 ---\n",
      "Calculating time step  83\n",
      "-8.22424706668375 267.52843484151765 36\n",
      "  --- Energy: 3.4872213987243077 ---\n",
      "Calculating time step  84\n",
      "-8.24131831152873 267.56367599594336 36\n",
      "  --- Energy: 3.4872366579567484 ---\n",
      "Calculating time step  85\n",
      "-8.234256562383628 267.550772780869 36\n",
      "  --- Energy: 3.487253606334747 ---\n",
      "Calculating time step  86\n",
      "-8.209603467298859 267.50256423546654 36\n",
      "  --- Energy: 3.4872688514009558 ---\n",
      "Calculating time step  87\n",
      "-8.173705802880576 267.43162090619387 36\n",
      "  --- Energy: 3.487280684728232 ---\n",
      "Calculating time step  88\n",
      "-8.131675114827821 267.3481221765542 36\n",
      "  --- Energy: 3.48728849926248 ---\n",
      "Calculating time step  89\n",
      "-8.086948593620692 267.2589386131362 36\n",
      "  --- Energy: 3.487292242026317 ---\n",
      "Calculating time step  90\n",
      "-8.041179787898045 267.1673888147675 36\n",
      "  --- Energy: 3.4872920727634917 ---\n",
      "Calculating time step  91\n",
      "-7.994281986229694 267.07331705576104 36\n",
      "  --- Energy: 3.4872882372680785 ---\n",
      "Calculating time step  92\n",
      "-7.9445557488341185 266.9733530755969 36\n",
      "  --- Energy: 3.4872811330267868 ---\n",
      "Calculating time step  93\n",
      "-7.8889324035539925 266.86141686327096 36\n",
      "  --- Energy: 3.487271556335597 ---\n",
      "Calculating time step  94\n",
      "-7.823458370864573 266.7297166171034 36\n",
      "  --- Energy: 3.487261109380198 ---\n",
      "Calculating time step  95\n",
      "-7.744220447530847 266.57063160848327 36\n",
      "  --- Energy: 3.4872526487975217 ---\n",
      "Calculating time step  96\n",
      "-7.648914289223905 266.37985853660007 36\n",
      "  --- Energy: 3.487250416085448 ---\n",
      "Calculating time step  97\n",
      "-7.539062030071178 266.16078329771426 36\n",
      "  --- Energy: 3.4872591560773873 ---\n",
      "Calculating time step  98\n",
      "-7.422335920794004 265.9289403668084 36\n",
      "  --- Energy: 3.4872815072947274 ---\n",
      "Calculating time step  99\n",
      "-7.313581150908484 265.7137756625059 36\n",
      "  --- Energy: 3.4873140744540128 ---\n",
      "Wrote coordinates to example3d.xyz\n",
      "Done!\n",
      " "
     ]
    }
   ],
   "source": [
    "%prun main()"
   ]
  },
  {
   "cell_type": "markdown",
   "metadata": {},
   "source": [
    "<div class=\"alert alert-block alert-info\">\n",
    "\n",
    "<b>How much memory is Jupyter using during the simulation? Load the `memory_profiler` extension and use `%memit` to view the peak memory consumption."
   ]
  },
  {
   "cell_type": "code",
   "execution_count": 138,
   "metadata": {
    "ExecuteTime": {
     "end_time": "2019-01-29T09:11:46.617052Z",
     "start_time": "2019-01-29T09:11:46.614529Z"
    }
   },
   "outputs": [
    {
     "name": "stdout",
     "output_type": "stream",
     "text": [
      "The memory_profiler extension is already loaded. To reload it, use:\n",
      "  %reload_ext memory_profiler\n"
     ]
    }
   ],
   "source": [
    "%load_ext memory_profiler"
   ]
  },
  {
   "cell_type": "code",
   "execution_count": 139,
   "metadata": {
    "ExecuteTime": {
     "end_time": "2019-01-29T09:11:47.921238Z",
     "start_time": "2019-01-29T09:11:47.570525Z"
    }
   },
   "outputs": [
    {
     "name": "stdout",
     "output_type": "stream",
     "text": [
      "[[ 0.5  0.5  0.5]\n",
      " [ 1.5  1.5  1.5]\n",
      " [ 2.5  2.5  2.5]\n",
      " [ 3.5  3.5  3.5]\n",
      " [ 4.5  4.5  4.5]\n",
      " [ 5.5  5.5  5.5]\n",
      " [ 6.5  6.5  6.5]\n",
      " [ 7.5  7.5  7.5]\n",
      " [ 8.5  8.5  8.5]\n",
      " [ 9.5  9.5  9.5]\n",
      " [10.5 10.5 10.5]\n",
      " [11.5 11.5 11.5]\n",
      " [12.5 12.5 12.5]\n",
      " [13.5 13.5 13.5]\n",
      " [14.5 14.5 14.5]\n",
      " [15.5 15.5 15.5]\n",
      " [16.5 16.5 16.5]\n",
      " [17.5 17.5 17.5]\n",
      " [18.5 18.5 18.5]\n",
      " [19.5 19.5 19.5]\n",
      " [20.5 20.5 20.5]\n",
      " [21.5 21.5 21.5]\n",
      " [22.5 22.5 22.5]\n",
      " [23.5 23.5 23.5]\n",
      " [24.5 24.5 24.5]\n",
      " [25.5 25.5 25.5]\n",
      " [26.5 26.5 26.5]\n",
      " [27.5 27.5 27.5]\n",
      " [28.5 28.5 28.5]\n",
      " [29.5 29.5 29.5]\n",
      " [30.5 30.5 30.5]\n",
      " [31.5 31.5 31.5]\n",
      " [32.5 32.5 32.5]\n",
      " [33.5 33.5 33.5]\n",
      " [34.5 34.5 34.5]\n",
      " [35.5 35.5 35.5]]\n",
      "Calculating time step  0\n",
      "-5.228199588082383 250.67120443242922 36\n",
      "  --- Energy: 3.3363167396703397 ---\n",
      "Calculating time step  1\n",
      "-5.228522359760358 250.67185207200407 36\n",
      "  --- Energy: 3.336316768784491 ---\n",
      "Calculating time step  2\n",
      "-5.229500297308137 250.6738108210502 36\n",
      "  --- Energy: 3.3363168087004715 ---\n",
      "Calculating time step  3\n",
      "-5.23115205202625 250.67711799674055 36\n",
      "  --- Energy: 3.3363168596206676 ---\n",
      "Calculating time step  4\n",
      "-5.233501990049259 250.68182234990155 36\n",
      "  --- Energy: 3.33631692180282 ---\n",
      "Calculating time step  5\n",
      "-5.236580332618524 250.68798434577386 36\n",
      "  --- Energy: 3.336316995563011 ---\n",
      "Calculating time step  6\n",
      "-5.240423329021725 250.69567651016004 36\n",
      "  --- Energy: 3.336317081279397 ---\n",
      "Calculating time step  7\n",
      "-5.245073464358332 250.70498384528548 36\n",
      "  --- Energy: 3.336317179396789 ---\n",
      "Calculating time step  8\n",
      "-5.250579704701205 250.71600432048456 36\n",
      "  --- Energy: 3.3363172904316962 ---\n",
      "Calculating time step  9\n",
      "-5.256997782607376 250.7288494436205 36\n",
      "  --- Energy: 3.3363174149778576 ---\n",
      "Calculating time step  10\n",
      "-5.26439052626554 250.74364491981027 36\n",
      "  --- Energy: 3.336317553712211 ---\n",
      "Calculating time step  11\n",
      "-5.272828235825387 250.76053140448772 36\n",
      "  --- Energy: 3.336317707400513 ---\n",
      "Calculating time step  12\n",
      "-5.28238911059051 250.77966535818192 36\n",
      "  --- Energy: 3.33631787690279 ---\n",
      "Calculating time step  13\n",
      "-5.293159730709487 250.8012200102204 36\n",
      "  --- Energy: 3.3363180631777976 ---\n",
      "Calculating time step  14\n",
      "-5.3052355966765035 250.82538643788234 36\n",
      "  --- Energy: 3.3363182672851295 ---\n",
      "Calculating time step  15\n",
      "-5.3187217292204165 250.852374766107 36\n",
      "  --- Energy: 3.3363184903842527 ---\n",
      "Calculating time step  16\n",
      "-5.333733330827386 250.8824154901034 36\n",
      "  --- Energy: 3.336318733728453 ---\n",
      "Calculating time step  17\n",
      "-5.350396507930659 250.9157609186952 36\n",
      "  --- Energy: 3.336318998650471 ---\n",
      "Calculating time step  18\n",
      "-5.368849049314032 250.95268672922688 36\n",
      "  --- Energy: 3.3363192865360944 ---\n",
      "Calculating time step  19\n",
      "-5.389241250940714 250.99349361407076 36\n",
      "  --- Energy: 3.3363195987804075 ---\n",
      "Calculating time step  20\n",
      "-5.411736769413191 251.03850898252117 36\n",
      "  --- Energy: 3.3363199367179828 ---\n",
      "Calculating time step  21\n",
      "-5.436513474405947 251.08808865791843 36\n",
      "  --- Energy: 3.336320301515369 ---\n",
      "Calculating time step  22\n",
      "-5.463764252980139 251.14261847460287 36\n",
      "  --- Energy: 3.3363206940089247 ---\n",
      "Calculating time step  23\n",
      "-5.493697693217788 251.20251562781192 36\n",
      "  --- Energy: 3.3363211144635603 ---\n",
      "Calculating time step  24\n",
      "-5.5265385375336535 251.26822955471673 36\n",
      "  --- Energy: 3.336321562217353 ---\n",
      "Calculating time step  25\n",
      "-5.5625277421794355 251.34024201594397 36\n",
      "  --- Energy: 3.336322035160904 ---\n",
      "Calculating time step  26\n",
      "-5.601921901403131 251.41906588923416 36\n",
      "  --- Energy: 3.3363225289781653 ---\n",
      "Calculating time step  27\n",
      "-5.64499168174616 251.50524195860152 36\n",
      "  --- Energy: 3.3363230360431833 ---\n",
      "Calculating time step  28\n",
      "-5.692018748691259 251.5993326524766 36\n",
      "  --- Energy: 3.3363235438207512 ---\n",
      "Calculating time step  29\n",
      "-5.743290432495643 251.70191120886054 36\n",
      "  --- Energy: 3.3363240325537395 ---\n",
      "Calculating time step  30\n",
      "-5.799091042022198 251.81354406297015 36\n",
      "  --- Energy: 3.336324471929524 ---\n",
      "Calculating time step  31\n",
      "-5.859688253039672 251.9347632795179 36\n",
      "  --- Energy: 3.3363248162977577 ---\n",
      "Calculating time step  32\n",
      "-5.925312316330195 252.06602447860593 36\n",
      "  --- Energy: 3.3363249978603546 ---\n",
      "Calculating time step  33\n",
      "-5.996124885389129 252.2076438011067 36\n",
      "  --- Energy: 3.3363249170878952 ---\n",
      "Calculating time step  34\n",
      "-6.07217298767161 252.3597048986728 36\n",
      "  --- Energy: 3.3363244294906886 ---\n",
      "Calculating time step  35\n",
      "-6.1533220248184755 252.52192366093104 36\n",
      "  --- Energy: 3.33632332793464 ---\n",
      "Calculating time step  36\n",
      "-6.23915977206483 252.69345460538946 36\n",
      "  --- Energy: 3.336321320295275 ---\n",
      "Calculating time step  37\n",
      "-6.3288615531681565 252.87261940493752 36\n",
      "  --- Energy: 3.3363180041472393 ---\n",
      "Calculating time step  38\n",
      "-6.421006214839967 253.05653726436492 36\n",
      "  --- Energy: 3.3363128449261805 ---\n",
      "Calculating time step  39\n",
      "-6.513335860450475 253.24064427587797 36\n",
      "  --- Energy: 3.336305174374681 ---\n",
      "Calculating time step  40\n",
      "-6.6024651205501605 253.41811598237507 36\n",
      "  --- Energy: 3.3362942464065934 ---\n",
      "Calculating time step  41\n",
      "-6.683578642109543 253.57927567324774 36\n",
      "  --- Energy: 3.3362794220698424 ---\n",
      "Calculating time step  42\n",
      "-6.7502257067234765 253.71121462624998 36\n",
      "  --- Energy: 3.33626060017782 ---\n",
      "Calculating time step  43\n",
      "-6.794448740162926 253.79810753528236 36\n",
      "  --- Energy: 3.336239028541063 ---\n",
      "Calculating time step  44\n",
      "-6.80766908308643 253.82307021266288 36\n",
      "  --- Energy: 3.336218500645695 ---\n",
      "Calculating time step  45\n",
      "-6.782914332970825 253.772690317978 36\n",
      "  --- Energy: 3.3362064118338384 ---\n",
      "Calculating time step  46\n",
      "-6.718813211632082 253.64496319317527 36\n",
      "  --- Energy: 3.3362130106932097 ---\n",
      "Calculating time step  47\n",
      "-6.624739935996969 253.45920271685392 36\n",
      "  --- Energy: 3.3362461506230554 ---\n",
      "Calculating time step  48\n",
      "-6.524177293802981 253.26202041884173 36\n",
      "  --- Energy: 3.336300914322719 ---\n",
      "Calculating time step  49\n",
      "-6.451092156269451 253.11951415248646 36\n",
      "  --- Energy: 3.336351803332605 ---\n",
      "Calculating time step  50\n",
      "-6.436011600395334 253.0901206688174 36\n",
      "  --- Energy: 3.3363624648337047 ---\n",
      "Calculating time step  51\n",
      "-6.487377462200872 253.18938225405097 36\n",
      "  --- Energy: 3.3363142684673504 ---\n",
      "Calculating time step  52\n",
      "-6.5823963391819476 253.3730643974803 36\n",
      "  --- Energy: 3.3362259960988387 ---\n",
      "Calculating time step  53\n",
      "-6.676832251972842 253.5557977965735 36\n",
      "  --- Energy: 3.336140740175386 ---\n",
      "Calculating time step  54\n",
      "-6.727389711141613 253.65371018982077 36\n",
      "  --- Energy: 3.3360962606602436 ---\n",
      "Calculating time step  55\n",
      "-6.71186269913486 253.62344766199283 36\n",
      "  --- Energy: 3.336107253662821 ---\n",
      "Calculating time step  56\n",
      "-6.637331688429243 253.47842121613849 36\n",
      "  --- Energy: 3.3361633033233336 ---\n",
      "Calculating time step  57\n",
      "-6.534745774103369 253.27841399969864 36\n",
      "  --- Energy: 3.3362350340484985 ---\n",
      "Calculating time step  58\n",
      "-6.443347690628947 253.09953889189725 36\n",
      "  --- Energy: 3.3362894932033242 ---\n",
      "Calculating time step  59\n",
      "-6.393314513247092 253.0010303489022 36\n",
      "  --- Energy: 3.336311129477889 ---\n",
      "Calculating time step  60\n",
      "-6.3971540755601195 253.00850306809082 36\n",
      "  --- Energy: 3.3363082627357024 ---\n",
      "Calculating time step  61\n",
      "-6.453021690760208 253.11934361339158 36\n",
      "  --- Energy: 3.336295836553766 ---\n",
      "Calculating time step  62\n",
      "-6.5518793290495685 253.31573387934196 36\n",
      "  --- Energy: 3.3362774336283727 ---\n",
      "Calculating time step  63\n",
      "-6.679870800072722 253.56964573201157 36\n",
      "  --- Energy: 3.3362486684981407 ---\n",
      "Calculating time step  64\n",
      "-6.81708453902396 253.8413953180234 36\n",
      "  --- Energy: 3.336211475555215 ---\n",
      "Calculating time step  65\n",
      "-6.9392168575215445 254.08323075256493 36\n",
      "  --- Energy: 3.336177736632248 ---\n",
      "Calculating time step  66\n",
      "-7.023970865486874 254.2515116393 36\n",
      "  --- Energy: 3.336160693171198 ---\n",
      "Calculating time step  67\n",
      "-7.058160018673715 254.320333994665 36\n",
      "  --- Energy: 3.3361668605182992 ---\n",
      "Calculating time step  68\n",
      "-7.041401899328083 254.28882165955346 36\n",
      "  --- Energy: 3.3361946925124624 ---\n",
      "Calculating time step  69\n",
      "-6.985470879878905 254.17999224093998 36\n",
      "  --- Energy: 3.336236812238641 ---\n",
      "Calculating time step  70\n",
      "-6.910340241523647 254.0330039800006 36\n",
      "  --- Energy: 3.3362822707910182 ---\n",
      "Calculating time step  71\n",
      "-6.838201801254037 253.89137980824484 36\n",
      "  --- Energy: 3.336319113968566 ---\n",
      "Calculating time step  72\n",
      "-6.786982516734172 253.79033139174217 36\n",
      "  --- Energy: 3.336338421642692 ---\n",
      "Calculating time step  73\n",
      "-6.765524451879276 253.74740387882463 36\n",
      "  --- Energy: 3.3363382635425847 ---\n",
      "Calculating time step  74\n",
      "-6.772431699853897 253.76020647105562 36\n",
      "  --- Energy: 3.3363242093242755 ---\n",
      "Calculating time step  75\n",
      "-6.798831290561269 253.8116604704103 36\n",
      "  --- Energy: 3.336305526240108 ---\n",
      "Calculating time step  76\n",
      "-6.833148733637342 253.87918722814604 36\n",
      "  --- Energy: 3.3362901355676575 ---\n",
      "Calculating time step  77\n",
      "-6.8653323886439805 253.9429587373345 36\n",
      "  --- Energy: 3.336281860556202 ---\n",
      "Calculating time step  78\n",
      "-6.889041778657117 253.9902940186525 36\n",
      "  --- Energy: 3.3362807008519204 ---\n",
      "Calculating time step  79\n",
      "-6.901835463881881 254.01616220294977 36\n",
      "  --- Energy: 3.33628460104425 ---\n",
      "Calculating time step  80\n",
      "-6.904210777854317 254.02138063936127 36\n",
      "  --- Energy: 3.3362910983840646 ---\n",
      "Calculating time step  81\n",
      "-6.898348267128391 254.01016765021745 36\n",
      "  --- Energy: 3.336298209943898 ---\n",
      "Calculating time step  82\n",
      "-6.887051928630136 253.9880395412825 36\n",
      "  --- Energy: 3.3363046622780863 ---\n",
      "Calculating time step  83\n",
      "-6.873036700517016 253.96037764514386 36\n",
      "  --- Energy: 3.336309781168192 ---\n",
      "Calculating time step  84\n",
      "-6.858526928526892 253.931610458238 36\n",
      "  --- Energy: 3.336313286127558 ---\n",
      "Calculating time step  85\n",
      "-6.845068970693445 253.90482586275053 36\n",
      "  --- Energy: 3.336315110018939 ---\n",
      "Calculating time step  86\n",
      "-6.833467321700429 253.88163488277021 36\n",
      "  --- Energy: 3.3363152811023524 ---\n",
      "Calculating time step  87\n",
      "-6.823783033819026 253.86216461143874 36\n",
      "  --- Energy: 3.3363138686638987 ---\n",
      "Calculating time step  88\n",
      "-6.815365433765367 253.84512180496236 36\n",
      "  --- Energy: 3.336310985242106 ---\n",
      "Calculating time step  89\n",
      "-6.806917641145578 253.82792785629476 36\n",
      "  --- Energy: 3.3363068413056056 ---\n",
      "Calculating time step  90\n",
      "-6.7966237066522055 253.80698062449227 36\n",
      "  --- Energy: 3.3363018501553867 ---\n",
      "Calculating time step  91\n",
      "-6.782390466999577 253.77814849669957 36\n",
      "  --- Energy: 3.3362967717041725 ---\n",
      "Calculating time step  92\n",
      "-6.762274749208661 253.7376348346195 36\n",
      "  --- Energy: 3.336292851891697 ---\n",
      "Calculating time step  93\n",
      "-6.735158967865673 253.68333129640484 36\n",
      "  --- Energy: 3.3362918522315765 ---\n",
      "Calculating time step  94\n",
      "-6.701673465613131 253.61664367069355 36\n",
      "  --- Energy: 3.3362957880481567 ---\n",
      "Calculating time step  95\n",
      "-6.665206609073688 253.54445844969987 36\n",
      "  --- Energy: 3.3363061837715624 ---\n",
      "Calculating time step  96\n",
      "-6.63259749288904 253.48044109164454 36\n",
      "  --- Energy: 3.3363228625814787 ---\n",
      "Calculating time step  97\n",
      "-6.613889310824693 253.44446109486137 36\n",
      "  --- Energy: 3.336342812127944 ---\n",
      "Calculating time step  98\n",
      "-6.620600394111297 253.45913635712893 36\n",
      "  --- Energy: 3.3363602162348105 ---\n",
      "Calculating time step  99\n",
      "-6.662594076410068 253.54371980027196 36\n",
      "  --- Energy: 3.3363684951034975 ---\n",
      "Wrote coordinates to example3d.xyz\n",
      "Done!\n"
     ]
    },
    {
     "name": "stdout",
     "output_type": "stream",
     "text": [
      "[[ 0.5  0.5  0.5]\n",
      " [ 1.5  1.5  1.5]\n",
      " [ 2.5  2.5  2.5]\n",
      " [ 3.5  3.5  3.5]\n",
      " [ 4.5  4.5  4.5]\n",
      " [ 5.5  5.5  5.5]\n",
      " [ 6.5  6.5  6.5]\n",
      " [ 7.5  7.5  7.5]\n",
      " [ 8.5  8.5  8.5]\n",
      " [ 9.5  9.5  9.5]\n",
      " [10.5 10.5 10.5]\n",
      " [11.5 11.5 11.5]\n",
      " [12.5 12.5 12.5]\n",
      " [13.5 13.5 13.5]\n",
      " [14.5 14.5 14.5]\n",
      " [15.5 15.5 15.5]\n",
      " [16.5 16.5 16.5]\n",
      " [17.5 17.5 17.5]\n",
      " [18.5 18.5 18.5]\n",
      " [19.5 19.5 19.5]\n",
      " [20.5 20.5 20.5]\n",
      " [21.5 21.5 21.5]\n",
      " [22.5 22.5 22.5]\n",
      " [23.5 23.5 23.5]\n",
      " [24.5 24.5 24.5]\n",
      " [25.5 25.5 25.5]\n",
      " [26.5 26.5 26.5]\n",
      " [27.5 27.5 27.5]\n",
      " [28.5 28.5 28.5]\n",
      " [29.5 29.5 29.5]\n",
      " [30.5 30.5 30.5]\n",
      " [31.5 31.5 31.5]\n",
      " [32.5 32.5 32.5]\n",
      " [33.5 33.5 33.5]\n",
      " [34.5 34.5 34.5]\n",
      " [35.5 35.5 35.5]]\n",
      "Calculating time step  0\n",
      "-5.228199588082383 261.497321704209 36\n",
      "  --- Energy: 3.48667947955617 ---\n",
      "Calculating time step  1\n",
      "-5.22874706640914 261.49841303185235 36\n",
      "  --- Energy: 3.486679429153251 ---\n",
      "Calculating time step  2\n",
      "-5.230376211265504 261.5016684134409 36\n",
      "  --- Energy: 3.486679388762637 ---\n",
      "Calculating time step  3\n",
      "-5.233071048628888 261.5070558846784 36\n",
      "  --- Energy: 3.4866793581586197 ---\n",
      "Calculating time step  4\n",
      "-5.236820794621006 261.51455386602845 36\n",
      "  --- Energy: 3.4866793371775895 ---\n",
      "Calculating time step  5\n",
      "-5.241619769043801 261.5241509896481 36\n",
      "  --- Energy: 3.4866793257161177 ---\n",
      "Calculating time step  6\n",
      "-5.247467341480252 261.5358459915061 36\n",
      "  --- Energy: 3.4866793237298004 ---\n",
      "Calculating time step  7\n",
      "-5.254367909363706 261.54964766750044 36\n",
      "  --- Energy: 3.4866793312329585 ---\n",
      "Calculating time step  8\n",
      "-5.262330907781003 261.56557489307846 36\n",
      "  --- Energy: 3.4866793482988396 ---\n",
      "Calculating time step  9\n",
      "-5.271370851127782 261.58365670659333 36\n",
      "  --- Energy: 3.4866793750602465 ---\n",
      "Calculating time step  10\n",
      "-5.281507407079521 261.60393245735355 36\n",
      "  --- Energy: 3.486679411711035 ---\n",
      "Calculating time step  11\n",
      "-5.292765503678155 261.62645201993354 36\n",
      "  --- Energy: 3.486679458508017 ---\n",
      "Calculating time step  12\n",
      "-5.305175470658138 261.65127607699395 36\n",
      "  --- Energy: 3.486679515773301 ---\n",
      "Calculating time step  13\n",
      "-5.318773216441821 261.6784764734889 36\n",
      "  --- Energy: 3.486679583897295 ---\n",
      "Calculating time step  14\n",
      "-5.33360044251187 261.7081366456305 36\n",
      "  --- Energy: 3.4866796633417603 ---\n",
      "Calculating time step  15\n",
      "-5.349704897101878 261.7403521285084 36\n",
      "  --- Energy: 3.48667975464312 ---\n",
      "Calculating time step  16\n",
      "-5.367140670310503 261.7752311465585 36\n",
      "  --- Energy: 3.4866798584157985 ---\n",
      "Calculating time step  17\n",
      "-5.385968532802917 261.81289529116054 36\n",
      "  --- Energy: 3.4866799753549262 ---\n",
      "Calculating time step  18\n",
      "-5.406256320161142 261.85348028946703 36\n",
      "  --- Energy: 3.486680106238121 ---\n",
      "Calculating time step  19\n",
      "-5.428079364603175 261.8971368678449 36\n",
      "  --- Energy: 3.4866802519255353 ---\n",
      "Calculating time step  20\n",
      "-5.451520975094276 261.94403171188463 36\n",
      "  --- Energy: 3.4866804133568903 ---\n",
      "Calculating time step  21\n",
      "-5.476672965656433 261.99434852247975 36\n",
      "  --- Energy: 3.4866805915439847 ---\n",
      "Calculating time step  22\n",
      "-5.503636229703753 262.04828916345565 36\n",
      "  --- Energy: 3.486680787556224 ---\n",
      "Calculating time step  23\n",
      "-5.5325213551468195 262.1060748899896 36\n",
      "  --- Energy: 3.486681002495777 ---\n",
      "Calculating time step  24\n",
      "-5.563449270319145 262.1679476375797 36\n",
      "  --- Energy: 3.4866812374575193 ---\n",
      "Calculating time step  25\n",
      "-5.596551903764139 262.2341713371013 36\n",
      "  --- Energy: 3.486681493466292 ---\n",
      "Calculating time step  26\n",
      "-5.631972830542302 262.3050332005442 36\n",
      "  --- Energy: 3.486681771381383 ---\n",
      "Calculating time step  27\n",
      "-5.669867862471133 262.3808448912079 36\n",
      "  --- Energy: 3.4866820717536893 ---\n",
      "Calculating time step  28\n",
      "-5.710405517416387 262.46194344700035 36\n",
      "  --- Energy: 3.4866823946134384 ---\n",
      "Calculating time step  29\n",
      "-5.753767270253263 262.5486917598651 36\n",
      "  --- Energy: 3.486682739157758 ---\n",
      "Calculating time step  30\n",
      "-5.800147440827342 262.6414783187557 36\n",
      "  --- Energy: 3.4866831032930694 ---\n",
      "Calculating time step  31\n",
      "-5.849752505522018 262.74071578463537 36\n",
      "  --- Energy: 3.486683482966546 ---\n",
      "Calculating time step  32\n",
      "-5.902799519266972 262.846837764383 36\n",
      "  --- Energy: 3.486683871192348 ---\n",
      "Calculating time step  33\n",
      "-5.959513190149669 262.9602928580652 36\n",
      "  --- Energy: 3.486684256635637 ---\n",
      "Calculating time step  34\n",
      "-6.020120939422833 263.0815346310115 36\n",
      "  --- Energy: 3.4866846215578584 ---\n",
      "Calculating time step  35\n",
      "-6.08484497773232 263.2110055521164 36\n",
      "  --- Energy: 3.4866849388423855 ---\n",
      "Calculating time step  36\n",
      "-6.153889995383713 263.3491120656753 36\n",
      "  --- Energy: 3.4866851677070536 ---\n",
      "Calculating time step  37\n",
      "-6.227424449550561 263.4961867238134 36\n",
      "  --- Energy: 3.4866852475654486 ---\n",
      "Calculating time step  38\n",
      "-6.305552571964618 263.6524315759272 36\n",
      "  --- Energy: 3.486685089333305 ---\n",
      "Calculating time step  39\n",
      "-6.38827305146563 263.81783466381114 36\n",
      "  --- Energy: 3.4866845633455537 ---\n",
      "Calculating time step  40\n",
      "-6.475418827018696 263.99204843031754 36\n",
      "  --- Energy: 3.486683483003891 ---\n",
      "Calculating time step  41\n",
      "-6.566570616558711 264.1742152765976 36\n",
      "  --- Energy: 3.4866815839372247 ---\n",
      "Calculating time step  42\n",
      "-6.66093505559214 264.36272209685336 36\n",
      "  --- Energy: 3.4866784998009597 ---\n",
      "Calculating time step  43\n",
      "-6.757177580838247 264.554864469135 36\n",
      "  --- Energy: 3.4866737403813683 ---\n",
      "Calculating time step  44\n",
      "-6.853202909998123 264.7464072865264 36\n",
      "  --- Energy: 3.4866666870351413 ---\n",
      "Calculating time step  45\n",
      "-6.945887291974774 264.9310526513075 36\n",
      "  --- Energy: 3.4866566398244156 ---\n",
      "Calculating time step  46\n",
      "-7.030796787936044 265.09988848842636 36\n",
      "  --- Energy: 3.486642984896587 ---\n",
      "Calculating time step  47\n",
      "-7.101991933524486 265.2410270063962 36\n",
      "  --- Energy: 3.4866255991576005 ---\n",
      "Calculating time step  48\n",
      "-7.152143783883697 265.3398938831671 36\n",
      "  --- Energy: 3.4866056432694403 ---\n",
      "Calculating time step  49\n",
      "-7.173379283820768 265.3810084825938 36\n",
      "  --- Energy: 3.4865868043743373 ---\n",
      "Calculating time step  50\n",
      "-7.159471292869664 265.3524566299841 36\n",
      "  --- Energy: 3.4865765839478438 ---\n",
      "Calculating time step  51\n",
      "-7.109925621786809 265.2540501418339 36\n",
      "  --- Energy: 3.4865860958091703 ---\n",
      "Calculating time step  52\n",
      "-7.035617610368284 265.108271883308 36\n",
      "  --- Energy: 3.4866255092023812 ---\n",
      "Calculating time step  53\n",
      "-6.963340814503986 264.96861673108026 36\n",
      "  --- Energy: 3.4866935430843373 ---\n",
      "Calculating time step  54\n",
      "-6.933881724070889 264.91501348802296 36\n",
      "  --- Energy: 3.4867673616650166 ---\n",
      "Calculating time step  55\n",
      "-6.989092219946038 265.02841399317964 36\n",
      "  --- Energy: 3.486808743795661 ---\n",
      "Calculating time step  56\n",
      "-7.151878446045773 265.35279131101674 36\n",
      "  --- Energy: 3.4867921447072945 ---\n",
      "Calculating time step  57\n",
      "-7.4132247823126605 265.8708883782899 36\n",
      "  --- Energy: 3.486728316856453 ---\n",
      "Calculating time step  58\n",
      "-7.737632206211783 266.514344750716 36\n",
      "  --- Energy: 3.486653893587395 ---\n",
      "Calculating time step  59\n",
      "-8.081986335049699 267.19920587334167 36\n",
      "  --- Energy: 3.4866004611561427 ---\n",
      "Calculating time step  60\n",
      "-8.412679726258169 267.85895817606297 36\n",
      "  --- Energy: 3.4865777600492587 ---\n",
      "Calculating time step  61\n",
      "-8.711978310661294 268.45762630056083 36\n",
      "  --- Energy: 3.4865787455449757 ---\n",
      "Calculating time step  62\n",
      "-8.97538956986848 268.9853592330276 36\n",
      "  --- Energy: 3.4865913901845924 ---\n",
      "Calculating time step  63\n",
      "-9.205812106325762 269.447250490581 36\n",
      "  --- Energy: 3.486605920526798 ---\n",
      "Calculating time step  64\n",
      "-9.408408906965303 269.85320886238554 36\n",
      "  --- Energy: 3.486616542339652 ---\n",
      "Calculating time step  65\n",
      "-9.587386252271582 270.21145402548973 36\n",
      "  --- Energy: 3.4866205766798135 ---\n",
      "Calculating time step  66\n",
      "-9.744405680227153 270.5252514581029 36\n",
      "  --- Energy: 3.486617223578453 ---\n",
      "Calculating time step  67\n",
      "-9.87805408633797 270.7917980838969 36\n",
      "  --- Energy: 3.486606804322513 ---\n",
      "Calculating time step  68\n",
      "-9.983989240099682 271.0025009583682 36\n",
      "  --- Energy: 3.4865905899745675 ---\n",
      "Calculating time step  69\n",
      "-10.055659820975077 271.1444355607716 36\n",
      "  --- Energy: 3.486571054428076 ---\n",
      "Calculating time step  70\n",
      "-10.085705909596863 271.2031740080965 36\n",
      "  --- Energy: 3.486552252623649 ---\n",
      "Calculating time step  71\n",
      "-10.0681924243899 271.1672543252399 36\n",
      "  --- Energy: 3.486539853839724 ---\n",
      "Calculating time step  72\n",
      "-10.001626144812073 271.03414967857884 36\n",
      "  --- Energy: 3.4865402415132594 ---\n",
      "Calculating time step  73\n",
      "-9.892211510531688 270.81662379389013 36\n",
      "  --- Energy: 3.486558344067038 ---\n",
      "Calculating time step  74\n",
      "-9.756164527893748 270.5471492971027 36\n",
      "  --- Energy: 3.486594725573822 ---\n",
      "Calculating time step  75\n",
      "-9.619572729511077 270.27747362544017 36\n",
      "  --- Energy: 3.4866434467558056 ---\n",
      "Calculating time step  76\n",
      "-9.514732285110561 270.07129941463086 36\n",
      "  --- Energy: 3.486692150616802 ---\n",
      "Calculating time step  77\n",
      "-9.473072589097084 269.9903194633861 36\n",
      "  --- Energy: 3.4867246428498877 ---\n",
      "Calculating time step  78\n",
      "-9.516130518029914 270.0764953581464 36\n",
      "  --- Energy: 3.4867254766956473 ---\n",
      "Calculating time step  79\n",
      "-9.647146850328847 270.3356820057187 36\n",
      "  --- Energy: 3.486685948681403 ---\n",
      "Calculating time step  80\n",
      "-9.846552958837696 270.7290073064857 36\n",
      "  --- Energy: 3.4866097415112542 ---\n",
      "Calculating time step  81\n",
      "-10.074266810265481 271.177579465659 36\n",
      "  --- Energy: 3.486514525626778 ---\n",
      "Calculating time step  82\n",
      "-10.279469903408106 271.58164702223115 36\n",
      "  --- Energy: 3.486426489102985 ---\n",
      "Calculating time step  83\n",
      "-10.4148870585061 271.84840588092345 36\n",
      "  --- Energy: 3.4863698856098786 ---\n",
      "Calculating time step  84\n",
      "-10.450081982362102 271.91795434670075 36\n",
      "  --- Energy: 3.486358199749674 ---\n",
      "Calculating time step  85\n",
      "-10.37903884766941 271.77824898377764 36\n",
      "  --- Energy: 3.4863912678949838 ---\n",
      "Calculating time step  86\n",
      "-10.220308720377407 271.46556101962466 36\n",
      "  --- Energy: 3.4864575497065258 ---\n",
      "Calculating time step  87\n",
      "-10.010798297373741 271.0524130540413 36\n",
      "  --- Energy: 3.4865391174901923 ---\n",
      "Calculating time step  88\n",
      "-9.795860315738894 270.62816099417097 36\n",
      "  --- Energy: 3.4866172272596274 ---\n",
      "Calculating time step  89\n",
      "-9.618731101232166 270.2781680041983 36\n",
      "  --- Energy: 3.486676469468527 ---\n",
      "Calculating time step  90\n",
      "-9.511727646097581 270.0663905207186 36\n",
      "  --- Energy: 3.486707433729492 ---\n",
      "Calculating time step  91\n",
      "-9.490856868437534 270.0247460808296 36\n",
      "  --- Energy: 3.4867087825549237 ---\n",
      "Calculating time step  92\n",
      "-9.55494507300669 270.1513297581723 36\n",
      "  --- Energy: 3.486686661279985 ---\n",
      "Calculating time step  93\n",
      "-9.688895860449653 270.4165981177544 36\n",
      "  --- Energy: 3.48665008884521 ---\n",
      "Calculating time step  94\n"
     ]
    },
    {
     "name": "stdout",
     "output_type": "stream",
     "text": [
      "-9.868744010657348 270.77317560876367 36\n",
      "  --- Energy: 3.486606772047902 ---\n",
      "Calculating time step  95\n",
      "-10.066324832686977 271.1651941958388 36\n",
      "  --- Energy: 3.4865631184786787 ---\n",
      "Calculating time step  96\n",
      "-10.253309724073219 271.5364782690568 36\n",
      "  --- Energy: 3.486525816957088 ---\n",
      "Calculating time step  97\n",
      "-10.405204129462609 271.8385216424227 36\n",
      "  --- Energy: 3.486501574770798 ---\n",
      "Calculating time step  98\n",
      "-10.505161880922213 272.03800730277845 36\n",
      "  --- Energy: 3.486495604735195 ---\n",
      "Calculating time step  99\n",
      "-10.546873924292873 272.12250426275693 36\n",
      "  --- Energy: 3.4865105057523778 ---\n",
      "Wrote coordinates to example3d.xyz\n",
      "Done!\n",
      "peak memory: 85.47 MiB, increment: 0.00 MiB\n"
     ]
    }
   ],
   "source": [
    "%memit main()"
   ]
  },
  {
   "cell_type": "markdown",
   "metadata": {
    "ExecuteTime": {
     "end_time": "2019-01-10T19:15:45.795565Z",
     "start_time": "2019-01-10T19:15:45.792387Z"
    }
   },
   "source": [
    "## MD analysis"
   ]
  },
  {
   "cell_type": "markdown",
   "metadata": {},
   "source": [
    "### Plotting"
   ]
  },
  {
   "cell_type": "code",
   "execution_count": 4,
   "metadata": {
    "ExecuteTime": {
     "end_time": "2019-01-25T03:19:15.155961Z",
     "start_time": "2019-01-25T03:19:14.670471Z"
    }
   },
   "outputs": [],
   "source": [
    "import matplotlib.pyplot as plt\n",
    "%matplotlib inline #magic function that displays graphs in Jupyter"
   ]
  },
  {
   "cell_type": "markdown",
   "metadata": {},
   "source": [
    "Plotting is very simple if all you want is simple plots. Try plotting your total energies and temperatures over time."
   ]
  },
  {
   "cell_type": "code",
   "execution_count": null,
   "metadata": {},
   "outputs": [],
   "source": [
    "plt.plot(sim3d.energies_total) # avoid first entry of 0"
   ]
  },
  {
   "cell_type": "markdown",
   "metadata": {},
   "source": [
    "Almost every Python plotting package is built on matplotlib, including seaborn (below). matplotlib is very powerful and flexible; unfortunately, that also makes it very finicky. Try changing the formatting below. [You can find documentation here.](https://matplotlib.org/api/_as_gen/matplotlib.pyplot.plot.html)"
   ]
  },
  {
   "cell_type": "code",
   "execution_count": null,
   "metadata": {},
   "outputs": [],
   "source": [
    "plt.plot(sim3d.energies_total, color='green', marker='o',\n",
    "        linestyle='dashed', linewidth=2, markersize=12,\n",
    "        markeredgecolor='blue', markerfacecolor='red')"
   ]
  },
  {
   "cell_type": "markdown",
   "metadata": {},
   "source": [
    "Seaborn is a library with a smoother interface and documentation. [Here is an example gallery of potential plots you can make.](https://seaborn.pydata.org/examples/index.html) For now we'll make the same line plot as in matplotlib, although Seaborn requires x-values. (This may throw an error if your `energies_total` array is a different length than the number of steps)."
   ]
  },
  {
   "cell_type": "code",
   "execution_count": null,
   "metadata": {},
   "outputs": [],
   "source": [
    "import seaborn as sns\n",
    "x = list(range(sim3d.n_steps))\n",
    "sns.lineplot(x, sim3d.energies_total)"
   ]
  },
  {
   "cell_type": "markdown",
   "metadata": {},
   "source": [
    "One of the best parts about Seaborn is how easy it is to do statistical visualisations. Try plotting a univariate kernel density estimate:"
   ]
  },
  {
   "cell_type": "code",
   "execution_count": null,
   "metadata": {},
   "outputs": [],
   "source": [
    "sns.kdeplot(sim1d.energies_total[1:])"
   ]
  },
  {
   "cell_type": "markdown",
   "metadata": {},
   "source": [
    "Or bivariate:"
   ]
  },
  {
   "cell_type": "code",
   "execution_count": null,
   "metadata": {},
   "outputs": [],
   "source": [
    "sns.kdeplot(sim1d.energies_total[1:], sim1d.temperatures[1:])"
   ]
  },
  {
   "cell_type": "markdown",
   "metadata": {},
   "source": [
    "### Averages, standard deviations, etc"
   ]
  },
  {
   "cell_type": "markdown",
   "metadata": {},
   "source": [
    "Using NumPy makes analysis much easier."
   ]
  },
  {
   "cell_type": "code",
   "execution_count": null,
   "metadata": {},
   "outputs": [],
   "source": [
    "sim3d.temperatures.mean()"
   ]
  },
  {
   "cell_type": "code",
   "execution_count": null,
   "metadata": {},
   "outputs": [],
   "source": [
    "sim3d.temperatures.median()"
   ]
  },
  {
   "cell_type": "code",
   "execution_count": null,
   "metadata": {},
   "outputs": [],
   "source": [
    "sim3d.temperatures.min()"
   ]
  },
  {
   "cell_type": "code",
   "execution_count": null,
   "metadata": {},
   "outputs": [],
   "source": [
    "np.std(sim3d.temperatures)"
   ]
  },
  {
   "cell_type": "code",
   "execution_count": null,
   "metadata": {},
   "outputs": [],
   "source": [
    "sim3d.temperature.sort()"
   ]
  },
  {
   "cell_type": "markdown",
   "metadata": {},
   "source": [
    "## Vectorised NumPy approach"
   ]
  },
  {
   "cell_type": "markdown",
   "metadata": {},
   "source": [
    "This approach is much more abstract, but gets rid of all the loops. The first step is to reshape the xyz coordinates using `ndarray.reshape()` to add an extra dimension so `row.shape` is `(1, md.n_particles, 3)`:\n",
    "<img src=\"files/a2_row.png\" width=\"300px\">\n",
    "\n",
    "A corresponding `col` array is created by transposing `row` such that the shape is `(md.n_particles, 1, 3)`. This is so we can broadcast the arrays with our next operation.\n",
    "<img src=\"files/a2_col.png\" width=\"150px\">\n",
    "\n",
    "Now, when we subtract the `col` array from the `row` array, the resulting array of displacements has the shape `(md.n_particles, md.n_particles, 3)`.\n",
    "\n",
    "<img src=\"files/a2_matrix.png\" width=\"300px\">\n",
    "\n",
    "From this displacement array the squared distance array can be calculated. Below, the subscript is the property calculated between atoms i and j in the `i:j` syntax.\n",
    "\n",
    "<img src=\"files/a2_dist.png\" width=\"300px\">\n",
    "\n",
    "Of course, the distance between atoms and themselves is 0. As the matrix is symmetric, we also need to zero the upper or lower half to avoid double-counting with `np.triu`. \n",
    "\n",
    "<img src=\"files/a2_dist_upper.png\" width=\"300px\">\n",
    "\n",
    "The squared distance array should then be reshaped to add an extra dimension for broadcasting purposes. \n",
    "\n",
    "<img src=\"files/a2_dist_reshaped.png\" width=\"300px\">\n",
    "\n",
    "From here energies and forces can be calculated the usual way. The function has been written below so you can compare the 1-loop implementation above to this vectorised approach. (Hopefully it works!)"
   ]
  },
  {
   "cell_type": "code",
   "execution_count": 136,
   "metadata": {
    "ExecuteTime": {
     "end_time": "2019-01-29T09:11:32.909560Z",
     "start_time": "2019-01-29T09:11:32.902598Z"
    }
   },
   "outputs": [],
   "source": [
    "def get_forces(md, step):\n",
    "    row = md.xyz[step].reshape(1, -1, 3)\n",
    "    col = row.transpose(1, 0, 2)\n",
    "    \n",
    "    distance = row-col #  Shape: (md.n_particles, md.n_particles, 3)\n",
    "    n_cells = md.cell * np.round_(distance/md.cell)\n",
    "    min_distance = distance - n_cells\n",
    "    sq_dist = (min_distance ** 2).sum(axis=2)\n",
    "    \n",
    "    sq_dist_upper = np.triu(sq_dist)  # Setting lower triangle to 0\n",
    "    # Setting any distances higher than the cutoff to 0 for convenience\n",
    "    sq_dist_upper[sq_dist_upper >= md.cutoff_sq] = 0\n",
    "    reshaped = sq_dist_upper.reshape(md.n_particles, md.n_particles, 1)\n",
    "    \n",
    "    mask = reshaped != 0\n",
    "    inv_r2 = 1/reshaped[mask]\n",
    "    inv_r6 = inv_r2 ** 3\n",
    "    \n",
    "    particle_en = 4 * inv_r6 * (inv_r6 - 1) - md.cutoff_energy\n",
    "    md.energies_potential[step] = particle_en.sum()\n",
    "    \n",
    "    computed_force = 48 * inv_r2 * inv_r6 * (inv_r6 - 0.5)\n",
    "    reshaped[mask] = computed_force\n",
    "    scaled = reshaped * min_distance\n",
    "    \n",
    "    md.forces[step] = scaled.sum(axis=0) - scaled.sum(axis=1)\n",
    "    "
   ]
  },
  {
   "cell_type": "code",
   "execution_count": null,
   "metadata": {},
   "outputs": [],
   "source": []
  }
 ],
 "metadata": {
  "kernelspec": {
   "display_name": "ccpy36",
   "language": "python",
   "name": "ccpy36"
  },
  "language_info": {
   "codemirror_mode": {
    "name": "ipython",
    "version": 3
   },
   "file_extension": ".py",
   "mimetype": "text/x-python",
   "name": "python",
   "nbconvert_exporter": "python",
   "pygments_lexer": "ipython3",
   "version": "3.6.8"
  },
  "toc": {
   "base_numbering": 1,
   "nav_menu": {},
   "number_sections": true,
   "sideBar": true,
   "skip_h1_title": false,
   "title_cell": "Table of Contents",
   "title_sidebar": "Contents",
   "toc_cell": false,
   "toc_position": {
    "height": "602.5px",
    "left": "54.15px",
    "top": "110.633px",
    "width": "165px"
   },
   "toc_section_display": true,
   "toc_window_display": true
  }
 },
 "nbformat": 4,
 "nbformat_minor": 2
}
